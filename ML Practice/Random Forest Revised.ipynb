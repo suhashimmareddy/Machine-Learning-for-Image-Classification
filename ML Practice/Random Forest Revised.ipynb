{
 "cells": [
  {
   "cell_type": "markdown",
   "metadata": {},
   "source": [
    "# Major Project on Image Classification"
   ]
  },
  {
   "cell_type": "markdown",
   "metadata": {},
   "source": [
    "#### About the DataSet:\n",
    "I will be using the CelebA dataset (which is widley used dataset of celebrity faces) in this entire project to train the Coventional machine learning models as well as deep learning models inorder to predict the hair colour (can be brown, black, blond, gray) of the celebrity. "
   ]
  },
  {
   "cell_type": "markdown",
   "metadata": {},
   "source": [
    "#### Project Flow: \n",
    "This Jupyter Notebook is divided in to 5 sections, where the first four sections uses conventional Machine learning models for predicting the hair colour ,the next two sections uses Deep learning models for predicting the hair colour and there is a result field at the end of each section which evalvuates the models performance on the data.\n",
    "###### Conventional Machine Learning Models: \n",
    "The Machine learning models that are used in this section are:\n",
    "1. Random Forest Classifier\n",
    "2. Naive Base Clasifier\n",
    "3. Support Vector Machine (SVM) Classifier\n",
    "\n",
    "A parameter tuning has done For Random Forest and SVM to find the best model that fits the data perfectly.\n",
    "\n",
    "###### Deep Learning MOdels:\n",
    "The Models that are used in this section are:\n",
    "1. Conventional Neural Network:\n",
    "\n",
    "A hyper parameter tuning has done on the CNN."
   ]
  },
  {
   "cell_type": "markdown",
   "metadata": {},
   "source": [
    "## ----------------------------------------------------Section - 1-----------------------------------------------------------\n",
    "###                              1) Coventional Machine Learning Model - Random Forest Classifier"
   ]
  },
  {
   "cell_type": "markdown",
   "metadata": {},
   "source": [
    "##### Observations From preliminary data Exploration:\n",
    "so we can see that images_train contains a list of size 98479 with 48 features as height for each picture, 48 features as width for each picture and a 3 channel (RGB) colour sclae for each picture (with values raning from 1 to 255). This results in 48*48*3 = 6912 features to work with."
   ]
  },
  {
   "cell_type": "raw",
   "metadata": {},
   "source": [
    "Step-3: Normalizing the Dataset Such that the values now lie in between 0 and 1"
   ]
  },
  {
   "cell_type": "markdown",
   "metadata": {},
   "source": [
    "##### Train_Images data:  \n",
    "we now have the trian data in the form which is accepted by all Machine learning Models (which is 98479, 6912). we can use either the x coming from reshape() or xx coming from ravel() for training the model as they both return the same result in the desired form. we do not need to reshape labels_train because it contains single column with 98479 values."
   ]
  },
  {
   "cell_type": "raw",
   "metadata": {},
   "source": [
    "Step-5: Loading the Validation DataSet and exploring the data and repeat all the steps performed for training_images data"
   ]
  },
  {
   "cell_type": "markdown",
   "metadata": {},
   "source": [
    "##### Observations From preliminary data Exploration:\n",
    "so we can see that images_val contains a list of size 12270 with 48 features as height for each picture, 48 features as width for each picture and a 3 channel (RGB) colour sclae for each picture (with values raning from 1 to 255). This results in 48*48*3 = 6912 features to work with.\n"
   ]
  },
  {
   "cell_type": "markdown",
   "metadata": {},
   "source": [
    "##### Val_Images data:  \n",
    "we now have the validation data in the form which is accepted by all Machine learning Models (which is 12270, 6912). we can use y coming from reshape() for validating the model. we do not need to reshape labels_val because it contains single column with 12270 values.\n"
   ]
  },
  {
   "cell_type": "markdown",
   "metadata": {},
   "source": [
    "### Model Fitting: \n",
    "we now have the Train_images in variable x, Val_images in y, labels_train, labels_val, so we can go further to fit the model using the training data and validate the model using the validation data. "
   ]
  },
  {
   "cell_type": "raw",
   "metadata": {},
   "source": [
    "Step-6: Importing Random forest classifier and the accuracy score matrices to fit the model with default parametes"
   ]
  },
  {
   "cell_type": "code",
   "execution_count": 15,
   "metadata": {},
   "outputs": [],
   "source": [
    "from sklearn.ensemble import RandomForestClassifier"
   ]
  },
  {
   "cell_type": "code",
   "execution_count": 20,
   "metadata": {},
   "outputs": [],
   "source": [
    "from sklearn.metrics import accuracy_score\n",
    "from sklearn.metrics import confusion_matrix\n",
    "import seaborn as sns"
   ]
  },
  {
   "cell_type": "code",
   "execution_count": 21,
   "metadata": {},
   "outputs": [
    {
     "name": "stdout",
     "output_type": "stream",
     "text": [
      "Accuracy score for validation is: 0.7973920130399348\n",
      "Confusion matrix for validation is: [[3573   55  372    7]\n",
      " [  20 2479  313   40]\n",
      " [ 867  311 3302   27]\n",
      " [  56  275  143  430]]\n"
     ]
    },
    {
     "data": {
      "image/png": "[encoded data removed]",
      "text/plain": [
       "<Figure size 432x288 with 2 Axes>"
      ]
     },
     "metadata": {
      "needs_background": "light"
     },
     "output_type": "display_data"
    }
   ],
   "source": [
    "# Runnig Random Forest on default parameters\n",
    "model = RandomForestClassifier(random_state = 26)\n",
    "model = model.fit(x, labels_train)\n",
    "y_pred = model.predict(y)\n",
    "print(\"Accuracy score for validation is:\",accuracy_score(labels_val, y_pred))\n",
    "Def_Accu = accuracy_score(labels_val, y_pred)\n",
    "cm = confusion_matrix(labels_val, y_pred)\n",
    "print(\"Confusion matrix for validation is:\", cm)\n",
    "sns.heatmap(cm,annot = True , center=True)\n",
    "plt.show()"
   ]
  },
  {
   "cell_type": "markdown",
   "metadata": {},
   "source": [
    "### Result Interpretation for Random Forest with Default Parameters:\n",
    "1. Accuracy Score on the Validation data is 79%, which can be bad some times due to the fact that random forests tend to overfit the data when there is no constraint on max_depth because, when no depth value is mentioned it takes unlimited no of depths that are required to build a deeper tree with several splits one for each feature and captures more informatin about the data. with this behaviour they perform well on the training data but not on the new data.\n",
    "\n",
    "2. From the confusion Matrix we can see that:\n",
    "   \n",
    "   a) The Model predicts the class 1 3573 times but misclassifeis 55 times as class 2, 372 times as class 3 and 7 times as class 4.\n",
    "   \n",
    "   b) The Model predicts the class 2 2479 times but misclassifeis 20 times as class 1, 313 times as class 3 and 40 times as class 4.\n",
    "   \n",
    "   c) The Model predicts the class 3 3302 times but misclassifeis 867 times as class 1, 311 times as class 2 and 27 times as class 4.\n",
    "   \n",
    "   d) The Model predicts the class 4 4303 times but misclassifeis 56 times as class 1, 275 times as class 2 and 143 times as class 3."
   ]
  },
  {
   "cell_type": "markdown",
   "metadata": {},
   "source": [
    "#### Parameter Tuning For Random Forest: \n",
    "Since, Random Forest tends to overfit when no parameters are controlled, so I will be looking at the models performance for a range of estimators and depth to find which parameters are providing better results and which parameters leading to overfit the data."
   ]
  },
  {
   "cell_type": "raw",
   "metadata": {},
   "source": [
    "Step-7: Estimators and Depth Parameter Tuning "
   ]
  },
  {
   "cell_type": "code",
   "execution_count": 26,
   "metadata": {},
   "outputs": [
    {
     "name": "stdout",
     "output_type": "stream",
     "text": [
      "Accuracy score with 25 estimators for validation is: 0.7801140994295028\n",
      "Accuracy score with 25 estimators for train is: 0.99936026970217\n",
      "Accuracy score with 50 estimators for validation is: 0.7918500407497963\n",
      "Accuracy score with 50 estimators for train is: 0.9999695366524843\n",
      "Accuracy score with 100 estimators for validation is: 0.7973920130399348\n",
      "Accuracy score with 100 estimators for train is: 1.0\n",
      "Accuracy score with 150 estimators for validation is: 0.799918500407498\n",
      "Accuracy score with 150 estimators for train is: 1.0\n",
      "Accuracy score with 200 estimators for validation is: 0.8008149959250204\n",
      "Accuracy score with 200 estimators for train is: 1.0\n",
      "Accuracy score with 500 estimators for validation is: 0.8011409942950285\n",
      "Accuracy score with 500 estimators for train is: 1.0\n"
     ]
    }
   ],
   "source": [
    "# Fitting the model for several Estimators rangiing from 25\n",
    "Estimators = [25,50,100,150,200, 500]\n",
    "Train_Acc_Score = []\n",
    "Valid_Acc_Score = []\n",
    "for e in Estimators:\n",
    "    model = RandomForestClassifier(n_estimators = e, random_state = 26)\n",
    "    model = model.fit(x, labels_train)\n",
    "    Val_pred = model.predict(y)\n",
    "    Val_Score = accuracy_score(labels_val, Val_pred)\n",
    "    Valid_Acc_Score.append(Val_Score)\n",
    "    print(\"Accuracy score with \"+str(e)+\" estimators for validation is:\",Val_Score)\n",
    "    Train_pred = model.predict(x)\n",
    "    Train_Score = accuracy_score(labels_train, Train_pred)\n",
    "    Train_Acc_Score.append(Train_Score)\n",
    "    print(\"Accuracy score with \"+str(e)+\" estimators for train is:\",Train_Score)"
   ]
  },
  {
   "cell_type": "code",
   "execution_count": 27,
   "metadata": {},
   "outputs": [
    {
     "name": "stdout",
     "output_type": "stream",
     "text": [
      "[0.99936026970217, 0.9999695366524843, 1.0, 1.0, 1.0, 1.0]\n",
      "[0.7801140994295028, 0.7918500407497963, 0.7973920130399348, 0.799918500407498, 0.8008149959250204, 0.8011409942950285]\n"
     ]
    }
   ],
   "source": [
    "print(Train_Acc_Score)\n",
    "print(Valid_Acc_Score)"
   ]
  },
  {
   "cell_type": "markdown",
   "metadata": {},
   "source": [
    "#### Accuracy Scores Interpretation based on estimator tuning: \n",
    "since we are controlling only estimators but not depth, we can see that Model tends to overfit the data as the accuracy scores for the traing sets for the given estimators is way better than the accuracy scores of Validation set. Meaning the model is overfiting and soes not perform well on new data. so now we look at a range of small estimators instead of large estimators.  "
   ]
  },
  {
   "cell_type": "code",
   "execution_count": 28,
   "metadata": {},
   "outputs": [
    {
     "name": "stdout",
     "output_type": "stream",
     "text": [
      "Accuracy score with 1 estimators for validation is: 0.6211898940505297\n",
      "Accuracy score with 1 estimators for train is: 0.8667736268646107\n",
      "Accuracy score with 2 estimators for validation is: 0.6246128769356153\n",
      "Accuracy score with 2 estimators for train is: 0.8714040556869993\n",
      "Accuracy score with 3 estimators for validation is: 0.680521597392013\n",
      "Accuracy score with 3 estimators for train is: 0.9444856263771971\n",
      "Accuracy score with 4 estimators for validation is: 0.6986960065199674\n",
      "Accuracy score with 4 estimators for train is: 0.9540308085987875\n",
      "Accuracy score with 5 estimators for validation is: 0.715158924205379\n",
      "Accuracy score with 5 estimators for train is: 0.9730094741010774\n",
      "Accuracy score with 10 estimators for validation is: 0.7489812550937245\n",
      "Accuracy score with 10 estimators for train is: 0.9919475218066796\n",
      "Accuracy score with 15 estimators for validation is: 0.7654441727791361\n",
      "Accuracy score with 15 estimators for train is: 0.9975324688512271\n",
      "Accuracy score with 20 estimators for validation is: 0.7756316218418908\n",
      "Accuracy score with 20 estimators for train is: 0.9985783771159333\n"
     ]
    }
   ],
   "source": [
    "Estimators1 = [1, 2, 3, 4, 5, 10, 15, 20]\n",
    "Train_Acc_Score1 = []\n",
    "Valid_Acc_Score1 = []\n",
    "for e in Estimators1:\n",
    "    model = RandomForestClassifier(n_estimators = e, random_state = 26)\n",
    "    model = model.fit(x, labels_train)\n",
    "    Val_pred = model.predict(y)\n",
    "    Val_Score = accuracy_score(labels_val, Val_pred)\n",
    "    Valid_Acc_Score1.append(Val_Score)\n",
    "    print(\"Accuracy score with \"+str(e)+\" estimators for validation is:\",Val_Score)\n",
    "    Train_pred = model.predict(x)\n",
    "    Train_Score = accuracy_score(labels_train, Train_pred)\n",
    "    Train_Acc_Score1.append(Train_Score)\n",
    "    print(\"Accuracy score with \"+str(e)+\" estimators for train is:\",Train_Score)"
   ]
  },
  {
   "cell_type": "code",
   "execution_count": 29,
   "metadata": {},
   "outputs": [
    {
     "name": "stdout",
     "output_type": "stream",
     "text": [
      "[0.8667736268646107, 0.8714040556869993, 0.9444856263771971, 0.9540308085987875, 0.9730094741010774, 0.9919475218066796, 0.9975324688512271, 0.9985783771159333]\n",
      "[0.6211898940505297, 0.6246128769356153, 0.680521597392013, 0.6986960065199674, 0.715158924205379, 0.7489812550937245, 0.7654441727791361, 0.7756316218418908]\n"
     ]
    }
   ],
   "source": [
    "print(Train_Acc_Score1)\n",
    "print(Valid_Acc_Score1)"
   ]
  },
  {
   "cell_type": "code",
   "execution_count": 31,
   "metadata": {},
   "outputs": [],
   "source": [
    "# joining the accuracy score of traing and validation for all no of estimators.\n",
    "Train_Accuracy = Train_Acc_Score1 + Train_Acc_Score\n",
    "Validation_Accuracy = Valid_Acc_Score1 + Valid_Acc_Score\n",
    "No_of_Estimators = Estimators1 + Estimators"
   ]
  },
  {
   "cell_type": "code",
   "execution_count": 40,
   "metadata": {},
   "outputs": [
    {
     "data": {
      "text/plain": [
       "<matplotlib.legend.Legend at 0x271a5291ac8>"
      ]
     },
     "execution_count": 40,
     "metadata": {},
     "output_type": "execute_result"
    },
    {
     "data": {
      "image/png": "[encoded data removed]",
      "text/plain": [
       "<Figure size 1080x432 with 1 Axes>"
      ]
     },
     "metadata": {
      "needs_background": "light"
     },
     "output_type": "display_data"
    }
   ],
   "source": [
    "# plotting the accuracy score of traning and validation vs Estimators \n",
    "plt.figure(figsize=(15,6))\n",
    "plt.plot(No_of_Estimators[:10], Train_Accuracy[:10],label = \"Train\", color='g')\n",
    "plt.plot(No_of_Estimators[:10], Validation_Accuracy[:10], label = \"Test\", color='r')\n",
    "plt.ylabel(\"Accuracy\")\n",
    "plt.xlabel(\"No of Estimators\")\n",
    "plt.title(\"Accuracy vs Estimators\")\n",
    "plt.legend()"
   ]
  },
  {
   "cell_type": "code",
   "execution_count": 41,
   "metadata": {},
   "outputs": [
    {
     "data": {
      "text/plain": [
       "<matplotlib.legend.Legend at 0x271a5307ec8>"
      ]
     },
     "execution_count": 41,
     "metadata": {},
     "output_type": "execute_result"
    },
    {
     "data": {
      "image/png": "[encoded data removed]",
      "text/plain": [
       "<Figure size 1080x432 with 1 Axes>"
      ]
     },
     "metadata": {
      "needs_background": "light"
     },
     "output_type": "display_data"
    }
   ],
   "source": [
    "plt.figure(figsize=(15,6))\n",
    "plt.plot(No_of_Estimators, Train_Accuracy,label = \"Train\", color='g')\n",
    "plt.plot(No_of_Estimators, Validation_Accuracy, label = \"Test\", color='r')\n",
    "plt.ylabel(\"Accuracy\")\n",
    "plt.xlabel(\"No of Estimators\")\n",
    "plt.title(\"Accuracy vs Estimators\")\n",
    "plt.legend()"
   ]
  },
  {
   "cell_type": "markdown",
   "metadata": {},
   "source": [
    "#### Accuracy Scores Interpretation based on estimator tuning: \n",
    "From the above plots, we can see that Model tends to perform well for estimors within the range 10 and 20, above that will result in poor performance. Further more we look at model performace at various depths:"
   ]
  },
  {
   "cell_type": "code",
   "execution_count": 42,
   "metadata": {},
   "outputs": [
    {
     "name": "stdout",
     "output_type": "stream",
     "text": [
      "Accuracy score with 1 depth for validation is: 0.5785656071719641\n",
      "Accuracy score with 1 depth for train is: 0.6214218259730501\n",
      "Accuracy score with 2 depth for validation is: 0.6687041564792175\n",
      "Accuracy score with 2 depth for train is: 0.6926755958123052\n",
      "Accuracy score with 3 depth for validation is: 0.6925020374898125\n",
      "Accuracy score with 3 depth for train is: 0.709846769361996\n",
      "Accuracy score with 4 depth for validation is: 0.7039934800325999\n",
      "Accuracy score with 4 depth for train is: 0.7201433808223073\n",
      "Accuracy score with 5 depth for validation is: 0.7269763651181744\n",
      "Accuracy score with 5 depth for train is: 0.7420668365844495\n",
      "Accuracy score with 6 depth for validation is: 0.7414832925835371\n",
      "Accuracy score with 6 depth for train is: 0.7572680469947908\n",
      "Accuracy score with 7 depth for validation is: 0.7509372453137735\n",
      "Accuracy score with 7 depth for train is: 0.7732714588897125\n",
      "Accuracy score with 8 depth for validation is: 0.7622656886715566\n",
      "Accuracy score with 8 depth for train is: 0.7921688887986271\n",
      "Accuracy score with 9 depth for validation is: 0.7713936430317848\n",
      "Accuracy score with 9 depth for train is: 0.8152804151138822\n",
      "Accuracy score with 10 depth for validation is: 0.778239608801956\n",
      "Accuracy score with 10 depth for train is: 0.844372911991389\n"
     ]
    }
   ],
   "source": [
    "# Depth Parameter tuning\n",
    "# fitting the model at different depths\n",
    "Depth = [1, 2, 3, 4, 5, 6, 7, 8, 9, 10]\n",
    "Train_Acc_Score2 = []\n",
    "Valid_Acc_Score2 = []\n",
    "for e in Depth:\n",
    "    model = RandomForestClassifier(max_depth = e, random_state = 26)\n",
    "    model = model.fit(x, labels_train)\n",
    "    Val_pred = model.predict(y)\n",
    "    Val_Score = accuracy_score(labels_val, Val_pred)\n",
    "    Valid_Acc_Score2.append(Val_Score)\n",
    "    print(\"Accuracy score with \"+str(e)+\" depth for validation is:\",Val_Score)\n",
    "    Train_pred = model.predict(x)\n",
    "    Train_Score = accuracy_score(labels_train, Train_pred)\n",
    "    Train_Acc_Score2.append(Train_Score)\n",
    "    print(\"Accuracy score with \"+str(e)+\" depth for train is:\",Train_Score)"
   ]
  },
  {
   "cell_type": "code",
   "execution_count": 44,
   "metadata": {},
   "outputs": [
    {
     "data": {
      "text/plain": [
       "<matplotlib.legend.Legend at 0x271a2841e08>"
      ]
     },
     "execution_count": 44,
     "metadata": {},
     "output_type": "execute_result"
    },
    {
     "data": {
      "image/png": "[encoded data removed]",
      "text/plain": [
       "<Figure size 1080x432 with 1 Axes>"
      ]
     },
     "metadata": {
      "needs_background": "light"
     },
     "output_type": "display_data"
    }
   ],
   "source": [
    "plt.figure(figsize=(15,6))\n",
    "plt.plot(Depth, Train_Acc_Score2,label = \"Train\", color='g')\n",
    "plt.plot(Depth, Valid_Acc_Score2, label = \"Test\", color='r')\n",
    "plt.ylabel(\"Accuracy\")\n",
    "plt.xlabel(\"Depth\")\n",
    "plt.title(\"Accuracy vs Depth\")\n",
    "plt.legend()"
   ]
  },
  {
   "cell_type": "markdown",
   "metadata": {},
   "source": [
    "#### Accuracy Scores Interpretation based on Depth tuning: \n",
    "since we are controlling depth, we can see that Model is not overfitting since the accuracy score difference between training and validation is not differing by too much. After the Depth 10 the model seems not to perform as beeter as depth at 10.  "
   ]
  },
  {
   "cell_type": "markdown",
   "metadata": {},
   "source": [
    "#### Fitting the several random forest models with a combination of final choosen Estimator and Depth parameter values:\n",
    "1. Model 1 with n_estimators = 3, max_depth = 5 \n",
    "2. Model 2 with n_estimators = 3, max_depth = 6\n",
    "3. Model 3 with n_estimators = 10, max_depth = 5\n",
    "4. Model 4 with n_estimators = 10, max_depth = 6\n",
    "5. Model 5 with n_estimators = 15, max_depth = 5\n",
    "6. Model 6 with n_estimators = 15, max_depth = 6"
   ]
  },
  {
   "cell_type": "code",
   "execution_count": 53,
   "metadata": {},
   "outputs": [],
   "source": [
    "Models = [1, 2, 3, 4, 5, 6]\n",
    "Train_Acc_Score3 = []\n",
    "Valid_Acc_Score3 = []"
   ]
  },
  {
   "cell_type": "code",
   "execution_count": 54,
   "metadata": {},
   "outputs": [
    {
     "name": "stdout",
     "output_type": "stream",
     "text": [
      "Accuracy score with 3 estimators and 2 depth for validation is: 0.6916055419722902\n",
      "Accuracy score with 3 estimators and 2 depth for train is: 0.7084149920287574\n"
     ]
    }
   ],
   "source": [
    "# Model 1 with n_estimators = 3, max_depth = 5\n",
    "model = RandomForestClassifier(n_estimators = 3, max_depth = 5, random_state = 26)\n",
    "model = model.fit(x, labels_train)\n",
    "Val_pred = model.predict(y)\n",
    "Val_Score = accuracy_score(labels_val, Val_pred)\n",
    "Valid_Acc_Score3.append(Val_Score)\n",
    "print(\"Accuracy score with 3 estimators and 2 depth for validation is:\",Val_Score)\n",
    "Train_pred = model.predict(x)\n",
    "Train_Score = accuracy_score(labels_train, Train_pred)\n",
    "Train_Acc_Score3.append(Train_Score)\n",
    "print(\"Accuracy score with 3 estimators and 2 depth for train is:\",Train_Score)\n"
   ]
  },
  {
   "cell_type": "code",
   "execution_count": 55,
   "metadata": {},
   "outputs": [
    {
     "name": "stdout",
     "output_type": "stream",
     "text": [
      "Accuracy score with 3 estimators and 2 depth for validation is: 0.710839445802771\n",
      "Accuracy score with 3 estimators and 2 depth for train is: 0.7231795611247068\n"
     ]
    }
   ],
   "source": [
    "# Model 2 with n_estimators = 3, max_depth = 6\n",
    "model = RandomForestClassifier(n_estimators = 3, max_depth = 6, random_state = 26)\n",
    "model = model.fit(x, labels_train)\n",
    "Val_pred = model.predict(y)\n",
    "Val_Score = accuracy_score(labels_val, Val_pred)\n",
    "Valid_Acc_Score3.append(Val_Score)\n",
    "print(\"Accuracy score with 3 estimators and 2 depth for validation is:\",Val_Score)\n",
    "Train_pred = model.predict(x)\n",
    "Train_Score = accuracy_score(labels_train, Train_pred)\n",
    "Train_Acc_Score3.append(Train_Score)\n",
    "print(\"Accuracy score with 3 estimators and 2 depth for train is:\",Train_Score)"
   ]
  },
  {
   "cell_type": "code",
   "execution_count": 57,
   "metadata": {},
   "outputs": [
    {
     "name": "stdout",
     "output_type": "stream",
     "text": [
      "Accuracy score with 3 estimators and 2 depth for validation is: 0.7162999185004075\n",
      "Accuracy score with 3 estimators and 2 depth for train is: 0.7306836990627443\n"
     ]
    }
   ],
   "source": [
    "# Model 3 with n_estimators = 10, max_depth = 5\n",
    "model = RandomForestClassifier(n_estimators = 10, max_depth = 5, random_state = 26)\n",
    "model = model.fit(x, labels_train)\n",
    "Val_pred = model.predict(y)\n",
    "Val_Score = accuracy_score(labels_val, Val_pred)\n",
    "Valid_Acc_Score3.append(Val_Score)\n",
    "print(\"Accuracy score with 3 estimators and 2 depth for validation is:\",Val_Score)\n",
    "Train_pred = model.predict(x)\n",
    "Train_Score = accuracy_score(labels_train, Train_pred)\n",
    "Train_Acc_Score3.append(Train_Score)\n",
    "print(\"Accuracy score with 3 estimators and 2 depth for train is:\",Train_Score)"
   ]
  },
  {
   "cell_type": "code",
   "execution_count": 58,
   "metadata": {},
   "outputs": [
    {
     "name": "stdout",
     "output_type": "stream",
     "text": [
      "Accuracy score with 3 estimators and 2 depth for validation is: 0.7329258353708231\n",
      "Accuracy score with 3 estimators and 2 depth for train is: 0.7477330192223722\n"
     ]
    }
   ],
   "source": [
    "# Model 4 with n_estimators = 10, max_depth = 6\n",
    "model = RandomForestClassifier(n_estimators = 10, max_depth = 6, random_state = 26)\n",
    "model = model.fit(x, labels_train)\n",
    "Val_pred = model.predict(y)\n",
    "Val_Score = accuracy_score(labels_val, Val_pred)\n",
    "Valid_Acc_Score3.append(Val_Score)\n",
    "print(\"Accuracy score with 3 estimators and 2 depth for validation is:\",Val_Score)\n",
    "Train_pred = model.predict(x)\n",
    "Train_Score = accuracy_score(labels_train, Train_pred)\n",
    "Train_Acc_Score3.append(Train_Score)\n",
    "print(\"Accuracy score with 3 estimators and 2 depth for train is:\",Train_Score)"
   ]
  },
  {
   "cell_type": "code",
   "execution_count": 59,
   "metadata": {},
   "outputs": [
    {
     "name": "stdout",
     "output_type": "stream",
     "text": [
      "Accuracy score with 3 estimators and 2 depth for validation is: 0.7207823960880195\n",
      "Accuracy score with 3 estimators and 2 depth for train is: 0.7336487982209405\n"
     ]
    }
   ],
   "source": [
    "# Model 5 with n_estimators = 15, max_depth = 5\n",
    "model = RandomForestClassifier(n_estimators = 15, max_depth = 5, random_state = 26)\n",
    "model = model.fit(x, labels_train)\n",
    "Val_pred = model.predict(y)\n",
    "Val_Score = accuracy_score(labels_val, Val_pred)\n",
    "Valid_Acc_Score3.append(Val_Score)\n",
    "print(\"Accuracy score with 3 estimators and 2 depth for validation is:\",Val_Score)\n",
    "Train_pred = model.predict(x)\n",
    "Train_Score = accuracy_score(labels_train, Train_pred)\n",
    "Train_Acc_Score3.append(Train_Score)\n",
    "print(\"Accuracy score with 3 estimators and 2 depth for train is:\",Train_Score)"
   ]
  },
  {
   "cell_type": "code",
   "execution_count": 60,
   "metadata": {},
   "outputs": [
    {
     "name": "stdout",
     "output_type": "stream",
     "text": [
      "Accuracy score with 3 estimators and 2 depth for validation is: 0.7352078239608802\n",
      "Accuracy score with 3 estimators and 2 depth for train is: 0.7501599325744575\n"
     ]
    }
   ],
   "source": [
    "# Model 6 with n_estimators = 15, max_depth = 6\n",
    "model = RandomForestClassifier(n_estimators = 15, max_depth = 6, random_state = 26)\n",
    "model = model.fit(x, labels_train)\n",
    "Val_pred = model.predict(y)\n",
    "Val_Score = accuracy_score(labels_val, Val_pred)\n",
    "Valid_Acc_Score3.append(Val_Score)\n",
    "print(\"Accuracy score with 3 estimators and 2 depth for validation is:\",Val_Score)\n",
    "Train_pred = model.predict(x)\n",
    "Train_Score = accuracy_score(labels_train, Train_pred)\n",
    "Train_Acc_Score3.append(Train_Score)\n",
    "print(\"Accuracy score with 3 estimators and 2 depth for train is:\",Train_Score)"
   ]
  },
  {
   "cell_type": "code",
   "execution_count": 61,
   "metadata": {},
   "outputs": [
    {
     "data": {
      "text/plain": [
       "<matplotlib.legend.Legend at 0x271a2a8aec8>"
      ]
     },
     "execution_count": 61,
     "metadata": {},
     "output_type": "execute_result"
    },
    {
     "data": {
      "image/png": "[encoded data removed]",
      "text/plain": [
       "<Figure size 1080x432 with 1 Axes>"
      ]
     },
     "metadata": {
      "needs_background": "light"
     },
     "output_type": "display_data"
    }
   ],
   "source": [
    "plt.figure(figsize=(15,6))\n",
    "plt.plot(Models, Train_Acc_Score3,label = \"Train\", color='g')\n",
    "plt.plot(Models, Valid_Acc_Score3, label = \"Test\", color='r')\n",
    "plt.ylabel(\"Accuracy\")\n",
    "plt.xlabel(\"models with (3,5) (3,6) (10,5) (10,6) (15,5) (15, 6) (estimators, depth)\")\n",
    "plt.title(\"Accuracy vs Models\")\n",
    "plt.legend()"
   ]
  },
  {
   "cell_type": "markdown",
   "metadata": {},
   "source": [
    " #### Best Model Selection based on the Accuracy scores:\n",
    " From the plot as well as accuracy scores of individual Models we can see that model 4, 5 is performing better when compared to other models. so we use Model 4 to predict the Test Data\n",
    " \n",
    " Model Selected would be a Random Forest with Depth 6 and Estimators 10 for predicting."
   ]
  },
  {
   "cell_type": "raw",
   "metadata": {},
   "source": [
    "Step-8: Loading the test DataSet, exploring the data and repeat all the steps performed for training_images data"
   ]
  },
  {
   "cell_type": "code",
   "execution_count": 70,
   "metadata": {},
   "outputs": [],
   "source": [
    "# reading the test data files\n",
    "images_test_public = np.load(join(dataset_directory, 'test_public_images.npy'))\n",
    "files_test_public = np.load(join(dataset_directory, 'test_public_files.npy'))\n",
    "images_test_public_rs = images_test_public.reshape([-1, image_size, image_size, 3]) / 255.0 # normalizing the data"
   ]
  },
  {
   "cell_type": "markdown",
   "metadata": {},
   "source": [
    "##### Observations From preliminary data Exploration:\n",
    "so we can see that images_test contains a list of size 11921 with 48 features as height for each picture, 48 features as width for each picture and a 3 channel (RGB) colour sclae for each picture (with values raning from 1 to 255). This results in 48*48*3 = 6912 features to work with."
   ]
  },
  {
   "cell_type": "code",
   "execution_count": null,
   "metadata": {},
   "outputs": [],
   "source": [
    "Features3 = images_test_public_rs.shape[1]*images_test_public_rs.shape[2]*images_test_public_rs.shape[3]\n",
    "Features3"
   ]
  },
  {
   "cell_type": "code",
   "execution_count": 74,
   "metadata": {},
   "outputs": [
    {
     "name": "stdout",
     "output_type": "stream",
     "text": [
      "(11921, 6912)\n"
     ]
    }
   ],
   "source": [
    "lst4 = [None] * images_test_public_rs.shape[0] # creating an empty array of size 98479\n",
    "for i in range(images_test_public_rs.shape[0]):\n",
    "    lst4[i] = images_test_public_rs[i].reshape([-1]) # reshaping each picture to 6912 features and storing it in lst1\n",
    "#print(lst)\n",
    "z = np.array(lst4).reshape(images_test_public_rs.shape[0],Features3) # converting the list to an array\n",
    "print(z.shape)"
   ]
  },
  {
   "cell_type": "markdown",
   "metadata": {},
   "source": [
    "##### Test_Images data:  \n",
    "we now have the test data in the form which is accepted by all Machine learning Models (which is 11921, 6912). we can use this for predicting the model."
   ]
  },
  {
   "cell_type": "raw",
   "metadata": {},
   "source": [
    "Step-9: Final Model Fitting "
   ]
  },
  {
   "cell_type": "code",
   "execution_count": 75,
   "metadata": {},
   "outputs": [],
   "source": [
    "# Final Model For Fitting \n",
    "model = RandomForestClassifier(n_estimators = 10, max_depth = 6, random_state = 26)\n",
    "model = model.fit(x, labels_train)\n",
    "Test_Public_pred = model.predict(z)"
   ]
  },
  {
   "cell_type": "code",
   "execution_count": 79,
   "metadata": {},
   "outputs": [
    {
     "data": {
      "text/plain": [
       "array([0, 2, 0, ..., 0, 0, 1], dtype=int64)"
      ]
     },
     "execution_count": 79,
     "metadata": {},
     "output_type": "execute_result"
    }
   ],
   "source": [
    "Test_Public_pred"
   ]
  },
  {
   "cell_type": "code",
   "execution_count": 84,
   "metadata": {},
   "outputs": [
    {
     "data": {
      "text/plain": [
       "array(['182639.jpg', '182640.jpg', '182642.jpg', ..., '202597.jpg',\n",
       "       '202598.jpg', '202599.jpg'], dtype='<U10')"
      ]
     },
     "execution_count": 84,
     "metadata": {},
     "output_type": "execute_result"
    }
   ],
   "source": [
    "files_test_public # displaying the content stored "
   ]
  },
  {
   "cell_type": "code",
   "execution_count": 88,
   "metadata": {},
   "outputs": [],
   "source": [
    "Test_Public_pred_copy = Test_Public_pred # making a copy of the Predicted values for safety"
   ]
  },
  {
   "cell_type": "code",
   "execution_count": 89,
   "metadata": {},
   "outputs": [
    {
     "data": {
      "text/plain": [
       "array([0, 2, 0, ..., 0, 0, 1], dtype=int64)"
      ]
     },
     "execution_count": 89,
     "metadata": {},
     "output_type": "execute_result"
    }
   ],
   "source": [
    "Test_Public_pred_copy"
   ]
  },
  {
   "cell_type": "code",
   "execution_count": 107,
   "metadata": {},
   "outputs": [
    {
     "data": {
      "text/html": [
       "<div>\n",
       "<style scoped>\n",
       "    .dataframe tbody tr th:only-of-type {\n",
       "        vertical-align: middle;\n",
       "    }\n",
       "\n",
       "    .dataframe tbody tr th {\n",
       "        vertical-align: top;\n",
       "    }\n",
       "\n",
       "    .dataframe thead th {\n",
       "        text-align: right;\n",
       "    }\n",
       "</style>\n",
       "<table border=\"1\" class=\"dataframe\">\n",
       "  <thead>\n",
       "    <tr style=\"text-align: right;\">\n",
       "      <th></th>\n",
       "      <th>Prediction</th>\n",
       "    </tr>\n",
       "  </thead>\n",
       "  <tbody>\n",
       "    <tr>\n",
       "      <th>11916</th>\n",
       "      <td>1</td>\n",
       "    </tr>\n",
       "    <tr>\n",
       "      <th>11917</th>\n",
       "      <td>2</td>\n",
       "    </tr>\n",
       "    <tr>\n",
       "      <th>11918</th>\n",
       "      <td>0</td>\n",
       "    </tr>\n",
       "    <tr>\n",
       "      <th>11919</th>\n",
       "      <td>0</td>\n",
       "    </tr>\n",
       "    <tr>\n",
       "      <th>11920</th>\n",
       "      <td>1</td>\n",
       "    </tr>\n",
       "  </tbody>\n",
       "</table>\n",
       "</div>"
      ],
      "text/plain": [
       "       Prediction\n",
       "11916           1\n",
       "11917           2\n",
       "11918           0\n",
       "11919           0\n",
       "11920           1"
      ]
     },
     "execution_count": 107,
     "metadata": {},
     "output_type": "execute_result"
    }
   ],
   "source": [
    "# creating a data frame for predicted values\n",
    "df1 = pd.DataFrame(Test_Public_pred_copy, columns=['Prediction'])\n",
    "df1.tail()"
   ]
  },
  {
   "cell_type": "code",
   "execution_count": 108,
   "metadata": {},
   "outputs": [
    {
     "data": {
      "text/html": [
       "<div>\n",
       "<style scoped>\n",
       "    .dataframe tbody tr th:only-of-type {\n",
       "        vertical-align: middle;\n",
       "    }\n",
       "\n",
       "    .dataframe tbody tr th {\n",
       "        vertical-align: top;\n",
       "    }\n",
       "\n",
       "    .dataframe thead th {\n",
       "        text-align: right;\n",
       "    }\n",
       "</style>\n",
       "<table border=\"1\" class=\"dataframe\">\n",
       "  <thead>\n",
       "    <tr style=\"text-align: right;\">\n",
       "      <th></th>\n",
       "      <th>ID</th>\n",
       "    </tr>\n",
       "  </thead>\n",
       "  <tbody>\n",
       "    <tr>\n",
       "      <th>11916</th>\n",
       "      <td>202595.jpg</td>\n",
       "    </tr>\n",
       "    <tr>\n",
       "      <th>11917</th>\n",
       "      <td>202596.jpg</td>\n",
       "    </tr>\n",
       "    <tr>\n",
       "      <th>11918</th>\n",
       "      <td>202597.jpg</td>\n",
       "    </tr>\n",
       "    <tr>\n",
       "      <th>11919</th>\n",
       "      <td>202598.jpg</td>\n",
       "    </tr>\n",
       "    <tr>\n",
       "      <th>11920</th>\n",
       "      <td>202599.jpg</td>\n",
       "    </tr>\n",
       "  </tbody>\n",
       "</table>\n",
       "</div>"
      ],
      "text/plain": [
       "               ID\n",
       "11916  202595.jpg\n",
       "11917  202596.jpg\n",
       "11918  202597.jpg\n",
       "11919  202598.jpg\n",
       "11920  202599.jpg"
      ]
     },
     "execution_count": 108,
     "metadata": {},
     "output_type": "execute_result"
    }
   ],
   "source": [
    "# creating a data frame for files_val which contains image names\n",
    "df2 = pd.DataFrame(files_test_public, columns=['ID'])\n",
    "df2.tail()"
   ]
  },
  {
   "cell_type": "code",
   "execution_count": 109,
   "metadata": {},
   "outputs": [],
   "source": [
    "# Joining the two data frames through the index\n",
    "Test_Public_pred_Acc_testpurpose_45693242 = df2.merge(df1, left_index=True, right_index=True)"
   ]
  },
  {
   "cell_type": "code",
   "execution_count": 110,
   "metadata": {},
   "outputs": [
    {
     "data": {
      "text/html": [
       "<div>\n",
       "<style scoped>\n",
       "    .dataframe tbody tr th:only-of-type {\n",
       "        vertical-align: middle;\n",
       "    }\n",
       "\n",
       "    .dataframe tbody tr th {\n",
       "        vertical-align: top;\n",
       "    }\n",
       "\n",
       "    .dataframe thead th {\n",
       "        text-align: right;\n",
       "    }\n",
       "</style>\n",
       "<table border=\"1\" class=\"dataframe\">\n",
       "  <thead>\n",
       "    <tr style=\"text-align: right;\">\n",
       "      <th></th>\n",
       "      <th>ID</th>\n",
       "      <th>Prediction</th>\n",
       "    </tr>\n",
       "  </thead>\n",
       "  <tbody>\n",
       "    <tr>\n",
       "      <th>0</th>\n",
       "      <td>182639.jpg</td>\n",
       "      <td>0</td>\n",
       "    </tr>\n",
       "    <tr>\n",
       "      <th>1</th>\n",
       "      <td>182640.jpg</td>\n",
       "      <td>2</td>\n",
       "    </tr>\n",
       "    <tr>\n",
       "      <th>2</th>\n",
       "      <td>182642.jpg</td>\n",
       "      <td>0</td>\n",
       "    </tr>\n",
       "    <tr>\n",
       "      <th>3</th>\n",
       "      <td>182643.jpg</td>\n",
       "      <td>0</td>\n",
       "    </tr>\n",
       "    <tr>\n",
       "      <th>4</th>\n",
       "      <td>182644.jpg</td>\n",
       "      <td>0</td>\n",
       "    </tr>\n",
       "  </tbody>\n",
       "</table>\n",
       "</div>"
      ],
      "text/plain": [
       "           ID  Prediction\n",
       "0  182639.jpg           0\n",
       "1  182640.jpg           2\n",
       "2  182642.jpg           0\n",
       "3  182643.jpg           0\n",
       "4  182644.jpg           0"
      ]
     },
     "execution_count": 110,
     "metadata": {},
     "output_type": "execute_result"
    }
   ],
   "source": [
    "Test_Public_pred_Acc_testpurpose_45693242.head() # first five"
   ]
  },
  {
   "cell_type": "code",
   "execution_count": 111,
   "metadata": {},
   "outputs": [
    {
     "data": {
      "text/html": [
       "<div>\n",
       "<style scoped>\n",
       "    .dataframe tbody tr th:only-of-type {\n",
       "        vertical-align: middle;\n",
       "    }\n",
       "\n",
       "    .dataframe tbody tr th {\n",
       "        vertical-align: top;\n",
       "    }\n",
       "\n",
       "    .dataframe thead th {\n",
       "        text-align: right;\n",
       "    }\n",
       "</style>\n",
       "<table border=\"1\" class=\"dataframe\">\n",
       "  <thead>\n",
       "    <tr style=\"text-align: right;\">\n",
       "      <th></th>\n",
       "      <th>ID</th>\n",
       "      <th>Prediction</th>\n",
       "    </tr>\n",
       "  </thead>\n",
       "  <tbody>\n",
       "    <tr>\n",
       "      <th>11916</th>\n",
       "      <td>202595.jpg</td>\n",
       "      <td>1</td>\n",
       "    </tr>\n",
       "    <tr>\n",
       "      <th>11917</th>\n",
       "      <td>202596.jpg</td>\n",
       "      <td>2</td>\n",
       "    </tr>\n",
       "    <tr>\n",
       "      <th>11918</th>\n",
       "      <td>202597.jpg</td>\n",
       "      <td>0</td>\n",
       "    </tr>\n",
       "    <tr>\n",
       "      <th>11919</th>\n",
       "      <td>202598.jpg</td>\n",
       "      <td>0</td>\n",
       "    </tr>\n",
       "    <tr>\n",
       "      <th>11920</th>\n",
       "      <td>202599.jpg</td>\n",
       "      <td>1</td>\n",
       "    </tr>\n",
       "  </tbody>\n",
       "</table>\n",
       "</div>"
      ],
      "text/plain": [
       "               ID  Prediction\n",
       "11916  202595.jpg           1\n",
       "11917  202596.jpg           2\n",
       "11918  202597.jpg           0\n",
       "11919  202598.jpg           0\n",
       "11920  202599.jpg           1"
      ]
     },
     "execution_count": 111,
     "metadata": {},
     "output_type": "execute_result"
    }
   ],
   "source": [
    "Test_Public_pred_Acc_testpurpose_45693242.tail() # Last five"
   ]
  },
  {
   "cell_type": "raw",
   "metadata": {},
   "source": [
    "Step-10: Uploading the data Frame to a CSV File Named \"Test_Public_pred_Acc_testpurpose_45693242.csv\""
   ]
  },
  {
   "cell_type": "code",
   "execution_count": 112,
   "metadata": {},
   "outputs": [],
   "source": [
    "Test_Public_pred_Acc_testpurpose_45693242.to_csv (r'C:\\\\Users\\\\suhas\\\\Downloads\\\\ML Practice\\\\Test_Public_pred_Acc_testpurpose_45693242.csv', index = False, header=True)"
   ]
  },
  {
   "cell_type": "code",
   "execution_count": null,
   "metadata": {},
   "outputs": [],
   "source": []
  }
 ],
 "metadata": {
  "kernelspec": {
   "display_name": "Python 3",
   "language": "python",
   "name": "python3"
  },
  "language_info": {
   "codemirror_mode": {
    "name": "ipython",
    "version": 3
   },
   "file_extension": ".py",
   "mimetype": "text/x-python",
   "name": "python",
   "nbconvert_exporter": "python",
   "pygments_lexer": "ipython3",
   "version": "3.7.6"
  }
 },
 "nbformat": 4,
 "nbformat_minor": 2
}
