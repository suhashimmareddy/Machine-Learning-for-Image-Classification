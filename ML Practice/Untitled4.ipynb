{
 "cells": [
  {
   "cell_type": "code",
   "execution_count": 1,
   "metadata": {},
   "outputs": [],
   "source": [
    "import os\n",
    "import numpy as np\n",
    "from os.path import join"
   ]
  },
  {
   "cell_type": "code",
   "execution_count": 2,
   "metadata": {},
   "outputs": [
    {
     "name": "stdout",
     "output_type": "stream",
     "text": [
      "After reshaping image train shape is: (98479, 48, 48, 3)\n",
      "After reshaping image train data is: [[[0.99215686 0.90588235 0.76078431]\n",
      "  [0.99215686 0.90588235 0.76078431]\n",
      "  [0.99215686 0.90588235 0.76078431]\n",
      "  ...\n",
      "  [0.54901961 0.37254902 0.27843137]\n",
      "  [0.87843137 0.79607843 0.59607843]\n",
      "  [1.         0.94117647 0.89411765]]\n",
      "\n",
      " [[0.99215686 0.90588235 0.76078431]\n",
      "  [0.99215686 0.90588235 0.76078431]\n",
      "  [0.99215686 0.90588235 0.76078431]\n",
      "  ...\n",
      "  [0.64705882 0.48627451 0.34901961]\n",
      "  [0.93333333 0.86666667 0.7254902 ]\n",
      "  [0.99607843 0.94117647 0.89019608]]\n",
      "\n",
      " [[0.99215686 0.90588235 0.76078431]\n",
      "  [0.99215686 0.90588235 0.76078431]\n",
      "  [0.99215686 0.90588235 0.76078431]\n",
      "  ...\n",
      "  [0.75686275 0.61568627 0.41176471]\n",
      "  [0.97647059 0.91764706 0.85098039]\n",
      "  [0.98039216 0.94117647 0.8745098 ]]\n",
      "\n",
      " ...\n",
      "\n",
      " [[0.82352941 0.54117647 0.38039216]\n",
      "  [0.76862745 0.50588235 0.3372549 ]\n",
      "  [0.4745098  0.23921569 0.12156863]\n",
      "  ...\n",
      "  [0.57254902 0.37647059 0.31764706]\n",
      "  [0.6        0.39607843 0.34901961]\n",
      "  [0.63529412 0.42745098 0.36862745]]\n",
      "\n",
      " [[0.72941176 0.4745098  0.28235294]\n",
      "  [0.56862745 0.30196078 0.16078431]\n",
      "  [0.40392157 0.14901961 0.06666667]\n",
      "  ...\n",
      "  [0.38431373 0.14509804 0.05490196]\n",
      "  [0.4        0.16470588 0.08235294]\n",
      "  [0.42745098 0.2        0.12156863]]\n",
      "\n",
      " [[0.64313725 0.37647059 0.19215686]\n",
      "  [0.64313725 0.36470588 0.22352941]\n",
      "  [0.41568627 0.15686275 0.0627451 ]\n",
      "  ...\n",
      "  [0.47843137 0.20392157 0.09019608]\n",
      "  [0.45098039 0.18431373 0.0745098 ]\n",
      "  [0.43137255 0.16862745 0.0627451 ]]]\n"
     ]
    }
   ],
   "source": [
    "# preliminary data Exploration \n",
    "hair_colours = ['black', 'blond', 'brown', 'gray']\n",
    "dataset_directory = 'C:\\\\Users\\\\suhas\\\\Documents\\\\study\\\\ML Practice\\\\image_dataset'  ## CHANGE TO YOUR OWN DIRECTORY\n",
    "\n",
    "images_train = np.load(join(dataset_directory, 'train_images.npy'))\n",
    "labels_train = np.load(join(dataset_directory, 'train_labels.npy'))\n",
    "\n",
    "image_size = 48\n",
    "images_train_rs = images_train.reshape([-1, image_size, image_size, 3]) / 255.0\n",
    "print(\"After reshaping image train shape is:\",images_train_rs.shape)\n",
    "print(\"After reshaping image train data is:\",images_train_rs[0])"
   ]
  },
  {
   "cell_type": "code",
   "execution_count": 3,
   "metadata": {},
   "outputs": [
    {
     "data": {
      "text/plain": [
       "6912"
      ]
     },
     "execution_count": 3,
     "metadata": {},
     "output_type": "execute_result"
    }
   ],
   "source": [
    "Features = images_train_rs.shape[1]*images_train_rs.shape[2]*images_train_rs.shape[3]\n",
    "Features"
   ]
  },
  {
   "cell_type": "code",
   "execution_count": 4,
   "metadata": {},
   "outputs": [
    {
     "name": "stdout",
     "output_type": "stream",
     "text": [
      "(98479, 6912)\n"
     ]
    }
   ],
   "source": [
    "lst1 = [None] * images_train_rs.shape[0]\n",
    "for i in range(images_train_rs.shape[0]):\n",
    "    lst1[i] = images_train_rs[i].reshape([-1])\n",
    "#print(lst)\n",
    "x = np.array(lst1).reshape(images_train_rs.shape[0],Features)\n",
    "print(x.shape)"
   ]
  },
  {
   "cell_type": "code",
   "execution_count": 5,
   "metadata": {},
   "outputs": [],
   "source": [
    "images_val = np.load(join(dataset_directory, 'val_images.npy'))\n",
    "labels_val = np.load(join(dataset_directory, 'val_labels.npy'))\n",
    "files_val = np.load(join(dataset_directory, 'val_files.npy'))"
   ]
  },
  {
   "cell_type": "code",
   "execution_count": 6,
   "metadata": {},
   "outputs": [],
   "source": [
    "images_val_rs = images_val.reshape([-1, image_size, image_size, 3]) / 255.0"
   ]
  },
  {
   "cell_type": "code",
   "execution_count": 7,
   "metadata": {},
   "outputs": [
    {
     "data": {
      "text/plain": [
       "6912"
      ]
     },
     "execution_count": 7,
     "metadata": {},
     "output_type": "execute_result"
    }
   ],
   "source": [
    "Features1 = images_val_rs.shape[1]*images_val_rs.shape[2]*images_val_rs.shape[3]\n",
    "Features1"
   ]
  },
  {
   "cell_type": "code",
   "execution_count": 8,
   "metadata": {},
   "outputs": [
    {
     "name": "stdout",
     "output_type": "stream",
     "text": [
      "(12270, 6912)\n"
     ]
    }
   ],
   "source": [
    "lst3 = [None] * images_val_rs.shape[0]\n",
    "for i in range(images_val_rs.shape[0]):\n",
    "    lst3[i] = images_val_rs[i].reshape([-1])\n",
    "#print(lst)\n",
    "y = np.array(lst3).reshape(images_val_rs.shape[0],Features1)\n",
    "print(y.shape)"
   ]
  },
  {
   "cell_type": "code",
   "execution_count": 9,
   "metadata": {},
   "outputs": [
    {
     "name": "stdout",
     "output_type": "stream",
     "text": [
      "Accuracy score for validation is: 0.5748981255093725\n",
      "48.02410554885864\n"
     ]
    }
   ],
   "source": [
    "import time\n",
    "t1 = time.time()\n",
    "from sklearn.naive_bayes import GaussianNB\n",
    "from sklearn.metrics import accuracy_score\n",
    "model = GaussianNB()\n",
    "model = model.fit(x, labels_train)\n",
    "val_pred = model.predict(y)\n",
    "print(\"Accuracy score for validation is:\",accuracy_score(labels_val, val_pred))\n",
    "t2 = time.time()\n",
    "print(t2-t1)"
   ]
  },
  {
   "cell_type": "code",
   "execution_count": null,
   "metadata": {},
   "outputs": [],
   "source": []
  }
 ],
 "metadata": {
  "kernelspec": {
   "display_name": "Python 3",
   "language": "python",
   "name": "python3"
  },
  "language_info": {
   "codemirror_mode": {
    "name": "ipython",
    "version": 3
   },
   "file_extension": ".py",
   "mimetype": "text/x-python",
   "name": "python",
   "nbconvert_exporter": "python",
   "pygments_lexer": "ipython3",
   "version": "3.7.6"
  }
 },
 "nbformat": 4,
 "nbformat_minor": 4
}
