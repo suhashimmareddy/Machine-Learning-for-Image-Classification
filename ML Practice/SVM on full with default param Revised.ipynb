{
 "cells": [
  {
   "cell_type": "markdown",
   "metadata": {},
   "source": [
    "## ----------------------------------------------------Section - 3.2-----------------------------------------------------------\n",
    "###                              3.2) Coventional Machine Learning Model - Support Vector Machines"
   ]
  },
  {
   "cell_type": "raw",
   "metadata": {},
   "source": [
    "Step-1: Importing all the necessary python packages "
   ]
  },
  {
   "cell_type": "code",
   "execution_count": 5,
   "metadata": {},
   "outputs": [],
   "source": [
    "import os\n",
    "#import cv2\n",
    "import pandas as pd\n",
    "import numpy as np\n",
    "#import tensorflow as tf\n",
    "import matplotlib.pyplot as plt\n",
    "import matplotlib as mpl\n",
    "\n",
    "from os.path import join\n",
    "#from tensorflow.keras import layers, models"
   ]
  },
  {
   "cell_type": "code",
   "execution_count": null,
   "metadata": {},
   "outputs": [],
   "source": [
    "Step-2: Loading the Training, Test DataSet and exploring the data"
   ]
  },
  {
   "cell_type": "code",
   "execution_count": 7,
   "metadata": {},
   "outputs": [],
   "source": [
    "# Training data reading\n",
    "hair_colours = ['black', 'blond', 'brown', 'gray']\n",
    "dataset_directory = 'C:\\\\Users\\\\suhas\\\\Documents\\\\study\\\\ML Practice\\\\image_dataset'  ## CHANGE TO YOUR OWN DIRECTORY\n",
    "\n",
    "images_train = np.load(join(dataset_directory, 'train_images.npy'))\n",
    "labels_train = np.load(join(dataset_directory, 'train_labels.npy'))\n",
    "\n",
    "image_size = 48\n",
    "images_train_rs = images_train.reshape([-1, image_size, image_size, 3]) / 255.0"
   ]
  },
  {
   "cell_type": "code",
   "execution_count": 3,
   "metadata": {},
   "outputs": [
    {
     "data": {
      "text/plain": [
       "6912"
      ]
     },
     "execution_count": 3,
     "metadata": {},
     "output_type": "execute_result"
    }
   ],
   "source": [
    "Features = images_train_rs.shape[1]*images_train_rs.shape[2]*images_train_rs.shape[3]\n",
    "Features"
   ]
  },
  {
   "cell_type": "code",
   "execution_count": 4,
   "metadata": {},
   "outputs": [
    {
     "name": "stdout",
     "output_type": "stream",
     "text": [
      "(98479, 6912)\n"
     ]
    }
   ],
   "source": [
    "# reshaping training data\n",
    "lst1 = [None] * images_train_rs.shape[0]\n",
    "for i in range(images_train_rs.shape[0]):\n",
    "    lst1[i] = images_train_rs[i].reshape([-1])\n",
    "#print(lst)\n",
    "x = np.array(lst1).reshape(images_train_rs.shape[0],Features)\n",
    "print(x.shape)"
   ]
  },
  {
   "cell_type": "markdown",
   "metadata": {},
   "source": [
    "##### Observations From preliminary data Exploration:\n",
    "so we can see that images_train contains a list of size 98479 with 48 features as height for each picture, 48 features as width for each picture and a 3 channel (RGB) colour sclae for each picture (with values raning from 1 to 255). This results in 48*48*3 = 6912 features to work with."
   ]
  },
  {
   "cell_type": "code",
   "execution_count": 5,
   "metadata": {},
   "outputs": [],
   "source": [
    "# reading the test data\n",
    "images_test_public = np.load(join(dataset_directory, 'test_public_images.npy'))\n",
    "files_test_public = np.load(join(dataset_directory, 'test_public_files.npy'))\n",
    "images_test_public_rs = images_test_public.reshape([-1, image_size, image_size, 3]) / 255.0"
   ]
  },
  {
   "cell_type": "code",
   "execution_count": 6,
   "metadata": {},
   "outputs": [
    {
     "data": {
      "text/plain": [
       "6912"
      ]
     },
     "execution_count": 6,
     "metadata": {},
     "output_type": "execute_result"
    }
   ],
   "source": [
    "Features3 = images_test_public_rs.shape[1]*images_test_public_rs.shape[2]*images_test_public_rs.shape[3]\n",
    "Features3"
   ]
  },
  {
   "cell_type": "code",
   "execution_count": 7,
   "metadata": {},
   "outputs": [
    {
     "name": "stdout",
     "output_type": "stream",
     "text": [
      "(11921, 6912)\n"
     ]
    }
   ],
   "source": [
    "lst4 = [None] * images_test_public_rs.shape[0]\n",
    "for i in range(images_test_public_rs.shape[0]):\n",
    "    lst4[i] = images_test_public_rs[i].reshape([-1])\n",
    "#print(lst)\n",
    "z = np.array(lst4).reshape(images_test_public_rs.shape[0],Features3)\n",
    "print(z.shape)"
   ]
  },
  {
   "cell_type": "code",
   "execution_count": 8,
   "metadata": {},
   "outputs": [
    {
     "name": "stdout",
     "output_type": "stream",
     "text": [
      "Before reshaping, image val shape is:\n",
      " (12270, 48, 48, 3)\n",
      "Data inside images val:\n",
      " [[[[236 240 243]\n",
      "   [240 244 247]\n",
      "   [249 252 255]\n",
      "   ...\n",
      "   [192 184 182]\n",
      "   [183 182 178]\n",
      "   [182 180 179]]\n",
      "\n",
      "  [[236 240 243]\n",
      "   [240 244 247]\n",
      "   [249 252 255]\n",
      "   ...\n",
      "   [192 184 182]\n",
      "   [183 182 178]\n",
      "   [182 180 179]]\n",
      "\n",
      "  [[236 240 243]\n",
      "   [240 244 247]\n",
      "   [249 252 255]\n",
      "   ...\n",
      "   [193 184 182]\n",
      "   [183 182 178]\n",
      "   [182 180 179]]\n",
      "\n",
      "  ...\n",
      "\n",
      "  [[237 239 240]\n",
      "   [236 238 240]\n",
      "   [235 237 239]\n",
      "   ...\n",
      "   [ 14  15  14]\n",
      "   [ 18  18  17]\n",
      "   [ 33  33  32]]\n",
      "\n",
      "  [[235 240 241]\n",
      "   [238 243 244]\n",
      "   [246 251 252]\n",
      "   ...\n",
      "   [ 30  30  30]\n",
      "   [ 28  28  28]\n",
      "   [ 23  23  23]]\n",
      "\n",
      "  [[239 241 243]\n",
      "   [217 219 221]\n",
      "   [141 143 144]\n",
      "   ...\n",
      "   [ 27  27  27]\n",
      "   [ 27  27  27]\n",
      "   [ 25  25  25]]]\n",
      "\n",
      "\n",
      " [[[ 98  88  81]\n",
      "   [ 59  41  34]\n",
      "   [ 69  44  39]\n",
      "   ...\n",
      "   [ 53  33  24]\n",
      "   [ 54  34  25]\n",
      "   [ 54  34  25]]\n",
      "\n",
      "  [[ 98  88  81]\n",
      "   [ 59  41  34]\n",
      "   [ 69  44  39]\n",
      "   ...\n",
      "   [ 53  33  24]\n",
      "   [ 54  34  25]\n",
      "   [ 54  34  25]]\n",
      "\n",
      "  [[ 99  89  82]\n",
      "   [ 61  42  35]\n",
      "   [ 69  44  38]\n",
      "   ...\n",
      "   [ 53  33  24]\n",
      "   [ 53  33  24]\n",
      "   [ 55  35  26]]\n",
      "\n",
      "  ...\n",
      "\n",
      "  [[ 42  15   5]\n",
      "   [114  69  54]\n",
      "   [127  82  55]\n",
      "   ...\n",
      "   [ 88  62  50]\n",
      "   [ 88  63  50]\n",
      "   [ 87  65  54]]\n",
      "\n",
      "  [[ 68  28  10]\n",
      "   [131  80  52]\n",
      "   [ 93  58  44]\n",
      "   ...\n",
      "   [ 89  64  53]\n",
      "   [ 89  67  53]\n",
      "   [ 87  66  55]]\n",
      "\n",
      "  [[102  59  39]\n",
      "   [123  75  50]\n",
      "   [ 58  27  15]\n",
      "   ...\n",
      "   [ 89  64  52]\n",
      "   [ 89  67  54]\n",
      "   [ 87  66  55]]]\n",
      "\n",
      "\n",
      " [[[  0   2   1]\n",
      "   [  0   2   1]\n",
      "   [  0   2   1]\n",
      "   ...\n",
      "   [ 69 122 154]\n",
      "   [ 68 124 160]\n",
      "   [ 69 125 163]]\n",
      "\n",
      "  [[  0   2   1]\n",
      "   [  0   2   1]\n",
      "   [  0   2   1]\n",
      "   ...\n",
      "   [ 69 122 154]\n",
      "   [ 68 124 160]\n",
      "   [ 69 125 163]]\n",
      "\n",
      "  [[  0   2   1]\n",
      "   [  0   2   1]\n",
      "   [  0   2   1]\n",
      "   ...\n",
      "   [ 70 122 154]\n",
      "   [ 69 124 160]\n",
      "   [ 69 125 163]]\n",
      "\n",
      "  ...\n",
      "\n",
      "  [[  1   1   1]\n",
      "   [  1   1   1]\n",
      "   [  1   1   1]\n",
      "   ...\n",
      "   [ 52 121 166]\n",
      "   [ 53 120 163]\n",
      "   [ 55 121 163]]\n",
      "\n",
      "  [[  0   0   0]\n",
      "   [  0   0   0]\n",
      "   [  0   0   0]\n",
      "   ...\n",
      "   [ 62 122 164]\n",
      "   [ 57 121 162]\n",
      "   [ 56 122 162]]\n",
      "\n",
      "  [[  0   0   0]\n",
      "   [  0   0   0]\n",
      "   [  0   0   0]\n",
      "   ...\n",
      "   [ 61  94 116]\n",
      "   [ 56 117 147]\n",
      "   [ 54 122 160]]]\n",
      "\n",
      "\n",
      " ...\n",
      "\n",
      "\n",
      " [[[178 172 172]\n",
      "   [178 172 172]\n",
      "   [178 172 172]\n",
      "   ...\n",
      "   [172 167 164]\n",
      "   [172 167 164]\n",
      "   [172 167 164]]\n",
      "\n",
      "  [[178 172 172]\n",
      "   [178 172 172]\n",
      "   [178 172 172]\n",
      "   ...\n",
      "   [172 167 164]\n",
      "   [172 167 164]\n",
      "   [172 167 164]]\n",
      "\n",
      "  [[178 172 172]\n",
      "   [178 172 172]\n",
      "   [178 172 172]\n",
      "   ...\n",
      "   [172 167 164]\n",
      "   [172 167 164]\n",
      "   [172 167 164]]\n",
      "\n",
      "  ...\n",
      "\n",
      "  [[ 79  44  26]\n",
      "   [ 65  31  24]\n",
      "   [ 33   2   1]\n",
      "   ...\n",
      "   [216 194 186]\n",
      "   [214 202 204]\n",
      "   [202 199 210]]\n",
      "\n",
      "  [[ 69  35  21]\n",
      "   [ 47  14   1]\n",
      "   [ 58  26  12]\n",
      "   ...\n",
      "   [212 162 114]\n",
      "   [212 178 149]\n",
      "   [215 195 185]]\n",
      "\n",
      "  [[ 68  37  13]\n",
      "   [ 73  41  13]\n",
      "   [117  83  50]\n",
      "   ...\n",
      "   [233 167 111]\n",
      "   [223 164 115]\n",
      "   [218 175 137]]]\n",
      "\n",
      "\n",
      " [[[ 82  85  58]\n",
      "   [ 82  85  58]\n",
      "   [ 82  85  58]\n",
      "   ...\n",
      "   [ 57  60  43]\n",
      "   [ 57  60  43]\n",
      "   [ 57  60  42]]\n",
      "\n",
      "  [[ 82  85  58]\n",
      "   [ 82  85  58]\n",
      "   [ 82  85  58]\n",
      "   ...\n",
      "   [ 57  60  43]\n",
      "   [ 57  60  43]\n",
      "   [ 58  61  43]]\n",
      "\n",
      "  [[ 80  84  56]\n",
      "   [ 80  84  56]\n",
      "   [ 81  85  57]\n",
      "   ...\n",
      "   [ 57  60  43]\n",
      "   [ 57  60  43]\n",
      "   [ 58  61  42]]\n",
      "\n",
      "  ...\n",
      "\n",
      "  [[ 27  26   9]\n",
      "   [ 81  71  56]\n",
      "   [ 80  64  49]\n",
      "   ...\n",
      "   [ 64  55  36]\n",
      "   [ 66  59  40]\n",
      "   [ 69  62  43]]\n",
      "\n",
      "  [[ 44  39   9]\n",
      "   [ 62  49  30]\n",
      "   [ 52  36  24]\n",
      "   ...\n",
      "   [ 65  58  39]\n",
      "   [ 66  61  42]\n",
      "   [ 68  62  43]]\n",
      "\n",
      "  [[ 45  40  11]\n",
      "   [ 49  35  17]\n",
      "   [ 49  33  21]\n",
      "   ...\n",
      "   [ 66  59  40]\n",
      "   [ 66  61  42]\n",
      "   [ 69  63  44]]]\n",
      "\n",
      "\n",
      " [[[ 51  61  76]\n",
      "   [ 66  77 100]\n",
      "   [ 76  88 116]\n",
      "   ...\n",
      "   [  0   0   0]\n",
      "   [  0   0   0]\n",
      "   [  0   0   0]]\n",
      "\n",
      "  [[ 55  65  80]\n",
      "   [ 68  79 102]\n",
      "   [ 76  88 116]\n",
      "   ...\n",
      "   [  0   0   0]\n",
      "   [  0   0   0]\n",
      "   [  0   0   0]]\n",
      "\n",
      "  [[ 58  68  83]\n",
      "   [ 71  81 104]\n",
      "   [ 77  89 116]\n",
      "   ...\n",
      "   [  0   0   0]\n",
      "   [  0   0   0]\n",
      "   [  0   0   0]]\n",
      "\n",
      "  ...\n",
      "\n",
      "  [[ 14   2   2]\n",
      "   [ 18  20  14]\n",
      "   [140 139 135]\n",
      "   ...\n",
      "   [132 119  80]\n",
      "   [151 139 100]\n",
      "   [172 164 122]]\n",
      "\n",
      "  [[ 10   6   3]\n",
      "   [112 104  96]\n",
      "   [115 112 106]\n",
      "   ...\n",
      "   [111 102  58]\n",
      "   [166 155 109]\n",
      "   [167 159 112]]\n",
      "\n",
      "  [[ 70  62  58]\n",
      "   [211 202 195]\n",
      "   [166 162 156]\n",
      "   ...\n",
      "   [ 96  87  43]\n",
      "   [157 146 100]\n",
      "   [182 173 126]]]]\n",
      "Data inside labels val:\n",
      " [0 2 2 ... 2 2 1]\n",
      "Data inside files val:\n",
      " ['162772.jpg' '162773.jpg' '162774.jpg' ... '182633.jpg' '182635.jpg'\n",
      " '182636.jpg']\n",
      "\n",
      "\n",
      "list features for a row, for example first picture features are: [[[236 240 243]\n",
      "  [240 244 247]\n",
      "  [249 252 255]\n",
      "  ...\n",
      "  [192 184 182]\n",
      "  [183 182 178]\n",
      "  [182 180 179]]\n",
      "\n",
      " [[236 240 243]\n",
      "  [240 244 247]\n",
      "  [249 252 255]\n",
      "  ...\n",
      "  [192 184 182]\n",
      "  [183 182 178]\n",
      "  [182 180 179]]\n",
      "\n",
      " [[236 240 243]\n",
      "  [240 244 247]\n",
      "  [249 252 255]\n",
      "  ...\n",
      "  [193 184 182]\n",
      "  [183 182 178]\n",
      "  [182 180 179]]\n",
      "\n",
      " ...\n",
      "\n",
      " [[237 239 240]\n",
      "  [236 238 240]\n",
      "  [235 237 239]\n",
      "  ...\n",
      "  [ 14  15  14]\n",
      "  [ 18  18  17]\n",
      "  [ 33  33  32]]\n",
      "\n",
      " [[235 240 241]\n",
      "  [238 243 244]\n",
      "  [246 251 252]\n",
      "  ...\n",
      "  [ 30  30  30]\n",
      "  [ 28  28  28]\n",
      "  [ 23  23  23]]\n",
      "\n",
      " [[239 241 243]\n",
      "  [217 219 221]\n",
      "  [141 143 144]\n",
      "  ...\n",
      "  [ 27  27  27]\n",
      "  [ 27  27  27]\n",
      "  [ 25  25  25]]]\n",
      "no of features for first picture are: 48\n",
      "\n",
      "\n",
      "list of features inside the first feature for picture 1:\n",
      " [[236 240 243]\n",
      " [240 244 247]\n",
      " [249 252 255]\n",
      " [245 249 253]\n",
      " [240 242 245]\n",
      " [236 237 239]\n",
      " [234 235 237]\n",
      " [233 234 236]\n",
      " [231 232 234]\n",
      " [230 231 233]\n",
      " [231 232 234]\n",
      " [230 231 233]\n",
      " [229 230 232]\n",
      " [229 231 230]\n",
      " [229 231 230]\n",
      " [228 230 229]\n",
      " [229 231 230]\n",
      " [226 228 227]\n",
      " [226 228 227]\n",
      " [226 228 227]\n",
      " [224 226 225]\n",
      " [224 225 225]\n",
      " [226 225 226]\n",
      " [223 223 223]\n",
      " [224 224 224]\n",
      " [223 223 223]\n",
      " [222 222 222]\n",
      " [222 221 220]\n",
      " [219 209 209]\n",
      " [214 191 194]\n",
      " [220 215 210]\n",
      " [212 213 211]\n",
      " [212 211 214]\n",
      " [212 212 209]\n",
      " [209 209 205]\n",
      " [208 208 206]\n",
      " [205 205 203]\n",
      " [203 203 201]\n",
      " [202 202 200]\n",
      " [200 199 197]\n",
      " [198 197 195]\n",
      " [196 195 193]\n",
      " [195 194 192]\n",
      " [193 189 186]\n",
      " [194 187 185]\n",
      " [192 184 182]\n",
      " [183 182 178]\n",
      " [182 180 179]]\n",
      "no of features inside the first feature for picture 1:\n",
      " 48\n"
     ]
    }
   ],
   "source": [
    "# reading the validation data set\n",
    "images_val = np.load(join(dataset_directory, 'val_images.npy'))\n",
    "labels_val = np.load(join(dataset_directory, 'val_labels.npy'))\n",
    "files_val = np.load(join(dataset_directory, 'val_files.npy'))\n",
    "\n",
    "print(\"Before reshaping, image val shape is:\\n\",images_val.shape)\n",
    "print(\"Data inside images val:\\n\", images_val)\n",
    "print(\"Data inside labels val:\\n\", labels_val)\n",
    "print(\"Data inside files val:\\n\", files_val)\n",
    "print(\"\\n\")\n",
    "\n",
    "print(\"list features for a row, for example first picture features are:\", images_val[0]) \n",
    "print(\"no of features for first picture are:\", len(images_val[0]))\n",
    "print(\"\\n\")\n",
    "\n",
    "print(\"list of features inside the first feature for picture 1:\\n\", images_val[0][0])\n",
    "print(\"no of features inside the first feature for picture 1:\\n\", len(images_val[0][0]))\n",
    "\n",
    "images_val_rs = images_val.reshape([-1, image_size, image_size, 3]) / 255.0"
   ]
  },
  {
   "cell_type": "code",
   "execution_count": 9,
   "metadata": {},
   "outputs": [
    {
     "data": {
      "text/plain": [
       "6912"
      ]
     },
     "execution_count": 9,
     "metadata": {},
     "output_type": "execute_result"
    }
   ],
   "source": [
    "Features1 = images_val_rs.shape[1]*images_val_rs.shape[2]*images_val_rs.shape[3]\n",
    "Features1"
   ]
  },
  {
   "cell_type": "code",
   "execution_count": 10,
   "metadata": {},
   "outputs": [
    {
     "name": "stdout",
     "output_type": "stream",
     "text": [
      "(12270, 6912)\n"
     ]
    }
   ],
   "source": [
    "lst3 = [None] * images_val_rs.shape[0]\n",
    "for i in range(images_val_rs.shape[0]):\n",
    "    lst3[i] = images_val_rs[i].reshape([-1])\n",
    "#print(lst)\n",
    "y = np.array(lst3).reshape(images_val_rs.shape[0],Features1)\n",
    "print(y.shape)"
   ]
  },
  {
   "cell_type": "raw",
   "metadata": {},
   "source": [
    "Step-3: Fitting the model to the data with default parameters"
   ]
  },
  {
   "cell_type": "code",
   "execution_count": 11,
   "metadata": {},
   "outputs": [],
   "source": [
    "from sklearn.svm import SVC\n",
    "model = SVC(random_state = 26)\n",
    "model = model.fit(x, labels_train)\n",
    "Val_pred = model.predict(y)\n",
    "Test_pred = model.predict(z)"
   ]
  },
  {
   "cell_type": "code",
   "execution_count": 12,
   "metadata": {},
   "outputs": [
    {
     "data": {
      "text/html": [
       "<div>\n",
       "<style scoped>\n",
       "    .dataframe tbody tr th:only-of-type {\n",
       "        vertical-align: middle;\n",
       "    }\n",
       "\n",
       "    .dataframe tbody tr th {\n",
       "        vertical-align: top;\n",
       "    }\n",
       "\n",
       "    .dataframe thead th {\n",
       "        text-align: right;\n",
       "    }\n",
       "</style>\n",
       "<table border=\"1\" class=\"dataframe\">\n",
       "  <thead>\n",
       "    <tr style=\"text-align: right;\">\n",
       "      <th></th>\n",
       "      <th>Prediction</th>\n",
       "    </tr>\n",
       "  </thead>\n",
       "  <tbody>\n",
       "    <tr>\n",
       "      <th>11916</th>\n",
       "      <td>1</td>\n",
       "    </tr>\n",
       "    <tr>\n",
       "      <th>11917</th>\n",
       "      <td>1</td>\n",
       "    </tr>\n",
       "    <tr>\n",
       "      <th>11918</th>\n",
       "      <td>0</td>\n",
       "    </tr>\n",
       "    <tr>\n",
       "      <th>11919</th>\n",
       "      <td>0</td>\n",
       "    </tr>\n",
       "    <tr>\n",
       "      <th>11920</th>\n",
       "      <td>2</td>\n",
       "    </tr>\n",
       "  </tbody>\n",
       "</table>\n",
       "</div>"
      ],
      "text/plain": [
       "       Prediction\n",
       "11916           1\n",
       "11917           1\n",
       "11918           0\n",
       "11919           0\n",
       "11920           2"
      ]
     },
     "execution_count": 12,
     "metadata": {},
     "output_type": "execute_result"
    }
   ],
   "source": [
    "df1 = pd.DataFrame(Test_pred, columns=['Prediction'])\n",
    "df1.tail() # creating a data frame for predicted values"
   ]
  },
  {
   "cell_type": "code",
   "execution_count": 13,
   "metadata": {},
   "outputs": [
    {
     "data": {
      "text/html": [
       "<div>\n",
       "<style scoped>\n",
       "    .dataframe tbody tr th:only-of-type {\n",
       "        vertical-align: middle;\n",
       "    }\n",
       "\n",
       "    .dataframe tbody tr th {\n",
       "        vertical-align: top;\n",
       "    }\n",
       "\n",
       "    .dataframe thead th {\n",
       "        text-align: right;\n",
       "    }\n",
       "</style>\n",
       "<table border=\"1\" class=\"dataframe\">\n",
       "  <thead>\n",
       "    <tr style=\"text-align: right;\">\n",
       "      <th></th>\n",
       "      <th>ID</th>\n",
       "    </tr>\n",
       "  </thead>\n",
       "  <tbody>\n",
       "    <tr>\n",
       "      <th>11916</th>\n",
       "      <td>202595.jpg</td>\n",
       "    </tr>\n",
       "    <tr>\n",
       "      <th>11917</th>\n",
       "      <td>202596.jpg</td>\n",
       "    </tr>\n",
       "    <tr>\n",
       "      <th>11918</th>\n",
       "      <td>202597.jpg</td>\n",
       "    </tr>\n",
       "    <tr>\n",
       "      <th>11919</th>\n",
       "      <td>202598.jpg</td>\n",
       "    </tr>\n",
       "    <tr>\n",
       "      <th>11920</th>\n",
       "      <td>202599.jpg</td>\n",
       "    </tr>\n",
       "  </tbody>\n",
       "</table>\n",
       "</div>"
      ],
      "text/plain": [
       "               ID\n",
       "11916  202595.jpg\n",
       "11917  202596.jpg\n",
       "11918  202597.jpg\n",
       "11919  202598.jpg\n",
       "11920  202599.jpg"
      ]
     },
     "execution_count": 13,
     "metadata": {},
     "output_type": "execute_result"
    }
   ],
   "source": [
    "df2 = pd.DataFrame(files_test_public, columns=['ID'])\n",
    "df2.tail() # creating a data frame for files_val which contains image names"
   ]
  },
  {
   "cell_type": "code",
   "execution_count": 14,
   "metadata": {},
   "outputs": [],
   "source": [
    "# Joining the two data frames through the index\n",
    "Test_Public_pred_Acc_testpurpose_45693242 = df2.merge(df1, left_index=True, right_index=True)"
   ]
  },
  {
   "cell_type": "code",
   "execution_count": 15,
   "metadata": {},
   "outputs": [
    {
     "data": {
      "text/html": [
       "<div>\n",
       "<style scoped>\n",
       "    .dataframe tbody tr th:only-of-type {\n",
       "        vertical-align: middle;\n",
       "    }\n",
       "\n",
       "    .dataframe tbody tr th {\n",
       "        vertical-align: top;\n",
       "    }\n",
       "\n",
       "    .dataframe thead th {\n",
       "        text-align: right;\n",
       "    }\n",
       "</style>\n",
       "<table border=\"1\" class=\"dataframe\">\n",
       "  <thead>\n",
       "    <tr style=\"text-align: right;\">\n",
       "      <th></th>\n",
       "      <th>ID</th>\n",
       "      <th>Prediction</th>\n",
       "    </tr>\n",
       "  </thead>\n",
       "  <tbody>\n",
       "    <tr>\n",
       "      <th>0</th>\n",
       "      <td>182639.jpg</td>\n",
       "      <td>0</td>\n",
       "    </tr>\n",
       "    <tr>\n",
       "      <th>1</th>\n",
       "      <td>182640.jpg</td>\n",
       "      <td>2</td>\n",
       "    </tr>\n",
       "    <tr>\n",
       "      <th>2</th>\n",
       "      <td>182642.jpg</td>\n",
       "      <td>0</td>\n",
       "    </tr>\n",
       "    <tr>\n",
       "      <th>3</th>\n",
       "      <td>182643.jpg</td>\n",
       "      <td>0</td>\n",
       "    </tr>\n",
       "    <tr>\n",
       "      <th>4</th>\n",
       "      <td>182644.jpg</td>\n",
       "      <td>0</td>\n",
       "    </tr>\n",
       "  </tbody>\n",
       "</table>\n",
       "</div>"
      ],
      "text/plain": [
       "           ID  Prediction\n",
       "0  182639.jpg           0\n",
       "1  182640.jpg           2\n",
       "2  182642.jpg           0\n",
       "3  182643.jpg           0\n",
       "4  182644.jpg           0"
      ]
     },
     "execution_count": 15,
     "metadata": {},
     "output_type": "execute_result"
    }
   ],
   "source": [
    "Test_Public_pred_Acc_testpurpose_45693242.head()"
   ]
  },
  {
   "cell_type": "raw",
   "metadata": {},
   "source": [
    "Step-10: Uploading the data Frame to a CSV File Named \"SVM_default_fulldata_45693242.csv\""
   ]
  },
  {
   "cell_type": "code",
   "execution_count": 16,
   "metadata": {},
   "outputs": [],
   "source": [
    "Test_Public_pred_Acc_testpurpose_45693242.to_csv (r'C:\\\\Users\\\\suhas\\\\Downloads\\\\ML Practice\\\\SVM_default_fulldata_45693242.csv', index = False, header=True)"
   ]
  },
  {
   "cell_type": "code",
   "execution_count": 11,
   "metadata": {},
   "outputs": [],
   "source": [
    "from pickle import dump"
   ]
  },
  {
   "cell_type": "code",
   "execution_count": 13,
   "metadata": {},
   "outputs": [],
   "source": [
    "import pickle"
   ]
  },
  {
   "cell_type": "code",
   "execution_count": 18,
   "metadata": {},
   "outputs": [],
   "source": [
    "# saving the model for reusing purpose\n",
    "dump(model, open('model1.pkl', 'wb'))"
   ]
  },
  {
   "cell_type": "code",
   "execution_count": 16,
   "metadata": {},
   "outputs": [],
   "source": [
    "# using the saved model to predict on some 5 values of validation data set\n",
    "load_model = pickle.load(open(\"model1.pkl\", 'rb'))\n",
    "Val_pred = load_model.predict(y[:5])"
   ]
  },
  {
   "cell_type": "code",
   "execution_count": 17,
   "metadata": {},
   "outputs": [
    {
     "data": {
      "text/plain": [
       "array([0, 2, 2, 0, 0], dtype=int64)"
      ]
     },
     "execution_count": 17,
     "metadata": {},
     "output_type": "execute_result"
    }
   ],
   "source": [
    "Val_pred"
   ]
  },
  {
   "cell_type": "code",
   "execution_count": null,
   "metadata": {},
   "outputs": [],
   "source": []
  }
 ],
 "metadata": {
  "kernelspec": {
   "display_name": "Python 3",
   "language": "python",
   "name": "python3"
  },
  "language_info": {
   "codemirror_mode": {
    "name": "ipython",
    "version": 3
   },
   "file_extension": ".py",
   "mimetype": "text/x-python",
   "name": "python",
   "nbconvert_exporter": "python",
   "pygments_lexer": "ipython3",
   "version": "3.7.6"
  }
 },
 "nbformat": 4,
 "nbformat_minor": 4
}
