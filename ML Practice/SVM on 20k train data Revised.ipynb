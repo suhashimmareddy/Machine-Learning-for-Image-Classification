{
 "cells": [
  {
   "cell_type": "markdown",
   "metadata": {},
   "source": [
    "## ----------------------------------------------------Section - 3-----------------------------------------------------------\n",
    "###                              3) Coventional Machine Learning Model - Random Forest Classifier"
   ]
  },
  {
   "cell_type": "raw",
   "metadata": {},
   "source": [
    "Step-1: Importing all the necessary python packages "
   ]
  },
  {
   "cell_type": "code",
   "execution_count": 1,
   "metadata": {},
   "outputs": [],
   "source": [
    "import os\n",
    "import cv2\n",
    "import pandas as pd\n",
    "import numpy as np\n",
    "import tensorflow as tf\n",
    "import matplotlib.pyplot as plt\n",
    "import matplotlib as mpl\n",
    "from os.path import join"
   ]
  },
  {
   "cell_type": "raw",
   "metadata": {},
   "source": [
    "Step-2: Loading the Training DataSet and exploring the data"
   ]
  },
  {
   "cell_type": "code",
   "execution_count": 2,
   "metadata": {},
   "outputs": [],
   "source": [
    "# preliminary data Exploration \n",
    "hair_colours = ['black', 'blond', 'brown', 'gray']\n",
    "dataset_directory = 'C:\\\\Users\\\\suhas\\\\Downloads\\\\ML Practice\\\\image_dataset'  ## CHANGE TO YOUR OWN DIRECTORY\n",
    "\n",
    "images_train = np.load(join(dataset_directory, 'train_images.npy'))\n",
    "labels_train = np.load(join(dataset_directory, 'train_labels.npy'))\n",
    "\n",
    "image_size = 48\n",
    "images_train_rs = images_train.reshape([-1, image_size, image_size, 3]) / 255.0"
   ]
  },
  {
   "cell_type": "code",
   "execution_count": 3,
   "metadata": {},
   "outputs": [
    {
     "data": {
      "text/plain": [
       "6912"
      ]
     },
     "execution_count": 3,
     "metadata": {},
     "output_type": "execute_result"
    }
   ],
   "source": [
    "Features = images_train_rs.shape[1]*images_train_rs.shape[2]*images_train_rs.shape[3]\n",
    "Features"
   ]
  },
  {
   "cell_type": "code",
   "execution_count": 4,
   "metadata": {},
   "outputs": [
    {
     "name": "stdout",
     "output_type": "stream",
     "text": [
      "(98479, 6912)\n"
     ]
    }
   ],
   "source": [
    "lst1 = [None] * images_train_rs.shape[0] # creating an empty array of size 98479\n",
    "for i in range(images_train_rs.shape[0]):\n",
    "    lst1[i] = images_train_rs[i].reshape([-1]) # reshaping each picture to 6912 features and storing it in lst1\n",
    "#print(lst)\n",
    "x = np.array(lst1).reshape(images_train_rs.shape[0],Features) # converting the list to an array\n",
    "print(x.shape)"
   ]
  },
  {
   "cell_type": "raw",
   "metadata": {},
   "source": [
    "Step-3: Convert the aaray into a data frame and add the target lables at the end."
   ]
  },
  {
   "cell_type": "code",
   "execution_count": 5,
   "metadata": {},
   "outputs": [],
   "source": [
    "tain1df = pd.DataFrame(x) # Converting Train Lables array into Data Frame"
   ]
  },
  {
   "cell_type": "code",
   "execution_count": 6,
   "metadata": {},
   "outputs": [
    {
     "data": {
      "text/html": [
       "<div>\n",
       "<style scoped>\n",
       "    .dataframe tbody tr th:only-of-type {\n",
       "        vertical-align: middle;\n",
       "    }\n",
       "\n",
       "    .dataframe tbody tr th {\n",
       "        vertical-align: top;\n",
       "    }\n",
       "\n",
       "    .dataframe thead th {\n",
       "        text-align: right;\n",
       "    }\n",
       "</style>\n",
       "<table border=\"1\" class=\"dataframe\">\n",
       "  <thead>\n",
       "    <tr style=\"text-align: right;\">\n",
       "      <th></th>\n",
       "      <th>0</th>\n",
       "      <th>1</th>\n",
       "      <th>2</th>\n",
       "      <th>3</th>\n",
       "      <th>4</th>\n",
       "      <th>5</th>\n",
       "      <th>6</th>\n",
       "      <th>7</th>\n",
       "      <th>8</th>\n",
       "      <th>9</th>\n",
       "      <th>...</th>\n",
       "      <th>6902</th>\n",
       "      <th>6903</th>\n",
       "      <th>6904</th>\n",
       "      <th>6905</th>\n",
       "      <th>6906</th>\n",
       "      <th>6907</th>\n",
       "      <th>6908</th>\n",
       "      <th>6909</th>\n",
       "      <th>6910</th>\n",
       "      <th>6911</th>\n",
       "    </tr>\n",
       "  </thead>\n",
       "  <tbody>\n",
       "    <tr>\n",
       "      <th>0</th>\n",
       "      <td>0.992157</td>\n",
       "      <td>0.905882</td>\n",
       "      <td>0.760784</td>\n",
       "      <td>0.992157</td>\n",
       "      <td>0.905882</td>\n",
       "      <td>0.760784</td>\n",
       "      <td>0.992157</td>\n",
       "      <td>0.905882</td>\n",
       "      <td>0.760784</td>\n",
       "      <td>0.992157</td>\n",
       "      <td>...</td>\n",
       "      <td>0.086275</td>\n",
       "      <td>0.478431</td>\n",
       "      <td>0.203922</td>\n",
       "      <td>0.090196</td>\n",
       "      <td>0.450980</td>\n",
       "      <td>0.184314</td>\n",
       "      <td>0.074510</td>\n",
       "      <td>0.431373</td>\n",
       "      <td>0.168627</td>\n",
       "      <td>0.062745</td>\n",
       "    </tr>\n",
       "    <tr>\n",
       "      <th>1</th>\n",
       "      <td>0.258824</td>\n",
       "      <td>0.200000</td>\n",
       "      <td>0.172549</td>\n",
       "      <td>0.266667</td>\n",
       "      <td>0.203922</td>\n",
       "      <td>0.172549</td>\n",
       "      <td>0.329412</td>\n",
       "      <td>0.258824</td>\n",
       "      <td>0.227451</td>\n",
       "      <td>0.411765</td>\n",
       "      <td>...</td>\n",
       "      <td>0.168627</td>\n",
       "      <td>0.388235</td>\n",
       "      <td>0.192157</td>\n",
       "      <td>0.141176</td>\n",
       "      <td>0.474510</td>\n",
       "      <td>0.305882</td>\n",
       "      <td>0.278431</td>\n",
       "      <td>0.541176</td>\n",
       "      <td>0.435294</td>\n",
       "      <td>0.419608</td>\n",
       "    </tr>\n",
       "    <tr>\n",
       "      <th>2</th>\n",
       "      <td>1.000000</td>\n",
       "      <td>1.000000</td>\n",
       "      <td>1.000000</td>\n",
       "      <td>1.000000</td>\n",
       "      <td>1.000000</td>\n",
       "      <td>1.000000</td>\n",
       "      <td>1.000000</td>\n",
       "      <td>1.000000</td>\n",
       "      <td>1.000000</td>\n",
       "      <td>1.000000</td>\n",
       "      <td>...</td>\n",
       "      <td>0.086275</td>\n",
       "      <td>0.192157</td>\n",
       "      <td>0.129412</td>\n",
       "      <td>0.078431</td>\n",
       "      <td>0.250980</td>\n",
       "      <td>0.211765</td>\n",
       "      <td>0.117647</td>\n",
       "      <td>0.294118</td>\n",
       "      <td>0.247059</td>\n",
       "      <td>0.160784</td>\n",
       "    </tr>\n",
       "    <tr>\n",
       "      <th>3</th>\n",
       "      <td>0.470588</td>\n",
       "      <td>0.286275</td>\n",
       "      <td>0.243137</td>\n",
       "      <td>0.486275</td>\n",
       "      <td>0.286275</td>\n",
       "      <td>0.247059</td>\n",
       "      <td>0.486275</td>\n",
       "      <td>0.294118</td>\n",
       "      <td>0.250980</td>\n",
       "      <td>0.447059</td>\n",
       "      <td>...</td>\n",
       "      <td>0.611765</td>\n",
       "      <td>0.647059</td>\n",
       "      <td>0.643137</td>\n",
       "      <td>0.662745</td>\n",
       "      <td>0.643137</td>\n",
       "      <td>0.639216</td>\n",
       "      <td>0.658824</td>\n",
       "      <td>0.635294</td>\n",
       "      <td>0.631373</td>\n",
       "      <td>0.650980</td>\n",
       "    </tr>\n",
       "    <tr>\n",
       "      <th>4</th>\n",
       "      <td>0.105882</td>\n",
       "      <td>0.105882</td>\n",
       "      <td>0.129412</td>\n",
       "      <td>0.125490</td>\n",
       "      <td>0.109804</td>\n",
       "      <td>0.129412</td>\n",
       "      <td>0.074510</td>\n",
       "      <td>0.074510</td>\n",
       "      <td>0.078431</td>\n",
       "      <td>0.490196</td>\n",
       "      <td>...</td>\n",
       "      <td>0.117647</td>\n",
       "      <td>0.105882</td>\n",
       "      <td>0.101961</td>\n",
       "      <td>0.121569</td>\n",
       "      <td>0.101961</td>\n",
       "      <td>0.098039</td>\n",
       "      <td>0.117647</td>\n",
       "      <td>0.098039</td>\n",
       "      <td>0.094118</td>\n",
       "      <td>0.113725</td>\n",
       "    </tr>\n",
       "    <tr>\n",
       "      <th>...</th>\n",
       "      <td>...</td>\n",
       "      <td>...</td>\n",
       "      <td>...</td>\n",
       "      <td>...</td>\n",
       "      <td>...</td>\n",
       "      <td>...</td>\n",
       "      <td>...</td>\n",
       "      <td>...</td>\n",
       "      <td>...</td>\n",
       "      <td>...</td>\n",
       "      <td>...</td>\n",
       "      <td>...</td>\n",
       "      <td>...</td>\n",
       "      <td>...</td>\n",
       "      <td>...</td>\n",
       "      <td>...</td>\n",
       "      <td>...</td>\n",
       "      <td>...</td>\n",
       "      <td>...</td>\n",
       "      <td>...</td>\n",
       "      <td>...</td>\n",
       "    </tr>\n",
       "    <tr>\n",
       "      <th>98474</th>\n",
       "      <td>0.815686</td>\n",
       "      <td>0.843137</td>\n",
       "      <td>0.843137</td>\n",
       "      <td>0.772549</td>\n",
       "      <td>0.768627</td>\n",
       "      <td>0.780392</td>\n",
       "      <td>0.780392</td>\n",
       "      <td>0.756863</td>\n",
       "      <td>0.776471</td>\n",
       "      <td>0.835294</td>\n",
       "      <td>...</td>\n",
       "      <td>0.015686</td>\n",
       "      <td>0.027451</td>\n",
       "      <td>0.027451</td>\n",
       "      <td>0.027451</td>\n",
       "      <td>0.027451</td>\n",
       "      <td>0.027451</td>\n",
       "      <td>0.027451</td>\n",
       "      <td>0.027451</td>\n",
       "      <td>0.027451</td>\n",
       "      <td>0.027451</td>\n",
       "    </tr>\n",
       "    <tr>\n",
       "      <th>98475</th>\n",
       "      <td>0.952941</td>\n",
       "      <td>0.862745</td>\n",
       "      <td>0.886275</td>\n",
       "      <td>0.952941</td>\n",
       "      <td>0.862745</td>\n",
       "      <td>0.886275</td>\n",
       "      <td>0.952941</td>\n",
       "      <td>0.862745</td>\n",
       "      <td>0.886275</td>\n",
       "      <td>0.952941</td>\n",
       "      <td>...</td>\n",
       "      <td>0.062745</td>\n",
       "      <td>0.082353</td>\n",
       "      <td>0.066667</td>\n",
       "      <td>0.062745</td>\n",
       "      <td>0.082353</td>\n",
       "      <td>0.066667</td>\n",
       "      <td>0.062745</td>\n",
       "      <td>0.082353</td>\n",
       "      <td>0.066667</td>\n",
       "      <td>0.062745</td>\n",
       "    </tr>\n",
       "    <tr>\n",
       "      <th>98476</th>\n",
       "      <td>0.705882</td>\n",
       "      <td>0.635294</td>\n",
       "      <td>0.576471</td>\n",
       "      <td>0.709804</td>\n",
       "      <td>0.639216</td>\n",
       "      <td>0.588235</td>\n",
       "      <td>0.705882</td>\n",
       "      <td>0.635294</td>\n",
       "      <td>0.588235</td>\n",
       "      <td>0.701961</td>\n",
       "      <td>...</td>\n",
       "      <td>0.023529</td>\n",
       "      <td>0.019608</td>\n",
       "      <td>0.019608</td>\n",
       "      <td>0.011765</td>\n",
       "      <td>0.031373</td>\n",
       "      <td>0.031373</td>\n",
       "      <td>0.023529</td>\n",
       "      <td>0.035294</td>\n",
       "      <td>0.035294</td>\n",
       "      <td>0.027451</td>\n",
       "    </tr>\n",
       "    <tr>\n",
       "      <th>98477</th>\n",
       "      <td>0.392157</td>\n",
       "      <td>0.360784</td>\n",
       "      <td>0.317647</td>\n",
       "      <td>0.392157</td>\n",
       "      <td>0.360784</td>\n",
       "      <td>0.317647</td>\n",
       "      <td>0.392157</td>\n",
       "      <td>0.360784</td>\n",
       "      <td>0.317647</td>\n",
       "      <td>0.392157</td>\n",
       "      <td>...</td>\n",
       "      <td>0.121569</td>\n",
       "      <td>0.098039</td>\n",
       "      <td>0.125490</td>\n",
       "      <td>0.125490</td>\n",
       "      <td>0.105882</td>\n",
       "      <td>0.121569</td>\n",
       "      <td>0.125490</td>\n",
       "      <td>0.109804</td>\n",
       "      <td>0.125490</td>\n",
       "      <td>0.129412</td>\n",
       "    </tr>\n",
       "    <tr>\n",
       "      <th>98478</th>\n",
       "      <td>0.000000</td>\n",
       "      <td>0.000000</td>\n",
       "      <td>0.000000</td>\n",
       "      <td>0.000000</td>\n",
       "      <td>0.000000</td>\n",
       "      <td>0.000000</td>\n",
       "      <td>0.000000</td>\n",
       "      <td>0.000000</td>\n",
       "      <td>0.000000</td>\n",
       "      <td>0.000000</td>\n",
       "      <td>...</td>\n",
       "      <td>0.494118</td>\n",
       "      <td>0.976471</td>\n",
       "      <td>0.435294</td>\n",
       "      <td>0.494118</td>\n",
       "      <td>0.976471</td>\n",
       "      <td>0.435294</td>\n",
       "      <td>0.494118</td>\n",
       "      <td>0.976471</td>\n",
       "      <td>0.435294</td>\n",
       "      <td>0.494118</td>\n",
       "    </tr>\n",
       "  </tbody>\n",
       "</table>\n",
       "<p>98479 rows × 6912 columns</p>\n",
       "</div>"
      ],
      "text/plain": [
       "           0         1         2         3         4         5         6     \\\n",
       "0      0.992157  0.905882  0.760784  0.992157  0.905882  0.760784  0.992157   \n",
       "1      0.258824  0.200000  0.172549  0.266667  0.203922  0.172549  0.329412   \n",
       "2      1.000000  1.000000  1.000000  1.000000  1.000000  1.000000  1.000000   \n",
       "3      0.470588  0.286275  0.243137  0.486275  0.286275  0.247059  0.486275   \n",
       "4      0.105882  0.105882  0.129412  0.125490  0.109804  0.129412  0.074510   \n",
       "...         ...       ...       ...       ...       ...       ...       ...   \n",
       "98474  0.815686  0.843137  0.843137  0.772549  0.768627  0.780392  0.780392   \n",
       "98475  0.952941  0.862745  0.886275  0.952941  0.862745  0.886275  0.952941   \n",
       "98476  0.705882  0.635294  0.576471  0.709804  0.639216  0.588235  0.705882   \n",
       "98477  0.392157  0.360784  0.317647  0.392157  0.360784  0.317647  0.392157   \n",
       "98478  0.000000  0.000000  0.000000  0.000000  0.000000  0.000000  0.000000   \n",
       "\n",
       "           7         8         9     ...      6902      6903      6904  \\\n",
       "0      0.905882  0.760784  0.992157  ...  0.086275  0.478431  0.203922   \n",
       "1      0.258824  0.227451  0.411765  ...  0.168627  0.388235  0.192157   \n",
       "2      1.000000  1.000000  1.000000  ...  0.086275  0.192157  0.129412   \n",
       "3      0.294118  0.250980  0.447059  ...  0.611765  0.647059  0.643137   \n",
       "4      0.074510  0.078431  0.490196  ...  0.117647  0.105882  0.101961   \n",
       "...         ...       ...       ...  ...       ...       ...       ...   \n",
       "98474  0.756863  0.776471  0.835294  ...  0.015686  0.027451  0.027451   \n",
       "98475  0.862745  0.886275  0.952941  ...  0.062745  0.082353  0.066667   \n",
       "98476  0.635294  0.588235  0.701961  ...  0.023529  0.019608  0.019608   \n",
       "98477  0.360784  0.317647  0.392157  ...  0.121569  0.098039  0.125490   \n",
       "98478  0.000000  0.000000  0.000000  ...  0.494118  0.976471  0.435294   \n",
       "\n",
       "           6905      6906      6907      6908      6909      6910      6911  \n",
       "0      0.090196  0.450980  0.184314  0.074510  0.431373  0.168627  0.062745  \n",
       "1      0.141176  0.474510  0.305882  0.278431  0.541176  0.435294  0.419608  \n",
       "2      0.078431  0.250980  0.211765  0.117647  0.294118  0.247059  0.160784  \n",
       "3      0.662745  0.643137  0.639216  0.658824  0.635294  0.631373  0.650980  \n",
       "4      0.121569  0.101961  0.098039  0.117647  0.098039  0.094118  0.113725  \n",
       "...         ...       ...       ...       ...       ...       ...       ...  \n",
       "98474  0.027451  0.027451  0.027451  0.027451  0.027451  0.027451  0.027451  \n",
       "98475  0.062745  0.082353  0.066667  0.062745  0.082353  0.066667  0.062745  \n",
       "98476  0.011765  0.031373  0.031373  0.023529  0.035294  0.035294  0.027451  \n",
       "98477  0.125490  0.105882  0.121569  0.125490  0.109804  0.125490  0.129412  \n",
       "98478  0.494118  0.976471  0.435294  0.494118  0.976471  0.435294  0.494118  \n",
       "\n",
       "[98479 rows x 6912 columns]"
      ]
     },
     "execution_count": 6,
     "metadata": {},
     "output_type": "execute_result"
    }
   ],
   "source": [
    "tain1df"
   ]
  },
  {
   "cell_type": "code",
   "execution_count": 12,
   "metadata": {},
   "outputs": [
    {
     "data": {
      "text/plain": [
       "array([3, 2, 2, 0, 0], dtype=int64)"
      ]
     },
     "execution_count": 12,
     "metadata": {},
     "output_type": "execute_result"
    }
   ],
   "source": [
    "labels_train[98474:]"
   ]
  },
  {
   "cell_type": "code",
   "execution_count": 8,
   "metadata": {},
   "outputs": [
    {
     "data": {
      "text/html": [
       "<div>\n",
       "<style scoped>\n",
       "    .dataframe tbody tr th:only-of-type {\n",
       "        vertical-align: middle;\n",
       "    }\n",
       "\n",
       "    .dataframe tbody tr th {\n",
       "        vertical-align: top;\n",
       "    }\n",
       "\n",
       "    .dataframe thead th {\n",
       "        text-align: right;\n",
       "    }\n",
       "</style>\n",
       "<table border=\"1\" class=\"dataframe\">\n",
       "  <thead>\n",
       "    <tr style=\"text-align: right;\">\n",
       "      <th></th>\n",
       "      <th>0</th>\n",
       "    </tr>\n",
       "  </thead>\n",
       "  <tbody>\n",
       "    <tr>\n",
       "      <th>0</th>\n",
       "      <td>2</td>\n",
       "    </tr>\n",
       "    <tr>\n",
       "      <th>1</th>\n",
       "      <td>2</td>\n",
       "    </tr>\n",
       "    <tr>\n",
       "      <th>2</th>\n",
       "      <td>2</td>\n",
       "    </tr>\n",
       "    <tr>\n",
       "      <th>3</th>\n",
       "      <td>0</td>\n",
       "    </tr>\n",
       "    <tr>\n",
       "      <th>4</th>\n",
       "      <td>0</td>\n",
       "    </tr>\n",
       "    <tr>\n",
       "      <th>...</th>\n",
       "      <td>...</td>\n",
       "    </tr>\n",
       "    <tr>\n",
       "      <th>98474</th>\n",
       "      <td>3</td>\n",
       "    </tr>\n",
       "    <tr>\n",
       "      <th>98475</th>\n",
       "      <td>2</td>\n",
       "    </tr>\n",
       "    <tr>\n",
       "      <th>98476</th>\n",
       "      <td>2</td>\n",
       "    </tr>\n",
       "    <tr>\n",
       "      <th>98477</th>\n",
       "      <td>0</td>\n",
       "    </tr>\n",
       "    <tr>\n",
       "      <th>98478</th>\n",
       "      <td>0</td>\n",
       "    </tr>\n",
       "  </tbody>\n",
       "</table>\n",
       "<p>98479 rows × 1 columns</p>\n",
       "</div>"
      ],
      "text/plain": [
       "       0\n",
       "0      2\n",
       "1      2\n",
       "2      2\n",
       "3      0\n",
       "4      0\n",
       "...   ..\n",
       "98474  3\n",
       "98475  2\n",
       "98476  2\n",
       "98477  0\n",
       "98478  0\n",
       "\n",
       "[98479 rows x 1 columns]"
      ]
     },
     "execution_count": 8,
     "metadata": {},
     "output_type": "execute_result"
    }
   ],
   "source": [
    "tain2df = pd.DataFrame(labels_train) # gettin train labels into a dataframe\n",
    "tain2df"
   ]
  },
  {
   "cell_type": "code",
   "execution_count": 17,
   "metadata": {},
   "outputs": [
    {
     "data": {
      "text/plain": [
       "0    0.905882\n",
       "1    0.200000\n",
       "2    1.000000\n",
       "3    0.286275\n",
       "4    0.105882\n",
       "Name: 1, dtype: float64"
      ]
     },
     "execution_count": 17,
     "metadata": {},
     "output_type": "execute_result"
    }
   ],
   "source": [
    "tain1df[1].head()"
   ]
  },
  {
   "cell_type": "code",
   "execution_count": 18,
   "metadata": {},
   "outputs": [
    {
     "data": {
      "text/html": [
       "<div>\n",
       "<style scoped>\n",
       "    .dataframe tbody tr th:only-of-type {\n",
       "        vertical-align: middle;\n",
       "    }\n",
       "\n",
       "    .dataframe tbody tr th {\n",
       "        vertical-align: top;\n",
       "    }\n",
       "\n",
       "    .dataframe thead th {\n",
       "        text-align: right;\n",
       "    }\n",
       "</style>\n",
       "<table border=\"1\" class=\"dataframe\">\n",
       "  <thead>\n",
       "    <tr style=\"text-align: right;\">\n",
       "      <th></th>\n",
       "      <th>0_x</th>\n",
       "      <th>1</th>\n",
       "      <th>2</th>\n",
       "      <th>3</th>\n",
       "      <th>4</th>\n",
       "      <th>5</th>\n",
       "      <th>6</th>\n",
       "      <th>7</th>\n",
       "      <th>8</th>\n",
       "      <th>9</th>\n",
       "      <th>...</th>\n",
       "      <th>6903</th>\n",
       "      <th>6904</th>\n",
       "      <th>6905</th>\n",
       "      <th>6906</th>\n",
       "      <th>6907</th>\n",
       "      <th>6908</th>\n",
       "      <th>6909</th>\n",
       "      <th>6910</th>\n",
       "      <th>6911</th>\n",
       "      <th>0_y</th>\n",
       "    </tr>\n",
       "  </thead>\n",
       "  <tbody>\n",
       "    <tr>\n",
       "      <th>98474</th>\n",
       "      <td>0.815686</td>\n",
       "      <td>0.843137</td>\n",
       "      <td>0.843137</td>\n",
       "      <td>0.772549</td>\n",
       "      <td>0.768627</td>\n",
       "      <td>0.780392</td>\n",
       "      <td>0.780392</td>\n",
       "      <td>0.756863</td>\n",
       "      <td>0.776471</td>\n",
       "      <td>0.835294</td>\n",
       "      <td>...</td>\n",
       "      <td>0.027451</td>\n",
       "      <td>0.027451</td>\n",
       "      <td>0.027451</td>\n",
       "      <td>0.027451</td>\n",
       "      <td>0.027451</td>\n",
       "      <td>0.027451</td>\n",
       "      <td>0.027451</td>\n",
       "      <td>0.027451</td>\n",
       "      <td>0.027451</td>\n",
       "      <td>3</td>\n",
       "    </tr>\n",
       "    <tr>\n",
       "      <th>98475</th>\n",
       "      <td>0.952941</td>\n",
       "      <td>0.862745</td>\n",
       "      <td>0.886275</td>\n",
       "      <td>0.952941</td>\n",
       "      <td>0.862745</td>\n",
       "      <td>0.886275</td>\n",
       "      <td>0.952941</td>\n",
       "      <td>0.862745</td>\n",
       "      <td>0.886275</td>\n",
       "      <td>0.952941</td>\n",
       "      <td>...</td>\n",
       "      <td>0.082353</td>\n",
       "      <td>0.066667</td>\n",
       "      <td>0.062745</td>\n",
       "      <td>0.082353</td>\n",
       "      <td>0.066667</td>\n",
       "      <td>0.062745</td>\n",
       "      <td>0.082353</td>\n",
       "      <td>0.066667</td>\n",
       "      <td>0.062745</td>\n",
       "      <td>2</td>\n",
       "    </tr>\n",
       "    <tr>\n",
       "      <th>98476</th>\n",
       "      <td>0.705882</td>\n",
       "      <td>0.635294</td>\n",
       "      <td>0.576471</td>\n",
       "      <td>0.709804</td>\n",
       "      <td>0.639216</td>\n",
       "      <td>0.588235</td>\n",
       "      <td>0.705882</td>\n",
       "      <td>0.635294</td>\n",
       "      <td>0.588235</td>\n",
       "      <td>0.701961</td>\n",
       "      <td>...</td>\n",
       "      <td>0.019608</td>\n",
       "      <td>0.019608</td>\n",
       "      <td>0.011765</td>\n",
       "      <td>0.031373</td>\n",
       "      <td>0.031373</td>\n",
       "      <td>0.023529</td>\n",
       "      <td>0.035294</td>\n",
       "      <td>0.035294</td>\n",
       "      <td>0.027451</td>\n",
       "      <td>2</td>\n",
       "    </tr>\n",
       "    <tr>\n",
       "      <th>98477</th>\n",
       "      <td>0.392157</td>\n",
       "      <td>0.360784</td>\n",
       "      <td>0.317647</td>\n",
       "      <td>0.392157</td>\n",
       "      <td>0.360784</td>\n",
       "      <td>0.317647</td>\n",
       "      <td>0.392157</td>\n",
       "      <td>0.360784</td>\n",
       "      <td>0.317647</td>\n",
       "      <td>0.392157</td>\n",
       "      <td>...</td>\n",
       "      <td>0.098039</td>\n",
       "      <td>0.125490</td>\n",
       "      <td>0.125490</td>\n",
       "      <td>0.105882</td>\n",
       "      <td>0.121569</td>\n",
       "      <td>0.125490</td>\n",
       "      <td>0.109804</td>\n",
       "      <td>0.125490</td>\n",
       "      <td>0.129412</td>\n",
       "      <td>0</td>\n",
       "    </tr>\n",
       "    <tr>\n",
       "      <th>98478</th>\n",
       "      <td>0.000000</td>\n",
       "      <td>0.000000</td>\n",
       "      <td>0.000000</td>\n",
       "      <td>0.000000</td>\n",
       "      <td>0.000000</td>\n",
       "      <td>0.000000</td>\n",
       "      <td>0.000000</td>\n",
       "      <td>0.000000</td>\n",
       "      <td>0.000000</td>\n",
       "      <td>0.000000</td>\n",
       "      <td>...</td>\n",
       "      <td>0.976471</td>\n",
       "      <td>0.435294</td>\n",
       "      <td>0.494118</td>\n",
       "      <td>0.976471</td>\n",
       "      <td>0.435294</td>\n",
       "      <td>0.494118</td>\n",
       "      <td>0.976471</td>\n",
       "      <td>0.435294</td>\n",
       "      <td>0.494118</td>\n",
       "      <td>0</td>\n",
       "    </tr>\n",
       "  </tbody>\n",
       "</table>\n",
       "<p>5 rows × 6913 columns</p>\n",
       "</div>"
      ],
      "text/plain": [
       "            0_x         1         2         3         4         5         6  \\\n",
       "98474  0.815686  0.843137  0.843137  0.772549  0.768627  0.780392  0.780392   \n",
       "98475  0.952941  0.862745  0.886275  0.952941  0.862745  0.886275  0.952941   \n",
       "98476  0.705882  0.635294  0.576471  0.709804  0.639216  0.588235  0.705882   \n",
       "98477  0.392157  0.360784  0.317647  0.392157  0.360784  0.317647  0.392157   \n",
       "98478  0.000000  0.000000  0.000000  0.000000  0.000000  0.000000  0.000000   \n",
       "\n",
       "              7         8         9  ...      6903      6904      6905  \\\n",
       "98474  0.756863  0.776471  0.835294  ...  0.027451  0.027451  0.027451   \n",
       "98475  0.862745  0.886275  0.952941  ...  0.082353  0.066667  0.062745   \n",
       "98476  0.635294  0.588235  0.701961  ...  0.019608  0.019608  0.011765   \n",
       "98477  0.360784  0.317647  0.392157  ...  0.098039  0.125490  0.125490   \n",
       "98478  0.000000  0.000000  0.000000  ...  0.976471  0.435294  0.494118   \n",
       "\n",
       "           6906      6907      6908      6909      6910      6911  0_y  \n",
       "98474  0.027451  0.027451  0.027451  0.027451  0.027451  0.027451    3  \n",
       "98475  0.082353  0.066667  0.062745  0.082353  0.066667  0.062745    2  \n",
       "98476  0.031373  0.031373  0.023529  0.035294  0.035294  0.027451    2  \n",
       "98477  0.105882  0.121569  0.125490  0.109804  0.125490  0.129412    0  \n",
       "98478  0.976471  0.435294  0.494118  0.976471  0.435294  0.494118    0  \n",
       "\n",
       "[5 rows x 6913 columns]"
      ]
     },
     "execution_count": 18,
     "metadata": {},
     "output_type": "execute_result"
    }
   ],
   "source": [
    "# merging the train images and labels together to a single frame\n",
    "train_wholedata = tain1df.merge(tain2df, left_index=True, right_index=True)\n",
    "train_wholedata.tail()"
   ]
  },
  {
   "cell_type": "code",
   "execution_count": 20,
   "metadata": {},
   "outputs": [
    {
     "data": {
      "text/plain": [
       "98474    3\n",
       "98475    2\n",
       "98476    2\n",
       "98477    0\n",
       "98478    0\n",
       "Name: 0_y, dtype: int64"
      ]
     },
     "execution_count": 20,
     "metadata": {},
     "output_type": "execute_result"
    }
   ],
   "source": [
    "train_wholedata['0_y'].tail() #dispalying the last five lables"
   ]
  },
  {
   "cell_type": "code",
   "execution_count": 22,
   "metadata": {},
   "outputs": [
    {
     "data": {
      "text/plain": [
       "(98479, 6913)"
      ]
     },
     "execution_count": 22,
     "metadata": {},
     "output_type": "execute_result"
    }
   ],
   "source": [
    "train_wholedata.shape # merged data frame shape"
   ]
  },
  {
   "cell_type": "raw",
   "metadata": {},
   "source": [
    "Step-4: Loading the Validation DataSet and exploring the data and repeat all the steps performed for training_images data"
   ]
  },
  {
   "cell_type": "code",
   "execution_count": 23,
   "metadata": {},
   "outputs": [
    {
     "data": {
      "text/plain": [
       "6912"
      ]
     },
     "execution_count": 23,
     "metadata": {},
     "output_type": "execute_result"
    }
   ],
   "source": [
    "images_val = np.load(join(dataset_directory, 'val_images.npy'))\n",
    "labels_val = np.load(join(dataset_directory, 'val_labels.npy'))\n",
    "files_val = np.load(join(dataset_directory, 'val_files.npy'))\n",
    "images_val_rs = images_val.reshape([-1, image_size, image_size, 3]) / 255.0\n",
    "Features1 = images_val_rs.shape[1]*images_val_rs.shape[2]*images_val_rs.shape[3]\n",
    "Features1   # calculating the no of features for each picture"
   ]
  },
  {
   "cell_type": "code",
   "execution_count": 24,
   "metadata": {},
   "outputs": [
    {
     "name": "stdout",
     "output_type": "stream",
     "text": [
      "(12270, 6912)\n"
     ]
    }
   ],
   "source": [
    "lst3 = [None] * images_val_rs.shape[0] # creating an empty array of size 12270\n",
    "for i in range(images_val_rs.shape[0]):\n",
    "    lst3[i] = images_val_rs[i].reshape([-1]) # reshaping each picture to 6912 features and storing it in lst3\n",
    "#print(lst)\n",
    "y = np.array(lst3).reshape(images_val_rs.shape[0],Features1) # converting the list to an array\n",
    "print(y.shape)"
   ]
  },
  {
   "cell_type": "code",
   "execution_count": 25,
   "metadata": {},
   "outputs": [],
   "source": [
    "tain3df = pd.DataFrame(y) # converting the valdation images data to a dataframe"
   ]
  },
  {
   "cell_type": "code",
   "execution_count": 26,
   "metadata": {},
   "outputs": [],
   "source": [
    "tain4df = pd.DataFrame(labels_val) # converting lables of validation data to a dataframe"
   ]
  },
  {
   "cell_type": "code",
   "execution_count": 29,
   "metadata": {},
   "outputs": [
    {
     "data": {
      "text/html": [
       "<div>\n",
       "<style scoped>\n",
       "    .dataframe tbody tr th:only-of-type {\n",
       "        vertical-align: middle;\n",
       "    }\n",
       "\n",
       "    .dataframe tbody tr th {\n",
       "        vertical-align: top;\n",
       "    }\n",
       "\n",
       "    .dataframe thead th {\n",
       "        text-align: right;\n",
       "    }\n",
       "</style>\n",
       "<table border=\"1\" class=\"dataframe\">\n",
       "  <thead>\n",
       "    <tr style=\"text-align: right;\">\n",
       "      <th></th>\n",
       "      <th>0_x</th>\n",
       "      <th>1</th>\n",
       "      <th>2</th>\n",
       "      <th>3</th>\n",
       "      <th>4</th>\n",
       "      <th>5</th>\n",
       "      <th>6</th>\n",
       "      <th>7</th>\n",
       "      <th>8</th>\n",
       "      <th>9</th>\n",
       "      <th>...</th>\n",
       "      <th>6903</th>\n",
       "      <th>6904</th>\n",
       "      <th>6905</th>\n",
       "      <th>6906</th>\n",
       "      <th>6907</th>\n",
       "      <th>6908</th>\n",
       "      <th>6909</th>\n",
       "      <th>6910</th>\n",
       "      <th>6911</th>\n",
       "      <th>0_y</th>\n",
       "    </tr>\n",
       "  </thead>\n",
       "  <tbody>\n",
       "    <tr>\n",
       "      <th>0</th>\n",
       "      <td>0.925490</td>\n",
       "      <td>0.941176</td>\n",
       "      <td>0.952941</td>\n",
       "      <td>0.941176</td>\n",
       "      <td>0.956863</td>\n",
       "      <td>0.968627</td>\n",
       "      <td>0.976471</td>\n",
       "      <td>0.988235</td>\n",
       "      <td>1.000000</td>\n",
       "      <td>0.960784</td>\n",
       "      <td>...</td>\n",
       "      <td>0.105882</td>\n",
       "      <td>0.105882</td>\n",
       "      <td>0.105882</td>\n",
       "      <td>0.105882</td>\n",
       "      <td>0.105882</td>\n",
       "      <td>0.105882</td>\n",
       "      <td>0.098039</td>\n",
       "      <td>0.098039</td>\n",
       "      <td>0.098039</td>\n",
       "      <td>0</td>\n",
       "    </tr>\n",
       "    <tr>\n",
       "      <th>1</th>\n",
       "      <td>0.384314</td>\n",
       "      <td>0.345098</td>\n",
       "      <td>0.317647</td>\n",
       "      <td>0.231373</td>\n",
       "      <td>0.160784</td>\n",
       "      <td>0.133333</td>\n",
       "      <td>0.270588</td>\n",
       "      <td>0.172549</td>\n",
       "      <td>0.152941</td>\n",
       "      <td>0.274510</td>\n",
       "      <td>...</td>\n",
       "      <td>0.349020</td>\n",
       "      <td>0.250980</td>\n",
       "      <td>0.203922</td>\n",
       "      <td>0.349020</td>\n",
       "      <td>0.262745</td>\n",
       "      <td>0.211765</td>\n",
       "      <td>0.341176</td>\n",
       "      <td>0.258824</td>\n",
       "      <td>0.215686</td>\n",
       "      <td>2</td>\n",
       "    </tr>\n",
       "    <tr>\n",
       "      <th>2</th>\n",
       "      <td>0.000000</td>\n",
       "      <td>0.007843</td>\n",
       "      <td>0.003922</td>\n",
       "      <td>0.000000</td>\n",
       "      <td>0.007843</td>\n",
       "      <td>0.003922</td>\n",
       "      <td>0.000000</td>\n",
       "      <td>0.007843</td>\n",
       "      <td>0.003922</td>\n",
       "      <td>0.000000</td>\n",
       "      <td>...</td>\n",
       "      <td>0.239216</td>\n",
       "      <td>0.368627</td>\n",
       "      <td>0.454902</td>\n",
       "      <td>0.219608</td>\n",
       "      <td>0.458824</td>\n",
       "      <td>0.576471</td>\n",
       "      <td>0.211765</td>\n",
       "      <td>0.478431</td>\n",
       "      <td>0.627451</td>\n",
       "      <td>2</td>\n",
       "    </tr>\n",
       "    <tr>\n",
       "      <th>3</th>\n",
       "      <td>0.584314</td>\n",
       "      <td>0.372549</td>\n",
       "      <td>0.415686</td>\n",
       "      <td>0.356863</td>\n",
       "      <td>0.239216</td>\n",
       "      <td>0.470588</td>\n",
       "      <td>0.309804</td>\n",
       "      <td>0.258824</td>\n",
       "      <td>0.549020</td>\n",
       "      <td>0.329412</td>\n",
       "      <td>...</td>\n",
       "      <td>0.811765</td>\n",
       "      <td>0.384314</td>\n",
       "      <td>0.474510</td>\n",
       "      <td>0.811765</td>\n",
       "      <td>0.380392</td>\n",
       "      <td>0.482353</td>\n",
       "      <td>0.807843</td>\n",
       "      <td>0.384314</td>\n",
       "      <td>0.482353</td>\n",
       "      <td>0</td>\n",
       "    </tr>\n",
       "    <tr>\n",
       "      <th>4</th>\n",
       "      <td>0.760784</td>\n",
       "      <td>0.788235</td>\n",
       "      <td>0.890196</td>\n",
       "      <td>0.760784</td>\n",
       "      <td>0.788235</td>\n",
       "      <td>0.890196</td>\n",
       "      <td>0.752941</td>\n",
       "      <td>0.780392</td>\n",
       "      <td>0.882353</td>\n",
       "      <td>0.752941</td>\n",
       "      <td>...</td>\n",
       "      <td>0.623529</td>\n",
       "      <td>0.643137</td>\n",
       "      <td>0.721569</td>\n",
       "      <td>0.639216</td>\n",
       "      <td>0.658824</td>\n",
       "      <td>0.737255</td>\n",
       "      <td>0.643137</td>\n",
       "      <td>0.662745</td>\n",
       "      <td>0.741176</td>\n",
       "      <td>0</td>\n",
       "    </tr>\n",
       "  </tbody>\n",
       "</table>\n",
       "<p>5 rows × 6913 columns</p>\n",
       "</div>"
      ],
      "text/plain": [
       "        0_x         1         2         3         4         5         6  \\\n",
       "0  0.925490  0.941176  0.952941  0.941176  0.956863  0.968627  0.976471   \n",
       "1  0.384314  0.345098  0.317647  0.231373  0.160784  0.133333  0.270588   \n",
       "2  0.000000  0.007843  0.003922  0.000000  0.007843  0.003922  0.000000   \n",
       "3  0.584314  0.372549  0.415686  0.356863  0.239216  0.470588  0.309804   \n",
       "4  0.760784  0.788235  0.890196  0.760784  0.788235  0.890196  0.752941   \n",
       "\n",
       "          7         8         9  ...      6903      6904      6905      6906  \\\n",
       "0  0.988235  1.000000  0.960784  ...  0.105882  0.105882  0.105882  0.105882   \n",
       "1  0.172549  0.152941  0.274510  ...  0.349020  0.250980  0.203922  0.349020   \n",
       "2  0.007843  0.003922  0.000000  ...  0.239216  0.368627  0.454902  0.219608   \n",
       "3  0.258824  0.549020  0.329412  ...  0.811765  0.384314  0.474510  0.811765   \n",
       "4  0.780392  0.882353  0.752941  ...  0.623529  0.643137  0.721569  0.639216   \n",
       "\n",
       "       6907      6908      6909      6910      6911  0_y  \n",
       "0  0.105882  0.105882  0.098039  0.098039  0.098039    0  \n",
       "1  0.262745  0.211765  0.341176  0.258824  0.215686    2  \n",
       "2  0.458824  0.576471  0.211765  0.478431  0.627451    2  \n",
       "3  0.380392  0.482353  0.807843  0.384314  0.482353    0  \n",
       "4  0.658824  0.737255  0.643137  0.662745  0.741176    0  \n",
       "\n",
       "[5 rows x 6913 columns]"
      ]
     },
     "execution_count": 29,
     "metadata": {},
     "output_type": "execute_result"
    }
   ],
   "source": [
    "Val_wholedata = tain3df.merge(tain4df, left_index=True, right_index=True)\n",
    "Val_wholedata.head() # merging validation lables and images into a single dataframe"
   ]
  },
  {
   "cell_type": "markdown",
   "metadata": {},
   "source": [
    "### Since SVM is costly (in terms of time consuming) to perform calculations on a large dataset like this. so, what I had done is made a datframe from the given data and selected a subsample (of size 19991 for training and 2008 for validation) randomly such that there will be less bias (but however there is bias in terms of propotion of data that is available for training and validating)."
   ]
  },
  {
   "cell_type": "raw",
   "metadata": {},
   "source": [
    "Step-5: Selecting a subsampple from the whole data frame for both training and testing by limiting the bias in doing so"
   ]
  },
  {
   "cell_type": "code",
   "execution_count": 31,
   "metadata": {},
   "outputs": [],
   "source": [
    "Train_sub_sample = train_wholedata.sample(frac=0.203) # selecting 20 percent of the data"
   ]
  },
  {
   "cell_type": "code",
   "execution_count": 32,
   "metadata": {},
   "outputs": [
    {
     "data": {
      "text/html": [
       "<div>\n",
       "<style scoped>\n",
       "    .dataframe tbody tr th:only-of-type {\n",
       "        vertical-align: middle;\n",
       "    }\n",
       "\n",
       "    .dataframe tbody tr th {\n",
       "        vertical-align: top;\n",
       "    }\n",
       "\n",
       "    .dataframe thead th {\n",
       "        text-align: right;\n",
       "    }\n",
       "</style>\n",
       "<table border=\"1\" class=\"dataframe\">\n",
       "  <thead>\n",
       "    <tr style=\"text-align: right;\">\n",
       "      <th></th>\n",
       "      <th>0_x</th>\n",
       "      <th>1</th>\n",
       "      <th>2</th>\n",
       "      <th>3</th>\n",
       "      <th>4</th>\n",
       "      <th>5</th>\n",
       "      <th>6</th>\n",
       "      <th>7</th>\n",
       "      <th>8</th>\n",
       "      <th>9</th>\n",
       "      <th>...</th>\n",
       "      <th>6903</th>\n",
       "      <th>6904</th>\n",
       "      <th>6905</th>\n",
       "      <th>6906</th>\n",
       "      <th>6907</th>\n",
       "      <th>6908</th>\n",
       "      <th>6909</th>\n",
       "      <th>6910</th>\n",
       "      <th>6911</th>\n",
       "      <th>0_y</th>\n",
       "    </tr>\n",
       "  </thead>\n",
       "  <tbody>\n",
       "    <tr>\n",
       "      <th>35088</th>\n",
       "      <td>0.639216</td>\n",
       "      <td>0.764706</td>\n",
       "      <td>0.815686</td>\n",
       "      <td>0.647059</td>\n",
       "      <td>0.772549</td>\n",
       "      <td>0.823529</td>\n",
       "      <td>0.647059</td>\n",
       "      <td>0.772549</td>\n",
       "      <td>0.823529</td>\n",
       "      <td>0.647059</td>\n",
       "      <td>...</td>\n",
       "      <td>0.435294</td>\n",
       "      <td>0.509804</td>\n",
       "      <td>0.537255</td>\n",
       "      <td>0.431373</td>\n",
       "      <td>0.494118</td>\n",
       "      <td>0.533333</td>\n",
       "      <td>0.380392</td>\n",
       "      <td>0.431373</td>\n",
       "      <td>0.474510</td>\n",
       "      <td>2</td>\n",
       "    </tr>\n",
       "    <tr>\n",
       "      <th>197</th>\n",
       "      <td>0.552941</td>\n",
       "      <td>0.537255</td>\n",
       "      <td>0.290196</td>\n",
       "      <td>0.552941</td>\n",
       "      <td>0.537255</td>\n",
       "      <td>0.286275</td>\n",
       "      <td>0.545098</td>\n",
       "      <td>0.533333</td>\n",
       "      <td>0.274510</td>\n",
       "      <td>0.541176</td>\n",
       "      <td>...</td>\n",
       "      <td>0.227451</td>\n",
       "      <td>0.227451</td>\n",
       "      <td>0.227451</td>\n",
       "      <td>0.231373</td>\n",
       "      <td>0.231373</td>\n",
       "      <td>0.231373</td>\n",
       "      <td>0.227451</td>\n",
       "      <td>0.227451</td>\n",
       "      <td>0.227451</td>\n",
       "      <td>3</td>\n",
       "    </tr>\n",
       "    <tr>\n",
       "      <th>54028</th>\n",
       "      <td>0.000000</td>\n",
       "      <td>0.000000</td>\n",
       "      <td>0.000000</td>\n",
       "      <td>0.000000</td>\n",
       "      <td>0.000000</td>\n",
       "      <td>0.000000</td>\n",
       "      <td>0.000000</td>\n",
       "      <td>0.000000</td>\n",
       "      <td>0.000000</td>\n",
       "      <td>0.000000</td>\n",
       "      <td>...</td>\n",
       "      <td>0.898039</td>\n",
       "      <td>0.674510</td>\n",
       "      <td>0.525490</td>\n",
       "      <td>0.901961</td>\n",
       "      <td>0.678431</td>\n",
       "      <td>0.525490</td>\n",
       "      <td>0.898039</td>\n",
       "      <td>0.674510</td>\n",
       "      <td>0.521569</td>\n",
       "      <td>2</td>\n",
       "    </tr>\n",
       "    <tr>\n",
       "      <th>74301</th>\n",
       "      <td>0.007843</td>\n",
       "      <td>0.007843</td>\n",
       "      <td>0.007843</td>\n",
       "      <td>0.007843</td>\n",
       "      <td>0.007843</td>\n",
       "      <td>0.007843</td>\n",
       "      <td>0.007843</td>\n",
       "      <td>0.007843</td>\n",
       "      <td>0.007843</td>\n",
       "      <td>0.007843</td>\n",
       "      <td>...</td>\n",
       "      <td>0.243137</td>\n",
       "      <td>0.239216</td>\n",
       "      <td>0.231373</td>\n",
       "      <td>0.149020</td>\n",
       "      <td>0.145098</td>\n",
       "      <td>0.137255</td>\n",
       "      <td>0.164706</td>\n",
       "      <td>0.160784</td>\n",
       "      <td>0.152941</td>\n",
       "      <td>0</td>\n",
       "    </tr>\n",
       "    <tr>\n",
       "      <th>79617</th>\n",
       "      <td>0.486275</td>\n",
       "      <td>0.486275</td>\n",
       "      <td>0.486275</td>\n",
       "      <td>0.490196</td>\n",
       "      <td>0.490196</td>\n",
       "      <td>0.490196</td>\n",
       "      <td>0.486275</td>\n",
       "      <td>0.486275</td>\n",
       "      <td>0.486275</td>\n",
       "      <td>0.466667</td>\n",
       "      <td>...</td>\n",
       "      <td>0.188235</td>\n",
       "      <td>0.188235</td>\n",
       "      <td>0.180392</td>\n",
       "      <td>0.172549</td>\n",
       "      <td>0.172549</td>\n",
       "      <td>0.164706</td>\n",
       "      <td>0.168627</td>\n",
       "      <td>0.168627</td>\n",
       "      <td>0.160784</td>\n",
       "      <td>0</td>\n",
       "    </tr>\n",
       "  </tbody>\n",
       "</table>\n",
       "<p>5 rows × 6913 columns</p>\n",
       "</div>"
      ],
      "text/plain": [
       "            0_x         1         2         3         4         5         6  \\\n",
       "35088  0.639216  0.764706  0.815686  0.647059  0.772549  0.823529  0.647059   \n",
       "197    0.552941  0.537255  0.290196  0.552941  0.537255  0.286275  0.545098   \n",
       "54028  0.000000  0.000000  0.000000  0.000000  0.000000  0.000000  0.000000   \n",
       "74301  0.007843  0.007843  0.007843  0.007843  0.007843  0.007843  0.007843   \n",
       "79617  0.486275  0.486275  0.486275  0.490196  0.490196  0.490196  0.486275   \n",
       "\n",
       "              7         8         9  ...      6903      6904      6905  \\\n",
       "35088  0.772549  0.823529  0.647059  ...  0.435294  0.509804  0.537255   \n",
       "197    0.533333  0.274510  0.541176  ...  0.227451  0.227451  0.227451   \n",
       "54028  0.000000  0.000000  0.000000  ...  0.898039  0.674510  0.525490   \n",
       "74301  0.007843  0.007843  0.007843  ...  0.243137  0.239216  0.231373   \n",
       "79617  0.486275  0.486275  0.466667  ...  0.188235  0.188235  0.180392   \n",
       "\n",
       "           6906      6907      6908      6909      6910      6911  0_y  \n",
       "35088  0.431373  0.494118  0.533333  0.380392  0.431373  0.474510    2  \n",
       "197    0.231373  0.231373  0.231373  0.227451  0.227451  0.227451    3  \n",
       "54028  0.901961  0.678431  0.525490  0.898039  0.674510  0.521569    2  \n",
       "74301  0.149020  0.145098  0.137255  0.164706  0.160784  0.152941    0  \n",
       "79617  0.172549  0.172549  0.164706  0.168627  0.168627  0.160784    0  \n",
       "\n",
       "[5 rows x 6913 columns]"
      ]
     },
     "execution_count": 32,
     "metadata": {},
     "output_type": "execute_result"
    }
   ],
   "source": [
    "Train_sub_sample.head()"
   ]
  },
  {
   "cell_type": "code",
   "execution_count": 36,
   "metadata": {},
   "outputs": [
    {
     "data": {
      "text/plain": [
       "(19991, 6913)"
      ]
     },
     "execution_count": 36,
     "metadata": {},
     "output_type": "execute_result"
    }
   ],
   "source": [
    "Train_sub_sample.shape"
   ]
  },
  {
   "cell_type": "code",
   "execution_count": 33,
   "metadata": {},
   "outputs": [],
   "source": [
    "Val_sub_sample = Val_wholedata.sample(frac=0.171) # selecting 17% of the data as validation sample"
   ]
  },
  {
   "cell_type": "code",
   "execution_count": 34,
   "metadata": {},
   "outputs": [
    {
     "data": {
      "text/html": [
       "<div>\n",
       "<style scoped>\n",
       "    .dataframe tbody tr th:only-of-type {\n",
       "        vertical-align: middle;\n",
       "    }\n",
       "\n",
       "    .dataframe tbody tr th {\n",
       "        vertical-align: top;\n",
       "    }\n",
       "\n",
       "    .dataframe thead th {\n",
       "        text-align: right;\n",
       "    }\n",
       "</style>\n",
       "<table border=\"1\" class=\"dataframe\">\n",
       "  <thead>\n",
       "    <tr style=\"text-align: right;\">\n",
       "      <th></th>\n",
       "      <th>0_x</th>\n",
       "      <th>1</th>\n",
       "      <th>2</th>\n",
       "      <th>3</th>\n",
       "      <th>4</th>\n",
       "      <th>5</th>\n",
       "      <th>6</th>\n",
       "      <th>7</th>\n",
       "      <th>8</th>\n",
       "      <th>9</th>\n",
       "      <th>...</th>\n",
       "      <th>6903</th>\n",
       "      <th>6904</th>\n",
       "      <th>6905</th>\n",
       "      <th>6906</th>\n",
       "      <th>6907</th>\n",
       "      <th>6908</th>\n",
       "      <th>6909</th>\n",
       "      <th>6910</th>\n",
       "      <th>6911</th>\n",
       "      <th>0_y</th>\n",
       "    </tr>\n",
       "  </thead>\n",
       "  <tbody>\n",
       "    <tr>\n",
       "      <th>6494</th>\n",
       "      <td>0.152941</td>\n",
       "      <td>0.152941</td>\n",
       "      <td>0.121569</td>\n",
       "      <td>0.152941</td>\n",
       "      <td>0.152941</td>\n",
       "      <td>0.121569</td>\n",
       "      <td>0.152941</td>\n",
       "      <td>0.152941</td>\n",
       "      <td>0.121569</td>\n",
       "      <td>0.160784</td>\n",
       "      <td>...</td>\n",
       "      <td>0.160784</td>\n",
       "      <td>0.176471</td>\n",
       "      <td>0.188235</td>\n",
       "      <td>0.152941</td>\n",
       "      <td>0.164706</td>\n",
       "      <td>0.176471</td>\n",
       "      <td>0.156863</td>\n",
       "      <td>0.172549</td>\n",
       "      <td>0.180392</td>\n",
       "      <td>3</td>\n",
       "    </tr>\n",
       "    <tr>\n",
       "      <th>5653</th>\n",
       "      <td>0.427451</td>\n",
       "      <td>0.427451</td>\n",
       "      <td>0.427451</td>\n",
       "      <td>0.427451</td>\n",
       "      <td>0.427451</td>\n",
       "      <td>0.427451</td>\n",
       "      <td>0.427451</td>\n",
       "      <td>0.427451</td>\n",
       "      <td>0.427451</td>\n",
       "      <td>0.427451</td>\n",
       "      <td>...</td>\n",
       "      <td>0.752941</td>\n",
       "      <td>0.027451</td>\n",
       "      <td>0.074510</td>\n",
       "      <td>0.662745</td>\n",
       "      <td>0.011765</td>\n",
       "      <td>0.031373</td>\n",
       "      <td>0.603922</td>\n",
       "      <td>0.047059</td>\n",
       "      <td>0.098039</td>\n",
       "      <td>0</td>\n",
       "    </tr>\n",
       "    <tr>\n",
       "      <th>716</th>\n",
       "      <td>0.015686</td>\n",
       "      <td>0.035294</td>\n",
       "      <td>0.019608</td>\n",
       "      <td>0.015686</td>\n",
       "      <td>0.035294</td>\n",
       "      <td>0.019608</td>\n",
       "      <td>0.011765</td>\n",
       "      <td>0.031373</td>\n",
       "      <td>0.015686</td>\n",
       "      <td>0.015686</td>\n",
       "      <td>...</td>\n",
       "      <td>0.615686</td>\n",
       "      <td>0.631373</td>\n",
       "      <td>0.635294</td>\n",
       "      <td>0.584314</td>\n",
       "      <td>0.600000</td>\n",
       "      <td>0.603922</td>\n",
       "      <td>0.639216</td>\n",
       "      <td>0.654902</td>\n",
       "      <td>0.654902</td>\n",
       "      <td>0</td>\n",
       "    </tr>\n",
       "    <tr>\n",
       "      <th>5215</th>\n",
       "      <td>0.019608</td>\n",
       "      <td>0.054902</td>\n",
       "      <td>0.011765</td>\n",
       "      <td>0.011765</td>\n",
       "      <td>0.035294</td>\n",
       "      <td>0.023529</td>\n",
       "      <td>0.019608</td>\n",
       "      <td>0.027451</td>\n",
       "      <td>0.035294</td>\n",
       "      <td>0.015686</td>\n",
       "      <td>...</td>\n",
       "      <td>0.921569</td>\n",
       "      <td>0.823529</td>\n",
       "      <td>0.776471</td>\n",
       "      <td>0.949020</td>\n",
       "      <td>0.866667</td>\n",
       "      <td>0.815686</td>\n",
       "      <td>0.996078</td>\n",
       "      <td>0.917647</td>\n",
       "      <td>0.874510</td>\n",
       "      <td>2</td>\n",
       "    </tr>\n",
       "    <tr>\n",
       "      <th>10916</th>\n",
       "      <td>0.839216</td>\n",
       "      <td>0.819608</td>\n",
       "      <td>0.807843</td>\n",
       "      <td>0.839216</td>\n",
       "      <td>0.823529</td>\n",
       "      <td>0.811765</td>\n",
       "      <td>0.850980</td>\n",
       "      <td>0.850980</td>\n",
       "      <td>0.831373</td>\n",
       "      <td>0.858824</td>\n",
       "      <td>...</td>\n",
       "      <td>0.101961</td>\n",
       "      <td>0.062745</td>\n",
       "      <td>0.054902</td>\n",
       "      <td>0.105882</td>\n",
       "      <td>0.066667</td>\n",
       "      <td>0.058824</td>\n",
       "      <td>0.121569</td>\n",
       "      <td>0.082353</td>\n",
       "      <td>0.066667</td>\n",
       "      <td>0</td>\n",
       "    </tr>\n",
       "  </tbody>\n",
       "</table>\n",
       "<p>5 rows × 6913 columns</p>\n",
       "</div>"
      ],
      "text/plain": [
       "            0_x         1         2         3         4         5         6  \\\n",
       "6494   0.152941  0.152941  0.121569  0.152941  0.152941  0.121569  0.152941   \n",
       "5653   0.427451  0.427451  0.427451  0.427451  0.427451  0.427451  0.427451   \n",
       "716    0.015686  0.035294  0.019608  0.015686  0.035294  0.019608  0.011765   \n",
       "5215   0.019608  0.054902  0.011765  0.011765  0.035294  0.023529  0.019608   \n",
       "10916  0.839216  0.819608  0.807843  0.839216  0.823529  0.811765  0.850980   \n",
       "\n",
       "              7         8         9  ...      6903      6904      6905  \\\n",
       "6494   0.152941  0.121569  0.160784  ...  0.160784  0.176471  0.188235   \n",
       "5653   0.427451  0.427451  0.427451  ...  0.752941  0.027451  0.074510   \n",
       "716    0.031373  0.015686  0.015686  ...  0.615686  0.631373  0.635294   \n",
       "5215   0.027451  0.035294  0.015686  ...  0.921569  0.823529  0.776471   \n",
       "10916  0.850980  0.831373  0.858824  ...  0.101961  0.062745  0.054902   \n",
       "\n",
       "           6906      6907      6908      6909      6910      6911  0_y  \n",
       "6494   0.152941  0.164706  0.176471  0.156863  0.172549  0.180392    3  \n",
       "5653   0.662745  0.011765  0.031373  0.603922  0.047059  0.098039    0  \n",
       "716    0.584314  0.600000  0.603922  0.639216  0.654902  0.654902    0  \n",
       "5215   0.949020  0.866667  0.815686  0.996078  0.917647  0.874510    2  \n",
       "10916  0.105882  0.066667  0.058824  0.121569  0.082353  0.066667    0  \n",
       "\n",
       "[5 rows x 6913 columns]"
      ]
     },
     "execution_count": 34,
     "metadata": {},
     "output_type": "execute_result"
    }
   ],
   "source": [
    "Val_sub_sample.head()"
   ]
  },
  {
   "cell_type": "raw",
   "metadata": {},
   "source": [
    "Step-6: Preparing the data ready for a Model to fit on the data."
   ]
  },
  {
   "cell_type": "code",
   "execution_count": 35,
   "metadata": {},
   "outputs": [
    {
     "name": "stdout",
     "output_type": "stream",
     "text": [
      "(19991, 6912)\n",
      "(19991,)\n"
     ]
    }
   ],
   "source": [
    "# Train Sub sample \n",
    "Train_Sub_x = Train_sub_sample.drop(['0_y'], axis =1)\n",
    "Train_Sub_y = Train_sub_sample['0_y']\n",
    "print(Train_Sub_x.shape)\n",
    "print(Train_Sub_y.shape)"
   ]
  },
  {
   "cell_type": "code",
   "execution_count": 37,
   "metadata": {},
   "outputs": [
    {
     "name": "stdout",
     "output_type": "stream",
     "text": [
      "(2098, 6912)\n",
      "(2098,)\n"
     ]
    }
   ],
   "source": [
    "# validation sub sample\n",
    "Val_Sub_x = Val_sub_sample.drop(['0_y'], axis =1)\n",
    "Val_Sub_y = Val_sub_sample['0_y']\n",
    "print(Val_Sub_x.shape)\n",
    "print(Val_Sub_y.shape)"
   ]
  },
  {
   "cell_type": "markdown",
   "metadata": {},
   "source": [
    "### Model Fitting: \n",
    "We now fit the model using the training subsample data and validate the model using the validation subsample data."
   ]
  },
  {
   "cell_type": "raw",
   "metadata": {},
   "source": [
    "Step-6: Importing Support vector machine classifier and the accuracy score matrices to fit the model with default parametes"
   ]
  },
  {
   "cell_type": "code",
   "execution_count": 38,
   "metadata": {},
   "outputs": [],
   "source": [
    "from sklearn.svm import SVC\n",
    "model = SVC(gamma='auto')\n",
    "model = model.fit(Train_Sub_x, Train_Sub_y)\n",
    "# 30 min"
   ]
  },
  {
   "cell_type": "code",
   "execution_count": 39,
   "metadata": {},
   "outputs": [
    {
     "name": "stdout",
     "output_type": "stream",
     "text": [
      "Accuracy score for Train is: 0.7804512030413686\n",
      "Accuracy score for validation is: 0.7569113441372736\n"
     ]
    }
   ],
   "source": [
    "from sklearn.metrics import accuracy_score\n",
    "Train_pred = model.predict(Train_Sub_x)\n",
    "print(\"Accuracy score for Train is:\",accuracy_score(Train_Sub_y, Train_pred))\n",
    "Val_pred = model.predict(Val_Sub_x)\n",
    "print(\"Accuracy score for validation is:\",accuracy_score(Val_Sub_y, Val_pred))"
   ]
  },
  {
   "cell_type": "markdown",
   "metadata": {},
   "source": [
    "### Result Interpretation for SVM with Default Parameters:\n",
    "1. we can see that the accuracy scores of traing and validation data is looking good and are quite matching to the Random forest model score with best parameters even with training happened on a data set with 20000.\n",
    "2. As the model seems promising we now try to change the Parametrs and find the model with optimal parameters for predicting. "
   ]
  },
  {
   "cell_type": "markdown",
   "metadata": {},
   "source": [
    "#### Parameter Tuninng for Random Forest:\n",
    "SVM does allows a wide range of parameters to tune, but I will be looking at C, Gamma  "
   ]
  },
  {
   "cell_type": "markdown",
   "metadata": {},
   "source": [
    "Step-7: C and Gamma Parameter Tuning "
   ]
  },
  {
   "cell_type": "code",
   "execution_count": 40,
   "metadata": {},
   "outputs": [
    {
     "name": "stdout",
     "output_type": "stream",
     "text": [
      "Accuracy score with 10 for C for validation is: 0.8126787416587226\n",
      "Accuracy score with 10 for c for train is: 0.8624380971437147\n",
      "Accuracy score with 25 for C for validation is: 0.8260247855100096\n",
      "Accuracy score with 25 for c for train is: 0.8922014906708019\n",
      "Accuracy score with 50 for C for validation is: 0.8255481410867492\n",
      "Accuracy score with 50 for c for train is: 0.9161622730228602\n",
      "Accuracy score with 75 for C for validation is: 0.8236415633937083\n",
      "Accuracy score with 75 for c for train is: 0.9345705567505378\n"
     ]
    },
    {
     "ename": "KeyboardInterrupt",
     "evalue": "",
     "output_type": "error",
     "traceback": [
      "\u001b[1;31m---------------------------------------------------------------------------\u001b[0m",
      "\u001b[1;31mKeyboardInterrupt\u001b[0m                         Traceback (most recent call last)",
      "\u001b[1;32m<ipython-input-40-58252e5ca337>\u001b[0m in \u001b[0;36m<module>\u001b[1;34m\u001b[0m\n\u001b[0;32m      4\u001b[0m \u001b[1;32mfor\u001b[0m \u001b[0me\u001b[0m \u001b[1;32min\u001b[0m \u001b[0mc\u001b[0m\u001b[1;33m:\u001b[0m\u001b[1;33m\u001b[0m\u001b[1;33m\u001b[0m\u001b[0m\n\u001b[0;32m      5\u001b[0m     \u001b[0mmodel\u001b[0m \u001b[1;33m=\u001b[0m \u001b[0mSVC\u001b[0m\u001b[1;33m(\u001b[0m\u001b[0mC\u001b[0m\u001b[1;33m=\u001b[0m\u001b[0me\u001b[0m\u001b[1;33m,\u001b[0m \u001b[0mgamma\u001b[0m\u001b[1;33m=\u001b[0m\u001b[1;34m'auto'\u001b[0m\u001b[1;33m,\u001b[0m \u001b[0mrandom_state\u001b[0m \u001b[1;33m=\u001b[0m \u001b[1;36m26\u001b[0m\u001b[1;33m)\u001b[0m\u001b[1;33m\u001b[0m\u001b[1;33m\u001b[0m\u001b[0m\n\u001b[1;32m----> 6\u001b[1;33m     \u001b[0mmodel\u001b[0m \u001b[1;33m=\u001b[0m \u001b[0mmodel\u001b[0m\u001b[1;33m.\u001b[0m\u001b[0mfit\u001b[0m\u001b[1;33m(\u001b[0m\u001b[0mTrain_Sub_x\u001b[0m\u001b[1;33m,\u001b[0m \u001b[0mTrain_Sub_y\u001b[0m\u001b[1;33m)\u001b[0m\u001b[1;33m\u001b[0m\u001b[1;33m\u001b[0m\u001b[0m\n\u001b[0m\u001b[0;32m      7\u001b[0m     \u001b[0mVal_pred\u001b[0m \u001b[1;33m=\u001b[0m \u001b[0mmodel\u001b[0m\u001b[1;33m.\u001b[0m\u001b[0mpredict\u001b[0m\u001b[1;33m(\u001b[0m\u001b[0mVal_Sub_x\u001b[0m\u001b[1;33m)\u001b[0m\u001b[1;33m\u001b[0m\u001b[1;33m\u001b[0m\u001b[0m\n\u001b[0;32m      8\u001b[0m     \u001b[0mVal_Score\u001b[0m \u001b[1;33m=\u001b[0m \u001b[0maccuracy_score\u001b[0m\u001b[1;33m(\u001b[0m\u001b[0mVal_Sub_y\u001b[0m\u001b[1;33m,\u001b[0m \u001b[0mVal_pred\u001b[0m\u001b[1;33m)\u001b[0m\u001b[1;33m\u001b[0m\u001b[1;33m\u001b[0m\u001b[0m\n",
      "\u001b[1;32mC:\\ProgramData\\Anaconda3\\lib\\site-packages\\sklearn\\svm\\_base.py\u001b[0m in \u001b[0;36mfit\u001b[1;34m(self, X, y, sample_weight)\u001b[0m\n\u001b[0;32m    197\u001b[0m \u001b[1;33m\u001b[0m\u001b[0m\n\u001b[0;32m    198\u001b[0m         \u001b[0mseed\u001b[0m \u001b[1;33m=\u001b[0m \u001b[0mrnd\u001b[0m\u001b[1;33m.\u001b[0m\u001b[0mrandint\u001b[0m\u001b[1;33m(\u001b[0m\u001b[0mnp\u001b[0m\u001b[1;33m.\u001b[0m\u001b[0miinfo\u001b[0m\u001b[1;33m(\u001b[0m\u001b[1;34m'i'\u001b[0m\u001b[1;33m)\u001b[0m\u001b[1;33m.\u001b[0m\u001b[0mmax\u001b[0m\u001b[1;33m)\u001b[0m\u001b[1;33m\u001b[0m\u001b[1;33m\u001b[0m\u001b[0m\n\u001b[1;32m--> 199\u001b[1;33m         \u001b[0mfit\u001b[0m\u001b[1;33m(\u001b[0m\u001b[0mX\u001b[0m\u001b[1;33m,\u001b[0m \u001b[0my\u001b[0m\u001b[1;33m,\u001b[0m \u001b[0msample_weight\u001b[0m\u001b[1;33m,\u001b[0m \u001b[0msolver_type\u001b[0m\u001b[1;33m,\u001b[0m \u001b[0mkernel\u001b[0m\u001b[1;33m,\u001b[0m \u001b[0mrandom_seed\u001b[0m\u001b[1;33m=\u001b[0m\u001b[0mseed\u001b[0m\u001b[1;33m)\u001b[0m\u001b[1;33m\u001b[0m\u001b[1;33m\u001b[0m\u001b[0m\n\u001b[0m\u001b[0;32m    200\u001b[0m         \u001b[1;31m# see comment on the other call to np.iinfo in this file\u001b[0m\u001b[1;33m\u001b[0m\u001b[1;33m\u001b[0m\u001b[1;33m\u001b[0m\u001b[0m\n\u001b[0;32m    201\u001b[0m \u001b[1;33m\u001b[0m\u001b[0m\n",
      "\u001b[1;32mC:\\ProgramData\\Anaconda3\\lib\\site-packages\\sklearn\\svm\\_base.py\u001b[0m in \u001b[0;36m_dense_fit\u001b[1;34m(self, X, y, sample_weight, solver_type, kernel, random_seed)\u001b[0m\n\u001b[0;32m    256\u001b[0m                 \u001b[0mcache_size\u001b[0m\u001b[1;33m=\u001b[0m\u001b[0mself\u001b[0m\u001b[1;33m.\u001b[0m\u001b[0mcache_size\u001b[0m\u001b[1;33m,\u001b[0m \u001b[0mcoef0\u001b[0m\u001b[1;33m=\u001b[0m\u001b[0mself\u001b[0m\u001b[1;33m.\u001b[0m\u001b[0mcoef0\u001b[0m\u001b[1;33m,\u001b[0m\u001b[1;33m\u001b[0m\u001b[1;33m\u001b[0m\u001b[0m\n\u001b[0;32m    257\u001b[0m                 \u001b[0mgamma\u001b[0m\u001b[1;33m=\u001b[0m\u001b[0mself\u001b[0m\u001b[1;33m.\u001b[0m\u001b[0m_gamma\u001b[0m\u001b[1;33m,\u001b[0m \u001b[0mepsilon\u001b[0m\u001b[1;33m=\u001b[0m\u001b[0mself\u001b[0m\u001b[1;33m.\u001b[0m\u001b[0mepsilon\u001b[0m\u001b[1;33m,\u001b[0m\u001b[1;33m\u001b[0m\u001b[1;33m\u001b[0m\u001b[0m\n\u001b[1;32m--> 258\u001b[1;33m                 max_iter=self.max_iter, random_seed=random_seed)\n\u001b[0m\u001b[0;32m    259\u001b[0m \u001b[1;33m\u001b[0m\u001b[0m\n\u001b[0;32m    260\u001b[0m         \u001b[0mself\u001b[0m\u001b[1;33m.\u001b[0m\u001b[0m_warn_from_fit_status\u001b[0m\u001b[1;33m(\u001b[0m\u001b[1;33m)\u001b[0m\u001b[1;33m\u001b[0m\u001b[1;33m\u001b[0m\u001b[0m\n",
      "\u001b[1;31mKeyboardInterrupt\u001b[0m: "
     ]
    }
   ],
   "source": [
    "# fitting the model for several C values\n",
    "c = [10,25,50,75,100, 123]\n",
    "Train_Acc_Score = []\n",
    "Valid_Acc_Score = []\n",
    "for e in c:\n",
    "    model = SVC(C=e, gamma='auto', random_state = 26)\n",
    "    model = model.fit(Train_Sub_x, Train_Sub_y)\n",
    "    Val_pred = model.predict(Val_Sub_x)\n",
    "    Val_Score = accuracy_score(Val_Sub_y, Val_pred)\n",
    "    Valid_Acc_Score.append(Val_Score)\n",
    "    print(\"Accuracy score with \"+str(e)+\" for C for validation is:\",Val_Score)\n",
    "    Train_pred = model.predict(Train_Sub_x)\n",
    "    Train_Score = accuracy_score(Train_Sub_y, Train_pred)\n",
    "    Train_Acc_Score.append(Train_Score)\n",
    "    print(\"Accuracy score with \"+str(e)+\" for c for train is:\",Train_Score)"
   ]
  },
  {
   "cell_type": "code",
   "execution_count": 41,
   "metadata": {},
   "outputs": [
    {
     "name": "stdout",
     "output_type": "stream",
     "text": [
      "[0.8624380971437147, 0.8922014906708019, 0.9161622730228602, 0.9345705567505378]\n",
      "[0.8126787416587226, 0.8260247855100096, 0.8255481410867492, 0.8236415633937083]\n"
     ]
    }
   ],
   "source": [
    "print(Train_Acc_Score)\n",
    "print(Valid_Acc_Score)"
   ]
  },
  {
   "cell_type": "code",
   "execution_count": 44,
   "metadata": {},
   "outputs": [
    {
     "data": {
      "text/plain": [
       "<matplotlib.legend.Legend at 0x26a782f1108>"
      ]
     },
     "execution_count": 44,
     "metadata": {},
     "output_type": "execute_result"
    },
    {
     "data": {
      "image/png": "[encoded data removed]",
      "text/plain": [
       "<Figure size 1080x432 with 1 Axes>"
      ]
     },
     "metadata": {
      "needs_background": "light"
     },
     "output_type": "display_data"
    }
   ],
   "source": [
    "c = [10,25,50,75]\n",
    "plt.figure(figsize=(15,6))\n",
    "plt.plot(c, Train_Acc_Score,label = \"Train\", color='g')\n",
    "plt.plot(c, Valid_Acc_Score, label = \"Test\", color='r')\n",
    "plt.ylabel(\"Accuracy\")\n",
    "plt.xlabel(\"C\")\n",
    "plt.title(\"Accuracy vs C\")\n",
    "plt.legend()"
   ]
  },
  {
   "cell_type": "markdown",
   "metadata": {},
   "source": [
    "#### Accuraacy Score interpretation:\n",
    "As the SVM is very time consuming paramter tuning is taking too much time so, I did considered the accuracy score up untill C = 75 plus we can even see that there is no increase in validation accuracy score after C = 25 and the difference between the accuracy test score and validation score is increasing (which will eventualaly leads to overfitting). So from this Parameter tuning we consider to go further with C = 25.\n",
    "\n",
    "#### Best Model:\n",
    "So, we use C = 25 and Gamma = auto for fiiting the final model."
   ]
  },
  {
   "cell_type": "raw",
   "metadata": {},
   "source": [
    "Step-8: Loading the test DataSet, exploring the data and repeat all the steps performed for training_images data"
   ]
  },
  {
   "cell_type": "code",
   "execution_count": 47,
   "metadata": {},
   "outputs": [],
   "source": [
    "# reading the test data files\n",
    "images_test_public = np.load(join(dataset_directory, 'test_public_images.npy'))\n",
    "files_test_public = np.load(join(dataset_directory, 'test_public_files.npy'))\n",
    "images_test_public_rs = images_test_public.reshape([-1, image_size, image_size, 3]) / 255.0"
   ]
  },
  {
   "cell_type": "code",
   "execution_count": 48,
   "metadata": {},
   "outputs": [
    {
     "data": {
      "text/plain": [
       "6912"
      ]
     },
     "execution_count": 48,
     "metadata": {},
     "output_type": "execute_result"
    }
   ],
   "source": [
    "Features3 = images_test_public_rs.shape[1]*images_test_public_rs.shape[2]*images_test_public_rs.shape[3]\n",
    "Features3"
   ]
  },
  {
   "cell_type": "code",
   "execution_count": 49,
   "metadata": {},
   "outputs": [
    {
     "name": "stdout",
     "output_type": "stream",
     "text": [
      "(11921, 6912)\n"
     ]
    }
   ],
   "source": [
    "lst4 = [None] * images_test_public_rs.shape[0] # creating an empty array of size 98479\n",
    "for i in range(images_test_public_rs.shape[0]):\n",
    "    lst4[i] = images_test_public_rs[i].reshape([-1]) # reshaping each picture to 6912 features and storing it in lst1\n",
    "#print(lst)\n",
    "z = np.array(lst4).reshape(images_test_public_rs.shape[0],Features3) # converting the list to an array\n",
    "print(z.shape)"
   ]
  },
  {
   "cell_type": "raw",
   "metadata": {},
   "source": [
    "Step-8: Fitting the model based on subsample and predicting the final Data"
   ]
  },
  {
   "cell_type": "code",
   "execution_count": 53,
   "metadata": {},
   "outputs": [],
   "source": [
    "model = SVC(C=25, gamma='auto', random_state = 26)\n",
    "model = model.fit(Train_Sub_x, Train_Sub_y)\n",
    "Val_pred = model.predict(z)\n"
   ]
  },
  {
   "cell_type": "code",
   "execution_count": 54,
   "metadata": {},
   "outputs": [
    {
     "data": {
      "text/html": [
       "<div>\n",
       "<style scoped>\n",
       "    .dataframe tbody tr th:only-of-type {\n",
       "        vertical-align: middle;\n",
       "    }\n",
       "\n",
       "    .dataframe tbody tr th {\n",
       "        vertical-align: top;\n",
       "    }\n",
       "\n",
       "    .dataframe thead th {\n",
       "        text-align: right;\n",
       "    }\n",
       "</style>\n",
       "<table border=\"1\" class=\"dataframe\">\n",
       "  <thead>\n",
       "    <tr style=\"text-align: right;\">\n",
       "      <th></th>\n",
       "      <th>Prediction</th>\n",
       "    </tr>\n",
       "  </thead>\n",
       "  <tbody>\n",
       "    <tr>\n",
       "      <th>11916</th>\n",
       "      <td>1</td>\n",
       "    </tr>\n",
       "    <tr>\n",
       "      <th>11917</th>\n",
       "      <td>1</td>\n",
       "    </tr>\n",
       "    <tr>\n",
       "      <th>11918</th>\n",
       "      <td>0</td>\n",
       "    </tr>\n",
       "    <tr>\n",
       "      <th>11919</th>\n",
       "      <td>0</td>\n",
       "    </tr>\n",
       "    <tr>\n",
       "      <th>11920</th>\n",
       "      <td>1</td>\n",
       "    </tr>\n",
       "  </tbody>\n",
       "</table>\n",
       "</div>"
      ],
      "text/plain": [
       "       Prediction\n",
       "11916           1\n",
       "11917           1\n",
       "11918           0\n",
       "11919           0\n",
       "11920           1"
      ]
     },
     "execution_count": 54,
     "metadata": {},
     "output_type": "execute_result"
    }
   ],
   "source": [
    "df1 = pd.DataFrame(Val_pred, columns=['Prediction'])\n",
    "df1.tail() # creating a data frame for predicted values"
   ]
  },
  {
   "cell_type": "code",
   "execution_count": 55,
   "metadata": {},
   "outputs": [
    {
     "data": {
      "text/html": [
       "<div>\n",
       "<style scoped>\n",
       "    .dataframe tbody tr th:only-of-type {\n",
       "        vertical-align: middle;\n",
       "    }\n",
       "\n",
       "    .dataframe tbody tr th {\n",
       "        vertical-align: top;\n",
       "    }\n",
       "\n",
       "    .dataframe thead th {\n",
       "        text-align: right;\n",
       "    }\n",
       "</style>\n",
       "<table border=\"1\" class=\"dataframe\">\n",
       "  <thead>\n",
       "    <tr style=\"text-align: right;\">\n",
       "      <th></th>\n",
       "      <th>ID</th>\n",
       "    </tr>\n",
       "  </thead>\n",
       "  <tbody>\n",
       "    <tr>\n",
       "      <th>11916</th>\n",
       "      <td>202595.jpg</td>\n",
       "    </tr>\n",
       "    <tr>\n",
       "      <th>11917</th>\n",
       "      <td>202596.jpg</td>\n",
       "    </tr>\n",
       "    <tr>\n",
       "      <th>11918</th>\n",
       "      <td>202597.jpg</td>\n",
       "    </tr>\n",
       "    <tr>\n",
       "      <th>11919</th>\n",
       "      <td>202598.jpg</td>\n",
       "    </tr>\n",
       "    <tr>\n",
       "      <th>11920</th>\n",
       "      <td>202599.jpg</td>\n",
       "    </tr>\n",
       "  </tbody>\n",
       "</table>\n",
       "</div>"
      ],
      "text/plain": [
       "               ID\n",
       "11916  202595.jpg\n",
       "11917  202596.jpg\n",
       "11918  202597.jpg\n",
       "11919  202598.jpg\n",
       "11920  202599.jpg"
      ]
     },
     "execution_count": 55,
     "metadata": {},
     "output_type": "execute_result"
    }
   ],
   "source": [
    "df2 = pd.DataFrame(files_test_public, columns=['ID'])\n",
    "df2.tail() # creating a data frame for files_val which contains image names"
   ]
  },
  {
   "cell_type": "code",
   "execution_count": 56,
   "metadata": {},
   "outputs": [],
   "source": [
    "# Joining the two data frames through the index\n",
    "Test_Public_pred_Acc_testpurpose_45693242 = df2.merge(df1, left_index=True, right_index=True)"
   ]
  },
  {
   "cell_type": "code",
   "execution_count": 57,
   "metadata": {},
   "outputs": [
    {
     "data": {
      "text/html": [
       "<div>\n",
       "<style scoped>\n",
       "    .dataframe tbody tr th:only-of-type {\n",
       "        vertical-align: middle;\n",
       "    }\n",
       "\n",
       "    .dataframe tbody tr th {\n",
       "        vertical-align: top;\n",
       "    }\n",
       "\n",
       "    .dataframe thead th {\n",
       "        text-align: right;\n",
       "    }\n",
       "</style>\n",
       "<table border=\"1\" class=\"dataframe\">\n",
       "  <thead>\n",
       "    <tr style=\"text-align: right;\">\n",
       "      <th></th>\n",
       "      <th>ID</th>\n",
       "      <th>Prediction</th>\n",
       "    </tr>\n",
       "  </thead>\n",
       "  <tbody>\n",
       "    <tr>\n",
       "      <th>0</th>\n",
       "      <td>182639.jpg</td>\n",
       "      <td>0</td>\n",
       "    </tr>\n",
       "    <tr>\n",
       "      <th>1</th>\n",
       "      <td>182640.jpg</td>\n",
       "      <td>2</td>\n",
       "    </tr>\n",
       "    <tr>\n",
       "      <th>2</th>\n",
       "      <td>182642.jpg</td>\n",
       "      <td>0</td>\n",
       "    </tr>\n",
       "    <tr>\n",
       "      <th>3</th>\n",
       "      <td>182643.jpg</td>\n",
       "      <td>0</td>\n",
       "    </tr>\n",
       "    <tr>\n",
       "      <th>4</th>\n",
       "      <td>182644.jpg</td>\n",
       "      <td>0</td>\n",
       "    </tr>\n",
       "  </tbody>\n",
       "</table>\n",
       "</div>"
      ],
      "text/plain": [
       "           ID  Prediction\n",
       "0  182639.jpg           0\n",
       "1  182640.jpg           2\n",
       "2  182642.jpg           0\n",
       "3  182643.jpg           0\n",
       "4  182644.jpg           0"
      ]
     },
     "execution_count": 57,
     "metadata": {},
     "output_type": "execute_result"
    }
   ],
   "source": [
    "Test_Public_pred_Acc_testpurpose_45693242.head()"
   ]
  },
  {
   "cell_type": "code",
   "execution_count": 58,
   "metadata": {},
   "outputs": [
    {
     "data": {
      "text/html": [
       "<div>\n",
       "<style scoped>\n",
       "    .dataframe tbody tr th:only-of-type {\n",
       "        vertical-align: middle;\n",
       "    }\n",
       "\n",
       "    .dataframe tbody tr th {\n",
       "        vertical-align: top;\n",
       "    }\n",
       "\n",
       "    .dataframe thead th {\n",
       "        text-align: right;\n",
       "    }\n",
       "</style>\n",
       "<table border=\"1\" class=\"dataframe\">\n",
       "  <thead>\n",
       "    <tr style=\"text-align: right;\">\n",
       "      <th></th>\n",
       "      <th>ID</th>\n",
       "      <th>Prediction</th>\n",
       "    </tr>\n",
       "  </thead>\n",
       "  <tbody>\n",
       "    <tr>\n",
       "      <th>11916</th>\n",
       "      <td>202595.jpg</td>\n",
       "      <td>1</td>\n",
       "    </tr>\n",
       "    <tr>\n",
       "      <th>11917</th>\n",
       "      <td>202596.jpg</td>\n",
       "      <td>1</td>\n",
       "    </tr>\n",
       "    <tr>\n",
       "      <th>11918</th>\n",
       "      <td>202597.jpg</td>\n",
       "      <td>0</td>\n",
       "    </tr>\n",
       "    <tr>\n",
       "      <th>11919</th>\n",
       "      <td>202598.jpg</td>\n",
       "      <td>0</td>\n",
       "    </tr>\n",
       "    <tr>\n",
       "      <th>11920</th>\n",
       "      <td>202599.jpg</td>\n",
       "      <td>1</td>\n",
       "    </tr>\n",
       "  </tbody>\n",
       "</table>\n",
       "</div>"
      ],
      "text/plain": [
       "               ID  Prediction\n",
       "11916  202595.jpg           1\n",
       "11917  202596.jpg           1\n",
       "11918  202597.jpg           0\n",
       "11919  202598.jpg           0\n",
       "11920  202599.jpg           1"
      ]
     },
     "execution_count": 58,
     "metadata": {},
     "output_type": "execute_result"
    }
   ],
   "source": [
    "Test_Public_pred_Acc_testpurpose_45693242.tail()"
   ]
  },
  {
   "cell_type": "raw",
   "metadata": {},
   "source": [
    "Step-9: Uploading the data Frame to a CSV File Named \"Svm_ConventionalModel_45693242.csv\""
   ]
  },
  {
   "cell_type": "code",
   "execution_count": 59,
   "metadata": {},
   "outputs": [],
   "source": [
    "Test_Public_pred_Acc_testpurpose_45693242.to_csv (r'C:\\\\Users\\\\suhas\\\\Downloads\\\\ML Practice\\\\Svm_ConventionalModel_45693242.csv', index = False, header=True)"
   ]
  },
  {
   "cell_type": "code",
   "execution_count": null,
   "metadata": {},
   "outputs": [],
   "source": []
  }
 ],
 "metadata": {
  "kernelspec": {
   "display_name": "Python 3",
   "language": "python",
   "name": "python3"
  },
  "language_info": {
   "codemirror_mode": {
    "name": "ipython",
    "version": 3
   },
   "file_extension": ".py",
   "mimetype": "text/x-python",
   "name": "python",
   "nbconvert_exporter": "python",
   "pygments_lexer": "ipython3",
   "version": "3.7.6"
  }
 },
 "nbformat": 4,
 "nbformat_minor": 4
}
