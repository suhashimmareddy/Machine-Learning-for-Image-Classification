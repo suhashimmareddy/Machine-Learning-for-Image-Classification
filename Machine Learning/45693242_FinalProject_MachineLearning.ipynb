{
 "cells": [
  {
   "cell_type": "markdown",
   "metadata": {},
   "source": [
    " <h1><center><font color ='Red'>Machine Learning, Major Project on Image Classification</font></center></h1>"
   ]
  },
  {
   "cell_type": "markdown",
   "metadata": {},
   "source": [
    "<h3> <center> <font color ='Navy'> Name: Suhash Reddy Immareddy </font> </center> </h3>\n",
    "<h3> <center> <font color ='Navy'>Student Id: 45693242 </font> </center> </h3>\n",
    "<h3> <center> <font color ='Navy'>Sub code: Comp8220 </font> </center> </h3>"
   ]
  },
  {
   "cell_type": "markdown",
   "metadata": {},
   "source": [
    "# ---------------------------------------------------------------------------------------------------------------"
   ]
  },
  {
   "cell_type": "markdown",
   "metadata": {},
   "source": [
    "<h4> <font color ='Brown'> About the Dataset: </font> </h4>\n",
    "I will be using CelebA Dataset (which is widely used dataset that contains Celebrity faces) in this entire project to train the conventional Machine Learning Models as well as deep learning models inorder to predict the hair colour (Brown, Black, Blond, Gray) of the celebrity.\n",
    "     \n",
    "<h4> <font color ='Brown'> Project FLow: </font> </h4>\n",
    "This Jupyter Notebook is Divided into 9 Sections as shown below:\n",
    "\n",
    "    1. Best Conventional Machine Learning Model and its Description.\n",
    "    2. Interpreting the Results of Selected model and about the selected Hyper parameters choosen.\n",
    "    3. Additional Conventional Machine Learning Model.\n",
    "    4. Interpreting the Results of Additional model and about the selected Hyper parameters choosen.\n",
    "    5. Best Deep Learning Model and Additional Deep Learning as well allong with model Description.\n",
    "    6. Interpreting the Results For Both Selected Deep Learning and Additional Deep learning model and about the selected Hyper parameters choosen.   \n",
    "    7. Comparing the Performance of Best Model From CNN with Best Model From Conventional.\n",
    "    \n",
    "<h4> <font color ='Brown'> Models Used: </font> </h4>\n",
    "The Following are the Models used in this jupyter notebook:\n",
    "\n",
    "    1. Support Vector Machine Classifier.\n",
    "    2. Random Forest Classifier.\n",
    "    3. CNN.\n",
    "    4. Transfer Learning with VGG19.\n",
    "    \n",
    "<h4> <font color ='Brown'> Environment: </font> </h4>\n",
    "All the work presented in this jupyter notebook is done in a local system with the following specifications:\n",
    "    \n",
    "    1. Intel 9th gen Core i7 (6 cores) processor.\n",
    "    2. 16gb Ram.\n",
    "    3. NVDIA Geforce GTX 1650 (Cuda Compatable) with 4gb dedicated Memory (Since I am running CNN models on my GPU it is not possible to get reproducable results everytime due to the randomness involved in the GPU.\n",
    "\n",
    "Tools used:\n",
    "    \n",
    "    1. Anaconda with a Pyhton Interpreter having tensforflows gpu installed\n",
    "    2. Jupyter notebook using the Conda Interpreter with GPU access.\n",
    "\n",
    "<h4> <font color ='Brown'> References: </font> </h4>\n",
    "Some of the Code in this notebook is from the Text book and some Websites, the following are the links to the sites \n",
    "\n",
    "1.https://drive.google.com/open?id=111581z90y4bosiHKzAwTn5h7W7sOvc4B\n",
    "\n",
    "2.https://drive.google.com/open?id=11-RNZcJJc9deY9CquFss82W17N-if5IB\n",
    "\n",
    "3.https://colab.research.google.com/github/kylemath/ml4a-guides/blob/master/notebooks/transfer-learning.ipynb#scrollTo=8OGRcLNwYoZu \n",
    "\n",
    "4.https://towardsdatascience.com/cnn-transfer-learning-fine-tuning-9f3e7c5806b2\n",
    "\n",
    "5.https://machinelearningmastery.com/reproducible-results-neural-networks-keras/ "
   ]
  },
  {
   "cell_type": "markdown",
   "metadata": {},
   "source": [
    " <h2><center><font color ='Red'>Section-1: SVM (Conventional Model)</font></center></h2>"
   ]
  },
  {
   "cell_type": "markdown",
   "metadata": {},
   "source": [
    "<h3><font color ='coral'>1) Preprocessing and Feature Extraction :</font></h3>"
   ]
  },
  {
   "cell_type": "markdown",
   "metadata": {},
   "source": [
    "<h4><font color ='purple'>Importing all the Necessary Packages:</font></h4>"
   ]
  },
  {
   "cell_type": "code",
   "execution_count": 1,
   "metadata": {},
   "outputs": [],
   "source": [
    "%matplotlib inline\n",
    "\n",
    "import os\n",
    "import keras\n",
    "import random\n",
    "import numpy as np\n",
    "import pandas as pd\n",
    "import seaborn as sns\n",
    "import tensorflow as tf\n",
    "import matplotlib.pyplot as plt\n",
    "\n",
    "from os.path import join\n",
    "from sklearn.svm import SVC\n",
    "from tensorflow import keras\n",
    "from keras.models import Model\n",
    "from keras import backend as BD\n",
    "#from google.collab import drive\n",
    "#drive.mount('/content/drive')\n",
    "from keras.regularizers import l2\n",
    "from scipy.stats import reciprocal\n",
    "from keras.models import load_model\n",
    "from keras.models import Sequential\n",
    "from matplotlib.pyplot import imshow\n",
    "from keras.applications import VGG16\n",
    "from keras.applications import VGG19\n",
    "from keras.preprocessing import image\n",
    "from keras.applications import MobileNetV2\n",
    "from sklearn.metrics import accuracy_score\n",
    "from sklearn.metrics import confusion_matrix\n",
    "from keras.layers import Conv2D, MaxPooling2D\n",
    "from sklearn.ensemble import RandomForestClassifier\n",
    "from keras_applications.resnet_v2 import ResNet50V2\n",
    "from sklearn.model_selection import RandomizedSearchCV\n",
    "from keras_applications.mobilenet_v2 import MobileNetV2\n",
    "from keras.preprocessing.image import ImageDataGenerator\n",
    "from keras.applications.mobilenet import preprocess_input\n",
    "from keras.applications.imagenet_utils import preprocess_input\n",
    "from keras.layers import Dense, Dropout, Flatten, Activation, BatchNormalization"
   ]
  },
  {
   "cell_type": "markdown",
   "metadata": {},
   "source": [
    "<h4><font color ='purple'>Loading the Training Data set and Normalizing: Traning Data Shape is (98479, 48, 48, 3)</font></h4>"
   ]
  },
  {
   "cell_type": "code",
   "execution_count": 2,
   "metadata": {},
   "outputs": [],
   "source": [
    "# preliminary data Exploration \n",
    "hair_colours = ['black', 'blond', 'brown', 'gray']\n",
    "\n",
    "# If running on Google collab RUn the code present in this comment\n",
    "# dataset_directory = '/content/drive/My Drive/Colab Notebooks/project_datasets/image_dataset'\n",
    "\n",
    "dataset_directory = 'C:\\\\Users\\\\suhas\\\\Downloads\\\\ML Practice\\\\image_dataset'  ## CHANGE TO YOUR OWN DIRECTORY\n",
    "\n",
    "images_train = np.load(join(dataset_directory, 'train_images.npy'))\n",
    "labels_train = np.load(join(dataset_directory, 'train_labels.npy'))\n",
    "\n",
    "image_size = 48\n",
    "images_train_rs = images_train.reshape([-1, image_size, image_size, 3]) / 255.0 # Rescaling the Data such that the values lie in range between 0 and 1"
   ]
  },
  {
   "cell_type": "code",
   "execution_count": 3,
   "metadata": {},
   "outputs": [
    {
     "data": {
      "text/plain": [
       "6912"
      ]
     },
     "execution_count": 3,
     "metadata": {},
     "output_type": "execute_result"
    }
   ],
   "source": [
    "Features = images_train_rs.shape[1]*images_train_rs.shape[2]*images_train_rs.shape[3]\n",
    "Features"
   ]
  },
  {
   "cell_type": "markdown",
   "metadata": {},
   "source": [
    "<h4><font color ='purple'>Reshaping Normalizes Training Data: Reshaped Traning Data Shape is (98479, 6912)</font></h4>"
   ]
  },
  {
   "cell_type": "code",
   "execution_count": 4,
   "metadata": {},
   "outputs": [
    {
     "name": "stdout",
     "output_type": "stream",
     "text": [
      "(98479, 6912)\n"
     ]
    }
   ],
   "source": [
    "lst1 = [None] * images_train_rs.shape[0] # creating an empty array of size 98479\n",
    "for i in range(images_train_rs.shape[0]):\n",
    "    lst1[i] = images_train_rs[i].reshape([-1]) # reshaping each picture to 6912 features and storing it in lst1\n",
    "#print(lst)\n",
    "x = np.array(lst1).reshape(images_train_rs.shape[0],Features) # converting the list to an array\n",
    "print(x.shape)"
   ]
  },
  {
   "cell_type": "markdown",
   "metadata": {},
   "source": [
    "<h4><font color ='purple'>Converting the Reshaped Training data into a data frame with target lables at the end:</font></h4> \n",
    "    This step is necessary when we want to run the SVM model on the data. Since, it would take more time for SVM to train on 1 lakh images, this step would help in selecting a sample from the whole data and then we use this sample data to train the model on. "
   ]
  },
  {
   "cell_type": "code",
   "execution_count": 5,
   "metadata": {},
   "outputs": [],
   "source": [
    "tain1df = pd.DataFrame(x) # Converting Train Lables array into Data Frame"
   ]
  },
  {
   "cell_type": "code",
   "execution_count": 6,
   "metadata": {},
   "outputs": [
    {
     "data": {
      "text/html": [
       "<div>\n",
       "<style scoped>\n",
       "    .dataframe tbody tr th:only-of-type {\n",
       "        vertical-align: middle;\n",
       "    }\n",
       "\n",
       "    .dataframe tbody tr th {\n",
       "        vertical-align: top;\n",
       "    }\n",
       "\n",
       "    .dataframe thead th {\n",
       "        text-align: right;\n",
       "    }\n",
       "</style>\n",
       "<table border=\"1\" class=\"dataframe\">\n",
       "  <thead>\n",
       "    <tr style=\"text-align: right;\">\n",
       "      <th></th>\n",
       "      <th>0</th>\n",
       "      <th>1</th>\n",
       "      <th>2</th>\n",
       "      <th>3</th>\n",
       "      <th>4</th>\n",
       "      <th>5</th>\n",
       "      <th>6</th>\n",
       "      <th>7</th>\n",
       "      <th>8</th>\n",
       "      <th>9</th>\n",
       "      <th>...</th>\n",
       "      <th>6902</th>\n",
       "      <th>6903</th>\n",
       "      <th>6904</th>\n",
       "      <th>6905</th>\n",
       "      <th>6906</th>\n",
       "      <th>6907</th>\n",
       "      <th>6908</th>\n",
       "      <th>6909</th>\n",
       "      <th>6910</th>\n",
       "      <th>6911</th>\n",
       "    </tr>\n",
       "  </thead>\n",
       "  <tbody>\n",
       "    <tr>\n",
       "      <th>0</th>\n",
       "      <td>0.992157</td>\n",
       "      <td>0.905882</td>\n",
       "      <td>0.760784</td>\n",
       "      <td>0.992157</td>\n",
       "      <td>0.905882</td>\n",
       "      <td>0.760784</td>\n",
       "      <td>0.992157</td>\n",
       "      <td>0.905882</td>\n",
       "      <td>0.760784</td>\n",
       "      <td>0.992157</td>\n",
       "      <td>...</td>\n",
       "      <td>0.086275</td>\n",
       "      <td>0.478431</td>\n",
       "      <td>0.203922</td>\n",
       "      <td>0.090196</td>\n",
       "      <td>0.450980</td>\n",
       "      <td>0.184314</td>\n",
       "      <td>0.074510</td>\n",
       "      <td>0.431373</td>\n",
       "      <td>0.168627</td>\n",
       "      <td>0.062745</td>\n",
       "    </tr>\n",
       "    <tr>\n",
       "      <th>1</th>\n",
       "      <td>0.258824</td>\n",
       "      <td>0.200000</td>\n",
       "      <td>0.172549</td>\n",
       "      <td>0.266667</td>\n",
       "      <td>0.203922</td>\n",
       "      <td>0.172549</td>\n",
       "      <td>0.329412</td>\n",
       "      <td>0.258824</td>\n",
       "      <td>0.227451</td>\n",
       "      <td>0.411765</td>\n",
       "      <td>...</td>\n",
       "      <td>0.168627</td>\n",
       "      <td>0.388235</td>\n",
       "      <td>0.192157</td>\n",
       "      <td>0.141176</td>\n",
       "      <td>0.474510</td>\n",
       "      <td>0.305882</td>\n",
       "      <td>0.278431</td>\n",
       "      <td>0.541176</td>\n",
       "      <td>0.435294</td>\n",
       "      <td>0.419608</td>\n",
       "    </tr>\n",
       "    <tr>\n",
       "      <th>2</th>\n",
       "      <td>1.000000</td>\n",
       "      <td>1.000000</td>\n",
       "      <td>1.000000</td>\n",
       "      <td>1.000000</td>\n",
       "      <td>1.000000</td>\n",
       "      <td>1.000000</td>\n",
       "      <td>1.000000</td>\n",
       "      <td>1.000000</td>\n",
       "      <td>1.000000</td>\n",
       "      <td>1.000000</td>\n",
       "      <td>...</td>\n",
       "      <td>0.086275</td>\n",
       "      <td>0.192157</td>\n",
       "      <td>0.129412</td>\n",
       "      <td>0.078431</td>\n",
       "      <td>0.250980</td>\n",
       "      <td>0.211765</td>\n",
       "      <td>0.117647</td>\n",
       "      <td>0.294118</td>\n",
       "      <td>0.247059</td>\n",
       "      <td>0.160784</td>\n",
       "    </tr>\n",
       "    <tr>\n",
       "      <th>3</th>\n",
       "      <td>0.470588</td>\n",
       "      <td>0.286275</td>\n",
       "      <td>0.243137</td>\n",
       "      <td>0.486275</td>\n",
       "      <td>0.286275</td>\n",
       "      <td>0.247059</td>\n",
       "      <td>0.486275</td>\n",
       "      <td>0.294118</td>\n",
       "      <td>0.250980</td>\n",
       "      <td>0.447059</td>\n",
       "      <td>...</td>\n",
       "      <td>0.611765</td>\n",
       "      <td>0.647059</td>\n",
       "      <td>0.643137</td>\n",
       "      <td>0.662745</td>\n",
       "      <td>0.643137</td>\n",
       "      <td>0.639216</td>\n",
       "      <td>0.658824</td>\n",
       "      <td>0.635294</td>\n",
       "      <td>0.631373</td>\n",
       "      <td>0.650980</td>\n",
       "    </tr>\n",
       "    <tr>\n",
       "      <th>4</th>\n",
       "      <td>0.105882</td>\n",
       "      <td>0.105882</td>\n",
       "      <td>0.129412</td>\n",
       "      <td>0.125490</td>\n",
       "      <td>0.109804</td>\n",
       "      <td>0.129412</td>\n",
       "      <td>0.074510</td>\n",
       "      <td>0.074510</td>\n",
       "      <td>0.078431</td>\n",
       "      <td>0.490196</td>\n",
       "      <td>...</td>\n",
       "      <td>0.117647</td>\n",
       "      <td>0.105882</td>\n",
       "      <td>0.101961</td>\n",
       "      <td>0.121569</td>\n",
       "      <td>0.101961</td>\n",
       "      <td>0.098039</td>\n",
       "      <td>0.117647</td>\n",
       "      <td>0.098039</td>\n",
       "      <td>0.094118</td>\n",
       "      <td>0.113725</td>\n",
       "    </tr>\n",
       "    <tr>\n",
       "      <th>...</th>\n",
       "      <td>...</td>\n",
       "      <td>...</td>\n",
       "      <td>...</td>\n",
       "      <td>...</td>\n",
       "      <td>...</td>\n",
       "      <td>...</td>\n",
       "      <td>...</td>\n",
       "      <td>...</td>\n",
       "      <td>...</td>\n",
       "      <td>...</td>\n",
       "      <td>...</td>\n",
       "      <td>...</td>\n",
       "      <td>...</td>\n",
       "      <td>...</td>\n",
       "      <td>...</td>\n",
       "      <td>...</td>\n",
       "      <td>...</td>\n",
       "      <td>...</td>\n",
       "      <td>...</td>\n",
       "      <td>...</td>\n",
       "      <td>...</td>\n",
       "    </tr>\n",
       "    <tr>\n",
       "      <th>98474</th>\n",
       "      <td>0.815686</td>\n",
       "      <td>0.843137</td>\n",
       "      <td>0.843137</td>\n",
       "      <td>0.772549</td>\n",
       "      <td>0.768627</td>\n",
       "      <td>0.780392</td>\n",
       "      <td>0.780392</td>\n",
       "      <td>0.756863</td>\n",
       "      <td>0.776471</td>\n",
       "      <td>0.835294</td>\n",
       "      <td>...</td>\n",
       "      <td>0.015686</td>\n",
       "      <td>0.027451</td>\n",
       "      <td>0.027451</td>\n",
       "      <td>0.027451</td>\n",
       "      <td>0.027451</td>\n",
       "      <td>0.027451</td>\n",
       "      <td>0.027451</td>\n",
       "      <td>0.027451</td>\n",
       "      <td>0.027451</td>\n",
       "      <td>0.027451</td>\n",
       "    </tr>\n",
       "    <tr>\n",
       "      <th>98475</th>\n",
       "      <td>0.952941</td>\n",
       "      <td>0.862745</td>\n",
       "      <td>0.886275</td>\n",
       "      <td>0.952941</td>\n",
       "      <td>0.862745</td>\n",
       "      <td>0.886275</td>\n",
       "      <td>0.952941</td>\n",
       "      <td>0.862745</td>\n",
       "      <td>0.886275</td>\n",
       "      <td>0.952941</td>\n",
       "      <td>...</td>\n",
       "      <td>0.062745</td>\n",
       "      <td>0.082353</td>\n",
       "      <td>0.066667</td>\n",
       "      <td>0.062745</td>\n",
       "      <td>0.082353</td>\n",
       "      <td>0.066667</td>\n",
       "      <td>0.062745</td>\n",
       "      <td>0.082353</td>\n",
       "      <td>0.066667</td>\n",
       "      <td>0.062745</td>\n",
       "    </tr>\n",
       "    <tr>\n",
       "      <th>98476</th>\n",
       "      <td>0.705882</td>\n",
       "      <td>0.635294</td>\n",
       "      <td>0.576471</td>\n",
       "      <td>0.709804</td>\n",
       "      <td>0.639216</td>\n",
       "      <td>0.588235</td>\n",
       "      <td>0.705882</td>\n",
       "      <td>0.635294</td>\n",
       "      <td>0.588235</td>\n",
       "      <td>0.701961</td>\n",
       "      <td>...</td>\n",
       "      <td>0.023529</td>\n",
       "      <td>0.019608</td>\n",
       "      <td>0.019608</td>\n",
       "      <td>0.011765</td>\n",
       "      <td>0.031373</td>\n",
       "      <td>0.031373</td>\n",
       "      <td>0.023529</td>\n",
       "      <td>0.035294</td>\n",
       "      <td>0.035294</td>\n",
       "      <td>0.027451</td>\n",
       "    </tr>\n",
       "    <tr>\n",
       "      <th>98477</th>\n",
       "      <td>0.392157</td>\n",
       "      <td>0.360784</td>\n",
       "      <td>0.317647</td>\n",
       "      <td>0.392157</td>\n",
       "      <td>0.360784</td>\n",
       "      <td>0.317647</td>\n",
       "      <td>0.392157</td>\n",
       "      <td>0.360784</td>\n",
       "      <td>0.317647</td>\n",
       "      <td>0.392157</td>\n",
       "      <td>...</td>\n",
       "      <td>0.121569</td>\n",
       "      <td>0.098039</td>\n",
       "      <td>0.125490</td>\n",
       "      <td>0.125490</td>\n",
       "      <td>0.105882</td>\n",
       "      <td>0.121569</td>\n",
       "      <td>0.125490</td>\n",
       "      <td>0.109804</td>\n",
       "      <td>0.125490</td>\n",
       "      <td>0.129412</td>\n",
       "    </tr>\n",
       "    <tr>\n",
       "      <th>98478</th>\n",
       "      <td>0.000000</td>\n",
       "      <td>0.000000</td>\n",
       "      <td>0.000000</td>\n",
       "      <td>0.000000</td>\n",
       "      <td>0.000000</td>\n",
       "      <td>0.000000</td>\n",
       "      <td>0.000000</td>\n",
       "      <td>0.000000</td>\n",
       "      <td>0.000000</td>\n",
       "      <td>0.000000</td>\n",
       "      <td>...</td>\n",
       "      <td>0.494118</td>\n",
       "      <td>0.976471</td>\n",
       "      <td>0.435294</td>\n",
       "      <td>0.494118</td>\n",
       "      <td>0.976471</td>\n",
       "      <td>0.435294</td>\n",
       "      <td>0.494118</td>\n",
       "      <td>0.976471</td>\n",
       "      <td>0.435294</td>\n",
       "      <td>0.494118</td>\n",
       "    </tr>\n",
       "  </tbody>\n",
       "</table>\n",
       "<p>98479 rows × 6912 columns</p>\n",
       "</div>"
      ],
      "text/plain": [
       "           0         1         2         3         4         5         6     \\\n",
       "0      0.992157  0.905882  0.760784  0.992157  0.905882  0.760784  0.992157   \n",
       "1      0.258824  0.200000  0.172549  0.266667  0.203922  0.172549  0.329412   \n",
       "2      1.000000  1.000000  1.000000  1.000000  1.000000  1.000000  1.000000   \n",
       "3      0.470588  0.286275  0.243137  0.486275  0.286275  0.247059  0.486275   \n",
       "4      0.105882  0.105882  0.129412  0.125490  0.109804  0.129412  0.074510   \n",
       "...         ...       ...       ...       ...       ...       ...       ...   \n",
       "98474  0.815686  0.843137  0.843137  0.772549  0.768627  0.780392  0.780392   \n",
       "98475  0.952941  0.862745  0.886275  0.952941  0.862745  0.886275  0.952941   \n",
       "98476  0.705882  0.635294  0.576471  0.709804  0.639216  0.588235  0.705882   \n",
       "98477  0.392157  0.360784  0.317647  0.392157  0.360784  0.317647  0.392157   \n",
       "98478  0.000000  0.000000  0.000000  0.000000  0.000000  0.000000  0.000000   \n",
       "\n",
       "           7         8         9     ...      6902      6903      6904  \\\n",
       "0      0.905882  0.760784  0.992157  ...  0.086275  0.478431  0.203922   \n",
       "1      0.258824  0.227451  0.411765  ...  0.168627  0.388235  0.192157   \n",
       "2      1.000000  1.000000  1.000000  ...  0.086275  0.192157  0.129412   \n",
       "3      0.294118  0.250980  0.447059  ...  0.611765  0.647059  0.643137   \n",
       "4      0.074510  0.078431  0.490196  ...  0.117647  0.105882  0.101961   \n",
       "...         ...       ...       ...  ...       ...       ...       ...   \n",
       "98474  0.756863  0.776471  0.835294  ...  0.015686  0.027451  0.027451   \n",
       "98475  0.862745  0.886275  0.952941  ...  0.062745  0.082353  0.066667   \n",
       "98476  0.635294  0.588235  0.701961  ...  0.023529  0.019608  0.019608   \n",
       "98477  0.360784  0.317647  0.392157  ...  0.121569  0.098039  0.125490   \n",
       "98478  0.000000  0.000000  0.000000  ...  0.494118  0.976471  0.435294   \n",
       "\n",
       "           6905      6906      6907      6908      6909      6910      6911  \n",
       "0      0.090196  0.450980  0.184314  0.074510  0.431373  0.168627  0.062745  \n",
       "1      0.141176  0.474510  0.305882  0.278431  0.541176  0.435294  0.419608  \n",
       "2      0.078431  0.250980  0.211765  0.117647  0.294118  0.247059  0.160784  \n",
       "3      0.662745  0.643137  0.639216  0.658824  0.635294  0.631373  0.650980  \n",
       "4      0.121569  0.101961  0.098039  0.117647  0.098039  0.094118  0.113725  \n",
       "...         ...       ...       ...       ...       ...       ...       ...  \n",
       "98474  0.027451  0.027451  0.027451  0.027451  0.027451  0.027451  0.027451  \n",
       "98475  0.062745  0.082353  0.066667  0.062745  0.082353  0.066667  0.062745  \n",
       "98476  0.011765  0.031373  0.031373  0.023529  0.035294  0.035294  0.027451  \n",
       "98477  0.125490  0.105882  0.121569  0.125490  0.109804  0.125490  0.129412  \n",
       "98478  0.494118  0.976471  0.435294  0.494118  0.976471  0.435294  0.494118  \n",
       "\n",
       "[98479 rows x 6912 columns]"
      ]
     },
     "execution_count": 6,
     "metadata": {},
     "output_type": "execute_result"
    }
   ],
   "source": [
    "tain1df"
   ]
  },
  {
   "cell_type": "code",
   "execution_count": 8,
   "metadata": {},
   "outputs": [
    {
     "data": {
      "text/html": [
       "<div>\n",
       "<style scoped>\n",
       "    .dataframe tbody tr th:only-of-type {\n",
       "        vertical-align: middle;\n",
       "    }\n",
       "\n",
       "    .dataframe tbody tr th {\n",
       "        vertical-align: top;\n",
       "    }\n",
       "\n",
       "    .dataframe thead th {\n",
       "        text-align: right;\n",
       "    }\n",
       "</style>\n",
       "<table border=\"1\" class=\"dataframe\">\n",
       "  <thead>\n",
       "    <tr style=\"text-align: right;\">\n",
       "      <th></th>\n",
       "      <th>0</th>\n",
       "    </tr>\n",
       "  </thead>\n",
       "  <tbody>\n",
       "    <tr>\n",
       "      <th>0</th>\n",
       "      <td>2</td>\n",
       "    </tr>\n",
       "    <tr>\n",
       "      <th>1</th>\n",
       "      <td>2</td>\n",
       "    </tr>\n",
       "    <tr>\n",
       "      <th>2</th>\n",
       "      <td>2</td>\n",
       "    </tr>\n",
       "    <tr>\n",
       "      <th>3</th>\n",
       "      <td>0</td>\n",
       "    </tr>\n",
       "    <tr>\n",
       "      <th>4</th>\n",
       "      <td>0</td>\n",
       "    </tr>\n",
       "    <tr>\n",
       "      <th>...</th>\n",
       "      <td>...</td>\n",
       "    </tr>\n",
       "    <tr>\n",
       "      <th>98474</th>\n",
       "      <td>3</td>\n",
       "    </tr>\n",
       "    <tr>\n",
       "      <th>98475</th>\n",
       "      <td>2</td>\n",
       "    </tr>\n",
       "    <tr>\n",
       "      <th>98476</th>\n",
       "      <td>2</td>\n",
       "    </tr>\n",
       "    <tr>\n",
       "      <th>98477</th>\n",
       "      <td>0</td>\n",
       "    </tr>\n",
       "    <tr>\n",
       "      <th>98478</th>\n",
       "      <td>0</td>\n",
       "    </tr>\n",
       "  </tbody>\n",
       "</table>\n",
       "<p>98479 rows × 1 columns</p>\n",
       "</div>"
      ],
      "text/plain": [
       "       0\n",
       "0      2\n",
       "1      2\n",
       "2      2\n",
       "3      0\n",
       "4      0\n",
       "...   ..\n",
       "98474  3\n",
       "98475  2\n",
       "98476  2\n",
       "98477  0\n",
       "98478  0\n",
       "\n",
       "[98479 rows x 1 columns]"
      ]
     },
     "execution_count": 8,
     "metadata": {},
     "output_type": "execute_result"
    }
   ],
   "source": [
    "tain2df = pd.DataFrame(labels_train) # gettin train labels into a dataframe\n",
    "tain2df"
   ]
  },
  {
   "cell_type": "code",
   "execution_count": 18,
   "metadata": {},
   "outputs": [
    {
     "data": {
      "text/html": [
       "<div>\n",
       "<style scoped>\n",
       "    .dataframe tbody tr th:only-of-type {\n",
       "        vertical-align: middle;\n",
       "    }\n",
       "\n",
       "    .dataframe tbody tr th {\n",
       "        vertical-align: top;\n",
       "    }\n",
       "\n",
       "    .dataframe thead th {\n",
       "        text-align: right;\n",
       "    }\n",
       "</style>\n",
       "<table border=\"1\" class=\"dataframe\">\n",
       "  <thead>\n",
       "    <tr style=\"text-align: right;\">\n",
       "      <th></th>\n",
       "      <th>0_x</th>\n",
       "      <th>1</th>\n",
       "      <th>2</th>\n",
       "      <th>3</th>\n",
       "      <th>4</th>\n",
       "      <th>5</th>\n",
       "      <th>6</th>\n",
       "      <th>7</th>\n",
       "      <th>8</th>\n",
       "      <th>9</th>\n",
       "      <th>...</th>\n",
       "      <th>6903</th>\n",
       "      <th>6904</th>\n",
       "      <th>6905</th>\n",
       "      <th>6906</th>\n",
       "      <th>6907</th>\n",
       "      <th>6908</th>\n",
       "      <th>6909</th>\n",
       "      <th>6910</th>\n",
       "      <th>6911</th>\n",
       "      <th>0_y</th>\n",
       "    </tr>\n",
       "  </thead>\n",
       "  <tbody>\n",
       "    <tr>\n",
       "      <th>98474</th>\n",
       "      <td>0.815686</td>\n",
       "      <td>0.843137</td>\n",
       "      <td>0.843137</td>\n",
       "      <td>0.772549</td>\n",
       "      <td>0.768627</td>\n",
       "      <td>0.780392</td>\n",
       "      <td>0.780392</td>\n",
       "      <td>0.756863</td>\n",
       "      <td>0.776471</td>\n",
       "      <td>0.835294</td>\n",
       "      <td>...</td>\n",
       "      <td>0.027451</td>\n",
       "      <td>0.027451</td>\n",
       "      <td>0.027451</td>\n",
       "      <td>0.027451</td>\n",
       "      <td>0.027451</td>\n",
       "      <td>0.027451</td>\n",
       "      <td>0.027451</td>\n",
       "      <td>0.027451</td>\n",
       "      <td>0.027451</td>\n",
       "      <td>3</td>\n",
       "    </tr>\n",
       "    <tr>\n",
       "      <th>98475</th>\n",
       "      <td>0.952941</td>\n",
       "      <td>0.862745</td>\n",
       "      <td>0.886275</td>\n",
       "      <td>0.952941</td>\n",
       "      <td>0.862745</td>\n",
       "      <td>0.886275</td>\n",
       "      <td>0.952941</td>\n",
       "      <td>0.862745</td>\n",
       "      <td>0.886275</td>\n",
       "      <td>0.952941</td>\n",
       "      <td>...</td>\n",
       "      <td>0.082353</td>\n",
       "      <td>0.066667</td>\n",
       "      <td>0.062745</td>\n",
       "      <td>0.082353</td>\n",
       "      <td>0.066667</td>\n",
       "      <td>0.062745</td>\n",
       "      <td>0.082353</td>\n",
       "      <td>0.066667</td>\n",
       "      <td>0.062745</td>\n",
       "      <td>2</td>\n",
       "    </tr>\n",
       "    <tr>\n",
       "      <th>98476</th>\n",
       "      <td>0.705882</td>\n",
       "      <td>0.635294</td>\n",
       "      <td>0.576471</td>\n",
       "      <td>0.709804</td>\n",
       "      <td>0.639216</td>\n",
       "      <td>0.588235</td>\n",
       "      <td>0.705882</td>\n",
       "      <td>0.635294</td>\n",
       "      <td>0.588235</td>\n",
       "      <td>0.701961</td>\n",
       "      <td>...</td>\n",
       "      <td>0.019608</td>\n",
       "      <td>0.019608</td>\n",
       "      <td>0.011765</td>\n",
       "      <td>0.031373</td>\n",
       "      <td>0.031373</td>\n",
       "      <td>0.023529</td>\n",
       "      <td>0.035294</td>\n",
       "      <td>0.035294</td>\n",
       "      <td>0.027451</td>\n",
       "      <td>2</td>\n",
       "    </tr>\n",
       "    <tr>\n",
       "      <th>98477</th>\n",
       "      <td>0.392157</td>\n",
       "      <td>0.360784</td>\n",
       "      <td>0.317647</td>\n",
       "      <td>0.392157</td>\n",
       "      <td>0.360784</td>\n",
       "      <td>0.317647</td>\n",
       "      <td>0.392157</td>\n",
       "      <td>0.360784</td>\n",
       "      <td>0.317647</td>\n",
       "      <td>0.392157</td>\n",
       "      <td>...</td>\n",
       "      <td>0.098039</td>\n",
       "      <td>0.125490</td>\n",
       "      <td>0.125490</td>\n",
       "      <td>0.105882</td>\n",
       "      <td>0.121569</td>\n",
       "      <td>0.125490</td>\n",
       "      <td>0.109804</td>\n",
       "      <td>0.125490</td>\n",
       "      <td>0.129412</td>\n",
       "      <td>0</td>\n",
       "    </tr>\n",
       "    <tr>\n",
       "      <th>98478</th>\n",
       "      <td>0.000000</td>\n",
       "      <td>0.000000</td>\n",
       "      <td>0.000000</td>\n",
       "      <td>0.000000</td>\n",
       "      <td>0.000000</td>\n",
       "      <td>0.000000</td>\n",
       "      <td>0.000000</td>\n",
       "      <td>0.000000</td>\n",
       "      <td>0.000000</td>\n",
       "      <td>0.000000</td>\n",
       "      <td>...</td>\n",
       "      <td>0.976471</td>\n",
       "      <td>0.435294</td>\n",
       "      <td>0.494118</td>\n",
       "      <td>0.976471</td>\n",
       "      <td>0.435294</td>\n",
       "      <td>0.494118</td>\n",
       "      <td>0.976471</td>\n",
       "      <td>0.435294</td>\n",
       "      <td>0.494118</td>\n",
       "      <td>0</td>\n",
       "    </tr>\n",
       "  </tbody>\n",
       "</table>\n",
       "<p>5 rows × 6913 columns</p>\n",
       "</div>"
      ],
      "text/plain": [
       "            0_x         1         2         3         4         5         6  \\\n",
       "98474  0.815686  0.843137  0.843137  0.772549  0.768627  0.780392  0.780392   \n",
       "98475  0.952941  0.862745  0.886275  0.952941  0.862745  0.886275  0.952941   \n",
       "98476  0.705882  0.635294  0.576471  0.709804  0.639216  0.588235  0.705882   \n",
       "98477  0.392157  0.360784  0.317647  0.392157  0.360784  0.317647  0.392157   \n",
       "98478  0.000000  0.000000  0.000000  0.000000  0.000000  0.000000  0.000000   \n",
       "\n",
       "              7         8         9  ...      6903      6904      6905  \\\n",
       "98474  0.756863  0.776471  0.835294  ...  0.027451  0.027451  0.027451   \n",
       "98475  0.862745  0.886275  0.952941  ...  0.082353  0.066667  0.062745   \n",
       "98476  0.635294  0.588235  0.701961  ...  0.019608  0.019608  0.011765   \n",
       "98477  0.360784  0.317647  0.392157  ...  0.098039  0.125490  0.125490   \n",
       "98478  0.000000  0.000000  0.000000  ...  0.976471  0.435294  0.494118   \n",
       "\n",
       "           6906      6907      6908      6909      6910      6911  0_y  \n",
       "98474  0.027451  0.027451  0.027451  0.027451  0.027451  0.027451    3  \n",
       "98475  0.082353  0.066667  0.062745  0.082353  0.066667  0.062745    2  \n",
       "98476  0.031373  0.031373  0.023529  0.035294  0.035294  0.027451    2  \n",
       "98477  0.105882  0.121569  0.125490  0.109804  0.125490  0.129412    0  \n",
       "98478  0.976471  0.435294  0.494118  0.976471  0.435294  0.494118    0  \n",
       "\n",
       "[5 rows x 6913 columns]"
      ]
     },
     "execution_count": 18,
     "metadata": {},
     "output_type": "execute_result"
    }
   ],
   "source": [
    "# merging the train images and labels together to a single frame\n",
    "train_wholedata = tain1df.merge(tain2df, left_index=True, right_index=True)\n",
    "train_wholedata.tail()"
   ]
  },
  {
   "cell_type": "code",
   "execution_count": 22,
   "metadata": {},
   "outputs": [
    {
     "data": {
      "text/plain": [
       "(98479, 6913)"
      ]
     },
     "execution_count": 22,
     "metadata": {},
     "output_type": "execute_result"
    }
   ],
   "source": [
    "train_wholedata.shape # merged data frame shape"
   ]
  },
  {
   "cell_type": "markdown",
   "metadata": {},
   "source": [
    "<h4><font color ='purple'>Loading the Validation DataSet and Normalizing: Validation Dataset Shape (12270, 48, 48, 3)</font></h4>"
   ]
  },
  {
   "cell_type": "code",
   "execution_count": 23,
   "metadata": {},
   "outputs": [
    {
     "data": {
      "text/plain": [
       "6912"
      ]
     },
     "execution_count": 23,
     "metadata": {},
     "output_type": "execute_result"
    }
   ],
   "source": [
    "images_val = np.load(join(dataset_directory, 'val_images.npy'))\n",
    "labels_val = np.load(join(dataset_directory, 'val_labels.npy'))\n",
    "files_val = np.load(join(dataset_directory, 'val_files.npy'))\n",
    "images_val_rs = images_val.reshape([-1, image_size, image_size, 3]) / 255.0\n",
    "Features1 = images_val_rs.shape[1]*images_val_rs.shape[2]*images_val_rs.shape[3]\n",
    "Features1   # calculating the no of features for each picture"
   ]
  },
  {
   "cell_type": "markdown",
   "metadata": {},
   "source": [
    "<h4><font color ='purple'>Reshaping the Normalized Validation DataSet: Validation Dataset Shape (12270, 6912)</font></h4>"
   ]
  },
  {
   "cell_type": "code",
   "execution_count": 24,
   "metadata": {},
   "outputs": [
    {
     "name": "stdout",
     "output_type": "stream",
     "text": [
      "(12270, 6912)\n"
     ]
    }
   ],
   "source": [
    "lst3 = [None] * images_val_rs.shape[0] # creating an empty array of size 12270\n",
    "for i in range(images_val_rs.shape[0]):\n",
    "    lst3[i] = images_val_rs[i].reshape([-1]) # reshaping each picture to 6912 features and storing it in lst3\n",
    "#print(lst)\n",
    "y = np.array(lst3).reshape(images_val_rs.shape[0],Features1) # converting the list to an array\n",
    "print(y.shape)"
   ]
  },
  {
   "cell_type": "markdown",
   "metadata": {},
   "source": [
    "<h4><font color ='purple'>Converting the Reshaped Validation data into a data frame with target lables at the end:</font></h4> \n",
    "    This step is necessary when we want to run the SVM model on the data. Since, it would take more time for SVM to validate on 12k images, this step would help in selecting a sample from the whole data and then we use this sample data to validate the model."
   ]
  },
  {
   "cell_type": "code",
   "execution_count": 25,
   "metadata": {},
   "outputs": [],
   "source": [
    "tain3df = pd.DataFrame(y) # converting the valdation images data to a dataframe"
   ]
  },
  {
   "cell_type": "code",
   "execution_count": 26,
   "metadata": {},
   "outputs": [],
   "source": [
    "tain4df = pd.DataFrame(labels_val) # converting lables of validation data to a dataframe"
   ]
  },
  {
   "cell_type": "code",
   "execution_count": 29,
   "metadata": {},
   "outputs": [
    {
     "data": {
      "text/html": [
       "<div>\n",
       "<style scoped>\n",
       "    .dataframe tbody tr th:only-of-type {\n",
       "        vertical-align: middle;\n",
       "    }\n",
       "\n",
       "    .dataframe tbody tr th {\n",
       "        vertical-align: top;\n",
       "    }\n",
       "\n",
       "    .dataframe thead th {\n",
       "        text-align: right;\n",
       "    }\n",
       "</style>\n",
       "<table border=\"1\" class=\"dataframe\">\n",
       "  <thead>\n",
       "    <tr style=\"text-align: right;\">\n",
       "      <th></th>\n",
       "      <th>0_x</th>\n",
       "      <th>1</th>\n",
       "      <th>2</th>\n",
       "      <th>3</th>\n",
       "      <th>4</th>\n",
       "      <th>5</th>\n",
       "      <th>6</th>\n",
       "      <th>7</th>\n",
       "      <th>8</th>\n",
       "      <th>9</th>\n",
       "      <th>...</th>\n",
       "      <th>6903</th>\n",
       "      <th>6904</th>\n",
       "      <th>6905</th>\n",
       "      <th>6906</th>\n",
       "      <th>6907</th>\n",
       "      <th>6908</th>\n",
       "      <th>6909</th>\n",
       "      <th>6910</th>\n",
       "      <th>6911</th>\n",
       "      <th>0_y</th>\n",
       "    </tr>\n",
       "  </thead>\n",
       "  <tbody>\n",
       "    <tr>\n",
       "      <th>0</th>\n",
       "      <td>0.925490</td>\n",
       "      <td>0.941176</td>\n",
       "      <td>0.952941</td>\n",
       "      <td>0.941176</td>\n",
       "      <td>0.956863</td>\n",
       "      <td>0.968627</td>\n",
       "      <td>0.976471</td>\n",
       "      <td>0.988235</td>\n",
       "      <td>1.000000</td>\n",
       "      <td>0.960784</td>\n",
       "      <td>...</td>\n",
       "      <td>0.105882</td>\n",
       "      <td>0.105882</td>\n",
       "      <td>0.105882</td>\n",
       "      <td>0.105882</td>\n",
       "      <td>0.105882</td>\n",
       "      <td>0.105882</td>\n",
       "      <td>0.098039</td>\n",
       "      <td>0.098039</td>\n",
       "      <td>0.098039</td>\n",
       "      <td>0</td>\n",
       "    </tr>\n",
       "    <tr>\n",
       "      <th>1</th>\n",
       "      <td>0.384314</td>\n",
       "      <td>0.345098</td>\n",
       "      <td>0.317647</td>\n",
       "      <td>0.231373</td>\n",
       "      <td>0.160784</td>\n",
       "      <td>0.133333</td>\n",
       "      <td>0.270588</td>\n",
       "      <td>0.172549</td>\n",
       "      <td>0.152941</td>\n",
       "      <td>0.274510</td>\n",
       "      <td>...</td>\n",
       "      <td>0.349020</td>\n",
       "      <td>0.250980</td>\n",
       "      <td>0.203922</td>\n",
       "      <td>0.349020</td>\n",
       "      <td>0.262745</td>\n",
       "      <td>0.211765</td>\n",
       "      <td>0.341176</td>\n",
       "      <td>0.258824</td>\n",
       "      <td>0.215686</td>\n",
       "      <td>2</td>\n",
       "    </tr>\n",
       "    <tr>\n",
       "      <th>2</th>\n",
       "      <td>0.000000</td>\n",
       "      <td>0.007843</td>\n",
       "      <td>0.003922</td>\n",
       "      <td>0.000000</td>\n",
       "      <td>0.007843</td>\n",
       "      <td>0.003922</td>\n",
       "      <td>0.000000</td>\n",
       "      <td>0.007843</td>\n",
       "      <td>0.003922</td>\n",
       "      <td>0.000000</td>\n",
       "      <td>...</td>\n",
       "      <td>0.239216</td>\n",
       "      <td>0.368627</td>\n",
       "      <td>0.454902</td>\n",
       "      <td>0.219608</td>\n",
       "      <td>0.458824</td>\n",
       "      <td>0.576471</td>\n",
       "      <td>0.211765</td>\n",
       "      <td>0.478431</td>\n",
       "      <td>0.627451</td>\n",
       "      <td>2</td>\n",
       "    </tr>\n",
       "    <tr>\n",
       "      <th>3</th>\n",
       "      <td>0.584314</td>\n",
       "      <td>0.372549</td>\n",
       "      <td>0.415686</td>\n",
       "      <td>0.356863</td>\n",
       "      <td>0.239216</td>\n",
       "      <td>0.470588</td>\n",
       "      <td>0.309804</td>\n",
       "      <td>0.258824</td>\n",
       "      <td>0.549020</td>\n",
       "      <td>0.329412</td>\n",
       "      <td>...</td>\n",
       "      <td>0.811765</td>\n",
       "      <td>0.384314</td>\n",
       "      <td>0.474510</td>\n",
       "      <td>0.811765</td>\n",
       "      <td>0.380392</td>\n",
       "      <td>0.482353</td>\n",
       "      <td>0.807843</td>\n",
       "      <td>0.384314</td>\n",
       "      <td>0.482353</td>\n",
       "      <td>0</td>\n",
       "    </tr>\n",
       "    <tr>\n",
       "      <th>4</th>\n",
       "      <td>0.760784</td>\n",
       "      <td>0.788235</td>\n",
       "      <td>0.890196</td>\n",
       "      <td>0.760784</td>\n",
       "      <td>0.788235</td>\n",
       "      <td>0.890196</td>\n",
       "      <td>0.752941</td>\n",
       "      <td>0.780392</td>\n",
       "      <td>0.882353</td>\n",
       "      <td>0.752941</td>\n",
       "      <td>...</td>\n",
       "      <td>0.623529</td>\n",
       "      <td>0.643137</td>\n",
       "      <td>0.721569</td>\n",
       "      <td>0.639216</td>\n",
       "      <td>0.658824</td>\n",
       "      <td>0.737255</td>\n",
       "      <td>0.643137</td>\n",
       "      <td>0.662745</td>\n",
       "      <td>0.741176</td>\n",
       "      <td>0</td>\n",
       "    </tr>\n",
       "  </tbody>\n",
       "</table>\n",
       "<p>5 rows × 6913 columns</p>\n",
       "</div>"
      ],
      "text/plain": [
       "        0_x         1         2         3         4         5         6  \\\n",
       "0  0.925490  0.941176  0.952941  0.941176  0.956863  0.968627  0.976471   \n",
       "1  0.384314  0.345098  0.317647  0.231373  0.160784  0.133333  0.270588   \n",
       "2  0.000000  0.007843  0.003922  0.000000  0.007843  0.003922  0.000000   \n",
       "3  0.584314  0.372549  0.415686  0.356863  0.239216  0.470588  0.309804   \n",
       "4  0.760784  0.788235  0.890196  0.760784  0.788235  0.890196  0.752941   \n",
       "\n",
       "          7         8         9  ...      6903      6904      6905      6906  \\\n",
       "0  0.988235  1.000000  0.960784  ...  0.105882  0.105882  0.105882  0.105882   \n",
       "1  0.172549  0.152941  0.274510  ...  0.349020  0.250980  0.203922  0.349020   \n",
       "2  0.007843  0.003922  0.000000  ...  0.239216  0.368627  0.454902  0.219608   \n",
       "3  0.258824  0.549020  0.329412  ...  0.811765  0.384314  0.474510  0.811765   \n",
       "4  0.780392  0.882353  0.752941  ...  0.623529  0.643137  0.721569  0.639216   \n",
       "\n",
       "       6907      6908      6909      6910      6911  0_y  \n",
       "0  0.105882  0.105882  0.098039  0.098039  0.098039    0  \n",
       "1  0.262745  0.211765  0.341176  0.258824  0.215686    2  \n",
       "2  0.458824  0.576471  0.211765  0.478431  0.627451    2  \n",
       "3  0.380392  0.482353  0.807843  0.384314  0.482353    0  \n",
       "4  0.658824  0.737255  0.643137  0.662745  0.741176    0  \n",
       "\n",
       "[5 rows x 6913 columns]"
      ]
     },
     "execution_count": 29,
     "metadata": {},
     "output_type": "execute_result"
    }
   ],
   "source": [
    "Val_wholedata = tain3df.merge(tain4df, left_index=True, right_index=True)\n",
    "Val_wholedata.head() # merging validation lables and images into a single dataframe"
   ]
  },
  {
   "cell_type": "markdown",
   "metadata": {},
   "source": [
    "<h4><font color ='purple'>Selecting the SubSample from Training and Validation DataSets</font></h4> \n",
    "    SVM is Costly (in terms of time consuming) to perform calculations on a large dataset like celeba. So, what I had done is I randomly selected a sample of size 19991 from training dataset for training the model and 2008 from validation dataset for validating the model. As I am not using Startified sampling you might get a doubt on bias included in terms of propotion of data of each class available in the Training and Validation Datasets. Since, the Dataset size is huge and the sample drawn from this population is also large enough such that we can assume that the data drawn from the population follows a normal distribution. \n",
    "    After looking at the results section we can say that the assumption did hold as the modle performed well on training, validation, test data (Kaggle Public Data).  \n"
   ]
  },
  {
   "cell_type": "code",
   "execution_count": 31,
   "metadata": {},
   "outputs": [],
   "source": [
    "Train_sub_sample = train_wholedata.sample(frac=0.203) # selecting 20 percent of the data"
   ]
  },
  {
   "cell_type": "code",
   "execution_count": 32,
   "metadata": {},
   "outputs": [
    {
     "data": {
      "text/html": [
       "<div>\n",
       "<style scoped>\n",
       "    .dataframe tbody tr th:only-of-type {\n",
       "        vertical-align: middle;\n",
       "    }\n",
       "\n",
       "    .dataframe tbody tr th {\n",
       "        vertical-align: top;\n",
       "    }\n",
       "\n",
       "    .dataframe thead th {\n",
       "        text-align: right;\n",
       "    }\n",
       "</style>\n",
       "<table border=\"1\" class=\"dataframe\">\n",
       "  <thead>\n",
       "    <tr style=\"text-align: right;\">\n",
       "      <th></th>\n",
       "      <th>0_x</th>\n",
       "      <th>1</th>\n",
       "      <th>2</th>\n",
       "      <th>3</th>\n",
       "      <th>4</th>\n",
       "      <th>5</th>\n",
       "      <th>6</th>\n",
       "      <th>7</th>\n",
       "      <th>8</th>\n",
       "      <th>9</th>\n",
       "      <th>...</th>\n",
       "      <th>6903</th>\n",
       "      <th>6904</th>\n",
       "      <th>6905</th>\n",
       "      <th>6906</th>\n",
       "      <th>6907</th>\n",
       "      <th>6908</th>\n",
       "      <th>6909</th>\n",
       "      <th>6910</th>\n",
       "      <th>6911</th>\n",
       "      <th>0_y</th>\n",
       "    </tr>\n",
       "  </thead>\n",
       "  <tbody>\n",
       "    <tr>\n",
       "      <th>35088</th>\n",
       "      <td>0.639216</td>\n",
       "      <td>0.764706</td>\n",
       "      <td>0.815686</td>\n",
       "      <td>0.647059</td>\n",
       "      <td>0.772549</td>\n",
       "      <td>0.823529</td>\n",
       "      <td>0.647059</td>\n",
       "      <td>0.772549</td>\n",
       "      <td>0.823529</td>\n",
       "      <td>0.647059</td>\n",
       "      <td>...</td>\n",
       "      <td>0.435294</td>\n",
       "      <td>0.509804</td>\n",
       "      <td>0.537255</td>\n",
       "      <td>0.431373</td>\n",
       "      <td>0.494118</td>\n",
       "      <td>0.533333</td>\n",
       "      <td>0.380392</td>\n",
       "      <td>0.431373</td>\n",
       "      <td>0.474510</td>\n",
       "      <td>2</td>\n",
       "    </tr>\n",
       "    <tr>\n",
       "      <th>197</th>\n",
       "      <td>0.552941</td>\n",
       "      <td>0.537255</td>\n",
       "      <td>0.290196</td>\n",
       "      <td>0.552941</td>\n",
       "      <td>0.537255</td>\n",
       "      <td>0.286275</td>\n",
       "      <td>0.545098</td>\n",
       "      <td>0.533333</td>\n",
       "      <td>0.274510</td>\n",
       "      <td>0.541176</td>\n",
       "      <td>...</td>\n",
       "      <td>0.227451</td>\n",
       "      <td>0.227451</td>\n",
       "      <td>0.227451</td>\n",
       "      <td>0.231373</td>\n",
       "      <td>0.231373</td>\n",
       "      <td>0.231373</td>\n",
       "      <td>0.227451</td>\n",
       "      <td>0.227451</td>\n",
       "      <td>0.227451</td>\n",
       "      <td>3</td>\n",
       "    </tr>\n",
       "    <tr>\n",
       "      <th>54028</th>\n",
       "      <td>0.000000</td>\n",
       "      <td>0.000000</td>\n",
       "      <td>0.000000</td>\n",
       "      <td>0.000000</td>\n",
       "      <td>0.000000</td>\n",
       "      <td>0.000000</td>\n",
       "      <td>0.000000</td>\n",
       "      <td>0.000000</td>\n",
       "      <td>0.000000</td>\n",
       "      <td>0.000000</td>\n",
       "      <td>...</td>\n",
       "      <td>0.898039</td>\n",
       "      <td>0.674510</td>\n",
       "      <td>0.525490</td>\n",
       "      <td>0.901961</td>\n",
       "      <td>0.678431</td>\n",
       "      <td>0.525490</td>\n",
       "      <td>0.898039</td>\n",
       "      <td>0.674510</td>\n",
       "      <td>0.521569</td>\n",
       "      <td>2</td>\n",
       "    </tr>\n",
       "    <tr>\n",
       "      <th>74301</th>\n",
       "      <td>0.007843</td>\n",
       "      <td>0.007843</td>\n",
       "      <td>0.007843</td>\n",
       "      <td>0.007843</td>\n",
       "      <td>0.007843</td>\n",
       "      <td>0.007843</td>\n",
       "      <td>0.007843</td>\n",
       "      <td>0.007843</td>\n",
       "      <td>0.007843</td>\n",
       "      <td>0.007843</td>\n",
       "      <td>...</td>\n",
       "      <td>0.243137</td>\n",
       "      <td>0.239216</td>\n",
       "      <td>0.231373</td>\n",
       "      <td>0.149020</td>\n",
       "      <td>0.145098</td>\n",
       "      <td>0.137255</td>\n",
       "      <td>0.164706</td>\n",
       "      <td>0.160784</td>\n",
       "      <td>0.152941</td>\n",
       "      <td>0</td>\n",
       "    </tr>\n",
       "    <tr>\n",
       "      <th>79617</th>\n",
       "      <td>0.486275</td>\n",
       "      <td>0.486275</td>\n",
       "      <td>0.486275</td>\n",
       "      <td>0.490196</td>\n",
       "      <td>0.490196</td>\n",
       "      <td>0.490196</td>\n",
       "      <td>0.486275</td>\n",
       "      <td>0.486275</td>\n",
       "      <td>0.486275</td>\n",
       "      <td>0.466667</td>\n",
       "      <td>...</td>\n",
       "      <td>0.188235</td>\n",
       "      <td>0.188235</td>\n",
       "      <td>0.180392</td>\n",
       "      <td>0.172549</td>\n",
       "      <td>0.172549</td>\n",
       "      <td>0.164706</td>\n",
       "      <td>0.168627</td>\n",
       "      <td>0.168627</td>\n",
       "      <td>0.160784</td>\n",
       "      <td>0</td>\n",
       "    </tr>\n",
       "  </tbody>\n",
       "</table>\n",
       "<p>5 rows × 6913 columns</p>\n",
       "</div>"
      ],
      "text/plain": [
       "            0_x         1         2         3         4         5         6  \\\n",
       "35088  0.639216  0.764706  0.815686  0.647059  0.772549  0.823529  0.647059   \n",
       "197    0.552941  0.537255  0.290196  0.552941  0.537255  0.286275  0.545098   \n",
       "54028  0.000000  0.000000  0.000000  0.000000  0.000000  0.000000  0.000000   \n",
       "74301  0.007843  0.007843  0.007843  0.007843  0.007843  0.007843  0.007843   \n",
       "79617  0.486275  0.486275  0.486275  0.490196  0.490196  0.490196  0.486275   \n",
       "\n",
       "              7         8         9  ...      6903      6904      6905  \\\n",
       "35088  0.772549  0.823529  0.647059  ...  0.435294  0.509804  0.537255   \n",
       "197    0.533333  0.274510  0.541176  ...  0.227451  0.227451  0.227451   \n",
       "54028  0.000000  0.000000  0.000000  ...  0.898039  0.674510  0.525490   \n",
       "74301  0.007843  0.007843  0.007843  ...  0.243137  0.239216  0.231373   \n",
       "79617  0.486275  0.486275  0.466667  ...  0.188235  0.188235  0.180392   \n",
       "\n",
       "           6906      6907      6908      6909      6910      6911  0_y  \n",
       "35088  0.431373  0.494118  0.533333  0.380392  0.431373  0.474510    2  \n",
       "197    0.231373  0.231373  0.231373  0.227451  0.227451  0.227451    3  \n",
       "54028  0.901961  0.678431  0.525490  0.898039  0.674510  0.521569    2  \n",
       "74301  0.149020  0.145098  0.137255  0.164706  0.160784  0.152941    0  \n",
       "79617  0.172549  0.172549  0.164706  0.168627  0.168627  0.160784    0  \n",
       "\n",
       "[5 rows x 6913 columns]"
      ]
     },
     "execution_count": 32,
     "metadata": {},
     "output_type": "execute_result"
    }
   ],
   "source": [
    "Train_sub_sample.head()"
   ]
  },
  {
   "cell_type": "code",
   "execution_count": 36,
   "metadata": {},
   "outputs": [
    {
     "data": {
      "text/plain": [
       "(19991, 6913)"
      ]
     },
     "execution_count": 36,
     "metadata": {},
     "output_type": "execute_result"
    }
   ],
   "source": [
    "Train_sub_sample.shape"
   ]
  },
  {
   "cell_type": "code",
   "execution_count": 33,
   "metadata": {},
   "outputs": [],
   "source": [
    "Val_sub_sample = Val_wholedata.sample(frac=0.171) # selecting 17% of the data as validation sample"
   ]
  },
  {
   "cell_type": "code",
   "execution_count": 34,
   "metadata": {},
   "outputs": [
    {
     "data": {
      "text/html": [
       "<div>\n",
       "<style scoped>\n",
       "    .dataframe tbody tr th:only-of-type {\n",
       "        vertical-align: middle;\n",
       "    }\n",
       "\n",
       "    .dataframe tbody tr th {\n",
       "        vertical-align: top;\n",
       "    }\n",
       "\n",
       "    .dataframe thead th {\n",
       "        text-align: right;\n",
       "    }\n",
       "</style>\n",
       "<table border=\"1\" class=\"dataframe\">\n",
       "  <thead>\n",
       "    <tr style=\"text-align: right;\">\n",
       "      <th></th>\n",
       "      <th>0_x</th>\n",
       "      <th>1</th>\n",
       "      <th>2</th>\n",
       "      <th>3</th>\n",
       "      <th>4</th>\n",
       "      <th>5</th>\n",
       "      <th>6</th>\n",
       "      <th>7</th>\n",
       "      <th>8</th>\n",
       "      <th>9</th>\n",
       "      <th>...</th>\n",
       "      <th>6903</th>\n",
       "      <th>6904</th>\n",
       "      <th>6905</th>\n",
       "      <th>6906</th>\n",
       "      <th>6907</th>\n",
       "      <th>6908</th>\n",
       "      <th>6909</th>\n",
       "      <th>6910</th>\n",
       "      <th>6911</th>\n",
       "      <th>0_y</th>\n",
       "    </tr>\n",
       "  </thead>\n",
       "  <tbody>\n",
       "    <tr>\n",
       "      <th>6494</th>\n",
       "      <td>0.152941</td>\n",
       "      <td>0.152941</td>\n",
       "      <td>0.121569</td>\n",
       "      <td>0.152941</td>\n",
       "      <td>0.152941</td>\n",
       "      <td>0.121569</td>\n",
       "      <td>0.152941</td>\n",
       "      <td>0.152941</td>\n",
       "      <td>0.121569</td>\n",
       "      <td>0.160784</td>\n",
       "      <td>...</td>\n",
       "      <td>0.160784</td>\n",
       "      <td>0.176471</td>\n",
       "      <td>0.188235</td>\n",
       "      <td>0.152941</td>\n",
       "      <td>0.164706</td>\n",
       "      <td>0.176471</td>\n",
       "      <td>0.156863</td>\n",
       "      <td>0.172549</td>\n",
       "      <td>0.180392</td>\n",
       "      <td>3</td>\n",
       "    </tr>\n",
       "    <tr>\n",
       "      <th>5653</th>\n",
       "      <td>0.427451</td>\n",
       "      <td>0.427451</td>\n",
       "      <td>0.427451</td>\n",
       "      <td>0.427451</td>\n",
       "      <td>0.427451</td>\n",
       "      <td>0.427451</td>\n",
       "      <td>0.427451</td>\n",
       "      <td>0.427451</td>\n",
       "      <td>0.427451</td>\n",
       "      <td>0.427451</td>\n",
       "      <td>...</td>\n",
       "      <td>0.752941</td>\n",
       "      <td>0.027451</td>\n",
       "      <td>0.074510</td>\n",
       "      <td>0.662745</td>\n",
       "      <td>0.011765</td>\n",
       "      <td>0.031373</td>\n",
       "      <td>0.603922</td>\n",
       "      <td>0.047059</td>\n",
       "      <td>0.098039</td>\n",
       "      <td>0</td>\n",
       "    </tr>\n",
       "    <tr>\n",
       "      <th>716</th>\n",
       "      <td>0.015686</td>\n",
       "      <td>0.035294</td>\n",
       "      <td>0.019608</td>\n",
       "      <td>0.015686</td>\n",
       "      <td>0.035294</td>\n",
       "      <td>0.019608</td>\n",
       "      <td>0.011765</td>\n",
       "      <td>0.031373</td>\n",
       "      <td>0.015686</td>\n",
       "      <td>0.015686</td>\n",
       "      <td>...</td>\n",
       "      <td>0.615686</td>\n",
       "      <td>0.631373</td>\n",
       "      <td>0.635294</td>\n",
       "      <td>0.584314</td>\n",
       "      <td>0.600000</td>\n",
       "      <td>0.603922</td>\n",
       "      <td>0.639216</td>\n",
       "      <td>0.654902</td>\n",
       "      <td>0.654902</td>\n",
       "      <td>0</td>\n",
       "    </tr>\n",
       "    <tr>\n",
       "      <th>5215</th>\n",
       "      <td>0.019608</td>\n",
       "      <td>0.054902</td>\n",
       "      <td>0.011765</td>\n",
       "      <td>0.011765</td>\n",
       "      <td>0.035294</td>\n",
       "      <td>0.023529</td>\n",
       "      <td>0.019608</td>\n",
       "      <td>0.027451</td>\n",
       "      <td>0.035294</td>\n",
       "      <td>0.015686</td>\n",
       "      <td>...</td>\n",
       "      <td>0.921569</td>\n",
       "      <td>0.823529</td>\n",
       "      <td>0.776471</td>\n",
       "      <td>0.949020</td>\n",
       "      <td>0.866667</td>\n",
       "      <td>0.815686</td>\n",
       "      <td>0.996078</td>\n",
       "      <td>0.917647</td>\n",
       "      <td>0.874510</td>\n",
       "      <td>2</td>\n",
       "    </tr>\n",
       "    <tr>\n",
       "      <th>10916</th>\n",
       "      <td>0.839216</td>\n",
       "      <td>0.819608</td>\n",
       "      <td>0.807843</td>\n",
       "      <td>0.839216</td>\n",
       "      <td>0.823529</td>\n",
       "      <td>0.811765</td>\n",
       "      <td>0.850980</td>\n",
       "      <td>0.850980</td>\n",
       "      <td>0.831373</td>\n",
       "      <td>0.858824</td>\n",
       "      <td>...</td>\n",
       "      <td>0.101961</td>\n",
       "      <td>0.062745</td>\n",
       "      <td>0.054902</td>\n",
       "      <td>0.105882</td>\n",
       "      <td>0.066667</td>\n",
       "      <td>0.058824</td>\n",
       "      <td>0.121569</td>\n",
       "      <td>0.082353</td>\n",
       "      <td>0.066667</td>\n",
       "      <td>0</td>\n",
       "    </tr>\n",
       "  </tbody>\n",
       "</table>\n",
       "<p>5 rows × 6913 columns</p>\n",
       "</div>"
      ],
      "text/plain": [
       "            0_x         1         2         3         4         5         6  \\\n",
       "6494   0.152941  0.152941  0.121569  0.152941  0.152941  0.121569  0.152941   \n",
       "5653   0.427451  0.427451  0.427451  0.427451  0.427451  0.427451  0.427451   \n",
       "716    0.015686  0.035294  0.019608  0.015686  0.035294  0.019608  0.011765   \n",
       "5215   0.019608  0.054902  0.011765  0.011765  0.035294  0.023529  0.019608   \n",
       "10916  0.839216  0.819608  0.807843  0.839216  0.823529  0.811765  0.850980   \n",
       "\n",
       "              7         8         9  ...      6903      6904      6905  \\\n",
       "6494   0.152941  0.121569  0.160784  ...  0.160784  0.176471  0.188235   \n",
       "5653   0.427451  0.427451  0.427451  ...  0.752941  0.027451  0.074510   \n",
       "716    0.031373  0.015686  0.015686  ...  0.615686  0.631373  0.635294   \n",
       "5215   0.027451  0.035294  0.015686  ...  0.921569  0.823529  0.776471   \n",
       "10916  0.850980  0.831373  0.858824  ...  0.101961  0.062745  0.054902   \n",
       "\n",
       "           6906      6907      6908      6909      6910      6911  0_y  \n",
       "6494   0.152941  0.164706  0.176471  0.156863  0.172549  0.180392    3  \n",
       "5653   0.662745  0.011765  0.031373  0.603922  0.047059  0.098039    0  \n",
       "716    0.584314  0.600000  0.603922  0.639216  0.654902  0.654902    0  \n",
       "5215   0.949020  0.866667  0.815686  0.996078  0.917647  0.874510    2  \n",
       "10916  0.105882  0.066667  0.058824  0.121569  0.082353  0.066667    0  \n",
       "\n",
       "[5 rows x 6913 columns]"
      ]
     },
     "execution_count": 34,
     "metadata": {},
     "output_type": "execute_result"
    }
   ],
   "source": [
    "Val_sub_sample.head()"
   ]
  },
  {
   "cell_type": "markdown",
   "metadata": {},
   "source": [
    "<h4><font color ='purple'>Preparing the data ready for the model to fit on:</font></h4> "
   ]
  },
  {
   "cell_type": "code",
   "execution_count": 35,
   "metadata": {},
   "outputs": [
    {
     "name": "stdout",
     "output_type": "stream",
     "text": [
      "(19991, 6912)\n",
      "(19991,)\n"
     ]
    }
   ],
   "source": [
    "# Training Sub sample \n",
    "Train_Sub_x = Train_sub_sample.drop(['0_y'], axis =1)\n",
    "Train_Sub_y = Train_sub_sample['0_y']\n",
    "print(Train_Sub_x.shape)\n",
    "print(Train_Sub_y.shape)"
   ]
  },
  {
   "cell_type": "code",
   "execution_count": 37,
   "metadata": {},
   "outputs": [
    {
     "name": "stdout",
     "output_type": "stream",
     "text": [
      "(2098, 6912)\n",
      "(2098,)\n"
     ]
    }
   ],
   "source": [
    "# validation sub sample\n",
    "Val_Sub_x = Val_sub_sample.drop(['0_y'], axis =1)\n",
    "Val_Sub_y = Val_sub_sample['0_y']\n",
    "print(Val_Sub_x.shape)\n",
    "print(Val_Sub_y.shape)"
   ]
  },
  {
   "cell_type": "markdown",
   "metadata": {},
   "source": [
    "<h3><font color ='coral'>2) Model Fitting :</font></h3>\n",
    "    SVM Model is fitted on the Training sub sample of size and shape (19991, 6912) and is validated on the validation sub sample of size and shape (2098, 6912). At first we first fit the model with default parameters and compare this result with later model with best parameters. \n",
    "    \n",
    "    1. Model 1: SVM with default Parameters.\n",
    "    2. Model 2: SVM with Hyper parameter to select the best paramters\n",
    "    3. Model 3: Selected SVM with Best Parameters."
   ]
  },
  {
   "cell_type": "markdown",
   "metadata": {},
   "source": [
    "<h3><font color ='brown'>Model 1: SVM with default parameters</font></h3>"
   ]
  },
  {
   "cell_type": "code",
   "execution_count": 38,
   "metadata": {},
   "outputs": [],
   "source": [
    "model = SVC(gamma='auto')\n",
    "model = model.fit(Train_Sub_x, Train_Sub_y)\n",
    "# 30 min"
   ]
  },
  {
   "cell_type": "code",
   "execution_count": 39,
   "metadata": {},
   "outputs": [
    {
     "name": "stdout",
     "output_type": "stream",
     "text": [
      "Accuracy score for Train is: 0.7804512030413686\n",
      "Accuracy score for validation is: 0.7569113441372736\n"
     ]
    }
   ],
   "source": [
    "Train_pred = model.predict(Train_Sub_x)\n",
    "print(\"Accuracy score for Train is:\",accuracy_score(Train_Sub_y, Train_pred))\n",
    "Val_pred = model.predict(Val_Sub_x)\n",
    "print(\"Accuracy score for validation is:\",accuracy_score(Val_Sub_y, Val_pred))"
   ]
  },
  {
   "cell_type": "markdown",
   "metadata": {},
   "source": [
    "<h4><font color ='purple'>Results Interpretation for SVM with default parameters:</font></h4>\n",
    "1. we can see that the accuracy scores of traing and validation data is looking good, but the model seems to overfit the data a bit.\n",
    "2. As the model seems promising we now try to change the Parametrs and find the model with optimal parameters for predicting. "
   ]
  },
  {
   "cell_type": "markdown",
   "metadata": {},
   "source": [
    "<h3><font color ='brown'>Model 2: SVM with Hyper parameter Tuning to select the best parameters:</font></h3>\n",
    "SVM does allows a wide range of parameters to tune so, I will be lloking at C, Gamma parameters due to the time complexity nature of SVM I didn't had a chance of running the model with different Gamma Values   "
   ]
  },
  {
   "cell_type": "code",
   "execution_count": 40,
   "metadata": {},
   "outputs": [
    {
     "name": "stdout",
     "output_type": "stream",
     "text": [
      "Accuracy score with 10 for C for validation is: 0.8126787416587226\n",
      "Accuracy score with 10 for c for train is: 0.8624380971437147\n",
      "Accuracy score with 25 for C for validation is: 0.8260247855100096\n",
      "Accuracy score with 25 for c for train is: 0.8922014906708019\n",
      "Accuracy score with 50 for C for validation is: 0.8255481410867492\n",
      "Accuracy score with 50 for c for train is: 0.9161622730228602\n",
      "Accuracy score with 75 for C for validation is: 0.8236415633937083\n",
      "Accuracy score with 75 for c for train is: 0.9345705567505378\n"
     ]
    },
    {
     "ename": "KeyboardInterrupt",
     "evalue": "",
     "output_type": "error",
     "traceback": [
      "\u001b[1;31m---------------------------------------------------------------------------\u001b[0m",
      "\u001b[1;31mKeyboardInterrupt\u001b[0m                         Traceback (most recent call last)",
      "\u001b[1;32m<ipython-input-40-58252e5ca337>\u001b[0m in \u001b[0;36m<module>\u001b[1;34m\u001b[0m\n\u001b[0;32m      4\u001b[0m \u001b[1;32mfor\u001b[0m \u001b[0me\u001b[0m \u001b[1;32min\u001b[0m \u001b[0mc\u001b[0m\u001b[1;33m:\u001b[0m\u001b[1;33m\u001b[0m\u001b[1;33m\u001b[0m\u001b[0m\n\u001b[0;32m      5\u001b[0m     \u001b[0mmodel\u001b[0m \u001b[1;33m=\u001b[0m \u001b[0mSVC\u001b[0m\u001b[1;33m(\u001b[0m\u001b[0mC\u001b[0m\u001b[1;33m=\u001b[0m\u001b[0me\u001b[0m\u001b[1;33m,\u001b[0m \u001b[0mgamma\u001b[0m\u001b[1;33m=\u001b[0m\u001b[1;34m'auto'\u001b[0m\u001b[1;33m,\u001b[0m \u001b[0mrandom_state\u001b[0m \u001b[1;33m=\u001b[0m \u001b[1;36m26\u001b[0m\u001b[1;33m)\u001b[0m\u001b[1;33m\u001b[0m\u001b[1;33m\u001b[0m\u001b[0m\n\u001b[1;32m----> 6\u001b[1;33m     \u001b[0mmodel\u001b[0m \u001b[1;33m=\u001b[0m \u001b[0mmodel\u001b[0m\u001b[1;33m.\u001b[0m\u001b[0mfit\u001b[0m\u001b[1;33m(\u001b[0m\u001b[0mTrain_Sub_x\u001b[0m\u001b[1;33m,\u001b[0m \u001b[0mTrain_Sub_y\u001b[0m\u001b[1;33m)\u001b[0m\u001b[1;33m\u001b[0m\u001b[1;33m\u001b[0m\u001b[0m\n\u001b[0m\u001b[0;32m      7\u001b[0m     \u001b[0mVal_pred\u001b[0m \u001b[1;33m=\u001b[0m \u001b[0mmodel\u001b[0m\u001b[1;33m.\u001b[0m\u001b[0mpredict\u001b[0m\u001b[1;33m(\u001b[0m\u001b[0mVal_Sub_x\u001b[0m\u001b[1;33m)\u001b[0m\u001b[1;33m\u001b[0m\u001b[1;33m\u001b[0m\u001b[0m\n\u001b[0;32m      8\u001b[0m     \u001b[0mVal_Score\u001b[0m \u001b[1;33m=\u001b[0m \u001b[0maccuracy_score\u001b[0m\u001b[1;33m(\u001b[0m\u001b[0mVal_Sub_y\u001b[0m\u001b[1;33m,\u001b[0m \u001b[0mVal_pred\u001b[0m\u001b[1;33m)\u001b[0m\u001b[1;33m\u001b[0m\u001b[1;33m\u001b[0m\u001b[0m\n",
      "\u001b[1;32mC:\\ProgramData\\Anaconda3\\lib\\site-packages\\sklearn\\svm\\_base.py\u001b[0m in \u001b[0;36mfit\u001b[1;34m(self, X, y, sample_weight)\u001b[0m\n\u001b[0;32m    197\u001b[0m \u001b[1;33m\u001b[0m\u001b[0m\n\u001b[0;32m    198\u001b[0m         \u001b[0mseed\u001b[0m \u001b[1;33m=\u001b[0m \u001b[0mrnd\u001b[0m\u001b[1;33m.\u001b[0m\u001b[0mrandint\u001b[0m\u001b[1;33m(\u001b[0m\u001b[0mnp\u001b[0m\u001b[1;33m.\u001b[0m\u001b[0miinfo\u001b[0m\u001b[1;33m(\u001b[0m\u001b[1;34m'i'\u001b[0m\u001b[1;33m)\u001b[0m\u001b[1;33m.\u001b[0m\u001b[0mmax\u001b[0m\u001b[1;33m)\u001b[0m\u001b[1;33m\u001b[0m\u001b[1;33m\u001b[0m\u001b[0m\n\u001b[1;32m--> 199\u001b[1;33m         \u001b[0mfit\u001b[0m\u001b[1;33m(\u001b[0m\u001b[0mX\u001b[0m\u001b[1;33m,\u001b[0m \u001b[0my\u001b[0m\u001b[1;33m,\u001b[0m \u001b[0msample_weight\u001b[0m\u001b[1;33m,\u001b[0m \u001b[0msolver_type\u001b[0m\u001b[1;33m,\u001b[0m \u001b[0mkernel\u001b[0m\u001b[1;33m,\u001b[0m \u001b[0mrandom_seed\u001b[0m\u001b[1;33m=\u001b[0m\u001b[0mseed\u001b[0m\u001b[1;33m)\u001b[0m\u001b[1;33m\u001b[0m\u001b[1;33m\u001b[0m\u001b[0m\n\u001b[0m\u001b[0;32m    200\u001b[0m         \u001b[1;31m# see comment on the other call to np.iinfo in this file\u001b[0m\u001b[1;33m\u001b[0m\u001b[1;33m\u001b[0m\u001b[1;33m\u001b[0m\u001b[0m\n\u001b[0;32m    201\u001b[0m \u001b[1;33m\u001b[0m\u001b[0m\n",
      "\u001b[1;32mC:\\ProgramData\\Anaconda3\\lib\\site-packages\\sklearn\\svm\\_base.py\u001b[0m in \u001b[0;36m_dense_fit\u001b[1;34m(self, X, y, sample_weight, solver_type, kernel, random_seed)\u001b[0m\n\u001b[0;32m    256\u001b[0m                 \u001b[0mcache_size\u001b[0m\u001b[1;33m=\u001b[0m\u001b[0mself\u001b[0m\u001b[1;33m.\u001b[0m\u001b[0mcache_size\u001b[0m\u001b[1;33m,\u001b[0m \u001b[0mcoef0\u001b[0m\u001b[1;33m=\u001b[0m\u001b[0mself\u001b[0m\u001b[1;33m.\u001b[0m\u001b[0mcoef0\u001b[0m\u001b[1;33m,\u001b[0m\u001b[1;33m\u001b[0m\u001b[1;33m\u001b[0m\u001b[0m\n\u001b[0;32m    257\u001b[0m                 \u001b[0mgamma\u001b[0m\u001b[1;33m=\u001b[0m\u001b[0mself\u001b[0m\u001b[1;33m.\u001b[0m\u001b[0m_gamma\u001b[0m\u001b[1;33m,\u001b[0m \u001b[0mepsilon\u001b[0m\u001b[1;33m=\u001b[0m\u001b[0mself\u001b[0m\u001b[1;33m.\u001b[0m\u001b[0mepsilon\u001b[0m\u001b[1;33m,\u001b[0m\u001b[1;33m\u001b[0m\u001b[1;33m\u001b[0m\u001b[0m\n\u001b[1;32m--> 258\u001b[1;33m                 max_iter=self.max_iter, random_seed=random_seed)\n\u001b[0m\u001b[0;32m    259\u001b[0m \u001b[1;33m\u001b[0m\u001b[0m\n\u001b[0;32m    260\u001b[0m         \u001b[0mself\u001b[0m\u001b[1;33m.\u001b[0m\u001b[0m_warn_from_fit_status\u001b[0m\u001b[1;33m(\u001b[0m\u001b[1;33m)\u001b[0m\u001b[1;33m\u001b[0m\u001b[1;33m\u001b[0m\u001b[0m\n",
      "\u001b[1;31mKeyboardInterrupt\u001b[0m: "
     ]
    }
   ],
   "source": [
    "# fitting the model for several C values\n",
    "c = [10,25,50,75,100, 123]\n",
    "Train_Acc_Score = []\n",
    "Valid_Acc_Score = []\n",
    "for e in c:\n",
    "    model = SVC(C=e, gamma='auto', random_state = 26)\n",
    "    model = model.fit(Train_Sub_x, Train_Sub_y)\n",
    "    Val_pred = model.predict(Val_Sub_x)\n",
    "    Val_Score = accuracy_score(Val_Sub_y, Val_pred)\n",
    "    Valid_Acc_Score.append(Val_Score)\n",
    "    print(\"Accuracy score with \"+str(e)+\" for C for validation is:\",Val_Score)\n",
    "    Train_pred = model.predict(Train_Sub_x)\n",
    "    Train_Score = accuracy_score(Train_Sub_y, Train_pred)\n",
    "    Train_Acc_Score.append(Train_Score)\n",
    "    print(\"Accuracy score with \"+str(e)+\" for c for train is:\",Train_Score)"
   ]
  },
  {
   "cell_type": "code",
   "execution_count": 41,
   "metadata": {},
   "outputs": [
    {
     "name": "stdout",
     "output_type": "stream",
     "text": [
      "[0.8624380971437147, 0.8922014906708019, 0.9161622730228602, 0.9345705567505378]\n",
      "[0.8126787416587226, 0.8260247855100096, 0.8255481410867492, 0.8236415633937083]\n"
     ]
    }
   ],
   "source": [
    "print(Train_Acc_Score)\n",
    "print(Valid_Acc_Score)"
   ]
  },
  {
   "cell_type": "code",
   "execution_count": 44,
   "metadata": {},
   "outputs": [
    {
     "data": {
      "text/plain": [
       "<matplotlib.legend.Legend at 0x26a782f1108>"
      ]
     },
     "execution_count": 44,
     "metadata": {},
     "output_type": "execute_result"
    },
    {
     "data": {
      "image/png": "[encoded data removed]",
      "text/plain": [
       "<Figure size 1080x432 with 1 Axes>"
      ]
     },
     "metadata": {
      "needs_background": "light"
     },
     "output_type": "display_data"
    }
   ],
   "source": [
    "c = [10,25,50,75]\n",
    "plt.figure(figsize=(15,6))\n",
    "plt.plot(c, Train_Acc_Score,label = \"Train\", color='g')\n",
    "plt.plot(c, Valid_Acc_Score, label = \"Test\", color='r')\n",
    "plt.ylabel(\"Accuracy\")\n",
    "plt.xlabel(\"C\")\n",
    "plt.title(\"Accuracy vs C\")\n",
    "plt.legend()"
   ]
  },
  {
   "cell_type": "markdown",
   "metadata": {},
   "source": [
    "<h4><font color ='purple'>Results Interpretation for SVM with different C:</font></h4>\n",
    "    As the SVM is very time consuming paramter tuning is taking too much time so, I did considered the accuracy score up untill C = 75 plus we can even see that there is no increase in validation accuracy score after C = 25 as the difference between the accuracy test score and validation score is increasing. The Training accuracy is 89.2and Validation accuracy is 82.6 which looks better when compared to the model with default parameters but the model does overfitting the data. So far from this Parameter tuning we consider to go further with C = 25 due to the less training error when compared to error rate of model with other values for C.\n",
    "    \n",
    "    Since the model looks promissing I will be going further to predict the labels for the test data and submit those in the Kaggle in class compitetion inorder to understand the model's performance on the public data."
   ]
  },
  {
   "cell_type": "markdown",
   "metadata": {},
   "source": [
    "<h4><font color ='purple'>Loading the Test Dataset and Normalizing: Test Dataset shape (11921, 48, 48, 3)</font></h4>"
   ]
  },
  {
   "cell_type": "code",
   "execution_count": 47,
   "metadata": {},
   "outputs": [],
   "source": [
    "# reading the test data files\n",
    "images_test_public = np.load(join(dataset_directory, 'test_public_images.npy'))\n",
    "files_test_public = np.load(join(dataset_directory, 'test_public_files.npy'))\n",
    "images_test_public_rs = images_test_public.reshape([-1, image_size, image_size, 3]) / 255.0"
   ]
  },
  {
   "cell_type": "code",
   "execution_count": 48,
   "metadata": {},
   "outputs": [
    {
     "data": {
      "text/plain": [
       "6912"
      ]
     },
     "execution_count": 48,
     "metadata": {},
     "output_type": "execute_result"
    }
   ],
   "source": [
    "Features3 = images_test_public_rs.shape[1]*images_test_public_rs.shape[2]*images_test_public_rs.shape[3]\n",
    "Features3"
   ]
  },
  {
   "cell_type": "markdown",
   "metadata": {},
   "source": [
    "<h4><font color ='purple'>Reshaping the Normalized Test DataSet: Validation Dataset Shape (11921, 6912)</font></h4>"
   ]
  },
  {
   "cell_type": "code",
   "execution_count": 49,
   "metadata": {},
   "outputs": [
    {
     "name": "stdout",
     "output_type": "stream",
     "text": [
      "(11921, 6912)\n"
     ]
    }
   ],
   "source": [
    "lst4 = [None] * images_test_public_rs.shape[0] # creating an empty array of size 98479\n",
    "for i in range(images_test_public_rs.shape[0]):\n",
    "    lst4[i] = images_test_public_rs[i].reshape([-1]) # reshaping each picture to 6912 features and storing it in lst1\n",
    "#print(lst)\n",
    "z = np.array(lst4).reshape(images_test_public_rs.shape[0],Features3) # converting the list to an array\n",
    "print(z.shape)"
   ]
  },
  {
   "cell_type": "markdown",
   "metadata": {},
   "source": [
    "<h4><font color ='purple'>Fitting the Model 2 on the Sub sample and predicting the labels for the test data</font></h4>"
   ]
  },
  {
   "cell_type": "code",
   "execution_count": 53,
   "metadata": {},
   "outputs": [],
   "source": [
    "model = SVC(C=25, gamma='auto', random_state = 26)\n",
    "model = model.fit(Train_Sub_x, Train_Sub_y)\n",
    "Val_pred = model.predict(z)"
   ]
  },
  {
   "cell_type": "code",
   "execution_count": 54,
   "metadata": {},
   "outputs": [
    {
     "data": {
      "text/html": [
       "<div>\n",
       "<style scoped>\n",
       "    .dataframe tbody tr th:only-of-type {\n",
       "        vertical-align: middle;\n",
       "    }\n",
       "\n",
       "    .dataframe tbody tr th {\n",
       "        vertical-align: top;\n",
       "    }\n",
       "\n",
       "    .dataframe thead th {\n",
       "        text-align: right;\n",
       "    }\n",
       "</style>\n",
       "<table border=\"1\" class=\"dataframe\">\n",
       "  <thead>\n",
       "    <tr style=\"text-align: right;\">\n",
       "      <th></th>\n",
       "      <th>Prediction</th>\n",
       "    </tr>\n",
       "  </thead>\n",
       "  <tbody>\n",
       "    <tr>\n",
       "      <th>11916</th>\n",
       "      <td>1</td>\n",
       "    </tr>\n",
       "    <tr>\n",
       "      <th>11917</th>\n",
       "      <td>1</td>\n",
       "    </tr>\n",
       "    <tr>\n",
       "      <th>11918</th>\n",
       "      <td>0</td>\n",
       "    </tr>\n",
       "    <tr>\n",
       "      <th>11919</th>\n",
       "      <td>0</td>\n",
       "    </tr>\n",
       "    <tr>\n",
       "      <th>11920</th>\n",
       "      <td>1</td>\n",
       "    </tr>\n",
       "  </tbody>\n",
       "</table>\n",
       "</div>"
      ],
      "text/plain": [
       "       Prediction\n",
       "11916           1\n",
       "11917           1\n",
       "11918           0\n",
       "11919           0\n",
       "11920           1"
      ]
     },
     "execution_count": 54,
     "metadata": {},
     "output_type": "execute_result"
    }
   ],
   "source": [
    "df1 = pd.DataFrame(Val_pred, columns=['Prediction'])\n",
    "df1.tail() # creating a data frame for predicted values"
   ]
  },
  {
   "cell_type": "code",
   "execution_count": 55,
   "metadata": {},
   "outputs": [
    {
     "data": {
      "text/html": [
       "<div>\n",
       "<style scoped>\n",
       "    .dataframe tbody tr th:only-of-type {\n",
       "        vertical-align: middle;\n",
       "    }\n",
       "\n",
       "    .dataframe tbody tr th {\n",
       "        vertical-align: top;\n",
       "    }\n",
       "\n",
       "    .dataframe thead th {\n",
       "        text-align: right;\n",
       "    }\n",
       "</style>\n",
       "<table border=\"1\" class=\"dataframe\">\n",
       "  <thead>\n",
       "    <tr style=\"text-align: right;\">\n",
       "      <th></th>\n",
       "      <th>ID</th>\n",
       "    </tr>\n",
       "  </thead>\n",
       "  <tbody>\n",
       "    <tr>\n",
       "      <th>11916</th>\n",
       "      <td>202595.jpg</td>\n",
       "    </tr>\n",
       "    <tr>\n",
       "      <th>11917</th>\n",
       "      <td>202596.jpg</td>\n",
       "    </tr>\n",
       "    <tr>\n",
       "      <th>11918</th>\n",
       "      <td>202597.jpg</td>\n",
       "    </tr>\n",
       "    <tr>\n",
       "      <th>11919</th>\n",
       "      <td>202598.jpg</td>\n",
       "    </tr>\n",
       "    <tr>\n",
       "      <th>11920</th>\n",
       "      <td>202599.jpg</td>\n",
       "    </tr>\n",
       "  </tbody>\n",
       "</table>\n",
       "</div>"
      ],
      "text/plain": [
       "               ID\n",
       "11916  202595.jpg\n",
       "11917  202596.jpg\n",
       "11918  202597.jpg\n",
       "11919  202598.jpg\n",
       "11920  202599.jpg"
      ]
     },
     "execution_count": 55,
     "metadata": {},
     "output_type": "execute_result"
    }
   ],
   "source": [
    "df2 = pd.DataFrame(files_test_public, columns=['ID'])\n",
    "df2.tail() # creating a data frame for files_val which contains image names"
   ]
  },
  {
   "cell_type": "code",
   "execution_count": 56,
   "metadata": {},
   "outputs": [],
   "source": [
    "# Joining the two data frames through the index\n",
    "Test_Public_pred_Acc_testpurpose_45693242 = df2.merge(df1, left_index=True, right_index=True)"
   ]
  },
  {
   "cell_type": "code",
   "execution_count": 57,
   "metadata": {},
   "outputs": [
    {
     "data": {
      "text/html": [
       "<div>\n",
       "<style scoped>\n",
       "    .dataframe tbody tr th:only-of-type {\n",
       "        vertical-align: middle;\n",
       "    }\n",
       "\n",
       "    .dataframe tbody tr th {\n",
       "        vertical-align: top;\n",
       "    }\n",
       "\n",
       "    .dataframe thead th {\n",
       "        text-align: right;\n",
       "    }\n",
       "</style>\n",
       "<table border=\"1\" class=\"dataframe\">\n",
       "  <thead>\n",
       "    <tr style=\"text-align: right;\">\n",
       "      <th></th>\n",
       "      <th>ID</th>\n",
       "      <th>Prediction</th>\n",
       "    </tr>\n",
       "  </thead>\n",
       "  <tbody>\n",
       "    <tr>\n",
       "      <th>0</th>\n",
       "      <td>182639.jpg</td>\n",
       "      <td>0</td>\n",
       "    </tr>\n",
       "    <tr>\n",
       "      <th>1</th>\n",
       "      <td>182640.jpg</td>\n",
       "      <td>2</td>\n",
       "    </tr>\n",
       "    <tr>\n",
       "      <th>2</th>\n",
       "      <td>182642.jpg</td>\n",
       "      <td>0</td>\n",
       "    </tr>\n",
       "    <tr>\n",
       "      <th>3</th>\n",
       "      <td>182643.jpg</td>\n",
       "      <td>0</td>\n",
       "    </tr>\n",
       "    <tr>\n",
       "      <th>4</th>\n",
       "      <td>182644.jpg</td>\n",
       "      <td>0</td>\n",
       "    </tr>\n",
       "  </tbody>\n",
       "</table>\n",
       "</div>"
      ],
      "text/plain": [
       "           ID  Prediction\n",
       "0  182639.jpg           0\n",
       "1  182640.jpg           2\n",
       "2  182642.jpg           0\n",
       "3  182643.jpg           0\n",
       "4  182644.jpg           0"
      ]
     },
     "execution_count": 57,
     "metadata": {},
     "output_type": "execute_result"
    }
   ],
   "source": [
    "Test_Public_pred_Acc_testpurpose_45693242.head()"
   ]
  },
  {
   "cell_type": "code",
   "execution_count": 58,
   "metadata": {},
   "outputs": [
    {
     "data": {
      "text/html": [
       "<div>\n",
       "<style scoped>\n",
       "    .dataframe tbody tr th:only-of-type {\n",
       "        vertical-align: middle;\n",
       "    }\n",
       "\n",
       "    .dataframe tbody tr th {\n",
       "        vertical-align: top;\n",
       "    }\n",
       "\n",
       "    .dataframe thead th {\n",
       "        text-align: right;\n",
       "    }\n",
       "</style>\n",
       "<table border=\"1\" class=\"dataframe\">\n",
       "  <thead>\n",
       "    <tr style=\"text-align: right;\">\n",
       "      <th></th>\n",
       "      <th>ID</th>\n",
       "      <th>Prediction</th>\n",
       "    </tr>\n",
       "  </thead>\n",
       "  <tbody>\n",
       "    <tr>\n",
       "      <th>11916</th>\n",
       "      <td>202595.jpg</td>\n",
       "      <td>1</td>\n",
       "    </tr>\n",
       "    <tr>\n",
       "      <th>11917</th>\n",
       "      <td>202596.jpg</td>\n",
       "      <td>1</td>\n",
       "    </tr>\n",
       "    <tr>\n",
       "      <th>11918</th>\n",
       "      <td>202597.jpg</td>\n",
       "      <td>0</td>\n",
       "    </tr>\n",
       "    <tr>\n",
       "      <th>11919</th>\n",
       "      <td>202598.jpg</td>\n",
       "      <td>0</td>\n",
       "    </tr>\n",
       "    <tr>\n",
       "      <th>11920</th>\n",
       "      <td>202599.jpg</td>\n",
       "      <td>1</td>\n",
       "    </tr>\n",
       "  </tbody>\n",
       "</table>\n",
       "</div>"
      ],
      "text/plain": [
       "               ID  Prediction\n",
       "11916  202595.jpg           1\n",
       "11917  202596.jpg           1\n",
       "11918  202597.jpg           0\n",
       "11919  202598.jpg           0\n",
       "11920  202599.jpg           1"
      ]
     },
     "execution_count": 58,
     "metadata": {},
     "output_type": "execute_result"
    }
   ],
   "source": [
    "Test_Public_pred_Acc_testpurpose_45693242.tail()"
   ]
  },
  {
   "cell_type": "markdown",
   "metadata": {},
   "source": [
    "<h4><font color ='purple'>Uploading the data Frame to a CSV File Named \"Svm_ConventionalModel_45693242.csv\"</font></h4>"
   ]
  },
  {
   "cell_type": "code",
   "execution_count": 59,
   "metadata": {},
   "outputs": [],
   "source": [
    "Test_Public_pred_Acc_testpurpose_45693242.to_csv (r'C:\\\\Users\\\\suhas\\\\Downloads\\\\ML Practice\\\\Svm_ConventionalModel_45693242.csv', index = False, header=True)"
   ]
  },
  {
   "cell_type": "markdown",
   "metadata": {},
   "source": [
    "<h4><font color ='purple'>Model 2 Performance on the Public data from Kaggle submission:</font></h4>\n",
    "    Model 2's Accuracy score on the Test/Public data is 0.85127. We can see that our model is performing very good given that it is only trained on the 20000 observations, which is quite promising so I will be Going further to Fit the Final Model with the best parameters found from this model."
   ]
  },
  {
   "cell_type": "markdown",
   "metadata": {},
   "source": [
    "<h3><font color ='brown'>Model 3: Selected SVM with Best Parameters</font></h3>\n",
    "    SVM with C=25, Kernel = 'rbf', gamma='auto' parameters is selected as the best Model "
   ]
  },
  {
   "cell_type": "markdown",
   "metadata": {},
   "source": [
    "<h4><font color ='purple'>Selected Model Fitting and Predicitng the Labels</font></h4>"
   ]
  },
  {
   "cell_type": "code",
   "execution_count": 9,
   "metadata": {},
   "outputs": [],
   "source": [
    "model = SVC(C=25, kernel = 'rbf', gamma='auto', random_state = 26)\n",
    "model = model.fit(x, labels_train)\n",
    "Test_pred = model.predict(z)"
   ]
  },
  {
   "cell_type": "code",
   "execution_count": 13,
   "metadata": {},
   "outputs": [
    {
     "data": {
      "text/html": [
       "<div>\n",
       "<style scoped>\n",
       "    .dataframe tbody tr th:only-of-type {\n",
       "        vertical-align: middle;\n",
       "    }\n",
       "\n",
       "    .dataframe tbody tr th {\n",
       "        vertical-align: top;\n",
       "    }\n",
       "\n",
       "    .dataframe thead th {\n",
       "        text-align: right;\n",
       "    }\n",
       "</style>\n",
       "<table border=\"1\" class=\"dataframe\">\n",
       "  <thead>\n",
       "    <tr style=\"text-align: right;\">\n",
       "      <th></th>\n",
       "      <th>Prediction</th>\n",
       "    </tr>\n",
       "  </thead>\n",
       "  <tbody>\n",
       "    <tr>\n",
       "      <th>11916</th>\n",
       "      <td>1</td>\n",
       "    </tr>\n",
       "    <tr>\n",
       "      <th>11917</th>\n",
       "      <td>1</td>\n",
       "    </tr>\n",
       "    <tr>\n",
       "      <th>11918</th>\n",
       "      <td>0</td>\n",
       "    </tr>\n",
       "    <tr>\n",
       "      <th>11919</th>\n",
       "      <td>0</td>\n",
       "    </tr>\n",
       "    <tr>\n",
       "      <th>11920</th>\n",
       "      <td>1</td>\n",
       "    </tr>\n",
       "  </tbody>\n",
       "</table>\n",
       "</div>"
      ],
      "text/plain": [
       "       Prediction\n",
       "11916           1\n",
       "11917           1\n",
       "11918           0\n",
       "11919           0\n",
       "11920           1"
      ]
     },
     "execution_count": 13,
     "metadata": {},
     "output_type": "execute_result"
    }
   ],
   "source": [
    "df1 = pd.DataFrame(Test_pred, columns=['Prediction'])\n",
    "df1.tail() # creating a data frame for predicted values"
   ]
  },
  {
   "cell_type": "code",
   "execution_count": 14,
   "metadata": {},
   "outputs": [
    {
     "data": {
      "text/html": [
       "<div>\n",
       "<style scoped>\n",
       "    .dataframe tbody tr th:only-of-type {\n",
       "        vertical-align: middle;\n",
       "    }\n",
       "\n",
       "    .dataframe tbody tr th {\n",
       "        vertical-align: top;\n",
       "    }\n",
       "\n",
       "    .dataframe thead th {\n",
       "        text-align: right;\n",
       "    }\n",
       "</style>\n",
       "<table border=\"1\" class=\"dataframe\">\n",
       "  <thead>\n",
       "    <tr style=\"text-align: right;\">\n",
       "      <th></th>\n",
       "      <th>ID</th>\n",
       "    </tr>\n",
       "  </thead>\n",
       "  <tbody>\n",
       "    <tr>\n",
       "      <th>11916</th>\n",
       "      <td>202595.jpg</td>\n",
       "    </tr>\n",
       "    <tr>\n",
       "      <th>11917</th>\n",
       "      <td>202596.jpg</td>\n",
       "    </tr>\n",
       "    <tr>\n",
       "      <th>11918</th>\n",
       "      <td>202597.jpg</td>\n",
       "    </tr>\n",
       "    <tr>\n",
       "      <th>11919</th>\n",
       "      <td>202598.jpg</td>\n",
       "    </tr>\n",
       "    <tr>\n",
       "      <th>11920</th>\n",
       "      <td>202599.jpg</td>\n",
       "    </tr>\n",
       "  </tbody>\n",
       "</table>\n",
       "</div>"
      ],
      "text/plain": [
       "               ID\n",
       "11916  202595.jpg\n",
       "11917  202596.jpg\n",
       "11918  202597.jpg\n",
       "11919  202598.jpg\n",
       "11920  202599.jpg"
      ]
     },
     "execution_count": 14,
     "metadata": {},
     "output_type": "execute_result"
    }
   ],
   "source": [
    "df2 = pd.DataFrame(files_test_public, columns=['ID'])\n",
    "df2.tail() # creating a data frame for files_val which contains image names"
   ]
  },
  {
   "cell_type": "code",
   "execution_count": 15,
   "metadata": {},
   "outputs": [],
   "source": [
    "# Joining the two data frames through the index\n",
    "Test_Public_pred_Acc_testpurpose_45693242 = df2.merge(df1, left_index=True, right_index=True)"
   ]
  },
  {
   "cell_type": "markdown",
   "metadata": {},
   "source": [
    "<h4><font color ='purple'>Uploading the data Frame to a CSV File Named \"SVM_Coventional_fulldata_45693242.csv\"</font></h4>"
   ]
  },
  {
   "cell_type": "code",
   "execution_count": 18,
   "metadata": {},
   "outputs": [],
   "source": [
    "Test_Public_pred_Acc_testpurpose_45693242.to_csv (r'C:\\\\Users\\\\suhas\\\\Downloads\\\\ML Practice\\\\SVM_Coventional_fulldata_45693242.csv', index = False, header=True)"
   ]
  },
  {
   "cell_type": "code",
   "execution_count": 19,
   "metadata": {},
   "outputs": [],
   "source": [
    "#saving the model for using this fiited model to predct the values next time directly"
   ]
  },
  {
   "cell_type": "code",
   "execution_count": 20,
   "metadata": {},
   "outputs": [],
   "source": [
    "from pickle import dump"
   ]
  },
  {
   "cell_type": "code",
   "execution_count": 21,
   "metadata": {},
   "outputs": [],
   "source": [
    "dump(model, open('model.pkl', 'wb'))"
   ]
  },
  {
   "cell_type": "markdown",
   "metadata": {},
   "source": [
    "<h4><font color ='purple'>Kaggle Result:</font></h4>\n",
    "The performance of this model on the public Data upon submitting in Kaggle Has come upto 0.87 Approx"
   ]
  },
  {
   "cell_type": "markdown",
   "metadata": {},
   "source": [
    " <h2><center><font color ='Red'>Section-2: Interpretation of Selected SVM model and HyperParameter selection</font></center></h2>"
   ]
  },
  {
   "cell_type": "markdown",
   "metadata": {},
   "source": [
    "<h4><font color ='purple'>Selected SVM Results Interpretation:</font></h4>\n",
    "\n",
    "    1) I havent performed accuracy scores on the train and validation in the final selected SVM model since I already Know from model-2 in the above section that SVM model is doing better with the parameters C = 25, gamma = 'auto', kernel = 'rbf' so, i skipped the accuracy part and predicted the values directly.\n",
    "    2) The accuracy score for the test/Public Data from the Kaggle submission is 0.87526 which is a improvement by about 3.5% when compared with model-2.\n",
    "    3) We can see that SVM Performs Better than Random Forest but not better when compared to Basic Deep Learning Model but the results were some what closer to the ones with Deep Learning Model.\n",
    "    \n",
    "<h4><font color ='purple'>Hyper Parameter Selection for the Selected SVM:</font></h4>\n",
    "        \n",
    "        1) I havent performed any hyper parameter selection in the final selected SVM model since I performed the hyperparameter tuning in model-2 from the above section.\n",
    "            \n",
    "            i) Accuracy score with 10 for C for validation is: 0.8126787416587226, Accuracy score with 10 for c for train is: 0.8624380971437147.\n",
    "            ii) Accuracy score with 25 for C for validation is: 0.8260247855100096, Accuracy score with 25 for c for train is: 0.8922014906708019.\n",
    "            iii) Accuracy score with 50 for C for validation is: 0.8255481410867492, Accuracy score with 50 for c for train is: 0.9161622730228602.\n",
    "            iv) Accuracy score with 75 for C for validation is: 0.8236415633937083, Accuracy score with 75 for c for train is: 0.9345705567505378.\n",
    "        2) We can see from the accuracy scores that model with c=25 is performing better than others due to the less training error.\n",
    "        3) That is the reson I had selected that particular value for c and proceeded further for fitting the final model with the best parameters and predict the labels."
   ]
  },
  {
   "cell_type": "markdown",
   "metadata": {},
   "source": [
    " <h2><center><font color ='Red'>Section-3: Random Forest (Additional Conventional Model)</font></center></h2>"
   ]
  },
  {
   "cell_type": "markdown",
   "metadata": {},
   "source": [
    "<h3><font color ='coral'> Model Fitting :</font></h3>\n",
    "    Random Forest Model is fitted on the Training set of size and shape (98479, 6912) and is validated on the validation set of size and shape (12270, 6912). At first we first fit the model with default parameters and compare this result with later model with best parameters. \n",
    "    \n",
    "    1. Model 1: Random Forest with Default Paramters.\n",
    "    2. Model 2: Random Forest with Hyper parameter to select the best paramters\n",
    "    3. Model 3: Random Forest with Best Parameters.\n",
    "    \n",
    "    \n",
    "<h4><font color ='purple'>Selecting the Training and Validation DataSets</font></h4> \n",
    "    Since, Random Forest is not Costly to perform compared to SVM (Which is Costly in terms of time consuming), I perform the analysis on the entire dataset. So, the entire training set is used for training the model and the validation datset for validating the model's performance. Eventhough it is faster than SVM it still takes time to compute all the operations as the data set is huge and due to the reason that random forest include the depth as maximum when no parameters are controlled to train the model by building the complete tree with nodes for each feature value, which inturn leading to overfitting. Which is why it is important to controll the depth Parameter and allong with I even look at no of estimators required.    "
   ]
  },
  {
   "cell_type": "markdown",
   "metadata": {},
   "source": [
    "<h3><font color ='brown'>Model 1: Random Forest Classifier with default parameters</font></h3>"
   ]
  },
  {
   "cell_type": "code",
   "execution_count": 21,
   "metadata": {},
   "outputs": [
    {
     "name": "stdout",
     "output_type": "stream",
     "text": [
      "Accuracy score for validation is: 0.7973920130399348\n",
      "Confusion matrix for validation is: [[3573   55  372    7]\n",
      " [  20 2479  313   40]\n",
      " [ 867  311 3302   27]\n",
      " [  56  275  143  430]]\n"
     ]
    },
    {
     "data": {
      "image/png": "[encoded data removed]",
      "text/plain": [
       "<Figure size 432x288 with 2 Axes>"
      ]
     },
     "metadata": {
      "needs_background": "light"
     },
     "output_type": "display_data"
    }
   ],
   "source": [
    "# Runnig Random Forest on default parameters\n",
    "model = RandomForestClassifier(random_state = 26)\n",
    "model = model.fit(x, labels_train)\n",
    "y_pred = model.predict(y)\n",
    "print(\"Accuracy score for validation is:\",accuracy_score(labels_val, y_pred))\n",
    "Def_Accu = accuracy_score(labels_val, y_pred)\n",
    "cm = confusion_matrix(labels_val, y_pred)\n",
    "print(\"Confusion matrix for validation is:\", cm)\n",
    "sns.heatmap(cm,annot = True , center=True)\n",
    "plt.show()"
   ]
  },
  {
   "cell_type": "markdown",
   "metadata": {},
   "source": [
    "<h4><font color ='purple'>Results Interpretation for Random Forest with default parameters:</font></h4>\n",
    "\n",
    "1. Accuracy Score on the Validation data is 79%, which can be bad some times due to the fact that random forests tend to overfit the data when there is no constraint on max_depth because, when no depth value is mentioned it takes unlimited no of depths that are required to build a deeper tree with several splits one for each feature and captures more informatin about the data. with this behaviour they perform well on the training data but not on the new data.\n",
    "\n",
    "2. From the confusion Matrix we can see that:\n",
    "   \n",
    "   a) The Model predicts the class 1 3573 times but misclassifeis 55 times as class 2, 372 times as class 3 and 7 times as class 4.\n",
    "   \n",
    "   b) The Model predicts the class 2 2479 times but misclassifeis 20 times as class 1, 313 times as class 3 and 40 times as class 4.\n",
    "   \n",
    "   c) The Model predicts the class 3 3302 times but misclassifeis 867 times as class 1, 311 times as class 2 and 27 times as class 4.\n",
    "   \n",
    "   d) The Model predicts the class 4 4303 times but misclassifeis 56 times as class 1, 275 times as class 2 and 143 times as class 3.\n",
    "   \n",
    "3. So now we look further with Some parameter tuning to determine which values fit the model better to the given dataset"
   ]
  },
  {
   "cell_type": "markdown",
   "metadata": {},
   "source": [
    "<h4><font color ='purple'>Parameter Tuning For Random Forest:</font></h4> \n",
    "Since, Random Forest tends to overfit when no parameters are controlled, so I will be looking at the models performance for a range of estimators and depth to find which parameters that are providing better results and determine which parameters leading to overfit the data and avoid them."
   ]
  },
  {
   "cell_type": "markdown",
   "metadata": {},
   "source": [
    "<h3><font color ='brown'>Model 2: Parameter Tuning for Random Forest Classifier:</font></h3>"
   ]
  },
  {
   "cell_type": "markdown",
   "metadata": {},
   "source": [
    "<h4><font color ='purple'>1) Looking at Random Forest Performance on different estimators:</font></h4>\n",
    "     \n",
    "     1. At first We will be looking at models performance for different estimators which are (1, 2, 3, 4, 5, 10, 15, 20, 25, 50, 100, 200, 500).\n",
    "     2.  Inorder to make the comparisons valid with the model with default parameter I am using the same Random state."
   ]
  },
  {
   "cell_type": "code",
   "execution_count": 26,
   "metadata": {},
   "outputs": [
    {
     "name": "stdout",
     "output_type": "stream",
     "text": [
      "Accuracy score with 25 estimators for validation is: 0.7801140994295028\n",
      "Accuracy score with 25 estimators for train is: 0.99936026970217\n",
      "Accuracy score with 50 estimators for validation is: 0.7918500407497963\n",
      "Accuracy score with 50 estimators for train is: 0.9999695366524843\n",
      "Accuracy score with 100 estimators for validation is: 0.7973920130399348\n",
      "Accuracy score with 100 estimators for train is: 1.0\n",
      "Accuracy score with 150 estimators for validation is: 0.799918500407498\n",
      "Accuracy score with 150 estimators for train is: 1.0\n",
      "Accuracy score with 200 estimators for validation is: 0.8008149959250204\n",
      "Accuracy score with 200 estimators for train is: 1.0\n",
      "Accuracy score with 500 estimators for validation is: 0.8011409942950285\n",
      "Accuracy score with 500 estimators for train is: 1.0\n"
     ]
    }
   ],
   "source": [
    "# Fitting the model for several Estimators rangiing from 25\n",
    "Estimators = [25,50,100,150,200, 500]\n",
    "Train_Acc_Score = []\n",
    "Valid_Acc_Score = []\n",
    "for e in Estimators:\n",
    "    model = RandomForestClassifier(n_estimators = e, random_state = 26)\n",
    "    model = model.fit(x, labels_train)\n",
    "    Val_pred = model.predict(y)\n",
    "    Val_Score = accuracy_score(labels_val, Val_pred)\n",
    "    Valid_Acc_Score.append(Val_Score)\n",
    "    print(\"Accuracy score with \"+str(e)+\" estimators for validation is:\",Val_Score)\n",
    "    Train_pred = model.predict(x)\n",
    "    Train_Score = accuracy_score(labels_train, Train_pred)\n",
    "    Train_Acc_Score.append(Train_Score)\n",
    "    print(\"Accuracy score with \"+str(e)+\" estimators for train is:\",Train_Score)"
   ]
  },
  {
   "cell_type": "code",
   "execution_count": 27,
   "metadata": {},
   "outputs": [
    {
     "name": "stdout",
     "output_type": "stream",
     "text": [
      "[0.99936026970217, 0.9999695366524843, 1.0, 1.0, 1.0, 1.0]\n",
      "[0.7801140994295028, 0.7918500407497963, 0.7973920130399348, 0.799918500407498, 0.8008149959250204, 0.8011409942950285]\n"
     ]
    }
   ],
   "source": [
    "print(Train_Acc_Score)\n",
    "print(Valid_Acc_Score)"
   ]
  },
  {
   "cell_type": "markdown",
   "metadata": {},
   "source": [
    "<h4><font color ='purple'>\n",
    "Accuracy Scores Interpretation based on estimator tuning:</font></h4>  \n",
    "since we are controlling only estimators but not depth, we can see that Model tends to overfit the data as the accuracy scores for the traing sets for the given estimators is way better than the accuracy scores of Validation set. Meaning the model is overfiting and does not perform well on new data. to be sure on whether the model performs any better on smaller no of estimators, so, now let us look at a range of small estimators instead of large estimators.  "
   ]
  },
  {
   "cell_type": "code",
   "execution_count": 28,
   "metadata": {},
   "outputs": [
    {
     "name": "stdout",
     "output_type": "stream",
     "text": [
      "Accuracy score with 1 estimators for validation is: 0.6211898940505297\n",
      "Accuracy score with 1 estimators for train is: 0.8667736268646107\n",
      "Accuracy score with 2 estimators for validation is: 0.6246128769356153\n",
      "Accuracy score with 2 estimators for train is: 0.8714040556869993\n",
      "Accuracy score with 3 estimators for validation is: 0.680521597392013\n",
      "Accuracy score with 3 estimators for train is: 0.9444856263771971\n",
      "Accuracy score with 4 estimators for validation is: 0.6986960065199674\n",
      "Accuracy score with 4 estimators for train is: 0.9540308085987875\n",
      "Accuracy score with 5 estimators for validation is: 0.715158924205379\n",
      "Accuracy score with 5 estimators for train is: 0.9730094741010774\n",
      "Accuracy score with 10 estimators for validation is: 0.7489812550937245\n",
      "Accuracy score with 10 estimators for train is: 0.9919475218066796\n",
      "Accuracy score with 15 estimators for validation is: 0.7654441727791361\n",
      "Accuracy score with 15 estimators for train is: 0.9975324688512271\n",
      "Accuracy score with 20 estimators for validation is: 0.7756316218418908\n",
      "Accuracy score with 20 estimators for train is: 0.9985783771159333\n"
     ]
    }
   ],
   "source": [
    "Estimators1 = [1, 2, 3, 4, 5, 10, 15, 20]\n",
    "Train_Acc_Score1 = []\n",
    "Valid_Acc_Score1 = []\n",
    "for e in Estimators1:\n",
    "    model = RandomForestClassifier(n_estimators = e, random_state = 26)\n",
    "    model = model.fit(x, labels_train)\n",
    "    Val_pred = model.predict(y)\n",
    "    Val_Score = accuracy_score(labels_val, Val_pred)\n",
    "    Valid_Acc_Score1.append(Val_Score)\n",
    "    print(\"Accuracy score with \"+str(e)+\" estimators for validation is:\",Val_Score)\n",
    "    Train_pred = model.predict(x)\n",
    "    Train_Score = accuracy_score(labels_train, Train_pred)\n",
    "    Train_Acc_Score1.append(Train_Score)\n",
    "    print(\"Accuracy score with \"+str(e)+\" estimators for train is:\",Train_Score)"
   ]
  },
  {
   "cell_type": "code",
   "execution_count": 29,
   "metadata": {},
   "outputs": [
    {
     "name": "stdout",
     "output_type": "stream",
     "text": [
      "[0.8667736268646107, 0.8714040556869993, 0.9444856263771971, 0.9540308085987875, 0.9730094741010774, 0.9919475218066796, 0.9975324688512271, 0.9985783771159333]\n",
      "[0.6211898940505297, 0.6246128769356153, 0.680521597392013, 0.6986960065199674, 0.715158924205379, 0.7489812550937245, 0.7654441727791361, 0.7756316218418908]\n"
     ]
    }
   ],
   "source": [
    "print(Train_Acc_Score1)\n",
    "print(Valid_Acc_Score1)"
   ]
  },
  {
   "cell_type": "code",
   "execution_count": 31,
   "metadata": {},
   "outputs": [],
   "source": [
    "# joining the accuracy score of traing and validation for all no of estimators.\n",
    "Train_Accuracy = Train_Acc_Score1 + Train_Acc_Score\n",
    "Validation_Accuracy = Valid_Acc_Score1 + Valid_Acc_Score\n",
    "No_of_Estimators = Estimators1 + Estimators"
   ]
  },
  {
   "cell_type": "code",
   "execution_count": 40,
   "metadata": {},
   "outputs": [
    {
     "data": {
      "text/plain": [
       "<matplotlib.legend.Legend at 0x271a5291ac8>"
      ]
     },
     "execution_count": 40,
     "metadata": {},
     "output_type": "execute_result"
    },
    {
     "data": {
      "image/png": "[encoded data removed]",
      "text/plain": [
       "<Figure size 1080x432 with 1 Axes>"
      ]
     },
     "metadata": {
      "needs_background": "light"
     },
     "output_type": "display_data"
    }
   ],
   "source": [
    "# plotting the accuracy score of traning and validation vs Estimators \n",
    "plt.figure(figsize=(15,6))\n",
    "plt.plot(No_of_Estimators[:10], Train_Accuracy[:10],label = \"Train\", color='g')\n",
    "plt.plot(No_of_Estimators[:10], Validation_Accuracy[:10], label = \"Test\", color='r')\n",
    "plt.ylabel(\"Accuracy\")\n",
    "plt.xlabel(\"No of Estimators\")\n",
    "plt.title(\"Accuracy vs Estimators\")\n",
    "plt.legend()"
   ]
  },
  {
   "cell_type": "code",
   "execution_count": 41,
   "metadata": {},
   "outputs": [
    {
     "data": {
      "text/plain": [
       "<matplotlib.legend.Legend at 0x271a5307ec8>"
      ]
     },
     "execution_count": 41,
     "metadata": {},
     "output_type": "execute_result"
    },
    {
     "data": {
      "image/png": "[encoded data removed]",
      "text/plain": [
       "<Figure size 1080x432 with 1 Axes>"
      ]
     },
     "metadata": {
      "needs_background": "light"
     },
     "output_type": "display_data"
    }
   ],
   "source": [
    "plt.figure(figsize=(15,6))\n",
    "plt.plot(No_of_Estimators, Train_Accuracy,label = \"Train\", color='g')\n",
    "plt.plot(No_of_Estimators, Validation_Accuracy, label = \"Test\", color='r')\n",
    "plt.ylabel(\"Accuracy\")\n",
    "plt.xlabel(\"No of Estimators\")\n",
    "plt.title(\"Accuracy vs Estimators\")\n",
    "plt.legend()"
   ]
  },
  {
   "cell_type": "markdown",
   "metadata": {},
   "source": [
    "<h4><font color ='purple'> Accuracy Scores Interpretation based on estimator tuning: </font></h4> \n",
    "     \n",
    "     1. From the above plots, we can see that Model tends to perform well for estimors within the range 10 and 20, above that it will result in poor performance. Further more we look at model performace at various depths:\n",
    "     2. So 3, 10, 15 estimators I am taking as the best Parameters"
   ]
  },
  {
   "cell_type": "markdown",
   "metadata": {},
   "source": [
    "<h4><font color ='purple'>2) Looking at Random Forest Performance at different Depths:</font></h4>\n",
    "     \n",
    "     1. Now We will be looking at models performance at different depths which are (1, 2, 3, 4, 5, 6, 7, 8, 9, 10).\n",
    "     2.  Inorder to make the comparisons valid with the model with default parameter I am using the same Random state."
   ]
  },
  {
   "cell_type": "code",
   "execution_count": 42,
   "metadata": {},
   "outputs": [
    {
     "name": "stdout",
     "output_type": "stream",
     "text": [
      "Accuracy score with 1 depth for validation is: 0.5785656071719641\n",
      "Accuracy score with 1 depth for train is: 0.6214218259730501\n",
      "Accuracy score with 2 depth for validation is: 0.6687041564792175\n",
      "Accuracy score with 2 depth for train is: 0.6926755958123052\n",
      "Accuracy score with 3 depth for validation is: 0.6925020374898125\n",
      "Accuracy score with 3 depth for train is: 0.709846769361996\n",
      "Accuracy score with 4 depth for validation is: 0.7039934800325999\n",
      "Accuracy score with 4 depth for train is: 0.7201433808223073\n",
      "Accuracy score with 5 depth for validation is: 0.7269763651181744\n",
      "Accuracy score with 5 depth for train is: 0.7420668365844495\n",
      "Accuracy score with 6 depth for validation is: 0.7414832925835371\n",
      "Accuracy score with 6 depth for train is: 0.7572680469947908\n",
      "Accuracy score with 7 depth for validation is: 0.7509372453137735\n",
      "Accuracy score with 7 depth for train is: 0.7732714588897125\n",
      "Accuracy score with 8 depth for validation is: 0.7622656886715566\n",
      "Accuracy score with 8 depth for train is: 0.7921688887986271\n",
      "Accuracy score with 9 depth for validation is: 0.7713936430317848\n",
      "Accuracy score with 9 depth for train is: 0.8152804151138822\n",
      "Accuracy score with 10 depth for validation is: 0.778239608801956\n",
      "Accuracy score with 10 depth for train is: 0.844372911991389\n"
     ]
    }
   ],
   "source": [
    "# Depth Parameter tuning\n",
    "# fitting the model at different depths\n",
    "Depth = [1, 2, 3, 4, 5, 6, 7, 8, 9, 10]\n",
    "Train_Acc_Score2 = []\n",
    "Valid_Acc_Score2 = []\n",
    "for e in Depth:\n",
    "    model = RandomForestClassifier(max_depth = e, random_state = 26)\n",
    "    model = model.fit(x, labels_train)\n",
    "    Val_pred = model.predict(y)\n",
    "    Val_Score = accuracy_score(labels_val, Val_pred)\n",
    "    Valid_Acc_Score2.append(Val_Score)\n",
    "    print(\"Accuracy score with \"+str(e)+\" depth for validation is:\",Val_Score)\n",
    "    Train_pred = model.predict(x)\n",
    "    Train_Score = accuracy_score(labels_train, Train_pred)\n",
    "    Train_Acc_Score2.append(Train_Score)\n",
    "    print(\"Accuracy score with \"+str(e)+\" depth for train is:\",Train_Score)"
   ]
  },
  {
   "cell_type": "code",
   "execution_count": 44,
   "metadata": {},
   "outputs": [
    {
     "data": {
      "text/plain": [
       "<matplotlib.legend.Legend at 0x271a2841e08>"
      ]
     },
     "execution_count": 44,
     "metadata": {},
     "output_type": "execute_result"
    },
    {
     "data": {
      "image/png": "[encoded data removed]",
      "text/plain": [
       "<Figure size 1080x432 with 1 Axes>"
      ]
     },
     "metadata": {
      "needs_background": "light"
     },
     "output_type": "display_data"
    }
   ],
   "source": [
    "plt.figure(figsize=(15,6))\n",
    "plt.plot(Depth, Train_Acc_Score2,label = \"Train\", color='g')\n",
    "plt.plot(Depth, Valid_Acc_Score2, label = \"Test\", color='r')\n",
    "plt.ylabel(\"Accuracy\")\n",
    "plt.xlabel(\"Depth\")\n",
    "plt.title(\"Accuracy vs Depth\")\n",
    "plt.legend()"
   ]
  },
  {
   "cell_type": "markdown",
   "metadata": {},
   "source": [
    "<h4><font color ='purple'>Accuracy Scores Interpretation based on Depth tuning: </font></h4>\n",
    "    \n",
    "    1. As we are controlling the depth, we can see that Model is not overfitting since the accuracy score difference between training and validation is not differing by too much. After the Depth 10 the model seems not to perform as beeter as depth at 8.\n",
    "    2. So Selecting the Depth 5 and 6 as the best Parameters"
   ]
  },
  {
   "cell_type": "markdown",
   "metadata": {},
   "source": [
    "<h4><font color ='purple'>3) Fitting the Random Forest with all the possible combinations of the Best Parameters:</font></h4>\n",
    "\n",
    "Since RFC seems to perform well at depth 5 and 6, at estimators 3, 10, 15. I will be fitting the model for all the combinations and decide which model is performing best and use that model for predicting the test/public values.  \n",
    "     \n",
    "Below are the model that I will be looking at:\n",
    "1. Model 1 with n_estimators = 3, max_depth = 5 \n",
    "2. Model 2 with n_estimators = 3, max_depth = 6\n",
    "3. Model 3 with n_estimators = 10, max_depth = 5\n",
    "4. Model 4 with n_estimators = 10, max_depth = 6\n",
    "5. Model 5 with n_estimators = 15, max_depth = 5\n",
    "6. Model 6 with n_estimators = 15, max_depth = 6"
   ]
  },
  {
   "cell_type": "code",
   "execution_count": 53,
   "metadata": {},
   "outputs": [],
   "source": [
    "Models = [1, 2, 3, 4, 5, 6]\n",
    "Train_Acc_Score3 = []\n",
    "Valid_Acc_Score3 = []"
   ]
  },
  {
   "cell_type": "code",
   "execution_count": 54,
   "metadata": {},
   "outputs": [
    {
     "name": "stdout",
     "output_type": "stream",
     "text": [
      "Accuracy score with 3 estimators and 2 depth for validation is: 0.6916055419722902\n",
      "Accuracy score with 3 estimators and 2 depth for train is: 0.7084149920287574\n"
     ]
    }
   ],
   "source": [
    "# Model 1 with n_estimators = 3, max_depth = 5\n",
    "model = RandomForestClassifier(n_estimators = 3, max_depth = 5, random_state = 26)\n",
    "model = model.fit(x, labels_train)\n",
    "Val_pred = model.predict(y)\n",
    "Val_Score = accuracy_score(labels_val, Val_pred)\n",
    "Valid_Acc_Score3.append(Val_Score)\n",
    "print(\"Accuracy score with 3 estimators and 2 depth for validation is:\",Val_Score)\n",
    "Train_pred = model.predict(x)\n",
    "Train_Score = accuracy_score(labels_train, Train_pred)\n",
    "Train_Acc_Score3.append(Train_Score)\n",
    "print(\"Accuracy score with 3 estimators and 2 depth for train is:\",Train_Score)\n"
   ]
  },
  {
   "cell_type": "code",
   "execution_count": 55,
   "metadata": {},
   "outputs": [
    {
     "name": "stdout",
     "output_type": "stream",
     "text": [
      "Accuracy score with 3 estimators and 2 depth for validation is: 0.710839445802771\n",
      "Accuracy score with 3 estimators and 2 depth for train is: 0.7231795611247068\n"
     ]
    }
   ],
   "source": [
    "# Model 2 with n_estimators = 3, max_depth = 6\n",
    "model = RandomForestClassifier(n_estimators = 3, max_depth = 6, random_state = 26)\n",
    "model = model.fit(x, labels_train)\n",
    "Val_pred = model.predict(y)\n",
    "Val_Score = accuracy_score(labels_val, Val_pred)\n",
    "Valid_Acc_Score3.append(Val_Score)\n",
    "print(\"Accuracy score with 3 estimators and 2 depth for validation is:\",Val_Score)\n",
    "Train_pred = model.predict(x)\n",
    "Train_Score = accuracy_score(labels_train, Train_pred)\n",
    "Train_Acc_Score3.append(Train_Score)\n",
    "print(\"Accuracy score with 3 estimators and 2 depth for train is:\",Train_Score)"
   ]
  },
  {
   "cell_type": "code",
   "execution_count": 57,
   "metadata": {},
   "outputs": [
    {
     "name": "stdout",
     "output_type": "stream",
     "text": [
      "Accuracy score with 3 estimators and 2 depth for validation is: 0.7162999185004075\n",
      "Accuracy score with 3 estimators and 2 depth for train is: 0.7306836990627443\n"
     ]
    }
   ],
   "source": [
    "# Model 3 with n_estimators = 10, max_depth = 5\n",
    "model = RandomForestClassifier(n_estimators = 10, max_depth = 5, random_state = 26)\n",
    "model = model.fit(x, labels_train)\n",
    "Val_pred = model.predict(y)\n",
    "Val_Score = accuracy_score(labels_val, Val_pred)\n",
    "Valid_Acc_Score3.append(Val_Score)\n",
    "print(\"Accuracy score with 3 estimators and 2 depth for validation is:\",Val_Score)\n",
    "Train_pred = model.predict(x)\n",
    "Train_Score = accuracy_score(labels_train, Train_pred)\n",
    "Train_Acc_Score3.append(Train_Score)\n",
    "print(\"Accuracy score with 3 estimators and 2 depth for train is:\",Train_Score)"
   ]
  },
  {
   "cell_type": "code",
   "execution_count": 58,
   "metadata": {},
   "outputs": [
    {
     "name": "stdout",
     "output_type": "stream",
     "text": [
      "Accuracy score with 3 estimators and 2 depth for validation is: 0.7329258353708231\n",
      "Accuracy score with 3 estimators and 2 depth for train is: 0.7477330192223722\n"
     ]
    }
   ],
   "source": [
    "# Model 4 with n_estimators = 10, max_depth = 6\n",
    "model = RandomForestClassifier(n_estimators = 10, max_depth = 6, random_state = 26)\n",
    "model = model.fit(x, labels_train)\n",
    "Val_pred = model.predict(y)\n",
    "Val_Score = accuracy_score(labels_val, Val_pred)\n",
    "Valid_Acc_Score3.append(Val_Score)\n",
    "print(\"Accuracy score with 3 estimators and 2 depth for validation is:\",Val_Score)\n",
    "Train_pred = model.predict(x)\n",
    "Train_Score = accuracy_score(labels_train, Train_pred)\n",
    "Train_Acc_Score3.append(Train_Score)\n",
    "print(\"Accuracy score with 3 estimators and 2 depth for train is:\",Train_Score)"
   ]
  },
  {
   "cell_type": "code",
   "execution_count": 59,
   "metadata": {},
   "outputs": [
    {
     "name": "stdout",
     "output_type": "stream",
     "text": [
      "Accuracy score with 3 estimators and 2 depth for validation is: 0.7207823960880195\n",
      "Accuracy score with 3 estimators and 2 depth for train is: 0.7336487982209405\n"
     ]
    }
   ],
   "source": [
    "# Model 5 with n_estimators = 15, max_depth = 5\n",
    "model = RandomForestClassifier(n_estimators = 15, max_depth = 5, random_state = 26)\n",
    "model = model.fit(x, labels_train)\n",
    "Val_pred = model.predict(y)\n",
    "Val_Score = accuracy_score(labels_val, Val_pred)\n",
    "Valid_Acc_Score3.append(Val_Score)\n",
    "print(\"Accuracy score with 3 estimators and 2 depth for validation is:\",Val_Score)\n",
    "Train_pred = model.predict(x)\n",
    "Train_Score = accuracy_score(labels_train, Train_pred)\n",
    "Train_Acc_Score3.append(Train_Score)\n",
    "print(\"Accuracy score with 3 estimators and 2 depth for train is:\",Train_Score)"
   ]
  },
  {
   "cell_type": "code",
   "execution_count": 60,
   "metadata": {},
   "outputs": [
    {
     "name": "stdout",
     "output_type": "stream",
     "text": [
      "Accuracy score with 3 estimators and 2 depth for validation is: 0.7352078239608802\n",
      "Accuracy score with 3 estimators and 2 depth for train is: 0.7501599325744575\n"
     ]
    }
   ],
   "source": [
    "# Model 6 with n_estimators = 15, max_depth = 6\n",
    "model = RandomForestClassifier(n_estimators = 15, max_depth = 6, random_state = 26)\n",
    "model = model.fit(x, labels_train)\n",
    "Val_pred = model.predict(y)\n",
    "Val_Score = accuracy_score(labels_val, Val_pred)\n",
    "Valid_Acc_Score3.append(Val_Score)\n",
    "print(\"Accuracy score with 3 estimators and 2 depth for validation is:\",Val_Score)\n",
    "Train_pred = model.predict(x)\n",
    "Train_Score = accuracy_score(labels_train, Train_pred)\n",
    "Train_Acc_Score3.append(Train_Score)\n",
    "print(\"Accuracy score with 3 estimators and 2 depth for train is:\",Train_Score)"
   ]
  },
  {
   "cell_type": "code",
   "execution_count": 61,
   "metadata": {},
   "outputs": [
    {
     "data": {
      "text/plain": [
       "<matplotlib.legend.Legend at 0x271a2a8aec8>"
      ]
     },
     "execution_count": 61,
     "metadata": {},
     "output_type": "execute_result"
    },
    {
     "data": {
      "image/png": "[encoded data removed]",
      "text/plain": [
       "<Figure size 1080x432 with 1 Axes>"
      ]
     },
     "metadata": {
      "needs_background": "light"
     },
     "output_type": "display_data"
    }
   ],
   "source": [
    "plt.figure(figsize=(15,6))\n",
    "plt.plot(Models, Train_Acc_Score3,label = \"Train\", color='g')\n",
    "plt.plot(Models, Valid_Acc_Score3, label = \"Test\", color='r')\n",
    "plt.ylabel(\"Accuracy\")\n",
    "plt.xlabel(\"models with (3,5) (3,6) (10,5) (10,6) (15,5) (15, 6) (estimators, depth)\")\n",
    "plt.title(\"Accuracy vs Models\")\n",
    "plt.legend()"
   ]
  },
  {
   "cell_type": "markdown",
   "metadata": {},
   "source": [
    "<h4><font color ='purple'>Best Model Selection based on the Accuracy scores:</font></h4>\n",
    " From the plot as well as accuracy scores of individual Models we can see that model 4, 5 is performing better when compared to other models. so we use Model 4 to predict the Test Data\n",
    " \n",
    " Best Model Selected from Random FOrest Classifier would be a Random Forest with Depth 6 and Estimators 10 for predicting with random State as 26."
   ]
  },
  {
   "cell_type": "markdown",
   "metadata": {},
   "source": [
    "<h3><font color ='brown'>Model 3: Fitting the best Random Forest Classifier:</font></h3>\n",
    " Best Model Selected from Random FOrest Classifier would be a Random Forest with Depth 6 and Estimators 10 for predicting with random State as 26."
   ]
  },
  {
   "cell_type": "code",
   "execution_count": 75,
   "metadata": {},
   "outputs": [],
   "source": [
    "# Final Model For Fitting \n",
    "model = RandomForestClassifier(n_estimators = 10, max_depth = 6, random_state = 26)\n",
    "model = model.fit(x, labels_train)\n",
    "Test_Public_pred = model.predict(z)"
   ]
  },
  {
   "cell_type": "code",
   "execution_count": 88,
   "metadata": {},
   "outputs": [],
   "source": [
    "Test_Public_pred_copy = Test_Public_pred # making a copy of the Predicted values for safety"
   ]
  },
  {
   "cell_type": "code",
   "execution_count": 107,
   "metadata": {},
   "outputs": [
    {
     "data": {
      "text/html": [
       "<div>\n",
       "<style scoped>\n",
       "    .dataframe tbody tr th:only-of-type {\n",
       "        vertical-align: middle;\n",
       "    }\n",
       "\n",
       "    .dataframe tbody tr th {\n",
       "        vertical-align: top;\n",
       "    }\n",
       "\n",
       "    .dataframe thead th {\n",
       "        text-align: right;\n",
       "    }\n",
       "</style>\n",
       "<table border=\"1\" class=\"dataframe\">\n",
       "  <thead>\n",
       "    <tr style=\"text-align: right;\">\n",
       "      <th></th>\n",
       "      <th>Prediction</th>\n",
       "    </tr>\n",
       "  </thead>\n",
       "  <tbody>\n",
       "    <tr>\n",
       "      <th>11916</th>\n",
       "      <td>1</td>\n",
       "    </tr>\n",
       "    <tr>\n",
       "      <th>11917</th>\n",
       "      <td>2</td>\n",
       "    </tr>\n",
       "    <tr>\n",
       "      <th>11918</th>\n",
       "      <td>0</td>\n",
       "    </tr>\n",
       "    <tr>\n",
       "      <th>11919</th>\n",
       "      <td>0</td>\n",
       "    </tr>\n",
       "    <tr>\n",
       "      <th>11920</th>\n",
       "      <td>1</td>\n",
       "    </tr>\n",
       "  </tbody>\n",
       "</table>\n",
       "</div>"
      ],
      "text/plain": [
       "       Prediction\n",
       "11916           1\n",
       "11917           2\n",
       "11918           0\n",
       "11919           0\n",
       "11920           1"
      ]
     },
     "execution_count": 107,
     "metadata": {},
     "output_type": "execute_result"
    }
   ],
   "source": [
    "# creating a data frame for predicted values\n",
    "df1 = pd.DataFrame(Test_Public_pred_copy, columns=['Prediction'])\n",
    "df1.tail()"
   ]
  },
  {
   "cell_type": "code",
   "execution_count": 108,
   "metadata": {},
   "outputs": [
    {
     "data": {
      "text/html": [
       "<div>\n",
       "<style scoped>\n",
       "    .dataframe tbody tr th:only-of-type {\n",
       "        vertical-align: middle;\n",
       "    }\n",
       "\n",
       "    .dataframe tbody tr th {\n",
       "        vertical-align: top;\n",
       "    }\n",
       "\n",
       "    .dataframe thead th {\n",
       "        text-align: right;\n",
       "    }\n",
       "</style>\n",
       "<table border=\"1\" class=\"dataframe\">\n",
       "  <thead>\n",
       "    <tr style=\"text-align: right;\">\n",
       "      <th></th>\n",
       "      <th>ID</th>\n",
       "    </tr>\n",
       "  </thead>\n",
       "  <tbody>\n",
       "    <tr>\n",
       "      <th>11916</th>\n",
       "      <td>202595.jpg</td>\n",
       "    </tr>\n",
       "    <tr>\n",
       "      <th>11917</th>\n",
       "      <td>202596.jpg</td>\n",
       "    </tr>\n",
       "    <tr>\n",
       "      <th>11918</th>\n",
       "      <td>202597.jpg</td>\n",
       "    </tr>\n",
       "    <tr>\n",
       "      <th>11919</th>\n",
       "      <td>202598.jpg</td>\n",
       "    </tr>\n",
       "    <tr>\n",
       "      <th>11920</th>\n",
       "      <td>202599.jpg</td>\n",
       "    </tr>\n",
       "  </tbody>\n",
       "</table>\n",
       "</div>"
      ],
      "text/plain": [
       "               ID\n",
       "11916  202595.jpg\n",
       "11917  202596.jpg\n",
       "11918  202597.jpg\n",
       "11919  202598.jpg\n",
       "11920  202599.jpg"
      ]
     },
     "execution_count": 108,
     "metadata": {},
     "output_type": "execute_result"
    }
   ],
   "source": [
    "# creating a data frame for files_val which contains image names\n",
    "df2 = pd.DataFrame(files_test_public, columns=['ID'])\n",
    "df2.tail()"
   ]
  },
  {
   "cell_type": "code",
   "execution_count": 109,
   "metadata": {},
   "outputs": [],
   "source": [
    "# Joining the two data frames through the index\n",
    "Test_Public_pred_Acc_testpurpose_45693242 = df2.merge(df1, left_index=True, right_index=True)"
   ]
  },
  {
   "cell_type": "markdown",
   "metadata": {},
   "source": [
    "<h4><font color ='purple'>Uploading the data Frame to a CSV File Named \"Test_Public_pred_Acc_testpurpose_45693242.csv\": </font></h4>"
   ]
  },
  {
   "cell_type": "code",
   "execution_count": 112,
   "metadata": {},
   "outputs": [],
   "source": [
    "Test_Public_pred_Acc_testpurpose_45693242.to_csv (r'C:\\\\Users\\\\suhas\\\\Downloads\\\\ML Practice\\\\Test_Public_pred_Acc_testpurpose_45693242.csv', index = False, header=True)"
   ]
  },
  {
   "cell_type": "markdown",
   "metadata": {},
   "source": [
    " <h2><center><font color ='Red'>Section-4: Interpretation of Additional Conventional model (Random Forest Classifier) and HyperParameter selection</font></center></h2>"
   ]
  },
  {
   "cell_type": "markdown",
   "metadata": {},
   "source": [
    "<h4><font color ='purple'>Best RFC Results Interpretation:</font></h4>\n",
    "\n",
    "    1) I havent performed accuracy scores on the train and validation in the final RFC model since I already Know from model-2 in the above section that RFC model is doing better with the parameters estimators = 10, depth = 6 so, i skipped the accuracy part and predicted the values directly.\n",
    "    2) The accuracy score for the test/Public Data from the Kaggle submission is 0.74809 which is very bad when compared to the SVM (87% approx) Model with best Parameters, where SVM Outperforms RFC by about 13%.\n",
    "    3) RFC performs bad when compared to the Basic Deep Learning Model.\n",
    "    \n",
    "<h4><font color ='purple'>Hyper Parameter Selection for the Best RFC:</font></h4>\n",
    "        \n",
    "        1) I havent performed any hyper parameter selection in the final selected SVM model since I performed the hyperparameter tuning in model-2 from the above section.\n",
    "        2) Based on the accuracy scores for the model on different parameter values I selected the estimators as 10 and Depth as 6 for the Final Model.    \n",
    "            "
   ]
  },
  {
   "cell_type": "markdown",
   "metadata": {},
   "source": [
    " <h2><center><font color ='Red'>Section-5: Basic CNN with Data Augmentation(Convolutional Model) and Transfer Learning Using VGG19</font></center></h2>"
   ]
  },
  {
   "cell_type": "markdown",
   "metadata": {},
   "source": [
    "Keras with Tensorflow framework is used in this section for building a Fully connected neural network and Convolutional neural network.\n",
    "\n",
    "In this section the following two are the neural networks build for classifying the hair color of the celb-a Dataset:\n",
    "1. Convolutional neural network\n",
    "2. Transfer Learning with VGG19"
   ]
  },
  {
   "cell_type": "markdown",
   "metadata": {},
   "source": [
    "<h4><font color ='brown'>Why Fully connected Neural Networks is not Useful?</font></h4>\n",
    "\n",
    "Dis-advantages of Fully Connected Neural Networks:\n",
    "1. When a model is trained on an image for example lets take a CAT, then we had given the same image for prediction but flipped the image. In this case the model classifies an image as cat if it matches exactly (including position) and miscalssifies the flipped image as not cat eventhough it is a cat.\n",
    "2. The Fully connected neural networks are computationally expensive. Since each input feature is connected to every neuron in the following layer and the trend continues till the Output layer.\n",
    "3. This is why I didnt included the Fully connected Model in the Final Submission.\n",
    "\n",
    "Source: https://www.quora.com/What-are-the-advantages-and-disadvantages-of-fully-connected-layers-in-convolutional-neural-network"
   ]
  },
  {
   "cell_type": "markdown",
   "metadata": {},
   "source": [
    "<h4><font color ='brown'>About connected Neural Networks and its Advantages:</font></h4>\n",
    "Recent Findings say that only a few number of neurons in a human brain is responsible for a part of an image, for example if we take a house some neurons will focus on horizontal lines, some neurons would react to more complex patterns like any engravings on the walls.\n",
    "\n",
    "#### Layers: \n",
    "A Typical CNN Model would have a following layer:\n",
    "1. CONvolutional Layer\n",
    "2. Max pooling or Average Polling Layer\n",
    "3. Batch Normalization Layer\n",
    "4. Dense LAyer\n",
    "5. Drop out Layer\n",
    "\n",
    "#### Advantages: \n",
    "1. In CNN only a few neurons will focus on certain parts of images (input features) instead of each neuron focusing on each input feture (fully connected Network), due to which we can have filters in CNN for any input. So, the model will get trained on the individual Filters so when a same image is given for prediction with a vertical flip, CNN's can still classify an Image.\n",
    "        For example: \n",
    "        let's Take a cat when a CNN Model is trained the model will get trained on features like Ears, eyes, whiskers. so, when the model finds similar features in the new image irrespective of the position the model classifies the image as cat.\n",
    "    1. Layer1 in the CNN might be responsible for some lines, lines with orientation, some shapes and so on...\n",
    "    2. Layer2 take input from layer 1 and starts building more complex features say outline of cat ears and so on...\n",
    "    3. Layern will get the input from previous layers and can identify the cat face or whole cat itself.\n",
    "2. Since only few neurons is responsible for certain part of an image the computation time will be faster compared to Neural Networks\n",
    "\n",
    "#### Batch Normalization:\n",
    "Even our input data is Normalized and feed to a CNN neural networks each weights associated with the neuron would get updated during each epoch via Adam Optimizer in the backward propogation technique. So, it can be possible that some weights of the neurons in a layer would get large compared to the others and therby this weights imbalance will affect the Output. for this reason we normalize the output comming out from the Conv2D layers.  \n",
    "\n",
    "Source: https://www.youtube.com/watch?v=dXB-KQYkzNU&t=251s"
   ]
  },
  {
   "cell_type": "markdown",
   "metadata": {},
   "source": [
    "<h3><font color ='coral'>1) Preprocessing and Feature Extraction :</font></h3>\n",
    "    \n",
    "    1. Setting the random Seed at the begining such that it would help us in reproducing similar results.\n",
    "    2.Before Proceeding further we need to do some preprocessing on the Target Lables of the Train and Test Data In order for the model to start learning as the CNN model Treats the labels as one hot vectors.\n",
    "    3.Here we dont need to reshape the Data into 2d as the convolutional models work with 3 Dimensions data.\n",
    "    4. Preffered saving method for Deep learning models."
   ]
  },
  {
   "cell_type": "markdown",
   "metadata": {},
   "source": [
    "<h4><font color ='Brown'>1) Setting the Random Seed for getting Reproducable results:</font></h4>\n",
    "Usally when a Gpu is used for training the models the results will not come same every time we ran the same code due to the randomness form the complex GPU libraries. There is Some evidence that when NVDIA GPU's are used (CUDNN) reproducible results cannot be attained.\n",
    "\n",
    "Source: https://machinelearningmastery.com/reproducible-results-neural-networks-keras/\n",
    "\n",
    "Source: https://www.youtube.com/watch?v=HcW0DeWRggs\n"
   ]
  },
  {
   "cell_type": "code",
   "execution_count": 2,
   "metadata": {},
   "outputs": [],
   "source": [
    "# Inidcating That it is necessary for any hash based algorithms to produce reproducable values \n",
    "os.environ['PYTHONHASHSEED'] = '1'\n",
    "np.random.seed(2020) # Seed for numpy random numbers\n",
    "random.seed(2020) # Seed for python \n",
    "tf.random.set_seed(2020) # Seed for tensorflow\n",
    "# We need to force tensorflow to use single thread for getting reproducable results\n",
    "# Because multiple threads will effect the reproducability (getting the same results everytime)\n",
    "# Cur_Session = tf.compat.v1.Session(graph = tf.get_default_graph(), config = session_conf)\n",
    "# BD.set_session(Cur_Session)\n",
    "# the last two lines will not work for a GPU"
   ]
  },
  {
   "cell_type": "markdown",
   "metadata": {},
   "source": [
    "<h4><font color ='brown'>2) Creating the One Hot Vectors for the Labels:</font></h4>\n",
    "currently our target variable ranges in between 0-3 representing hair colors, but we need to provide the labels as one hot vector meaning in our case 1000, 0100, 0010, 0001 represents black, blond, brown, gray such that at any point of time one class has the value 1 and the others are set to 0."
   ]
  },
  {
   "cell_type": "code",
   "execution_count": 3,
   "metadata": {},
   "outputs": [
    {
     "name": "stdout",
     "output_type": "stream",
     "text": [
      "Train Labels Shape: (98479, 4)\n",
      "Validation Labels Shape: (12270, 4)\n"
     ]
    }
   ],
   "source": [
    "num_classes = len(hair_colours) # no of classes\n",
    "labels_train_rs = keras.utils.to_categorical(labels_train, num_classes) # Generating a One hot vector for the Train labels Data\n",
    "labels_val_rs = keras.utils.to_categorical(labels_val, num_classes) # Generating One Hot vector for the Validation Data\n",
    "print(\"Train Labels Shape:\", labels_train_rs.shape)\n",
    "print(\"Validation Labels Shape:\", labels_val_rs.shape)"
   ]
  },
  {
   "cell_type": "markdown",
   "metadata": {},
   "source": [
    "<h4><font color ='brown'>3) No Need to reshape the data to 2d :</font></h4>\n",
    "The Input shape acceptable by the Convolutional Models is (height, width, depth)"
   ]
  },
  {
   "cell_type": "code",
   "execution_count": 6,
   "metadata": {},
   "outputs": [
    {
     "name": "stdout",
     "output_type": "stream",
     "text": [
      "Input dimensions of images_train_rs are:  (48, 48, 3)\n"
     ]
    }
   ],
   "source": [
    "print(\"Input dimensions of images_train_rs are: \",images_train_rs.shape[1:]) # Excludes the first column that represnts no of rows"
   ]
  },
  {
   "cell_type": "markdown",
   "metadata": {},
   "source": [
    "Now the data is in the correct format (input features in 3D, Labels as One hot vectors) for a neural network to start Learning."
   ]
  },
  {
   "cell_type": "markdown",
   "metadata": {},
   "source": [
    "<h4><font color ='brown'>4) Preffered saving method for saving Models:</font></h4>\n",
    ".h5 is the preffered mode of saving a model in keras which stores the weights of the model along with the structure of model, loss and metrics, model optimizer state.\n",
    "\n",
    "Source: https://machinelearningmastery.com/save-load-keras-deep-learning-models/"
   ]
  },
  {
   "cell_type": "markdown",
   "metadata": {},
   "source": [
    "<h3><font color ='coral'>2) Model Fitting :</font></h3>\n",
    "The Selected Model From Deep LEarning Section Would be Basic CNN with Data Augmentation, I also treat VGG19 as my Best selected model as the accuracy scores of both model is same\n",
    "\n",
    "    1. At first I fitted a CNN model which is Built from scrath.\n",
    "    2. Then I used the Data Augmentation to improve the Seleceted Models Performance Further More.\n",
    "    3. Using Transfer Learning of VGG19 to classify our Data.\n",
    "    4. Using Transfer Learning of VGG19 with Data Augmentation. "
   ]
  },
  {
   "cell_type": "markdown",
   "metadata": {},
   "source": [
    "<h3><font color ='brown'>Model 1: Building CNN From Scratch</font></h3>\n",
    "Basic CNN Model with 5 CONV Layers, 3 Dense Layers with selu activation, 4 Dropout layers function (these Drop out layers will help the model to not overfit) and 3 BatchNormalization layers (which makes sure that the output from each neuron would be in the same range and also help in not overfitting).\n",
    "\n",
    "Here we need to define the input size to the first layer only and the rest of the layers will get the input from the previous layers."
   ]
  },
  {
   "cell_type": "code",
   "execution_count": 5,
   "metadata": {},
   "outputs": [
    {
     "name": "stdout",
     "output_type": "stream",
     "text": [
      "Model: \"sequential\"\n",
      "_________________________________________________________________\n",
      "Layer (type)                 Output Shape              Param #   \n",
      "=================================================================\n",
      "conv2d (Conv2D)              (None, 48, 48, 32)        2432      \n",
      "_________________________________________________________________\n",
      "conv2d_1 (Conv2D)            (None, 48, 48, 32)        25632     \n",
      "_________________________________________________________________\n",
      "max_pooling2d (MaxPooling2D) (None, 24, 24, 32)        0         \n",
      "_________________________________________________________________\n",
      "batch_normalization (BatchNo (None, 24, 24, 32)        128       \n",
      "_________________________________________________________________\n",
      "dropout (Dropout)            (None, 24, 24, 32)        0         \n",
      "_________________________________________________________________\n",
      "conv2d_2 (Conv2D)            (None, 24, 24, 64)        18496     \n",
      "_________________________________________________________________\n",
      "conv2d_3 (Conv2D)            (None, 24, 24, 64)        36928     \n",
      "_________________________________________________________________\n",
      "max_pooling2d_1 (MaxPooling2 (None, 12, 12, 64)        0         \n",
      "_________________________________________________________________\n",
      "batch_normalization_1 (Batch (None, 12, 12, 64)        256       \n",
      "_________________________________________________________________\n",
      "dropout_1 (Dropout)          (None, 12, 12, 64)        0         \n",
      "_________________________________________________________________\n",
      "conv2d_4 (Conv2D)            (None, 12, 12, 128)       73856     \n",
      "_________________________________________________________________\n",
      "batch_normalization_2 (Batch (None, 12, 12, 128)       512       \n",
      "_________________________________________________________________\n",
      "flatten (Flatten)            (None, 18432)             0         \n",
      "_________________________________________________________________\n",
      "dense (Dense)                (None, 256)               4718848   \n",
      "_________________________________________________________________\n",
      "dropout_2 (Dropout)          (None, 256)               0         \n",
      "_________________________________________________________________\n",
      "dense_1 (Dense)              (None, 128)               32896     \n",
      "_________________________________________________________________\n",
      "dropout_3 (Dropout)          (None, 128)               0         \n",
      "_________________________________________________________________\n",
      "dense_2 (Dense)              (None, 4)                 516       \n",
      "=================================================================\n",
      "Total params: 4,910,500\n",
      "Trainable params: 4,910,052\n",
      "Non-trainable params: 448\n",
      "_________________________________________________________________\n"
     ]
    }
   ],
   "source": [
    "CNN_S = keras.models.Sequential([\n",
    "   \n",
    "    keras.layers.Conv2D(32, 5, activation=\"selu\", padding=\"same\", input_shape=[48,48,3]),\n",
    "    keras.layers.Conv2D(32, 5, activation=\"selu\", padding=\"same\"),\n",
    "    keras.layers.MaxPooling2D(2),\n",
    "    keras.layers.BatchNormalization(),\n",
    "    keras.layers.Dropout(0.4),\n",
    "    keras.layers.Conv2D(64, 3, activation=\"selu\", padding=\"same\"),\n",
    "    keras.layers.Conv2D(64, 3, activation=\"selu\", padding=\"same\"),\n",
    "    keras.layers.MaxPooling2D(2),    \n",
    "    keras.layers.BatchNormalization(),\n",
    "    keras.layers.Dropout(0.4),\n",
    "    keras.layers.Conv2D(128, 3, activation=\"selu\", padding=\"same\"),\n",
    "    keras.layers.BatchNormalization(),\n",
    "    keras.layers.Flatten(),\n",
    "    keras.layers.Dense(256, activation = \"selu\"),\n",
    "    keras.layers.Dropout(0.4),\n",
    "    keras.layers.Dense(128, activation = \"selu\"),\n",
    "    keras.layers.Dropout(0.4),\n",
    "    keras.layers.Dense(num_classes, activation=\"softmax\")    \n",
    "])\n",
    "\n",
    "\n",
    "CNN_S.summary()\n",
    "\n",
    "opt = keras.optimizers.Adam(learning_rate=0.0005)\n",
    "\n",
    "CNN_S.compile(loss=keras.losses.categorical_crossentropy,\n",
    "              optimizer=opt,\n",
    "              metrics=['accuracy'])"
   ]
  },
  {
   "cell_type": "code",
   "execution_count": 6,
   "metadata": {},
   "outputs": [
    {
     "name": "stdout",
     "output_type": "stream",
     "text": [
      "Epoch 1/15\n",
      "329/329 [==============================] - 41s 124ms/step - accuracy: 0.7425 - loss: 0.9093 - val_accuracy: 0.4141 - val_loss: 2.8664\n",
      "Epoch 2/15\n",
      "329/329 [==============================] - 40s 120ms/step - accuracy: 0.8281 - loss: 0.5072 - val_accuracy: 0.8606 - val_loss: 0.3958\n",
      "Epoch 3/15\n",
      "329/329 [==============================] - 40s 120ms/step - accuracy: 0.8621 - loss: 0.3867 - val_accuracy: 0.8767 - val_loss: 0.3274\n",
      "Epoch 4/15\n",
      "329/329 [==============================] - 40s 121ms/step - accuracy: 0.8794 - loss: 0.3305 - val_accuracy: 0.8954 - val_loss: 0.2789\n",
      "Epoch 5/15\n",
      "329/329 [==============================] - 40s 121ms/step - accuracy: 0.8920 - loss: 0.2974 - val_accuracy: 0.8724 - val_loss: 0.3485\n",
      "Epoch 6/15\n",
      "329/329 [==============================] - 40s 121ms/step - accuracy: 0.8984 - loss: 0.2782 - val_accuracy: 0.8697 - val_loss: 0.3539\n",
      "Epoch 7/15\n",
      "329/329 [==============================] - 40s 121ms/step - accuracy: 0.9031 - loss: 0.2643 - val_accuracy: 0.9054 - val_loss: 0.2596\n",
      "Epoch 8/15\n",
      "329/329 [==============================] - 40s 122ms/step - accuracy: 0.9087 - loss: 0.2512 - val_accuracy: 0.8919 - val_loss: 0.2832\n",
      "Epoch 9/15\n",
      "329/329 [==============================] - 40s 122ms/step - accuracy: 0.9104 - loss: 0.2441 - val_accuracy: 0.8860 - val_loss: 0.3096\n",
      "Epoch 10/15\n",
      "329/329 [==============================] - 40s 122ms/step - accuracy: 0.9144 - loss: 0.2326 - val_accuracy: 0.8962 - val_loss: 0.2677\n",
      "Epoch 11/15\n",
      "329/329 [==============================] - 40s 121ms/step - accuracy: 0.9175 - loss: 0.2253 - val_accuracy: 0.9011 - val_loss: 0.2685\n",
      "Epoch 12/15\n",
      "329/329 [==============================] - 40s 121ms/step - accuracy: 0.9195 - loss: 0.2165 - val_accuracy: 0.9029 - val_loss: 0.2568\n",
      "Epoch 13/15\n",
      "329/329 [==============================] - 40s 121ms/step - accuracy: 0.9228 - loss: 0.2103 - val_accuracy: 0.9092 - val_loss: 0.2509\n",
      "Epoch 14/15\n",
      "329/329 [==============================] - 40s 121ms/step - accuracy: 0.9244 - loss: 0.2034 - val_accuracy: 0.9085 - val_loss: 0.2517\n",
      "Epoch 15/15\n",
      "329/329 [==============================] - 40s 121ms/step - accuracy: 0.9271 - loss: 0.1963 - val_accuracy: 0.9104 - val_loss: 0.2443\n"
     ]
    }
   ],
   "source": [
    "CNN_S_Output = CNN_S.fit(images_train_rs, labels_train_rs,\n",
    "                       batch_size=300,\n",
    "                       epochs=15,\n",
    "                       validation_data=(images_val_rs, labels_val_rs))"
   ]
  },
  {
   "cell_type": "code",
   "execution_count": 7,
   "metadata": {},
   "outputs": [
    {
     "data": {
      "image/png": "[encoded data removed]",
      "text/plain": [
       "<Figure size 1440x504 with 1 Axes>"
      ]
     },
     "metadata": {
      "needs_background": "light"
     },
     "output_type": "display_data"
    }
   ],
   "source": [
    "# Plotting the accuray and loss for training and validation data\n",
    "pd.DataFrame(CNN_S_Output.history).plot(figsize=(20, 7))\n",
    "plt.grid(True)\n",
    "plt.gca().set_ylim(0, 3)\n",
    "plt.title(\"Basic Connected Neural Network with 5 Conv layers, 3 Dense Layers\")\n",
    "plt.show()"
   ]
  },
  {
   "cell_type": "markdown",
   "metadata": {},
   "source": [
    "<h4><font color ='purple'>Results Interpretation for Basic CNN:</font></h4>\n",
    "* From the Model Summary we can see that Total Trainable Parameters are 4,910,500 which is huge given that our total observations were at 120,000 approx, so this model may overfit but perrform's better than the Convolutional Neural networks.\n",
    "\n",
    "* From the Plot we can see that Validation loss is decreasing ,the validation accuracy seems to increase from 41% to 91.04% by epoch 15. On the other hand training loss tend to decrease and accuracy scores tend to increase with increase in epochs. upon looking the Trainig accuracy score and Validation accuracy, scores seems close to each other with a differnce of 1% which is a good sign.\n",
    "Since this model seems to perform well on the data so we further look at the model performance with augmented Data.\n",
    "\n",
    "THE OUTPUT MAY VARY IF THE CELL IS RAN AGAIN."
   ]
  },
  {
   "cell_type": "code",
   "execution_count": 67,
   "metadata": {},
   "outputs": [],
   "source": [
    "CNN_S_probabilities = CNN_S.predict([images_test_public_rs]) # Predicting the Probabilities"
   ]
  },
  {
   "cell_type": "code",
   "execution_count": 68,
   "metadata": {},
   "outputs": [
    {
     "name": "stdout",
     "output_type": "stream",
     "text": [
      "the first five Predicted classes are: [0 2 0 ... 0 0 2]\n",
      "Length of Predicted labels: 11921\n"
     ]
    }
   ],
   "source": [
    "#### Converting the one hot encoding probability values back to a single column representing wich class does an image belongs to \n",
    "Pred_Labels = np.argmax(CNN_S_probabilities, axis = 1)\n",
    "print(\"the first five Predicted classes are:\", Pred_Labels)\n",
    "print(\"Length of Predicted labels:\", len(Pred_Labels))"
   ]
  },
  {
   "cell_type": "code",
   "execution_count": 69,
   "metadata": {},
   "outputs": [
    {
     "data": {
      "text/html": [
       "<div>\n",
       "<style scoped>\n",
       "    .dataframe tbody tr th:only-of-type {\n",
       "        vertical-align: middle;\n",
       "    }\n",
       "\n",
       "    .dataframe tbody tr th {\n",
       "        vertical-align: top;\n",
       "    }\n",
       "\n",
       "    .dataframe thead th {\n",
       "        text-align: right;\n",
       "    }\n",
       "</style>\n",
       "<table border=\"1\" class=\"dataframe\">\n",
       "  <thead>\n",
       "    <tr style=\"text-align: right;\">\n",
       "      <th></th>\n",
       "      <th>ID</th>\n",
       "    </tr>\n",
       "  </thead>\n",
       "  <tbody>\n",
       "    <tr>\n",
       "      <th>11916</th>\n",
       "      <td>202595.jpg</td>\n",
       "    </tr>\n",
       "    <tr>\n",
       "      <th>11917</th>\n",
       "      <td>202596.jpg</td>\n",
       "    </tr>\n",
       "    <tr>\n",
       "      <th>11918</th>\n",
       "      <td>202597.jpg</td>\n",
       "    </tr>\n",
       "    <tr>\n",
       "      <th>11919</th>\n",
       "      <td>202598.jpg</td>\n",
       "    </tr>\n",
       "    <tr>\n",
       "      <th>11920</th>\n",
       "      <td>202599.jpg</td>\n",
       "    </tr>\n",
       "  </tbody>\n",
       "</table>\n",
       "</div>"
      ],
      "text/plain": [
       "               ID\n",
       "11916  202595.jpg\n",
       "11917  202596.jpg\n",
       "11918  202597.jpg\n",
       "11919  202598.jpg\n",
       "11920  202599.jpg"
      ]
     },
     "execution_count": 69,
     "metadata": {},
     "output_type": "execute_result"
    }
   ],
   "source": [
    "# creating a data frame for predicted values\n",
    "df1 = pd.DataFrame(Pred_Labels, columns=['Prediction'])\n",
    "# creating a data frame for files_val which contains image names\n",
    "df2 = pd.DataFrame(files_test_public, columns=['ID'])\n",
    "df2.tail()"
   ]
  },
  {
   "cell_type": "code",
   "execution_count": 70,
   "metadata": {},
   "outputs": [],
   "source": [
    "# Joining the two data frames through the index\n",
    "CNN_S_45693242 = df2.merge(df1, left_index=True, right_index=True)"
   ]
  },
  {
   "cell_type": "code",
   "execution_count": 71,
   "metadata": {},
   "outputs": [],
   "source": [
    "CNN_S_45693242.to_csv (r'C:\\\\Users\\\\suhas\\\\Documents\\\\study\\\\ML Practice\\\\CNN_S_45693242.csv', index = False, header=True)"
   ]
  },
  {
   "cell_type": "code",
   "execution_count": 73,
   "metadata": {},
   "outputs": [],
   "source": [
    "CNN_S.save(\"CNN_S.h5\")  ## Best MOdel So For In CNN with 92.7 on the test data "
   ]
  },
  {
   "cell_type": "markdown",
   "metadata": {},
   "source": [
    "<h4><font color ='purple'>Kaggle Result:</font></h4>\n",
    "Upon looking at the Kaggle scores the accuracy for the Basic Model on the Public data is 0.92743. which is good and is the best of all the models"
   ]
  },
  {
   "cell_type": "markdown",
   "metadata": {},
   "source": [
    "<h3><font color ='brown'>Model 2: CNN with Data Augmentation (Selected Model in Deep Learning)</font></h3>"
   ]
  },
  {
   "cell_type": "code",
   "execution_count": 8,
   "metadata": {},
   "outputs": [],
   "source": [
    "CNN_S_OA_DA = tf.keras.models.load_model('CNN_S.h5') # Loading the Model"
   ]
  },
  {
   "cell_type": "code",
   "execution_count": 13,
   "metadata": {},
   "outputs": [],
   "source": [
    "datagen = ImageDataGenerator(rotation_range=30,\n",
    "                             width_shift_range=0.1,\n",
    "                             height_shift_range=0.1,\n",
    "                             zoom_range = 0.1,\n",
    "                             shear_range = 0.2,\n",
    "                             horizontal_flip = True, \n",
    "                             fill_mode='nearest')\n",
    "# Techniques for Data Augmemtation"
   ]
  },
  {
   "cell_type": "code",
   "execution_count": 14,
   "metadata": {},
   "outputs": [],
   "source": [
    "x_Train_After_Augmentation = images_train_rs\n",
    "datagen.fit(x_Train_After_Augmentation)"
   ]
  },
  {
   "cell_type": "code",
   "execution_count": 15,
   "metadata": {},
   "outputs": [
    {
     "name": "stdout",
     "output_type": "stream",
     "text": [
      "Epoch 1/9\n",
      "329/328 [==============================] - 64s 196ms/step - accuracy: 0.9019 - loss: 0.2703 - val_accuracy: 0.8950 - val_loss: 0.2839\n",
      "Epoch 2/9\n",
      "329/328 [==============================] - 64s 196ms/step - accuracy: 0.9033 - loss: 0.2666 - val_accuracy: 0.8650 - val_loss: 0.3293\n",
      "Epoch 3/9\n",
      "329/328 [==============================] - 65s 197ms/step - accuracy: 0.9038 - loss: 0.2626 - val_accuracy: 0.8703 - val_loss: 0.3265\n",
      "Epoch 4/9\n",
      "329/328 [==============================] - 76s 233ms/step - accuracy: 0.9047 - loss: 0.2616 - val_accuracy: 0.9007 - val_loss: 0.2638\n",
      "Epoch 5/9\n",
      "329/328 [==============================] - 77s 234ms/step - accuracy: 0.9066 - loss: 0.2560 - val_accuracy: 0.9157 - val_loss: 0.2319\n",
      "Epoch 6/9\n",
      "329/328 [==============================] - 73s 221ms/step - accuracy: 0.9080 - loss: 0.2533 - val_accuracy: 0.9077 - val_loss: 0.2426\n",
      "Epoch 7/9\n",
      "329/328 [==============================] - 66s 201ms/step - accuracy: 0.9084 - loss: 0.2519 - val_accuracy: 0.9008 - val_loss: 0.2753\n",
      "Epoch 8/9\n",
      "329/328 [==============================] - 65s 198ms/step - accuracy: 0.9091 - loss: 0.2492 - val_accuracy: 0.8788 - val_loss: 0.3124\n",
      "Epoch 9/9\n",
      "329/328 [==============================] - 64s 196ms/step - accuracy: 0.9098 - loss: 0.2476 - val_accuracy: 0.9042 - val_loss: 0.2557\n"
     ]
    }
   ],
   "source": [
    "batch_size = 300\n",
    "CNN_S_OA_DA_Output = CNN_S_OA_DA.fit(datagen.flow(x_Train_After_Augmentation, labels_train_rs, \n",
    "                         batch_size),\n",
    "                         steps_per_epoch = len(x_Train_After_Augmentation)/batch_size,\n",
    "                         epochs = 9, \n",
    "                         validation_data=(images_val_rs, labels_val_rs),\n",
    "                         verbose=1)"
   ]
  },
  {
   "cell_type": "code",
   "execution_count": 16,
   "metadata": {},
   "outputs": [
    {
     "data": {
      "image/png": "[encoded data removed]",
      "text/plain": [
       "<Figure size 1440x504 with 1 Axes>"
      ]
     },
     "metadata": {
      "needs_background": "light"
     },
     "output_type": "display_data"
    }
   ],
   "source": [
    "# Plotting the accuray and loss for training and validation data\n",
    "pd.DataFrame(CNN_S_OA_DA_Output.history).plot(figsize=(20, 7))\n",
    "plt.grid(True)\n",
    "plt.gca().set_ylim(0, 1)\n",
    "plt.title(\"CNN with dATA AUGMENTATION\")\n",
    "plt.show()"
   ]
  },
  {
   "cell_type": "markdown",
   "metadata": {},
   "source": [
    "<h4><font color ='purple'>Results Interpretation for Basic CNN with Data Augmentation:</font></h4>\n",
    "\n",
    "* From the Plot we can see that Validation seems to fluctuate and is decreasing on slow steady rate and the validation accuracy seems to increase and reach 90.42% by epoch 9. On the other hand training loss tend to decrease and accuracy scores tend to increase with increase in epochs. upon looking the Trainig accuracy score and Validation accuracy scores seems close to each other with a differnce of 0.4% which is similar to Basic CNN Model. \n",
    "* I will be using this model as my Selecetd CNN model from deep learning model because, this model has a better chance of classifying the images that include some filters in it, which is not possible with the Basic CNN.\n",
    "\n",
    "THE OUTPUT MAY VARY IF THE CELL IS RAN AGAIN."
   ]
  },
  {
   "cell_type": "code",
   "execution_count": 26,
   "metadata": {},
   "outputs": [],
   "source": [
    "CNN_S_DA_probabilities = CNN_S_OA_DA.predict([images_test_public_rs])"
   ]
  },
  {
   "cell_type": "code",
   "execution_count": 27,
   "metadata": {},
   "outputs": [
    {
     "name": "stdout",
     "output_type": "stream",
     "text": [
      "the first five Predicted classes are: [0 1 0 ... 0 0 2]\n",
      "Length of Predicted labels: 11921\n"
     ]
    }
   ],
   "source": [
    "#### Converting the one hot encoding probability values back to a single column representing wich class does an image belongs to \n",
    "Pred_Labels = np.argmax(CNN_S_DA_probabilities, axis = 1)\n",
    "print(\"the first five Predicted classes are:\", Pred_Labels)\n",
    "print(\"Length of Predicted labels:\", len(Pred_Labels))"
   ]
  },
  {
   "cell_type": "code",
   "execution_count": 28,
   "metadata": {},
   "outputs": [
    {
     "data": {
      "text/html": [
       "<div>\n",
       "<style scoped>\n",
       "    .dataframe tbody tr th:only-of-type {\n",
       "        vertical-align: middle;\n",
       "    }\n",
       "\n",
       "    .dataframe tbody tr th {\n",
       "        vertical-align: top;\n",
       "    }\n",
       "\n",
       "    .dataframe thead th {\n",
       "        text-align: right;\n",
       "    }\n",
       "</style>\n",
       "<table border=\"1\" class=\"dataframe\">\n",
       "  <thead>\n",
       "    <tr style=\"text-align: right;\">\n",
       "      <th></th>\n",
       "      <th>ID</th>\n",
       "    </tr>\n",
       "  </thead>\n",
       "  <tbody>\n",
       "    <tr>\n",
       "      <th>11916</th>\n",
       "      <td>202595.jpg</td>\n",
       "    </tr>\n",
       "    <tr>\n",
       "      <th>11917</th>\n",
       "      <td>202596.jpg</td>\n",
       "    </tr>\n",
       "    <tr>\n",
       "      <th>11918</th>\n",
       "      <td>202597.jpg</td>\n",
       "    </tr>\n",
       "    <tr>\n",
       "      <th>11919</th>\n",
       "      <td>202598.jpg</td>\n",
       "    </tr>\n",
       "    <tr>\n",
       "      <th>11920</th>\n",
       "      <td>202599.jpg</td>\n",
       "    </tr>\n",
       "  </tbody>\n",
       "</table>\n",
       "</div>"
      ],
      "text/plain": [
       "               ID\n",
       "11916  202595.jpg\n",
       "11917  202596.jpg\n",
       "11918  202597.jpg\n",
       "11919  202598.jpg\n",
       "11920  202599.jpg"
      ]
     },
     "execution_count": 28,
     "metadata": {},
     "output_type": "execute_result"
    }
   ],
   "source": [
    "# creating a data frame for predicted values\n",
    "df1 = pd.DataFrame(Pred_Labels, columns=['Prediction'])\n",
    "# creating a data frame for files_val which contains image names\n",
    "df2 = pd.DataFrame(files_test_public, columns=['ID'])\n",
    "df2.tail()"
   ]
  },
  {
   "cell_type": "code",
   "execution_count": 29,
   "metadata": {},
   "outputs": [],
   "source": [
    "# Joining the two data frames through the index\n",
    "CNN_S_DA_45693242 = df2.merge(df1, left_index=True, right_index=True)"
   ]
  },
  {
   "cell_type": "code",
   "execution_count": 30,
   "metadata": {},
   "outputs": [],
   "source": [
    "CNN_S_DA_45693242.to_csv (r'C:\\\\Users\\\\suhas\\\\Documents\\\\study\\\\ML Practice\\\\CNN_Final2_45693242.csv', index = False, header=True)"
   ]
  },
  {
   "cell_type": "code",
   "execution_count": 31,
   "metadata": {},
   "outputs": [],
   "source": [
    "CNN_S_OA_DA.save(\"CNN_S_OA_DA.h5\")  # Best Model So for with Data Augmentation"
   ]
  },
  {
   "cell_type": "markdown",
   "metadata": {},
   "source": [
    "<h4><font color ='purple'>Kaggle Result:</font></h4>\n",
    "Upon looking at the Kaggle scores the accuracy for the Basic Model with Data Augmentation on the Public data is 0.92618. which is good and is the better than the BAsic CNN due to the added advantage of classifying the images with more intense filiters."
   ]
  },
  {
   "cell_type": "markdown",
   "metadata": {},
   "source": [
    "<h3><font color ='brown'>Model 3: TRANSFER LEARNING with VGG19 (Next Best Model in Deep Learning Model): </font></h3>\n",
    "There are several CNN model's that performed well on the Imagenet dataset which is mixture of 1000 classes with a million of pictures. So,we can make use of the information from lower layers of the Already trained models and modify the uppr layers such that the situtaion suits our case, in doing so we can expect better accuracy scores compared to the basic CNN that we build.\n",
    "\n",
    "In this section I will be focusing on VGG19 Model, I had even tried other Transfer learning models like Resnet, Mobilenetv2 but not included in this final version because of their poor performance on the validation data as well as training data."
   ]
  },
  {
   "cell_type": "code",
   "execution_count": 4,
   "metadata": {},
   "outputs": [],
   "source": [
    "input_shape = (48,48,3)"
   ]
  },
  {
   "cell_type": "markdown",
   "metadata": {},
   "source": [
    "<h4><font color ='Purple'>TRANSFER LEARNING with VGG19 by freezing all the layers</font></h4>\n",
    "As a first step I am looking at how the model performs when all the layers were frozen (such that weights are fixed). VGG19 with input shape (48,48,3), imagenet weigths are used. "
   ]
  },
  {
   "cell_type": "code",
   "execution_count": 35,
   "metadata": {},
   "outputs": [
    {
     "name": "stdout",
     "output_type": "stream",
     "text": [
      "Model: \"vgg19\"\n",
      "_________________________________________________________________\n",
      "Layer (type)                 Output Shape              Param #   \n",
      "=================================================================\n",
      "input_2 (InputLayer)         (None, 48, 48, 3)         0         \n",
      "_________________________________________________________________\n",
      "block1_conv1 (Conv2D)        (None, 48, 48, 64)        1792      \n",
      "_________________________________________________________________\n",
      "block1_conv2 (Conv2D)        (None, 48, 48, 64)        36928     \n",
      "_________________________________________________________________\n",
      "block1_pool (MaxPooling2D)   (None, 24, 24, 64)        0         \n",
      "_________________________________________________________________\n",
      "block2_conv1 (Conv2D)        (None, 24, 24, 128)       73856     \n",
      "_________________________________________________________________\n",
      "block2_conv2 (Conv2D)        (None, 24, 24, 128)       147584    \n",
      "_________________________________________________________________\n",
      "block2_pool (MaxPooling2D)   (None, 12, 12, 128)       0         \n",
      "_________________________________________________________________\n",
      "block3_conv1 (Conv2D)        (None, 12, 12, 256)       295168    \n",
      "_________________________________________________________________\n",
      "block3_conv2 (Conv2D)        (None, 12, 12, 256)       590080    \n",
      "_________________________________________________________________\n",
      "block3_conv3 (Conv2D)        (None, 12, 12, 256)       590080    \n",
      "_________________________________________________________________\n",
      "block3_conv4 (Conv2D)        (None, 12, 12, 256)       590080    \n",
      "_________________________________________________________________\n",
      "block3_pool (MaxPooling2D)   (None, 6, 6, 256)         0         \n",
      "_________________________________________________________________\n",
      "block4_conv1 (Conv2D)        (None, 6, 6, 512)         1180160   \n",
      "_________________________________________________________________\n",
      "block4_conv2 (Conv2D)        (None, 6, 6, 512)         2359808   \n",
      "_________________________________________________________________\n",
      "block4_conv3 (Conv2D)        (None, 6, 6, 512)         2359808   \n",
      "_________________________________________________________________\n",
      "block4_conv4 (Conv2D)        (None, 6, 6, 512)         2359808   \n",
      "_________________________________________________________________\n",
      "block4_pool (MaxPooling2D)   (None, 3, 3, 512)         0         \n",
      "_________________________________________________________________\n",
      "block5_conv1 (Conv2D)        (None, 3, 3, 512)         2359808   \n",
      "_________________________________________________________________\n",
      "block5_conv2 (Conv2D)        (None, 3, 3, 512)         2359808   \n",
      "_________________________________________________________________\n",
      "block5_conv3 (Conv2D)        (None, 3, 3, 512)         2359808   \n",
      "_________________________________________________________________\n",
      "block5_conv4 (Conv2D)        (None, 3, 3, 512)         2359808   \n",
      "_________________________________________________________________\n",
      "block5_pool (MaxPooling2D)   (None, 1, 1, 512)         0         \n",
      "=================================================================\n",
      "Total params: 20,024,384\n",
      "Trainable params: 20,024,384\n",
      "Non-trainable params: 0\n",
      "_________________________________________________________________\n"
     ]
    }
   ],
   "source": [
    "vgg = VGG19(input_shape=input_shape, weights='imagenet', include_top=False)\n",
    "vgg.summary()"
   ]
  },
  {
   "cell_type": "code",
   "execution_count": 36,
   "metadata": {},
   "outputs": [
    {
     "name": "stdout",
     "output_type": "stream",
     "text": [
      "The Layer input_2 is Successfully Frozen\n",
      "The Layer block1_conv1 is Successfully Frozen\n",
      "The Layer block1_conv2 is Successfully Frozen\n",
      "The Layer block1_pool is Successfully Frozen\n",
      "The Layer block2_conv1 is Successfully Frozen\n",
      "The Layer block2_conv2 is Successfully Frozen\n",
      "The Layer block2_pool is Successfully Frozen\n",
      "The Layer block3_conv1 is Successfully Frozen\n",
      "The Layer block3_conv2 is Successfully Frozen\n",
      "The Layer block3_conv3 is Successfully Frozen\n",
      "The Layer block3_conv4 is Successfully Frozen\n",
      "The Layer block3_pool is Successfully Frozen\n",
      "The Layer block4_conv1 is Successfully Frozen\n",
      "The Layer block4_conv2 is Successfully Frozen\n",
      "The Layer block4_conv3 is Successfully Frozen\n",
      "The Layer block4_conv4 is Successfully Frozen\n",
      "The Layer block4_pool is Successfully Frozen\n",
      "The Layer block5_conv1 is Successfully Frozen\n",
      "The Layer block5_conv2 is Successfully Frozen\n",
      "The Layer block5_conv3 is Successfully Frozen\n",
      "The Layer block5_conv4 is Successfully Frozen\n",
      "The Layer block5_pool is Successfully Frozen\n"
     ]
    }
   ],
   "source": [
    "#Freezing all layers in VGG19 so that the weights wont be changed\n",
    "for layer in vgg.layers:\n",
    "    layer.trainable = False\n",
    "    print(\"The Layer \"+layer.name+\" is Successfully Frozen\")"
   ]
  },
  {
   "cell_type": "code",
   "execution_count": 37,
   "metadata": {},
   "outputs": [
    {
     "name": "stdout",
     "output_type": "stream",
     "text": [
      "Model: \"model_1\"\n",
      "_________________________________________________________________\n",
      "Layer (type)                 Output Shape              Param #   \n",
      "=================================================================\n",
      "input_2 (InputLayer)         (None, 48, 48, 3)         0         \n",
      "_________________________________________________________________\n",
      "block1_conv1 (Conv2D)        (None, 48, 48, 64)        1792      \n",
      "_________________________________________________________________\n",
      "block1_conv2 (Conv2D)        (None, 48, 48, 64)        36928     \n",
      "_________________________________________________________________\n",
      "block1_pool (MaxPooling2D)   (None, 24, 24, 64)        0         \n",
      "_________________________________________________________________\n",
      "block2_conv1 (Conv2D)        (None, 24, 24, 128)       73856     \n",
      "_________________________________________________________________\n",
      "block2_conv2 (Conv2D)        (None, 24, 24, 128)       147584    \n",
      "_________________________________________________________________\n",
      "block2_pool (MaxPooling2D)   (None, 12, 12, 128)       0         \n",
      "_________________________________________________________________\n",
      "block3_conv1 (Conv2D)        (None, 12, 12, 256)       295168    \n",
      "_________________________________________________________________\n",
      "block3_conv2 (Conv2D)        (None, 12, 12, 256)       590080    \n",
      "_________________________________________________________________\n",
      "block3_conv3 (Conv2D)        (None, 12, 12, 256)       590080    \n",
      "_________________________________________________________________\n",
      "block3_conv4 (Conv2D)        (None, 12, 12, 256)       590080    \n",
      "_________________________________________________________________\n",
      "block3_pool (MaxPooling2D)   (None, 6, 6, 256)         0         \n",
      "_________________________________________________________________\n",
      "block4_conv1 (Conv2D)        (None, 6, 6, 512)         1180160   \n",
      "_________________________________________________________________\n",
      "block4_conv2 (Conv2D)        (None, 6, 6, 512)         2359808   \n",
      "_________________________________________________________________\n",
      "block4_conv3 (Conv2D)        (None, 6, 6, 512)         2359808   \n",
      "_________________________________________________________________\n",
      "block4_conv4 (Conv2D)        (None, 6, 6, 512)         2359808   \n",
      "_________________________________________________________________\n",
      "block4_pool (MaxPooling2D)   (None, 3, 3, 512)         0         \n",
      "_________________________________________________________________\n",
      "block5_conv1 (Conv2D)        (None, 3, 3, 512)         2359808   \n",
      "_________________________________________________________________\n",
      "block5_conv2 (Conv2D)        (None, 3, 3, 512)         2359808   \n",
      "_________________________________________________________________\n",
      "block5_conv3 (Conv2D)        (None, 3, 3, 512)         2359808   \n",
      "_________________________________________________________________\n",
      "block5_conv4 (Conv2D)        (None, 3, 3, 512)         2359808   \n",
      "_________________________________________________________________\n",
      "block5_pool (MaxPooling2D)   (None, 1, 1, 512)         0         \n",
      "_________________________________________________________________\n",
      "flatten_1 (Flatten)          (None, 512)               0         \n",
      "_________________________________________________________________\n",
      "DenseFullyConnected (Dense)  (None, 1000)              513000    \n",
      "_________________________________________________________________\n",
      "dropout_1 (Dropout)          (None, 1000)              0         \n",
      "_________________________________________________________________\n",
      "Predictions (Dense)          (None, 4)                 4004      \n",
      "=================================================================\n",
      "Total params: 20,541,388\n",
      "Trainable params: 517,004\n",
      "Non-trainable params: 20,024,384\n",
      "_________________________________________________________________\n"
     ]
    }
   ],
   "source": [
    "# We take the output coming from the last layer and feed i to the last newly added layers of our own\n",
    "vgg_last  = vgg.layers[-1].output\n",
    "new_layer = Flatten()(vgg_last) # Flattening the output layer of vgg\n",
    "new_layer = Dense(1000, activation = \"selu\", name = \"DenseFullyConnected\")(new_layer) # new dense layer adding to the vgg\n",
    "new_layer = Dropout(0.2) (new_layer) # new Drop out layer\n",
    "new_layer = Dense(num_classes, activation=\"softmax\", name=\"Predictions\") (new_layer) # new output layer adding to the dense layer\n",
    "model     = Model(vgg.input, new_layer) # building the model\n",
    "# Compiling the model\n",
    "model.summary()\n",
    "opt = keras.optimizers.Adam(learning_rate=0.0005)\n",
    "model.compile(optimizer=\"adam\", loss='categorical_crossentropy', metrics=['accuracy'])"
   ]
  },
  {
   "cell_type": "code",
   "execution_count": 38,
   "metadata": {},
   "outputs": [
    {
     "name": "stdout",
     "output_type": "stream",
     "text": [
      "Train on 98479 samples, validate on 12270 samples\n",
      "Epoch 1/15\n",
      "98479/98479 [==============================] - 73s 741us/step - loss: 0.7727 - accuracy: 0.6739 - val_loss: 0.7044 - val_accuracy: 0.7022\n",
      "Epoch 2/15\n",
      "98479/98479 [==============================] - 63s 640us/step - loss: 0.6856 - accuracy: 0.7112 - val_loss: 0.6697 - val_accuracy: 0.7145\n",
      "Epoch 3/15\n",
      "98479/98479 [==============================] - 64s 645us/step - loss: 0.6673 - accuracy: 0.7210 - val_loss: 0.6732 - val_accuracy: 0.7152\n",
      "Epoch 4/15\n",
      "98479/98479 [==============================] - 63s 642us/step - loss: 0.6599 - accuracy: 0.7245 - val_loss: 0.6528 - val_accuracy: 0.7219\n",
      "Epoch 5/15\n",
      "98479/98479 [==============================] - 64s 646us/step - loss: 0.6527 - accuracy: 0.7268 - val_loss: 0.6788 - val_accuracy: 0.7104\n",
      "Epoch 6/15\n",
      "98479/98479 [==============================] - 63s 643us/step - loss: 0.6464 - accuracy: 0.7294 - val_loss: 0.6574 - val_accuracy: 0.7206\n",
      "Epoch 7/15\n",
      "98479/98479 [==============================] - 64s 646us/step - loss: 0.6445 - accuracy: 0.7306 - val_loss: 0.6688 - val_accuracy: 0.7133\n",
      "Epoch 8/15\n",
      "98479/98479 [==============================] - 67s 684us/step - loss: 0.6421 - accuracy: 0.7315 - val_loss: 0.6426 - val_accuracy: 0.7272\n",
      "Epoch 9/15\n",
      "98479/98479 [==============================] - 67s 682us/step - loss: 0.6346 - accuracy: 0.7344 - val_loss: 0.6502 - val_accuracy: 0.7242\n",
      "Epoch 10/15\n",
      "98479/98479 [==============================] - 67s 675us/step - loss: 0.6316 - accuracy: 0.7355 - val_loss: 0.6358 - val_accuracy: 0.7271\n",
      "Epoch 11/15\n",
      "98479/98479 [==============================] - 67s 678us/step - loss: 0.6287 - accuracy: 0.7357 - val_loss: 0.6314 - val_accuracy: 0.7329\n",
      "Epoch 12/15\n",
      "98479/98479 [==============================] - 64s 646us/step - loss: 0.6247 - accuracy: 0.7401 - val_loss: 0.6357 - val_accuracy: 0.7297\n",
      "Epoch 13/15\n",
      "98479/98479 [==============================] - 64s 650us/step - loss: 0.6231 - accuracy: 0.7392 - val_loss: 0.6287 - val_accuracy: 0.7333\n",
      "Epoch 14/15\n",
      "98479/98479 [==============================] - 64s 649us/step - loss: 0.6211 - accuracy: 0.7398 - val_loss: 0.6277 - val_accuracy: 0.7325\n",
      "Epoch 15/15\n",
      "98479/98479 [==============================] - 64s 649us/step - loss: 0.6162 - accuracy: 0.7429 - val_loss: 0.6228 - val_accuracy: 0.7381\n"
     ]
    }
   ],
   "source": [
    "vgg1_Output = model.fit(images_train_rs, labels_train_rs,\n",
    "                       batch_size=300,\n",
    "                       epochs=15,\n",
    "                       validation_data=(images_val_rs, labels_val_rs))"
   ]
  },
  {
   "cell_type": "markdown",
   "metadata": {},
   "source": [
    "<h4><font color ='purple'>Results Interpretation of Transfer Learning using VGG19 :</font></h4>\n",
    "* From the Model Summary we can see that Total Trainable Parameters are 517,004 (Total Parameters are: 20,541,388) which is because we frezed all the layer in  between such that weights will be fixed, our Observations data sits around 120,000 approx which is 3 times less than the parameters.\n",
    "\n",
    "* From the scores we can see that Validation loss is decreasing but the validation accuracy is not increasing and is staying constant around 71% and 74%, the same goes for the training scores as well. The Training accuracy is 74.29 , the Validation accuracy is 73.81 we can see that now the model is not performing good upon freezing all the layers.\n",
    "\n",
    "* So, it's better if we train some last layers.\n",
    "\n",
    "THE OUTPUT MAY VARY IF THE CELL IS RAN AGAIN."
   ]
  },
  {
   "cell_type": "markdown",
   "metadata": {},
   "source": [
    "<h4><font color ='Purple'>TRANSFER LEARNING with VGG19 by un-freezing some layers</font></h4>\n",
    "The VGG model is not performing well on the data with freezing all the layers because the final layers may contain different information which is not usefull or irrelevant for our data classification. So, we now train 20% of the layers from the bottom so that we make use of features from lower layers which are usefull and train the rest of the unfrozen layers along with the Dense layers."
   ]
  },
  {
   "cell_type": "code",
   "execution_count": 13,
   "metadata": {},
   "outputs": [
    {
     "name": "stdout",
     "output_type": "stream",
     "text": [
      "The Layer input_4 is Successfully Frozen\n",
      "The Layer block1_conv1 is Successfully Frozen\n",
      "The Layer block1_conv2 is Successfully Frozen\n",
      "The Layer block1_pool is Successfully Frozen\n",
      "The Layer block2_conv1 is Successfully Frozen\n",
      "The Layer block2_conv2 is Successfully Frozen\n",
      "The Layer block2_pool is Successfully Frozen\n",
      "The Layer block3_conv1 is Successfully Frozen\n",
      "The Layer block3_conv2 is Successfully Frozen\n",
      "The Layer block3_conv3 is Successfully Frozen\n",
      "The Layer block3_conv4 is Successfully Frozen\n",
      "The Layer block3_pool is Successfully Frozen\n"
     ]
    }
   ],
   "source": [
    "vgg1 = VGG19(input_shape=input_shape, weights='imagenet', include_top=False)\n",
    "#Freezing all layers in VGG19 so that the weights wont be changed\n",
    "for layer in vgg1.layers:\n",
    "    if layer.name == \"block4_conv1\":\n",
    "        break\n",
    "    layer.trainable = False\n",
    "    print(\"The Layer \"+layer.name+\" is Successfully Frozen\")"
   ]
  },
  {
   "cell_type": "code",
   "execution_count": 14,
   "metadata": {},
   "outputs": [
    {
     "name": "stdout",
     "output_type": "stream",
     "text": [
      "Model: \"model_4\"\n",
      "_________________________________________________________________\n",
      "Layer (type)                 Output Shape              Param #   \n",
      "=================================================================\n",
      "input_4 (InputLayer)         (None, 48, 48, 3)         0         \n",
      "_________________________________________________________________\n",
      "block1_conv1 (Conv2D)        (None, 48, 48, 64)        1792      \n",
      "_________________________________________________________________\n",
      "block1_conv2 (Conv2D)        (None, 48, 48, 64)        36928     \n",
      "_________________________________________________________________\n",
      "block1_pool (MaxPooling2D)   (None, 24, 24, 64)        0         \n",
      "_________________________________________________________________\n",
      "block2_conv1 (Conv2D)        (None, 24, 24, 128)       73856     \n",
      "_________________________________________________________________\n",
      "block2_conv2 (Conv2D)        (None, 24, 24, 128)       147584    \n",
      "_________________________________________________________________\n",
      "block2_pool (MaxPooling2D)   (None, 12, 12, 128)       0         \n",
      "_________________________________________________________________\n",
      "block3_conv1 (Conv2D)        (None, 12, 12, 256)       295168    \n",
      "_________________________________________________________________\n",
      "block3_conv2 (Conv2D)        (None, 12, 12, 256)       590080    \n",
      "_________________________________________________________________\n",
      "block3_conv3 (Conv2D)        (None, 12, 12, 256)       590080    \n",
      "_________________________________________________________________\n",
      "block3_conv4 (Conv2D)        (None, 12, 12, 256)       590080    \n",
      "_________________________________________________________________\n",
      "block3_pool (MaxPooling2D)   (None, 6, 6, 256)         0         \n",
      "_________________________________________________________________\n",
      "block4_conv1 (Conv2D)        (None, 6, 6, 512)         1180160   \n",
      "_________________________________________________________________\n",
      "block4_conv2 (Conv2D)        (None, 6, 6, 512)         2359808   \n",
      "_________________________________________________________________\n",
      "block4_conv3 (Conv2D)        (None, 6, 6, 512)         2359808   \n",
      "_________________________________________________________________\n",
      "block4_conv4 (Conv2D)        (None, 6, 6, 512)         2359808   \n",
      "_________________________________________________________________\n",
      "block4_pool (MaxPooling2D)   (None, 3, 3, 512)         0         \n",
      "_________________________________________________________________\n",
      "block5_conv1 (Conv2D)        (None, 3, 3, 512)         2359808   \n",
      "_________________________________________________________________\n",
      "block5_conv2 (Conv2D)        (None, 3, 3, 512)         2359808   \n",
      "_________________________________________________________________\n",
      "block5_conv3 (Conv2D)        (None, 3, 3, 512)         2359808   \n",
      "_________________________________________________________________\n",
      "block5_conv4 (Conv2D)        (None, 3, 3, 512)         2359808   \n",
      "_________________________________________________________________\n",
      "block5_pool (MaxPooling2D)   (None, 1, 1, 512)         0         \n",
      "_________________________________________________________________\n",
      "flatten_4 (Flatten)          (None, 512)               0         \n",
      "_________________________________________________________________\n",
      "DenseFullyConnected (Dense)  (None, 1000)              513000    \n",
      "_________________________________________________________________\n",
      "dropout_4 (Dropout)          (None, 1000)              0         \n",
      "_________________________________________________________________\n",
      "Predictions (Dense)          (None, 4)                 4004      \n",
      "=================================================================\n",
      "Total params: 20,541,388\n",
      "Trainable params: 18,215,820\n",
      "Non-trainable params: 2,325,568\n",
      "_________________________________________________________________\n"
     ]
    }
   ],
   "source": [
    "# We take the output coming from the last layer and feed i to the last newly added layers of our own\n",
    "vgg_last1  = vgg1.layers[-1].output\n",
    "new_layer = Flatten()(vgg_last1) # Flattening the output layer of vgg\n",
    "new_layer = Dense(1000, activation = \"selu\", name = \"DenseFullyConnected\")(new_layer) # new dense layer adding to the vgg\n",
    "new_layer = Dropout(0.2) (new_layer) # new Drop out layer\n",
    "new_layer = Dense(num_classes, activation=\"softmax\", name=\"Predictions\") (new_layer) # new output layer adding to the dense layer\n",
    "model     = Model(vgg1.input, new_layer) # building the model\n",
    "# Compiling the model\n",
    "model.summary()\n",
    "opt = keras.optimizers.Adam(learning_rate=0.0005)\n",
    "model.compile(optimizer=\"adam\", loss='categorical_crossentropy', metrics=['accuracy'])"
   ]
  },
  {
   "cell_type": "code",
   "execution_count": 15,
   "metadata": {},
   "outputs": [
    {
     "name": "stdout",
     "output_type": "stream",
     "text": [
      "Train on 98479 samples, validate on 12270 samples\n",
      "Epoch 1/12\n",
      "98479/98479 [==============================] - 109s 1ms/step - loss: 0.8070 - accuracy: 0.6572 - val_loss: 0.5414 - val_accuracy: 0.7947\n",
      "Epoch 2/12\n",
      "98479/98479 [==============================] - 109s 1ms/step - loss: 0.4192 - accuracy: 0.8390 - val_loss: 0.4522 - val_accuracy: 0.8187\n",
      "Epoch 3/12\n",
      "98479/98479 [==============================] - 110s 1ms/step - loss: 0.3547 - accuracy: 0.8634 - val_loss: 0.3344 - val_accuracy: 0.8747\n",
      "Epoch 4/12\n",
      "98479/98479 [==============================] - 110s 1ms/step - loss: 0.3246 - accuracy: 0.8765 - val_loss: 0.3209 - val_accuracy: 0.8793\n",
      "Epoch 5/12\n",
      "98479/98479 [==============================] - 110s 1ms/step - loss: 0.3075 - accuracy: 0.8838 - val_loss: 0.3040 - val_accuracy: 0.8868\n",
      "Epoch 6/12\n",
      "98479/98479 [==============================] - 110s 1ms/step - loss: 0.2965 - accuracy: 0.8872 - val_loss: 0.3070 - val_accuracy: 0.8819\n",
      "Epoch 7/12\n",
      "98479/98479 [==============================] - 109s 1ms/step - loss: 0.2834 - accuracy: 0.8938 - val_loss: 0.3371 - val_accuracy: 0.8680\n",
      "Epoch 8/12\n",
      "98479/98479 [==============================] - 109s 1ms/step - loss: 0.2727 - accuracy: 0.8971 - val_loss: 0.2976 - val_accuracy: 0.8855\n",
      "Epoch 9/12\n",
      "98479/98479 [==============================] - 109s 1ms/step - loss: 0.2612 - accuracy: 0.9020 - val_loss: 0.3397 - val_accuracy: 0.8719\n",
      "Epoch 10/12\n",
      "98479/98479 [==============================] - 109s 1ms/step - loss: 0.2522 - accuracy: 0.9047 - val_loss: 0.3166 - val_accuracy: 0.8794\n",
      "Epoch 11/12\n",
      "98479/98479 [==============================] - 109s 1ms/step - loss: 0.2478 - accuracy: 0.9058 - val_loss: 0.3148 - val_accuracy: 0.8786\n",
      "Epoch 12/12\n",
      "98479/98479 [==============================] - 109s 1ms/step - loss: 0.2313 - accuracy: 0.9116 - val_loss: 0.3329 - val_accuracy: 0.8738\n"
     ]
    }
   ],
   "source": [
    "#https://towardsdatascience.com/cnn-transfer-learning-fine-tuning-9f3e7c5806b2\n",
    "vgg1_Output = model.fit(images_train_rs, labels_train_rs,\n",
    "                       batch_size=300,\n",
    "                       epochs=12,\n",
    "                       validation_data=(images_val_rs, labels_val_rs))"
   ]
  },
  {
   "cell_type": "code",
   "execution_count": 16,
   "metadata": {},
   "outputs": [
    {
     "data": {
      "image/png": "[encoded data removed]",
      "text/plain": [
       "<Figure size 1440x504 with 1 Axes>"
      ]
     },
     "metadata": {
      "needs_background": "light"
     },
     "output_type": "display_data"
    }
   ],
   "source": [
    "# Plotting the accuray and loss for training and validation data\n",
    "pd.DataFrame(vgg1_Output.history).plot(figsize=(20, 7))\n",
    "plt.grid(True)\n",
    "plt.gca().set_ylim(0, 1)\n",
    "plt.title(\"VGG19 with Some layers Training From the Bottom\")\n",
    "plt.show()"
   ]
  },
  {
   "cell_type": "markdown",
   "metadata": {},
   "source": [
    "<h4><font color ='Purple'>Result Interpretation for TRANSFER LEARNING with VGG19 by unfreezing some layers</font></h4>\n",
    "* From the Model Summary we can see that Total Trainable Parameters are 18,215,820 which is because we had unfrozen 40% of the layer's, our Observations data sits around 120,000 approx which is very less compared to current parameters.\n",
    "\n",
    "* From the plot we can see that Validation loss is decreasing with a spike in between but the validation accuracy is increasing and reaching upto 87.30, on the other hand the training loss is decreasing with the increase in training accuracy. The Training accuracy is 91.16, the Validation accuracy is 87.38 we can say that this model is performing good upon compared to the one with freezing all the layers.\n",
    "\n",
    "So we further try to increase the Performance with some data augmentation.\n",
    "THE OUTPUT MAY VARY IF THE CELL IS RAN AGAIN."
   ]
  },
  {
   "cell_type": "code",
   "execution_count": 58,
   "metadata": {},
   "outputs": [],
   "source": [
    "Vgg1_probabilities = model.predict([images_test_public_rs])"
   ]
  },
  {
   "cell_type": "code",
   "execution_count": 59,
   "metadata": {},
   "outputs": [
    {
     "name": "stdout",
     "output_type": "stream",
     "text": [
      "the first five Predicted classes are: [0 2 0 ... 0 0 2]\n",
      "Length of Predicted labels: 11921\n"
     ]
    }
   ],
   "source": [
    "#### Converting the one hot encoding probability values back to a single column representing wich class does an image belongs to \n",
    "Pred_Labels = np.argmax(Vgg1_probabilities, axis = 1)\n",
    "print(\"the first five Predicted classes are:\", Pred_Labels)\n",
    "print(\"Length of Predicted labels:\", len(Pred_Labels))"
   ]
  },
  {
   "cell_type": "code",
   "execution_count": 60,
   "metadata": {},
   "outputs": [],
   "source": [
    "# creating a data frame for predicted values\n",
    "df1 = pd.DataFrame(Pred_Labels, columns=['Prediction'])\n",
    "# creating a data frame for files_val which contains image names\n",
    "df2 = pd.DataFrame(files_test_public, columns=['ID'])"
   ]
  },
  {
   "cell_type": "code",
   "execution_count": 61,
   "metadata": {},
   "outputs": [],
   "source": [
    "# Joining the two data frames through the index\n",
    "VGG19_45693242 = df2.merge(df1, left_index=True, right_index=True)"
   ]
  },
  {
   "cell_type": "code",
   "execution_count": 62,
   "metadata": {},
   "outputs": [],
   "source": [
    "VGG19_45693242.to_csv (r'C:\\\\Users\\\\suhas\\\\Documents\\\\study\\\\ML Practice\\\\VGG19_45693242.csv', index = False, header=True)"
   ]
  },
  {
   "cell_type": "code",
   "execution_count": 63,
   "metadata": {},
   "outputs": [],
   "source": [
    "model.save(\"VGG19Final.h5\")  #Saving the Model so far it is the second best model which is closer to the base model"
   ]
  },
  {
   "cell_type": "markdown",
   "metadata": {},
   "source": [
    "<h4><font color ='purple'>Kaggle Result:</font></h4>\n",
    "Upon looking at the Kaggle scores the accuracy for the Basic Model with Data Augmentation on the Public data is 91.5% which is good and is not better than the BAsic CNN but has an added advantage of classifying the images with more intense filiters."
   ]
  },
  {
   "cell_type": "markdown",
   "metadata": {},
   "source": [
    "<h4><font color ='Purple'>TRANSFER LEARNING with VGG19 by un-freezing some layers along with Data Augmentation</font></h4>\n",
    "Now we increase the performance of Transfer learning (some layers trainable) by using Some Augmented Data."
   ]
  },
  {
   "cell_type": "code",
   "execution_count": 17,
   "metadata": {},
   "outputs": [
    {
     "name": "stdout",
     "output_type": "stream",
     "text": [
      "Epoch 1/15\n",
      "329/328 [==============================] - 104s 315ms/step - loss: 0.3773 - accuracy: 0.8546 - val_accuracy: 0.8570 - val_loss: 0.3639\n",
      "Epoch 2/15\n",
      "329/328 [==============================] - 101s 308ms/step - loss: 0.3507 - accuracy: 0.8671 - val_accuracy: 0.8816 - val_loss: 0.3105\n",
      "Epoch 3/15\n",
      "329/328 [==============================] - 102s 309ms/step - loss: 0.3434 - accuracy: 0.8691 - val_accuracy: 0.8607 - val_loss: 0.3671\n",
      "Epoch 4/15\n",
      "329/328 [==============================] - 102s 309ms/step - loss: 0.3326 - accuracy: 0.8739 - val_accuracy: 0.8880 - val_loss: 0.2890\n",
      "Epoch 5/15\n",
      "329/328 [==============================] - 102s 309ms/step - loss: 0.3270 - accuracy: 0.8762 - val_accuracy: 0.8835 - val_loss: 0.3029\n",
      "Epoch 6/15\n",
      "329/328 [==============================] - 105s 318ms/step - loss: 0.3244 - accuracy: 0.8774 - val_accuracy: 0.8550 - val_loss: 0.3640\n",
      "Epoch 7/15\n",
      "329/328 [==============================] - 109s 332ms/step - loss: 0.3281 - accuracy: 0.8748 - val_accuracy: 0.8716 - val_loss: 0.3370\n",
      "Epoch 8/15\n",
      "329/328 [==============================] - 110s 333ms/step - loss: 0.3193 - accuracy: 0.8789 - val_accuracy: 0.8722 - val_loss: 0.3262\n",
      "Epoch 9/15\n",
      "329/328 [==============================] - 110s 335ms/step - loss: 0.3118 - accuracy: 0.8830 - val_accuracy: 0.8893 - val_loss: 0.2835\n",
      "Epoch 10/15\n",
      "329/328 [==============================] - 102s 309ms/step - loss: 0.3109 - accuracy: 0.8815 - val_accuracy: 0.8733 - val_loss: 0.3409\n",
      "Epoch 11/15\n",
      "329/328 [==============================] - 102s 310ms/step - loss: 0.3101 - accuracy: 0.8831 - val_accuracy: 0.8685 - val_loss: 0.3669\n",
      "Epoch 12/15\n",
      "329/328 [==============================] - 102s 311ms/step - loss: 0.3055 - accuracy: 0.8843 - val_accuracy: 0.8861 - val_loss: 0.2923\n",
      "Epoch 13/15\n",
      "329/328 [==============================] - 105s 319ms/step - loss: 0.3022 - accuracy: 0.8860 - val_accuracy: 0.8954 - val_loss: 0.2764\n",
      "Epoch 14/15\n",
      "329/328 [==============================] - 106s 323ms/step - loss: 0.3014 - accuracy: 0.8860 - val_accuracy: 0.8927 - val_loss: 0.2873\n",
      "Epoch 15/15\n",
      "329/328 [==============================] - 111s 337ms/step - loss: 0.3008 - accuracy: 0.8867 - val_accuracy: 0.8959 - val_loss: 0.2783\n"
     ]
    }
   ],
   "source": [
    "datagen = ImageDataGenerator(rotation_range=30,\n",
    "                             width_shift_range=0.1,\n",
    "                             height_shift_range=0.1,\n",
    "                             zoom_range = 0.1,\n",
    "                             shear_range = 0.2,\n",
    "                             horizontal_flip = True, \n",
    "                             fill_mode='nearest')\n",
    "\n",
    "x_Train_After_Augmentation = images_train_rs\n",
    "datagen.fit(x_Train_After_Augmentation)\n",
    "vgg_DA = tf.keras.models.load_model('VGG19Final.h5')\n",
    "batch_size = 300\n",
    "VGGF_DA_Output = vgg_DA.fit(datagen.flow(x_Train_After_Augmentation, labels_train_rs, \n",
    "                         batch_size),\n",
    "                         steps_per_epoch = len(x_Train_After_Augmentation)/batch_size,\n",
    "                         epochs = 15, \n",
    "                         validation_data=(images_val_rs, labels_val_rs),\n",
    "                         verbose=1)"
   ]
  },
  {
   "cell_type": "code",
   "execution_count": 18,
   "metadata": {},
   "outputs": [
    {
     "data": {
      "image/png": "[encoded data removed]",
      "text/plain": [
       "<Figure size 1440x504 with 1 Axes>"
      ]
     },
     "metadata": {
      "needs_background": "light"
     },
     "output_type": "display_data"
    }
   ],
   "source": [
    "# Plotting the accuray and loss for training and validation data\n",
    "pd.DataFrame(VGGF_DA_Output.history).plot(figsize=(20, 7))\n",
    "plt.grid(True)\n",
    "plt.gca().set_ylim(0, 1)\n",
    "plt.title(\"VGG19 with Data Augmentation by Training some layers\")\n",
    "plt.show()"
   ]
  },
  {
   "cell_type": "markdown",
   "metadata": {},
   "source": [
    "<h4><font color ='Purple'>TRANSFER LEARNING with VGG19 by un-freezing some layers</font></h4>\n",
    "\n",
    "* From the plot we can see that Validation loss is decreasing and increasing between the given range of epochs but the validation accuracy is increasing slightly and reaching closely to the training accuracy, on the other hand the training loss is decreasing with the increase in training accuracy. The Training accuracy is 88.67 , the Validation accuracy is 89.59 we can say that this model is performing good upon compared to the one with freezing all the layers and the one with some unfrozen layers.\n",
    "\n",
    "* I will be Using this Model as the 2nd Best from Deep Learning Section since the Performance of this model and the Basic CNN wtih Data Augmentation has same performance on both test/public and Private Data.\n",
    "\n",
    "THE OUTPUT MAY VARY IF THE CELL IS RAN AGAIN."
   ]
  },
  {
   "cell_type": "code",
   "execution_count": 66,
   "metadata": {},
   "outputs": [
    {
     "name": "stdout",
     "output_type": "stream",
     "text": [
      "the first five Predicted classes are: [0 2 0 ... 0 0 1]\n",
      "Length of Predicted labels: 11921\n"
     ]
    }
   ],
   "source": [
    "Vgg2_probabilities = vgg_DA.predict([images_test_public_rs])\n",
    "#### Converting the one hot encoding probability values back to a single column representing wich class does an image belongs to \n",
    "Pred_Labels = np.argmax(Vgg2_probabilities, axis = 1)\n",
    "print(\"the first five Predicted classes are:\", Pred_Labels)\n",
    "print(\"Length of Predicted labels:\", len(Pred_Labels))\n",
    "# creating a data frame for predicted values\n",
    "df1 = pd.DataFrame(Pred_Labels, columns=['Prediction'])\n",
    "# creating a data frame for files_val which contains image names\n",
    "df2 = pd.DataFrame(files_test_public, columns=['ID'])"
   ]
  },
  {
   "cell_type": "code",
   "execution_count": 67,
   "metadata": {},
   "outputs": [],
   "source": [
    "# Joining the two data frames through the index\n",
    "VGG19FDA_45693242 = df2.merge(df1, left_index=True, right_index=True)"
   ]
  },
  {
   "cell_type": "code",
   "execution_count": 68,
   "metadata": {},
   "outputs": [],
   "source": [
    "VGG19FDA_45693242.to_csv (r'C:\\\\Users\\\\suhas\\\\Documents\\\\study\\\\ML Practice\\\\VGG19FDA_45693242.csv', index = False, header=True)"
   ]
  },
  {
   "cell_type": "markdown",
   "metadata": {},
   "source": [
    "<h4><font color ='purple'>Kaggle Result:</font></h4>\n",
    "Upon looking at the Kaggle scores the accuracy for the Basic Model with Data Augmentation on the Public data is 91.83% which is good and is not better than the BAsic CNN but has an added advantage of classifying the images with more intense filiters due to Data Augmentation."
   ]
  },
  {
   "cell_type": "markdown",
   "metadata": {},
   "source": [
    "Interpreting the Results For Both Selected Deep Learning and Additional Deep learning model and about the selected Hyper parameters choosen."
   ]
  },
  {
   "cell_type": "markdown",
   "metadata": {},
   "source": [
    " <h2><center><font color ='Red'>Section-6: Result's Interpretation for both Candidate Models and Hyper parameter choosing</font></center></h2>"
   ]
  },
  {
   "cell_type": "markdown",
   "metadata": {},
   "source": [
    " <h4><center><font color ='Red'>Below is the code for predicting on the Private Data</font></center></h4>"
   ]
  },
  {
   "cell_type": "markdown",
   "metadata": {},
   "source": [
    " <h4><font color ='purple'>Loading the Private Data:</font></h4>"
   ]
  },
  {
   "cell_type": "code",
   "execution_count": null,
   "metadata": {},
   "outputs": [],
   "source": [
    "images_test_private = np.load(join(dataset_directory, 'test_private_images.npy'))\n",
    "files_test_private = np.load(join(dataset_directory, 'test_private_files.npy'))\n",
    "images_test_private_rs = images_test_private.reshape([-1, image_size, image_size, 3]) / 255.0 # normalizing the values\n",
    "print(\"Test Data Shape:\", images_test_private_rs.shape)"
   ]
  },
  {
   "cell_type": "markdown",
   "metadata": {},
   "source": [
    " <h4><font color ='purple'>1) Fitting the VGG19 with Data Augmentation for predicting on the Private Data:</font></h4>"
   ]
  },
  {
   "cell_type": "code",
   "execution_count": null,
   "metadata": {},
   "outputs": [],
   "source": [
    "datagen = ImageDataGenerator(rotation_range=30,\n",
    "                             width_shift_range=0.1,\n",
    "                             height_shift_range=0.1,\n",
    "                             zoom_range = 0.1,\n",
    "                             shear_range = 0.2,\n",
    "                             horizontal_flip = True, \n",
    "                             fill_mode='nearest')\n",
    "\n",
    "x_Train_After_Augmentation = images_train_rs\n",
    "datagen.fit(x_Train_After_Augmentation)\n",
    "vgg_DA = tf.keras.models.load_model('VGG19Final.h5')\n",
    "batch_size = 300\n",
    "VGGF_DA_Output = vgg_DA.fit(datagen.flow(x_Train_After_Augmentation, labels_train_rs, \n",
    "                         batch_size),\n",
    "                         steps_per_epoch = len(x_Train_After_Augmentation)/batch_size,\n",
    "                         epochs = 15, \n",
    "                         validation_data=(images_val_rs, labels_val_rs),\n",
    "                         verbose=1)"
   ]
  },
  {
   "cell_type": "code",
   "execution_count": null,
   "metadata": {},
   "outputs": [],
   "source": [
    "# Plotting the accuray and loss for training and validation data\n",
    "pd.DataFrame(VGGF_DA_Output.history).plot(figsize=(20, 7))\n",
    "plt.grid(True)\n",
    "plt.gca().set_ylim(0, 1)\n",
    "plt.title(\"Fully Connected Neural Network with 4 Hidden layers\")\n",
    "plt.show()"
   ]
  },
  {
   "cell_type": "code",
   "execution_count": null,
   "metadata": {},
   "outputs": [],
   "source": [
    "Vgg1_probabilities = vgg_DA.predict([images_test_private_rs])"
   ]
  },
  {
   "cell_type": "code",
   "execution_count": null,
   "metadata": {},
   "outputs": [],
   "source": [
    "#### Converting the one hot encoding probability values back to a single column representing wich class does an image belongs to \n",
    "Pred_Labels = np.argmax(Vgg1_probabilities, axis = 1)\n",
    "print(\"the first five Predicted classes are:\", Pred_Labels)\n",
    "print(\"Length of Predicted labels:\", len(Pred_Labels))"
   ]
  },
  {
   "cell_type": "code",
   "execution_count": null,
   "metadata": {},
   "outputs": [],
   "source": [
    "# creating a data frame for predicted values\n",
    "df1 = pd.DataFrame(Pred_Labels, columns=['Prediction'])\n",
    "# creating a data frame for files_val which contains image names\n",
    "df2 = pd.DataFrame(files_test_private, columns=['ID'])"
   ]
  },
  {
   "cell_type": "code",
   "execution_count": null,
   "metadata": {},
   "outputs": [],
   "source": [
    "VGG19_45693242 = df2.merge(df1, left_index=True, right_index=True)\n",
    "VGG19_45693242.to_csv (r'C:\\\\Users\\\\suhas\\\\Documents\\\\study\\\\ML Practice\\\\VGG19_TF_DA_45693242.csv', index = False, header=True)\n",
    "vgg_DA.save(\"VGG19PTFDAFinal.h5\")"
   ]
  },
  {
   "cell_type": "markdown",
   "metadata": {},
   "source": [
    " <h4><font color ='purple'>2) Fitting the Selected Candidate Model which is Basic CNN with Data Augmentation:</font></h4>"
   ]
  },
  {
   "cell_type": "code",
   "execution_count": null,
   "metadata": {},
   "outputs": [],
   "source": [
    "CNN_S_OA_DA = tf.keras.models.load_model('CNN_S.h5') # Loading the Model"
   ]
  },
  {
   "cell_type": "code",
   "execution_count": null,
   "metadata": {},
   "outputs": [],
   "source": [
    "datagen = ImageDataGenerator(rotation_range=30,\n",
    "                             width_shift_range=1,\n",
    "                             height_shift_range=1,\n",
    "                             zoom_range = (0.5, 1.5),\n",
    "                             shear_range = 0.2,                                             \n",
    "                             horizontal_flip = True, \n",
    "                             fill_mode='nearest',\n",
    "                            )\n",
    "# Techniques for Data Augmemtation\n",
    "x_Train_After_Augmentation = images_train_rs\n",
    "datagen.fit(x_Train_After_Augmentation)"
   ]
  },
  {
   "cell_type": "code",
   "execution_count": null,
   "metadata": {},
   "outputs": [],
   "source": [
    "batch_size = 300\n",
    "CNN_S_OA_DA_Output = CNN_S_OA_DA.fit(datagen.flow(x_Train_After_Augmentation, labels_train_rs, \n",
    "                         batch_size),\n",
    "                         steps_per_epoch = len(x_Train_After_Augmentation)/batch_size,\n",
    "                         epochs = 15, \n",
    "                         validation_data=(images_val_rs, labels_val_rs),\n",
    "                         verbose=1)"
   ]
  },
  {
   "cell_type": "code",
   "execution_count": null,
   "metadata": {},
   "outputs": [],
   "source": [
    "# Plotting the accuray and loss for training and validation data\n",
    "pd.DataFrame(CNN_S_OA_DA_Output.history).plot(figsize=(20, 7))\n",
    "plt.grid(True)\n",
    "plt.gca().set_ylim(0, 1)\n",
    "plt.title(\"Fully Connected Neural Network with 4 Hidden layers AND dATA AUGMENTATION\")\n",
    "plt.show()"
   ]
  },
  {
   "cell_type": "code",
   "execution_count": null,
   "metadata": {},
   "outputs": [],
   "source": [
    "CNN_S_DA_probabilities = CNN_S_OA_DA.predict([images_test_private_rs])"
   ]
  },
  {
   "cell_type": "code",
   "execution_count": null,
   "metadata": {},
   "outputs": [],
   "source": [
    "#### Converting the one hot encoding probability values back to a single column representing wich class does an image belongs to \n",
    "Pred_Labels = np.argmax(CNN_S_DA_probabilities, axis = 1)\n",
    "print(\"the first five Predicted classes are:\", Pred_Labels)\n",
    "print(\"Length of Predicted labels:\", len(Pred_Labels))"
   ]
  },
  {
   "cell_type": "code",
   "execution_count": null,
   "metadata": {},
   "outputs": [],
   "source": [
    "# creating a data frame for predicted values\n",
    "df1 = pd.DataFrame(Pred_Labels, columns=['Prediction'])\n",
    "# creating a data frame for files_val which contains image names\n",
    "df2 = pd.DataFrame(files_test_private, columns=['ID'])\n",
    "# Joining the two data frames through the index\n",
    "CNN_S_DA_45693242 = df2.merge(df1, left_index=True, right_index=True)"
   ]
  },
  {
   "cell_type": "code",
   "execution_count": null,
   "metadata": {},
   "outputs": [],
   "source": [
    "CNN_S_DA_45693242.to_csv (r'C:\\\\Users\\\\suhas\\\\Documents\\\\study\\\\ML Practice\\\\CNN_S_DA_Private_45693242.csv', index = False, header=True)"
   ]
  },
  {
   "cell_type": "markdown",
   "metadata": {},
   "source": [
    " <h3><center><font color ='purple'>Result Interpretation For Basic CNN with Data Augmentation:</font></center></h3> \n",
    " \n",
    " 1. The Selected Deep Learning Model (Basic CNN with Data Augmentation) Performance on the Private data upon submitting in the Kaggle has come up to 60.96 where as on the pubilc data the accuracy has come up to 92% approx.\n",
    " 2. The reason for this Poor performance is that the private images contain a large no of pictures which contains hat and Bald headed people so model has some difficulty in classifying whether an image belongs one of the given hair color. The second reason is that ost of the images were augmented som ehave a rotation of about 40 degrees while some images have flipping in it thereby this inturn will affect the model's performance.\n",
    " 3. In Kaggle for Private Data The model with highest accuracy is 66.134, the model with lowest accuracy is 0.377738. My model performance sits some what closer to the model with accuracy lying between 60 and 64 because the random weights that are initalized at the begining will affect on the accuracy that is achieved by a model each time we run.\n",
    " \n",
    " <h3><center><font color ='purple'>Result Interpretation For Transfer Learning with Data Augmentation using VGG19:</font></center></h3> \n",
    " \n",
    "1. Transfer Learning with VGG19 (Including Data Augmentation) Performance on the Private data upon submitting in the Kaggle has come up to 60.00 approx where as on the pubilc data the accuracy has come up to 91.83% approx.\n",
    "2. The reason for this Poor performance is that the private images contain a large no of pictures which contains hat and Bald headed people so model has some difficulty in classifying whether an image belongs one of the given hair color. The second reason is that ost of the images were augmented som ehave a rotation of about 40 degrees while some images have flipping in it thereby this inturn will affect the model's performance.\n",
    "3. In Kaggle for Private Data The model with highest accuracy is 66.134, the model with lowest accuracy is 0.377738. My model performance sits some what closer to the model with accuracy lying between 60 and 64 because the random weights that are initalized at the begining will affect on the accuracy that is achieved by a model each time we run.\n",
    " \n",
    " \n",
    " <h3><center><font color ='purple'>Hyper Parameter Tuning For Basic CNN with Data Augmentation:</font></center></h3>\n",
    " \n",
    " 1. Based on my Intial workings I found that the optimal accuracy score can be achived with having 4 conv layers along with some normalization and drop out layers. The more layers will eventually result in overfitting.\n",
    " 2. THe best values for the Techniques that are used in Data Augmention were based on my analysis on the private data, where I had a look at different images and decided on which values would best suite the current situation.\n",
    " 3. While Building the CNN I used 5 Conv layer where the no of filters are increasing depending on the level the layer is used with more number of filters on the deeper layers since they have to identify complex features as well.\n",
    " 4. I had used Selu as the Activation Function through out the Note book because the vanishing grdient problem does not occurs and gives better scores when compared to other activation functions.\n",
    " 5. Dropout layer values is used as 0.4 since it will help the model not to overfit the data by dropping the neurons.\n",
    " 6. Upper layers have Bigger kernel sizes compared to Deeper layers having smaller kernel size. \n"
   ]
  },
  {
   "cell_type": "markdown",
   "metadata": {},
   "source": [
    " <h2><center><font color ='Red'>Section-7: Best Models Comparison from Conventional and Convolutional sides: </font></center></h2>"
   ]
  },
  {
   "cell_type": "markdown",
   "metadata": {},
   "source": [
    "1. My Best Model From Conventional Model is SVM with (c=25, gamma=\"auto\", random_state = 26) which performed well on the public data with an accuracy of 0.87685.\n",
    "2. My Best Model from Basic CNN with Data Augmentation has performed very well on the Public data with an accuraacy of 92.743. which is approxly 5% more than SVM.\n",
    "3. My Best Model from Basic CNN with Data Augmentation has performed very well on the Private data as well with an accuracy of 60.9%. \n",
    "4. My best Model from Basic CNN with Data Augmentation has attained 34th place.\n",
    "\n",
    "Regarding on the other aspects of Results Interpretaion for both selected modles has explained in the above Section (Section 6)."
   ]
  }
 ],
 "metadata": {
  "kernelspec": {
   "display_name": "Python 3",
   "language": "python",
   "name": "python3"
  },
  "language_info": {
   "codemirror_mode": {
    "name": "ipython",
    "version": 3
   },
   "file_extension": ".py",
   "mimetype": "text/x-python",
   "name": "python",
   "nbconvert_exporter": "python",
   "pygments_lexer": "ipython3",
   "version": "3.7.6"
  }
 },
 "nbformat": 4,
 "nbformat_minor": 4
}
