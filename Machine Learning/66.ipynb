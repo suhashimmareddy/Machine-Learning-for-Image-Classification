{
 "cells": [
  {
   "cell_type": "code",
   "execution_count": 1,
   "metadata": {},
   "outputs": [
    {
     "name": "stderr",
     "output_type": "stream",
     "text": [
      "Using TensorFlow backend.\n"
     ]
    }
   ],
   "source": [
    "%matplotlib inline\n",
    "\n",
    "import os\n",
    "import keras\n",
    "import random\n",
    "import numpy as np\n",
    "import pandas as pd\n",
    "import tensorflow as tf\n",
    "import matplotlib.pyplot as plt\n",
    "\n",
    "from os.path import join\n",
    "from keras.models import Model\n",
    "from tensorflow import keras\n",
    "from keras import backend as BD\n",
    "from keras.regularizers import l2\n",
    "from scipy.stats import reciprocal\n",
    "from keras.models import Sequential\n",
    "from matplotlib.pyplot import imshow\n",
    "from keras.applications import VGG16\n",
    "from keras.applications import VGG19\n",
    "from keras.preprocessing import image\n",
    "from keras.applications import MobileNetV2\n",
    "from keras.layers import Conv2D, MaxPooling2D\n",
    "from keras_applications.resnet_v2 import ResNet50V2\n",
    "from sklearn.model_selection import RandomizedSearchCV\n",
    "from keras_applications.mobilenet_v2 import MobileNetV2\n",
    "from keras.preprocessing.image import ImageDataGenerator\n",
    "from keras.applications.mobilenet import preprocess_input\n",
    "from keras.applications.imagenet_utils import preprocess_input\n",
    "from keras.layers import Dense, Dropout, Flatten, Activation, BatchNormalization"
   ]
  },
  {
   "cell_type": "code",
   "execution_count": 2,
   "metadata": {},
   "outputs": [],
   "source": [
    "# Data Reading and Cleaning"
   ]
  },
  {
   "cell_type": "code",
   "execution_count": 3,
   "metadata": {},
   "outputs": [],
   "source": [
    "# Inidcating That it is necessary for any hash based algorithms to produce reproducable values \n",
    "os.environ['PYTHONHASHSEED'] = '1'\n",
    "np.random.seed(42) # Seed for numpy random numbers\n",
    "random.seed(42) # Seed for python \n",
    "tf.random.set_seed(42) # Seed for tensorflow\n",
    "# We need to force tensorflow to use single thread for getting reproducable results\n",
    "# Because multiple threads will effect the reproducability (getting the same results everytime)\n",
    "# Cur_Session = tf.compat.v1.Session(graph = tf.get_default_graph(), config = session_conf)\n",
    "# BD.set_session(Cur_Session)"
   ]
  },
  {
   "cell_type": "code",
   "execution_count": 4,
   "metadata": {},
   "outputs": [],
   "source": [
    "# preliminary data Exploration \n",
    "hair_colours = ['black', 'blond', 'brown', 'gray']\n",
    "dataset_directory = 'C:\\\\Users\\\\suhas\\\\Documents\\\\study\\\\ML Practice\\\\image_dataset'  ## CHANGE TO YOUR OWN DIRECTORY\n",
    "\n",
    "images_train = np.load(join(dataset_directory, 'train_images.npy')) # loading images_train\n",
    "labels_train = np.load(join(dataset_directory, 'train_labels.npy')) # loading labels_train\n",
    "\n",
    "images_val = np.load(join(dataset_directory, 'val_images.npy'))\n",
    "labels_val = np.load(join(dataset_directory, 'val_labels.npy'))\n",
    "files_val = np.load(join(dataset_directory, 'val_files.npy'))\n",
    "\n",
    "images_test_public = np.load(join(dataset_directory, 'test_public_images.npy'))\n",
    "files_test_public = np.load(join(dataset_directory, 'test_public_files.npy'))"
   ]
  },
  {
   "cell_type": "code",
   "execution_count": 5,
   "metadata": {},
   "outputs": [
    {
     "name": "stdout",
     "output_type": "stream",
     "text": [
      "Train Data Shape: (98479, 48, 48, 3)\n",
      "Validation Data Shape: (12270, 48, 48, 3)\n",
      "Test Data Shape: (11921, 48, 48, 3)\n"
     ]
    }
   ],
   "source": [
    "image_size = 48\n",
    "images_train_rs = images_train.reshape([-1, image_size, image_size, 3]) / 255.0 # Normalizing the values\n",
    "images_val_rs = images_val.reshape([-1, image_size, image_size, 3]) / 255.0 # Normalizing the values\n",
    "images_test_public_rs = images_test_public.reshape([-1, image_size, image_size, 3]) / 255.0 # normalizing the values\n",
    "print(\"Train Data Shape:\", images_train_rs.shape)\n",
    "print(\"Validation Data Shape:\", images_val_rs.shape)\n",
    "print(\"Test Data Shape:\", images_test_public_rs.shape)"
   ]
  },
  {
   "cell_type": "code",
   "execution_count": 6,
   "metadata": {},
   "outputs": [
    {
     "name": "stdout",
     "output_type": "stream",
     "text": [
      "Train Labels Shape: (98479, 4)\n",
      "Validation Labels Shape: (12270, 4)\n"
     ]
    }
   ],
   "source": [
    "num_classes = len(hair_colours) # no of classes\n",
    "labels_train_rs = keras.utils.to_categorical(labels_train, num_classes) # Generating a One hot vector for the Train labels Data\n",
    "labels_val_rs = keras.utils.to_categorical(labels_val, num_classes) # Generating One Hot vector for the Validation Data\n",
    "print(\"Train Labels Shape:\", labels_train_rs.shape)\n",
    "print(\"Validation Labels Shape:\", labels_val_rs.shape)"
   ]
  },
  {
   "cell_type": "code",
   "execution_count": 7,
   "metadata": {},
   "outputs": [
    {
     "name": "stdout",
     "output_type": "stream",
     "text": [
      "Model: \"sequential\"\n",
      "_________________________________________________________________\n",
      "Layer (type)                 Output Shape              Param #   \n",
      "=================================================================\n",
      "conv2d (Conv2D)              (None, 48, 48, 32)        896       \n",
      "_________________________________________________________________\n",
      "batch_normalization (BatchNo (None, 48, 48, 32)        128       \n",
      "_________________________________________________________________\n",
      "conv2d_1 (Conv2D)            (None, 48, 48, 32)        9248      \n",
      "_________________________________________________________________\n",
      "batch_normalization_1 (Batch (None, 48, 48, 32)        128       \n",
      "_________________________________________________________________\n",
      "max_pooling2d (MaxPooling2D) (None, 24, 24, 32)        0         \n",
      "_________________________________________________________________\n",
      "dropout (Dropout)            (None, 24, 24, 32)        0         \n",
      "_________________________________________________________________\n",
      "conv2d_2 (Conv2D)            (None, 24, 24, 64)        18496     \n",
      "_________________________________________________________________\n",
      "batch_normalization_2 (Batch (None, 24, 24, 64)        256       \n",
      "_________________________________________________________________\n",
      "conv2d_3 (Conv2D)            (None, 24, 24, 64)        36928     \n",
      "_________________________________________________________________\n",
      "batch_normalization_3 (Batch (None, 24, 24, 64)        256       \n",
      "_________________________________________________________________\n",
      "max_pooling2d_1 (MaxPooling2 (None, 12, 12, 64)        0         \n",
      "_________________________________________________________________\n",
      "dropout_1 (Dropout)          (None, 12, 12, 64)        0         \n",
      "_________________________________________________________________\n",
      "flatten (Flatten)            (None, 9216)              0         \n",
      "_________________________________________________________________\n",
      "dense (Dense)                (None, 250)               2304250   \n",
      "_________________________________________________________________\n",
      "dropout_2 (Dropout)          (None, 250)               0         \n",
      "_________________________________________________________________\n",
      "dense_1 (Dense)              (None, 4)                 1004      \n",
      "=================================================================\n",
      "Total params: 2,371,590\n",
      "Trainable params: 2,371,206\n",
      "Non-trainable params: 384\n",
      "_________________________________________________________________\n"
     ]
    }
   ],
   "source": [
    "CNN_Final1 = keras.models.Sequential([\n",
    "   \n",
    "    keras.layers.Conv2D(32, 3, activation=\"selu\", padding=\"same\", input_shape=[48,48,3]),\n",
    "    keras.layers.BatchNormalization(),\n",
    "    keras.layers.Conv2D(32, 3, activation=\"selu\", padding=\"same\"),\n",
    "    keras.layers.BatchNormalization(),\n",
    "    keras.layers.MaxPooling2D(2),\n",
    "    keras.layers.Dropout(0.25),\n",
    "    \n",
    "    keras.layers.Conv2D(64, 3, activation=\"selu\", padding=\"same\"),\n",
    "    keras.layers.BatchNormalization(),\n",
    "    keras.layers.Conv2D(64,3, activation=\"selu\", padding=\"same\"),\n",
    "    keras.layers.BatchNormalization(),\n",
    "    keras.layers.MaxPooling2D(2),    \n",
    "    keras.layers.Dropout(0.25),\n",
    "      \n",
    "    keras.layers.Flatten(),\n",
    "    \n",
    "    keras.layers.Dense(250, activation = \"selu\"),\n",
    "    keras.layers.Dropout(0.3),\n",
    "    keras.layers.Dense(num_classes, activation=\"softmax\")    \n",
    "])\n",
    "\n",
    "\n",
    "CNN_Final1.summary()\n",
    "\n",
    "opt = keras.optimizers.Adam(learning_rate=0.0005)\n",
    "\n",
    "CNN_Final1.compile(loss=keras.losses.categorical_crossentropy,\n",
    "              optimizer=opt,\n",
    "              metrics=['accuracy'])"
   ]
  },
  {
   "cell_type": "code",
   "execution_count": 8,
   "metadata": {},
   "outputs": [
    {
     "name": "stdout",
     "output_type": "stream",
     "text": [
      "Epoch 1/15\n",
      "329/329 [==============================] - 47s 144ms/step - loss: 0.9381 - accuracy: 0.7481 - val_accuracy: 0.8069 - val_loss: 0.6106\n",
      "Epoch 2/15\n",
      "329/329 [==============================] - 45s 137ms/step - loss: 0.4587 - accuracy: 0.8448 - val_accuracy: 0.8863 - val_loss: 0.3433\n",
      "Epoch 3/15\n",
      "329/329 [==============================] - 48s 147ms/step - loss: 0.3727 - accuracy: 0.8694 - val_accuracy: 0.8780 - val_loss: 0.3625\n",
      "Epoch 4/15\n",
      "329/329 [==============================] - 48s 146ms/step - loss: 0.3228 - accuracy: 0.8847 - val_accuracy: 0.8969 - val_loss: 0.2947\n",
      "Epoch 5/15\n",
      "329/329 [==============================] - 47s 143ms/step - loss: 0.2910 - accuracy: 0.8941 - val_accuracy: 0.9019 - val_loss: 0.2686\n",
      "Epoch 6/15\n",
      "329/329 [==============================] - 46s 140ms/step - loss: 0.2626 - accuracy: 0.9035 - val_accuracy: 0.8951 - val_loss: 0.2997\n",
      "Epoch 7/15\n",
      "329/329 [==============================] - 48s 146ms/step - loss: 0.2401 - accuracy: 0.9114 - val_accuracy: 0.9059 - val_loss: 0.2512\n",
      "Epoch 8/15\n",
      "329/329 [==============================] - 48s 146ms/step - loss: 0.2279 - accuracy: 0.9163 - val_accuracy: 0.8966 - val_loss: 0.2964\n",
      "Epoch 9/15\n",
      "329/329 [==============================] - 48s 146ms/step - loss: 0.2152 - accuracy: 0.9194 - val_accuracy: 0.9029 - val_loss: 0.2744\n",
      "Epoch 10/15\n",
      "329/329 [==============================] - 45s 137ms/step - loss: 0.2029 - accuracy: 0.9240 - val_accuracy: 0.8936 - val_loss: 0.2926\n",
      "Epoch 11/15\n",
      "329/329 [==============================] - 45s 136ms/step - loss: 0.1977 - accuracy: 0.9264 - val_accuracy: 0.9050 - val_loss: 0.2678\n",
      "Epoch 12/15\n",
      "329/329 [==============================] - 46s 138ms/step - loss: 0.1834 - accuracy: 0.9315 - val_accuracy: 0.9134 - val_loss: 0.2542\n",
      "Epoch 13/15\n",
      "329/329 [==============================] - 48s 145ms/step - loss: 0.1778 - accuracy: 0.9342 - val_accuracy: 0.8957 - val_loss: 0.3094\n",
      "Epoch 14/15\n",
      "329/329 [==============================] - 48s 147ms/step - loss: 0.1665 - accuracy: 0.9375 - val_accuracy: 0.9055 - val_loss: 0.2811\n",
      "Epoch 15/15\n",
      "329/329 [==============================] - 48s 146ms/step - loss: 0.1578 - accuracy: 0.9408 - val_accuracy: 0.9116 - val_loss: 0.2577\n"
     ]
    }
   ],
   "source": [
    "CNN_Final_Output = CNN_Final1.fit(images_train_rs, labels_train_rs,\n",
    "                       batch_size=300,\n",
    "                       epochs=15,\n",
    "                       validation_data=(images_val_rs, labels_val_rs))"
   ]
  },
  {
   "cell_type": "code",
   "execution_count": null,
   "metadata": {},
   "outputs": [],
   "source": []
  },
  {
   "cell_type": "code",
   "execution_count": null,
   "metadata": {},
   "outputs": [],
   "source": []
  },
  {
   "cell_type": "code",
   "execution_count": null,
   "metadata": {},
   "outputs": [],
   "source": []
  },
  {
   "cell_type": "code",
   "execution_count": null,
   "metadata": {},
   "outputs": [],
   "source": []
  },
  {
   "cell_type": "code",
   "execution_count": null,
   "metadata": {},
   "outputs": [],
   "source": []
  },
  {
   "cell_type": "code",
   "execution_count": null,
   "metadata": {},
   "outputs": [],
   "source": []
  },
  {
   "cell_type": "code",
   "execution_count": null,
   "metadata": {},
   "outputs": [],
   "source": []
  },
  {
   "cell_type": "code",
   "execution_count": null,
   "metadata": {},
   "outputs": [],
   "source": []
  },
  {
   "cell_type": "code",
   "execution_count": null,
   "metadata": {},
   "outputs": [],
   "source": []
  },
  {
   "cell_type": "code",
   "execution_count": null,
   "metadata": {},
   "outputs": [],
   "source": []
  },
  {
   "cell_type": "code",
   "execution_count": 7,
   "metadata": {},
   "outputs": [],
   "source": [
    "# Basic CNN With 6 CNN Layers In total"
   ]
  },
  {
   "cell_type": "code",
   "execution_count": 22,
   "metadata": {},
   "outputs": [
    {
     "name": "stdout",
     "output_type": "stream",
     "text": [
      "Model: \"sequential_8\"\n",
      "_________________________________________________________________\n",
      "Layer (type)                 Output Shape              Param #   \n",
      "=================================================================\n",
      "conv2d_51 (Conv2D)           (None, 48, 48, 32)        4736      \n",
      "_________________________________________________________________\n",
      "batch_normalization_13 (Batc (None, 48, 48, 32)        128       \n",
      "_________________________________________________________________\n",
      "conv2d_52 (Conv2D)           (None, 48, 48, 32)        50208     \n",
      "_________________________________________________________________\n",
      "batch_normalization_14 (Batc (None, 48, 48, 32)        128       \n",
      "_________________________________________________________________\n",
      "max_pooling2d_28 (MaxPooling (None, 24, 24, 32)        0         \n",
      "_________________________________________________________________\n",
      "batch_normalization_15 (Batc (None, 24, 24, 32)        128       \n",
      "_________________________________________________________________\n",
      "dropout_50 (Dropout)         (None, 24, 24, 32)        0         \n",
      "_________________________________________________________________\n",
      "conv2d_53 (Conv2D)           (None, 24, 24, 64)        51264     \n",
      "_________________________________________________________________\n",
      "batch_normalization_16 (Batc (None, 24, 24, 64)        256       \n",
      "_________________________________________________________________\n",
      "conv2d_54 (Conv2D)           (None, 24, 24, 64)        102464    \n",
      "_________________________________________________________________\n",
      "batch_normalization_17 (Batc (None, 24, 24, 64)        256       \n",
      "_________________________________________________________________\n",
      "max_pooling2d_29 (MaxPooling (None, 12, 12, 64)        0         \n",
      "_________________________________________________________________\n",
      "batch_normalization_18 (Batc (None, 12, 12, 64)        256       \n",
      "_________________________________________________________________\n",
      "dropout_51 (Dropout)         (None, 12, 12, 64)        0         \n",
      "_________________________________________________________________\n",
      "conv2d_55 (Conv2D)           (None, 12, 12, 128)       73856     \n",
      "_________________________________________________________________\n",
      "batch_normalization_19 (Batc (None, 12, 12, 128)       512       \n",
      "_________________________________________________________________\n",
      "conv2d_56 (Conv2D)           (None, 12, 12, 128)       147584    \n",
      "_________________________________________________________________\n",
      "batch_normalization_20 (Batc (None, 12, 12, 128)       512       \n",
      "_________________________________________________________________\n",
      "max_pooling2d_30 (MaxPooling (None, 6, 6, 128)         0         \n",
      "_________________________________________________________________\n",
      "batch_normalization_21 (Batc (None, 6, 6, 128)         512       \n",
      "_________________________________________________________________\n",
      "dropout_52 (Dropout)         (None, 6, 6, 128)         0         \n",
      "_________________________________________________________________\n",
      "flatten_8 (Flatten)          (None, 4608)              0         \n",
      "_________________________________________________________________\n",
      "dense_16 (Dense)             (None, 250)               1152250   \n",
      "_________________________________________________________________\n",
      "dropout_53 (Dropout)         (None, 250)               0         \n",
      "_________________________________________________________________\n",
      "dense_17 (Dense)             (None, 128)               32128     \n",
      "_________________________________________________________________\n",
      "dropout_54 (Dropout)         (None, 128)               0         \n",
      "_________________________________________________________________\n",
      "dense_18 (Dense)             (None, 4)                 516       \n",
      "=================================================================\n",
      "Total params: 1,617,694\n",
      "Trainable params: 1,616,350\n",
      "Non-trainable params: 1,344\n",
      "_________________________________________________________________\n"
     ]
    }
   ],
   "source": [
    "CNN_Final = keras.models.Sequential([\n",
    "   \n",
    "    keras.layers.Conv2D(32, 7, activation=\"selu\", padding=\"same\", input_shape=[48,48,3]),\n",
    "    keras.layers.BatchNormalization(),\n",
    "    keras.layers.Conv2D(32, 7, activation=\"selu\", padding=\"same\"),\n",
    "    keras.layers.BatchNormalization(),\n",
    "    keras.layers.MaxPooling2D(2),\n",
    "    keras.layers.BatchNormalization(),\n",
    "    keras.layers.Dropout(0.4),\n",
    "    \n",
    "    keras.layers.Conv2D(64, 5, activation=\"selu\", padding=\"same\"),\n",
    "    keras.layers.BatchNormalization(),\n",
    "    keras.layers.Conv2D(64, 5, activation=\"selu\", padding=\"same\"),\n",
    "    keras.layers.BatchNormalization(),\n",
    "    keras.layers.MaxPooling2D(2),    \n",
    "    keras.layers.BatchNormalization(),\n",
    "    keras.layers.Dropout(0.4),\n",
    "    \n",
    "    keras.layers.Conv2D(128, 3, activation=\"selu\", padding=\"same\"),\n",
    "    keras.layers.BatchNormalization(),\n",
    "    keras.layers.Conv2D(128, 3, activation=\"selu\", padding=\"same\"),\n",
    "    keras.layers.BatchNormalization(),\n",
    "    keras.layers.MaxPooling2D(2),    \n",
    "    keras.layers.BatchNormalization(),\n",
    "    keras.layers.Dropout(0.3),\n",
    "    \n",
    "    \n",
    "    keras.layers.Flatten(),\n",
    "    \n",
    "    keras.layers.Dense(250, activation = \"selu\"),\n",
    "    keras.layers.Dropout(0.3),\n",
    "    keras.layers.Dense(128, activation = \"selu\"),\n",
    "    keras.layers.Dropout(0.3),\n",
    "    keras.layers.Dense(num_classes, activation=\"softmax\")    \n",
    "])\n",
    "\n",
    "\n",
    "CNN_Final.summary()\n",
    "\n",
    "opt = keras.optimizers.Adam(learning_rate=0.0005)\n",
    "\n",
    "CNN_Final.compile(loss=keras.losses.categorical_crossentropy,\n",
    "              optimizer=opt,\n",
    "              metrics=['accuracy'])"
   ]
  },
  {
   "cell_type": "code",
   "execution_count": 9,
   "metadata": {},
   "outputs": [
    {
     "ename": "NameError",
     "evalue": "name 'CNN_Final' is not defined",
     "output_type": "error",
     "traceback": [
      "\u001b[1;31m---------------------------------------------------------------------------\u001b[0m",
      "\u001b[1;31mNameError\u001b[0m                                 Traceback (most recent call last)",
      "\u001b[1;32m<ipython-input-9-ee101813ff81>\u001b[0m in \u001b[0;36m<module>\u001b[1;34m\u001b[0m\n\u001b[1;32m----> 1\u001b[1;33m CNN_Final_Output = CNN_Final.fit(images_train_rs, labels_train_rs,\n\u001b[0m\u001b[0;32m      2\u001b[0m                        \u001b[0mbatch_size\u001b[0m\u001b[1;33m=\u001b[0m\u001b[1;36m300\u001b[0m\u001b[1;33m,\u001b[0m\u001b[1;33m\u001b[0m\u001b[0m\n\u001b[0;32m      3\u001b[0m                        \u001b[0mepochs\u001b[0m\u001b[1;33m=\u001b[0m\u001b[1;36m10\u001b[0m\u001b[1;33m,\u001b[0m\u001b[1;33m\u001b[0m\u001b[0m\n\u001b[0;32m      4\u001b[0m                        validation_data=(images_val_rs, labels_val_rs))\n",
      "\u001b[1;31mNameError\u001b[0m: name 'CNN_Final' is not defined"
     ]
    }
   ],
   "source": [
    "CNN_Final_Output = CNN_Final.fit(images_train_rs, labels_train_rs,\n",
    "                       batch_size=300,\n",
    "                       epochs=10,\n",
    "                       validation_data=(images_val_rs, labels_val_rs))"
   ]
  },
  {
   "cell_type": "code",
   "execution_count": 25,
   "metadata": {},
   "outputs": [
    {
     "data": {
      "image/png": "[encoded data removed]",
      "text/plain": [
       "<Figure size 1440x504 with 1 Axes>"
      ]
     },
     "metadata": {
      "needs_background": "light"
     },
     "output_type": "display_data"
    }
   ],
   "source": [
    "# Plotting the accuray and loss for training and validation data\n",
    "pd.DataFrame(CNN_Final_Output.history).plot(figsize=(20, 7))\n",
    "plt.grid(True)\n",
    "plt.gca().set_ylim(0, 1.3)\n",
    "plt.title(\"Fully Connected Neural Network with 4 Hidden layers\")\n",
    "plt.show()"
   ]
  },
  {
   "cell_type": "code",
   "execution_count": 26,
   "metadata": {},
   "outputs": [],
   "source": [
    "CNN_Final_probabilities = CNN_Final.predict([images_test_public_rs])"
   ]
  },
  {
   "cell_type": "code",
   "execution_count": 27,
   "metadata": {},
   "outputs": [
    {
     "name": "stdout",
     "output_type": "stream",
     "text": [
      "the first five Predicted classes are: [0 2 0 ... 0 0 2]\n",
      "Length of Predicted labels: 11921\n"
     ]
    }
   ],
   "source": [
    "#### Converting the one hot encoding probability values back to a single column representing wich class does an image belongs to \n",
    "Pred_Labels = np.argmax(CNN_Final_probabilities, axis = 1)\n",
    "print(\"the first five Predicted classes are:\", Pred_Labels)\n",
    "print(\"Length of Predicted labels:\", len(Pred_Labels))"
   ]
  },
  {
   "cell_type": "code",
   "execution_count": 28,
   "metadata": {},
   "outputs": [],
   "source": [
    "# creating a data frame for predicted values\n",
    "df1 = pd.DataFrame(Pred_Labels, columns=['Prediction'])\n",
    "# creating a data frame for files_val which contains image names\n",
    "df2 = pd.DataFrame(files_test_public, columns=['ID'])"
   ]
  },
  {
   "cell_type": "code",
   "execution_count": 29,
   "metadata": {},
   "outputs": [],
   "source": [
    "# Joining the two data frames through the index\n",
    "CNN_Final2_45693242 = df2.merge(df1, left_index=True, right_index=True)"
   ]
  },
  {
   "cell_type": "code",
   "execution_count": 30,
   "metadata": {},
   "outputs": [],
   "source": [
    "CNN_Final2_45693242.to_csv (r'C:\\\\Users\\\\suhas\\\\Documents\\\\study\\\\ML Practice\\\\CNN_Final2_45693242.csv', index = False, header=True)"
   ]
  },
  {
   "cell_type": "code",
   "execution_count": 31,
   "metadata": {},
   "outputs": [],
   "source": [
    "CNN_Final.save(\"CNN_Final2.h5\")"
   ]
  },
  {
   "cell_type": "code",
   "execution_count": null,
   "metadata": {},
   "outputs": [],
   "source": [
    "# Transgfer learning Sequential with VGG19"
   ]
  },
  {
   "cell_type": "code",
   "execution_count": 25,
   "metadata": {},
   "outputs": [
    {
     "name": "stdout",
     "output_type": "stream",
     "text": [
      "Model: \"vgg19\"\n",
      "_________________________________________________________________\n",
      "Layer (type)                 Output Shape              Param #   \n",
      "=================================================================\n",
      "input_2 (InputLayer)         (None, 48, 48, 3)         0         \n",
      "_________________________________________________________________\n",
      "block1_conv1 (Conv2D)        (None, 48, 48, 64)        1792      \n",
      "_________________________________________________________________\n",
      "block1_conv2 (Conv2D)        (None, 48, 48, 64)        36928     \n",
      "_________________________________________________________________\n",
      "block1_pool (MaxPooling2D)   (None, 24, 24, 64)        0         \n",
      "_________________________________________________________________\n",
      "block2_conv1 (Conv2D)        (None, 24, 24, 128)       73856     \n",
      "_________________________________________________________________\n",
      "block2_conv2 (Conv2D)        (None, 24, 24, 128)       147584    \n",
      "_________________________________________________________________\n",
      "block2_pool (MaxPooling2D)   (None, 12, 12, 128)       0         \n",
      "_________________________________________________________________\n",
      "block3_conv1 (Conv2D)        (None, 12, 12, 256)       295168    \n",
      "_________________________________________________________________\n",
      "block3_conv2 (Conv2D)        (None, 12, 12, 256)       590080    \n",
      "_________________________________________________________________\n",
      "block3_conv3 (Conv2D)        (None, 12, 12, 256)       590080    \n",
      "_________________________________________________________________\n",
      "block3_conv4 (Conv2D)        (None, 12, 12, 256)       590080    \n",
      "_________________________________________________________________\n",
      "block3_pool (MaxPooling2D)   (None, 6, 6, 256)         0         \n",
      "_________________________________________________________________\n",
      "block4_conv1 (Conv2D)        (None, 6, 6, 512)         1180160   \n",
      "_________________________________________________________________\n",
      "block4_conv2 (Conv2D)        (None, 6, 6, 512)         2359808   \n",
      "_________________________________________________________________\n",
      "block4_conv3 (Conv2D)        (None, 6, 6, 512)         2359808   \n",
      "_________________________________________________________________\n",
      "block4_conv4 (Conv2D)        (None, 6, 6, 512)         2359808   \n",
      "_________________________________________________________________\n",
      "block4_pool (MaxPooling2D)   (None, 3, 3, 512)         0         \n",
      "_________________________________________________________________\n",
      "block5_conv1 (Conv2D)        (None, 3, 3, 512)         2359808   \n",
      "_________________________________________________________________\n",
      "block5_conv2 (Conv2D)        (None, 3, 3, 512)         2359808   \n",
      "_________________________________________________________________\n",
      "block5_conv3 (Conv2D)        (None, 3, 3, 512)         2359808   \n",
      "_________________________________________________________________\n",
      "block5_conv4 (Conv2D)        (None, 3, 3, 512)         2359808   \n",
      "_________________________________________________________________\n",
      "block5_pool (MaxPooling2D)   (None, 1, 1, 512)         0         \n",
      "=================================================================\n",
      "Total params: 20,024,384\n",
      "Trainable params: 20,024,384\n",
      "Non-trainable params: 0\n",
      "_________________________________________________________________\n"
     ]
    }
   ],
   "source": [
    "vgg = VGG19(input_shape=(48,48,3), weights='imagenet', include_top=False)\n",
    "vgg.summary()"
   ]
  },
  {
   "cell_type": "code",
   "execution_count": 27,
   "metadata": {},
   "outputs": [
    {
     "name": "stdout",
     "output_type": "stream",
     "text": [
      "The Layer input_2 is Successfully Frozen\n",
      "The Layer block1_conv1 is Successfully Frozen\n",
      "The Layer block1_conv2 is Successfully Frozen\n",
      "The Layer block1_pool is Successfully Frozen\n",
      "The Layer block2_conv1 is Successfully Frozen\n",
      "The Layer block2_conv2 is Successfully Frozen\n",
      "The Layer block2_pool is Successfully Frozen\n",
      "The Layer block3_conv1 is Successfully Frozen\n",
      "The Layer block3_conv2 is Successfully Frozen\n",
      "The Layer block3_conv3 is Successfully Frozen\n",
      "The Layer block3_conv4 is Successfully Frozen\n",
      "The Layer block3_pool is Successfully Frozen\n"
     ]
    }
   ],
   "source": [
    "#Freezing all layers in VGG16 so that the weights wont be changed\n",
    "for layer in vgg.layers:\n",
    "    if layer.name == 'block4_conv1':\n",
    "        break\n",
    "    layer.trainable = True\n",
    "    print(\"The Layer \"+layer.name+\" is Successfully Frozen\")"
   ]
  },
  {
   "cell_type": "code",
   "execution_count": 28,
   "metadata": {},
   "outputs": [
    {
     "name": "stdout",
     "output_type": "stream",
     "text": [
      "Model: \"model_2\"\n",
      "_________________________________________________________________\n",
      "Layer (type)                 Output Shape              Param #   \n",
      "=================================================================\n",
      "input_2 (InputLayer)         (None, 48, 48, 3)         0         \n",
      "_________________________________________________________________\n",
      "block1_conv1 (Conv2D)        (None, 48, 48, 64)        1792      \n",
      "_________________________________________________________________\n",
      "block1_conv2 (Conv2D)        (None, 48, 48, 64)        36928     \n",
      "_________________________________________________________________\n",
      "block1_pool (MaxPooling2D)   (None, 24, 24, 64)        0         \n",
      "_________________________________________________________________\n",
      "block2_conv1 (Conv2D)        (None, 24, 24, 128)       73856     \n",
      "_________________________________________________________________\n",
      "block2_conv2 (Conv2D)        (None, 24, 24, 128)       147584    \n",
      "_________________________________________________________________\n",
      "block2_pool (MaxPooling2D)   (None, 12, 12, 128)       0         \n",
      "_________________________________________________________________\n",
      "block3_conv1 (Conv2D)        (None, 12, 12, 256)       295168    \n",
      "_________________________________________________________________\n",
      "block3_conv2 (Conv2D)        (None, 12, 12, 256)       590080    \n",
      "_________________________________________________________________\n",
      "block3_conv3 (Conv2D)        (None, 12, 12, 256)       590080    \n",
      "_________________________________________________________________\n",
      "block3_conv4 (Conv2D)        (None, 12, 12, 256)       590080    \n",
      "_________________________________________________________________\n",
      "block3_pool (MaxPooling2D)   (None, 6, 6, 256)         0         \n",
      "_________________________________________________________________\n",
      "block4_conv1 (Conv2D)        (None, 6, 6, 512)         1180160   \n",
      "_________________________________________________________________\n",
      "block4_conv2 (Conv2D)        (None, 6, 6, 512)         2359808   \n",
      "_________________________________________________________________\n",
      "block4_conv3 (Conv2D)        (None, 6, 6, 512)         2359808   \n",
      "_________________________________________________________________\n",
      "block4_conv4 (Conv2D)        (None, 6, 6, 512)         2359808   \n",
      "_________________________________________________________________\n",
      "block4_pool (MaxPooling2D)   (None, 3, 3, 512)         0         \n",
      "_________________________________________________________________\n",
      "block5_conv1 (Conv2D)        (None, 3, 3, 512)         2359808   \n",
      "_________________________________________________________________\n",
      "block5_conv2 (Conv2D)        (None, 3, 3, 512)         2359808   \n",
      "_________________________________________________________________\n",
      "block5_conv3 (Conv2D)        (None, 3, 3, 512)         2359808   \n",
      "_________________________________________________________________\n",
      "block5_conv4 (Conv2D)        (None, 3, 3, 512)         2359808   \n",
      "_________________________________________________________________\n",
      "block5_pool (MaxPooling2D)   (None, 1, 1, 512)         0         \n",
      "_________________________________________________________________\n",
      "flatten_2 (Flatten)          (None, 512)               0         \n",
      "_________________________________________________________________\n",
      "DenseFullyConnected (Dense)  (None, 1000)              513000    \n",
      "_________________________________________________________________\n",
      "dropout_2 (Dropout)          (None, 1000)              0         \n",
      "_________________________________________________________________\n",
      "Predictions (Dense)          (None, 4)                 4004      \n",
      "=================================================================\n",
      "Total params: 20,541,388\n",
      "Trainable params: 20,541,388\n",
      "Non-trainable params: 0\n",
      "_________________________________________________________________\n"
     ]
    }
   ],
   "source": [
    "# We take the output coming from the last layer and feed i to the last newly added layers of our own\n",
    "\n",
    "vgg_last = vgg.layers[-1].output\n",
    "new_layer = Flatten()(vgg_last) # Flattening the output layer of vgg\n",
    "new_layer = Dense(1000, activation = \"selu\", name = \"DenseFullyConnected\")(new_layer) # new dense layer adding to the vgg\n",
    "new_layer = Dropout(0.2) (new_layer) # new Drop out layer\n",
    "new_layer = Dense(num_classes, activation=\"softmax\", name=\"Predictions\") (new_layer) # new output layer adding to the dense layer\n",
    "model = Model(vgg.input, new_layer) # building the model\n",
    "\n",
    "\n",
    "\n",
    "\n",
    "# Compiling the model\n",
    "\n",
    "model.summary()\n",
    "#opt = keras.optimizers.Adam(learning_rate=0.001)\n",
    "model.compile(optimizer=\"adam\", loss='categorical_crossentropy', metrics=['accuracy'])"
   ]
  },
  {
   "cell_type": "code",
   "execution_count": 29,
   "metadata": {},
   "outputs": [
    {
     "name": "stdout",
     "output_type": "stream",
     "text": [
      "Train on 98479 samples, validate on 12270 samples\n",
      "Epoch 1/15\n",
      "98479/98479 [==============================] - 167s 2ms/step - loss: 1.0602 - accuracy: 0.5441 - val_loss: 0.5153 - val_accuracy: 0.8160\n",
      "Epoch 2/15\n",
      "98479/98479 [==============================] - 167s 2ms/step - loss: 0.4729 - accuracy: 0.8337 - val_loss: 0.3986 - val_accuracy: 0.8623\n",
      "Epoch 3/15\n",
      "98479/98479 [==============================] - 167s 2ms/step - loss: 0.3198 - accuracy: 0.8885 - val_loss: 0.4130 - val_accuracy: 0.8507\n",
      "Epoch 4/15\n",
      "98479/98479 [==============================] - 167s 2ms/step - loss: 0.2627 - accuracy: 0.9067 - val_loss: 0.2408 - val_accuracy: 0.9131\n",
      "Epoch 5/15\n",
      "98479/98479 [==============================] - 167s 2ms/step - loss: 0.2333 - accuracy: 0.9159 - val_loss: 0.2389 - val_accuracy: 0.9145\n",
      "Epoch 6/15\n",
      "98479/98479 [==============================] - 168s 2ms/step - loss: 0.2220 - accuracy: 0.9212 - val_loss: 0.2718 - val_accuracy: 0.8958\n",
      "Epoch 7/15\n",
      "98479/98479 [==============================] - 168s 2ms/step - loss: 0.2023 - accuracy: 0.9268 - val_loss: 0.2521 - val_accuracy: 0.9116\n",
      "Epoch 8/15\n",
      "98479/98479 [==============================] - 168s 2ms/step - loss: 0.1895 - accuracy: 0.9316 - val_loss: 0.2481 - val_accuracy: 0.9101\n",
      "Epoch 9/15\n",
      "98479/98479 [==============================] - 167s 2ms/step - loss: 0.1750 - accuracy: 0.9367 - val_loss: 0.2773 - val_accuracy: 0.9051\n",
      "Epoch 10/15\n",
      "98479/98479 [==============================] - 168s 2ms/step - loss: 0.1641 - accuracy: 0.9405 - val_loss: 0.2667 - val_accuracy: 0.9094\n",
      "Epoch 11/15\n",
      "98479/98479 [==============================] - 168s 2ms/step - loss: 0.1490 - accuracy: 0.9459 - val_loss: 0.2677 - val_accuracy: 0.9102\n",
      "Epoch 12/15\n",
      "98479/98479 [==============================] - 169s 2ms/step - loss: 0.1376 - accuracy: 0.9505 - val_loss: 0.2588 - val_accuracy: 0.9128\n",
      "Epoch 13/15\n",
      "98479/98479 [==============================] - 168s 2ms/step - loss: 0.1245 - accuracy: 0.9554 - val_loss: 0.2784 - val_accuracy: 0.9085\n",
      "Epoch 14/15\n",
      "71700/98479 [====================>.........] - ETA: 47s - loss: 0.1172 - accuracy: 0.9590"
     ]
    },
    {
     "ename": "KeyboardInterrupt",
     "evalue": "",
     "output_type": "error",
     "traceback": [
      "\u001b[1;31m---------------------------------------------------------------------------\u001b[0m",
      "\u001b[1;31mKeyboardInterrupt\u001b[0m                         Traceback (most recent call last)",
      "\u001b[1;32m<ipython-input-29-5ac1299d9aa3>\u001b[0m in \u001b[0;36m<module>\u001b[1;34m\u001b[0m\n\u001b[0;32m      3\u001b[0m                        \u001b[0mbatch_size\u001b[0m\u001b[1;33m=\u001b[0m\u001b[1;36m300\u001b[0m\u001b[1;33m,\u001b[0m\u001b[1;33m\u001b[0m\u001b[0m\n\u001b[0;32m      4\u001b[0m                        \u001b[0mepochs\u001b[0m\u001b[1;33m=\u001b[0m\u001b[1;36m15\u001b[0m\u001b[1;33m,\u001b[0m\u001b[1;33m\u001b[0m\u001b[0m\n\u001b[1;32m----> 5\u001b[1;33m                        validation_data=(images_val_rs, labels_val_rs))\n\u001b[0m",
      "\u001b[1;32m~\\.conda\\envs\\RunonGpu\\lib\\site-packages\\keras\\engine\\training.py\u001b[0m in \u001b[0;36mfit\u001b[1;34m(self, x, y, batch_size, epochs, verbose, callbacks, validation_split, validation_data, shuffle, class_weight, sample_weight, initial_epoch, steps_per_epoch, validation_steps, validation_freq, max_queue_size, workers, use_multiprocessing, **kwargs)\u001b[0m\n\u001b[0;32m   1237\u001b[0m                                         \u001b[0msteps_per_epoch\u001b[0m\u001b[1;33m=\u001b[0m\u001b[0msteps_per_epoch\u001b[0m\u001b[1;33m,\u001b[0m\u001b[1;33m\u001b[0m\u001b[0m\n\u001b[0;32m   1238\u001b[0m                                         \u001b[0mvalidation_steps\u001b[0m\u001b[1;33m=\u001b[0m\u001b[0mvalidation_steps\u001b[0m\u001b[1;33m,\u001b[0m\u001b[1;33m\u001b[0m\u001b[0m\n\u001b[1;32m-> 1239\u001b[1;33m                                         validation_freq=validation_freq)\n\u001b[0m\u001b[0;32m   1240\u001b[0m \u001b[1;33m\u001b[0m\u001b[0m\n\u001b[0;32m   1241\u001b[0m     def evaluate(self,\n",
      "\u001b[1;32m~\\.conda\\envs\\RunonGpu\\lib\\site-packages\\keras\\engine\\training_arrays.py\u001b[0m in \u001b[0;36mfit_loop\u001b[1;34m(model, fit_function, fit_inputs, out_labels, batch_size, epochs, verbose, callbacks, val_function, val_inputs, shuffle, initial_epoch, steps_per_epoch, validation_steps, validation_freq)\u001b[0m\n\u001b[0;32m    194\u001b[0m                     \u001b[0mins_batch\u001b[0m\u001b[1;33m[\u001b[0m\u001b[0mi\u001b[0m\u001b[1;33m]\u001b[0m \u001b[1;33m=\u001b[0m \u001b[0mins_batch\u001b[0m\u001b[1;33m[\u001b[0m\u001b[0mi\u001b[0m\u001b[1;33m]\u001b[0m\u001b[1;33m.\u001b[0m\u001b[0mtoarray\u001b[0m\u001b[1;33m(\u001b[0m\u001b[1;33m)\u001b[0m\u001b[1;33m\u001b[0m\u001b[0m\n\u001b[0;32m    195\u001b[0m \u001b[1;33m\u001b[0m\u001b[0m\n\u001b[1;32m--> 196\u001b[1;33m                 \u001b[0mouts\u001b[0m \u001b[1;33m=\u001b[0m \u001b[0mfit_function\u001b[0m\u001b[1;33m(\u001b[0m\u001b[0mins_batch\u001b[0m\u001b[1;33m)\u001b[0m\u001b[1;33m\u001b[0m\u001b[0m\n\u001b[0m\u001b[0;32m    197\u001b[0m                 \u001b[0mouts\u001b[0m \u001b[1;33m=\u001b[0m \u001b[0mto_list\u001b[0m\u001b[1;33m(\u001b[0m\u001b[0mouts\u001b[0m\u001b[1;33m)\u001b[0m\u001b[1;33m\u001b[0m\u001b[0m\n\u001b[0;32m    198\u001b[0m                 \u001b[1;32mfor\u001b[0m \u001b[0ml\u001b[0m\u001b[1;33m,\u001b[0m \u001b[0mo\u001b[0m \u001b[1;32min\u001b[0m \u001b[0mzip\u001b[0m\u001b[1;33m(\u001b[0m\u001b[0mout_labels\u001b[0m\u001b[1;33m,\u001b[0m \u001b[0mouts\u001b[0m\u001b[1;33m)\u001b[0m\u001b[1;33m:\u001b[0m\u001b[1;33m\u001b[0m\u001b[0m\n",
      "\u001b[1;32m~\\.conda\\envs\\RunonGpu\\lib\\site-packages\\tensorflow\\python\\keras\\backend.py\u001b[0m in \u001b[0;36m__call__\u001b[1;34m(self, inputs)\u001b[0m\n\u001b[0;32m   3798\u001b[0m     return nest.pack_sequence_as(\n\u001b[0;32m   3799\u001b[0m         \u001b[0mself\u001b[0m\u001b[1;33m.\u001b[0m\u001b[0m_outputs_structure\u001b[0m\u001b[1;33m,\u001b[0m\u001b[1;33m\u001b[0m\u001b[0m\n\u001b[1;32m-> 3800\u001b[1;33m         \u001b[1;33m[\u001b[0m\u001b[0mx\u001b[0m\u001b[1;33m.\u001b[0m\u001b[0m_numpy\u001b[0m\u001b[1;33m(\u001b[0m\u001b[1;33m)\u001b[0m \u001b[1;32mfor\u001b[0m \u001b[0mx\u001b[0m \u001b[1;32min\u001b[0m \u001b[0moutputs\u001b[0m\u001b[1;33m]\u001b[0m\u001b[1;33m,\u001b[0m  \u001b[1;31m# pylint: disable=protected-access\u001b[0m\u001b[1;33m\u001b[0m\u001b[0m\n\u001b[0m\u001b[0;32m   3801\u001b[0m         expand_composites=True)\n\u001b[0;32m   3802\u001b[0m \u001b[1;33m\u001b[0m\u001b[0m\n",
      "\u001b[1;32m~\\.conda\\envs\\RunonGpu\\lib\\site-packages\\tensorflow\\python\\keras\\backend.py\u001b[0m in \u001b[0;36m<listcomp>\u001b[1;34m(.0)\u001b[0m\n\u001b[0;32m   3798\u001b[0m     return nest.pack_sequence_as(\n\u001b[0;32m   3799\u001b[0m         \u001b[0mself\u001b[0m\u001b[1;33m.\u001b[0m\u001b[0m_outputs_structure\u001b[0m\u001b[1;33m,\u001b[0m\u001b[1;33m\u001b[0m\u001b[0m\n\u001b[1;32m-> 3800\u001b[1;33m         \u001b[1;33m[\u001b[0m\u001b[0mx\u001b[0m\u001b[1;33m.\u001b[0m\u001b[0m_numpy\u001b[0m\u001b[1;33m(\u001b[0m\u001b[1;33m)\u001b[0m \u001b[1;32mfor\u001b[0m \u001b[0mx\u001b[0m \u001b[1;32min\u001b[0m \u001b[0moutputs\u001b[0m\u001b[1;33m]\u001b[0m\u001b[1;33m,\u001b[0m  \u001b[1;31m# pylint: disable=protected-access\u001b[0m\u001b[1;33m\u001b[0m\u001b[0m\n\u001b[0m\u001b[0;32m   3801\u001b[0m         expand_composites=True)\n\u001b[0;32m   3802\u001b[0m \u001b[1;33m\u001b[0m\u001b[0m\n",
      "\u001b[1;32m~\\.conda\\envs\\RunonGpu\\lib\\site-packages\\tensorflow\\python\\framework\\ops.py\u001b[0m in \u001b[0;36m_numpy\u001b[1;34m(self)\u001b[0m\n\u001b[0;32m    925\u001b[0m     \u001b[1;31m# pylint: disable=protected-access\u001b[0m\u001b[1;33m\u001b[0m\u001b[1;33m\u001b[0m\u001b[0m\n\u001b[0;32m    926\u001b[0m     \u001b[1;32mtry\u001b[0m\u001b[1;33m:\u001b[0m\u001b[1;33m\u001b[0m\u001b[0m\n\u001b[1;32m--> 927\u001b[1;33m       \u001b[1;32mreturn\u001b[0m \u001b[0mself\u001b[0m\u001b[1;33m.\u001b[0m\u001b[0m_numpy_internal\u001b[0m\u001b[1;33m(\u001b[0m\u001b[1;33m)\u001b[0m\u001b[1;33m\u001b[0m\u001b[0m\n\u001b[0m\u001b[0;32m    928\u001b[0m     \u001b[1;32mexcept\u001b[0m \u001b[0mcore\u001b[0m\u001b[1;33m.\u001b[0m\u001b[0m_NotOkStatusException\u001b[0m \u001b[1;32mas\u001b[0m \u001b[0me\u001b[0m\u001b[1;33m:\u001b[0m\u001b[1;33m\u001b[0m\u001b[0m\n\u001b[0;32m    929\u001b[0m       \u001b[0msix\u001b[0m\u001b[1;33m.\u001b[0m\u001b[0mraise_from\u001b[0m\u001b[1;33m(\u001b[0m\u001b[0mcore\u001b[0m\u001b[1;33m.\u001b[0m\u001b[0m_status_to_exception\u001b[0m\u001b[1;33m(\u001b[0m\u001b[0me\u001b[0m\u001b[1;33m.\u001b[0m\u001b[0mcode\u001b[0m\u001b[1;33m,\u001b[0m \u001b[0me\u001b[0m\u001b[1;33m.\u001b[0m\u001b[0mmessage\u001b[0m\u001b[1;33m)\u001b[0m\u001b[1;33m,\u001b[0m \u001b[1;32mNone\u001b[0m\u001b[1;33m)\u001b[0m\u001b[1;33m\u001b[0m\u001b[0m\n",
      "\u001b[1;31mKeyboardInterrupt\u001b[0m: "
     ]
    }
   ],
   "source": [
    "#https://towardsdatascience.com/cnn-transfer-learning-fine-tuning-9f3e7c5806b2\n",
    "vgg_Output = model.fit(images_train_rs, labels_train_rs,\n",
    "                       batch_size=300,\n",
    "                       epochs=15,\n",
    "                       validation_data=(images_val_rs, labels_val_rs))"
   ]
  },
  {
   "cell_type": "code",
   "execution_count": 17,
   "metadata": {},
   "outputs": [
    {
     "data": {
      "image/png": "[encoded data removed]",
      "text/plain": [
       "<Figure size 1440x504 with 1 Axes>"
      ]
     },
     "metadata": {
      "needs_background": "light"
     },
     "output_type": "display_data"
    }
   ],
   "source": [
    "# Plotting the accuray and loss for training and validation data\n",
    "pd.DataFrame(vgg_Output.history).plot(figsize=(20, 7))\n",
    "plt.grid(True)\n",
    "plt.gca().set_ylim(0, 1)\n",
    "plt.title(\"Fully Connected Neural Network with 4 Hidden layers\")\n",
    "plt.show()"
   ]
  },
  {
   "cell_type": "code",
   "execution_count": 18,
   "metadata": {},
   "outputs": [],
   "source": [
    "VGG_Unfrozen_probabilities = model.predict([images_test_public_rs])"
   ]
  },
  {
   "cell_type": "code",
   "execution_count": 19,
   "metadata": {},
   "outputs": [
    {
     "name": "stdout",
     "output_type": "stream",
     "text": [
      "the first five Predicted classes are: [0 2 0 ... 0 0 1]\n",
      "Length of Predicted labels: 11921\n"
     ]
    }
   ],
   "source": [
    "#### Converting the one hot encoding probability values back to a single column representing wich class does an image belongs to \n",
    "Pred_Labels = np.argmax(VGG_Unfrozen_probabilities, axis = 1)\n",
    "print(\"the first five Predicted classes are:\", Pred_Labels)\n",
    "print(\"Length of Predicted labels:\", len(Pred_Labels))"
   ]
  },
  {
   "cell_type": "code",
   "execution_count": 20,
   "metadata": {},
   "outputs": [],
   "source": [
    "# creating a data frame for predicted values\n",
    "df1 = pd.DataFrame(Pred_Labels, columns=['Prediction'])\n",
    "# creating a data frame for files_val which contains image names\n",
    "df2 = pd.DataFrame(files_test_public, columns=['ID'])"
   ]
  },
  {
   "cell_type": "code",
   "execution_count": 21,
   "metadata": {},
   "outputs": [],
   "source": [
    "# Joining the two data frames through the index\n",
    "VGG_Unfrozen_45693242 = df2.merge(df1, left_index=True, right_index=True)"
   ]
  },
  {
   "cell_type": "code",
   "execution_count": 22,
   "metadata": {},
   "outputs": [],
   "source": [
    "VGG_Unfrozen_45693242.to_csv (r'C:\\\\Users\\\\suhas\\\\Documents\\\\study\\\\ML Practice\\\\VGG_Unfrozen_45693242.csv', index = False, header=True)"
   ]
  },
  {
   "cell_type": "code",
   "execution_count": 24,
   "metadata": {},
   "outputs": [],
   "source": [
    "model.save(\"VGG_Unfrozen_45693242.h5\")"
   ]
  },
  {
   "cell_type": "code",
   "execution_count": null,
   "metadata": {},
   "outputs": [],
   "source": []
  },
  {
   "cell_type": "code",
   "execution_count": null,
   "metadata": {},
   "outputs": [],
   "source": []
  },
  {
   "cell_type": "code",
   "execution_count": null,
   "metadata": {},
   "outputs": [],
   "source": []
  },
  {
   "cell_type": "code",
   "execution_count": null,
   "metadata": {},
   "outputs": [],
   "source": []
  },
  {
   "cell_type": "code",
   "execution_count": null,
   "metadata": {},
   "outputs": [],
   "source": []
  },
  {
   "cell_type": "code",
   "execution_count": null,
   "metadata": {},
   "outputs": [],
   "source": []
  }
 ],
 "metadata": {
  "kernelspec": {
   "display_name": "RunonGpu",
   "language": "python",
   "name": "runongpu"
  },
  "language_info": {
   "codemirror_mode": {
    "name": "ipython",
    "version": 3
   },
   "file_extension": ".py",
   "mimetype": "text/x-python",
   "name": "python",
   "nbconvert_exporter": "python",
   "pygments_lexer": "ipython3",
   "version": "3.5.6"
  }
 },
 "nbformat": 4,
 "nbformat_minor": 4
}
