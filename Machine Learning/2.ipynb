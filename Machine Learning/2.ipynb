{
 "cells": [
  {
   "cell_type": "markdown",
   "metadata": {},
   "source": [
    " <h2><center><font color ='Red'>Section-5: Basic CNN with Data Augmentation(Convolutional Model) and Transfer Learning Using VGG19</font></center></h2>"
   ]
  },
  {
   "cell_type": "markdown",
   "metadata": {},
   "source": [
    "Keras with Tensorflow framework is used in this section for building a Fully connected neural network and Convolutional neural network.\n",
    "\n",
    "In this section the following two are the neural networks build for classifying the hair color of the celb-a Dataset:\n",
    "1. Convolutional neural network\n",
    "2. Transfer Learning with VGG19"
   ]
  },
  {
   "cell_type": "markdown",
   "metadata": {},
   "source": [
    "<h4><font color ='brown'>Why Fully connected Neural Networks is not Useful?</font></h4>\n",
    "\n",
    "Dis-advantages of Fully Connected Neural Networks:\n",
    "1. When a model is trained on an image for example lets take a CAT, then we had given the same image for prediction but flipped the image. In this case the model classifies an image as cat if it matches exactly (including position) and miscalssifies the flipped image as not cat eventhough it is a cat.\n",
    "2. The Fully connected neural networks are computationally expensive. Since each input feature is connected to every neuron in the following layer and the trend continues till the Output layer.\n",
    "3. This is why I didnt included the Fully connected Model in the Final Submission.\n",
    "\n",
    "Source: https://www.quora.com/What-are-the-advantages-and-disadvantages-of-fully-connected-layers-in-convolutional-neural-network"
   ]
  },
  {
   "cell_type": "markdown",
   "metadata": {},
   "source": [
    "<h4><font color ='brown'>About connected Neural Networks and its Advantages:</font></h4>\n",
    "Recent Findings say that only a few number of neurons in a human brain is responsible for a part of an image, for example if we take a house some neurons will focus on horizontal lines, some neurons would react to more complex patterns like any engravings on the walls.\n",
    "\n",
    "#### Layers: \n",
    "A Typical CNN Model would have a following layer:\n",
    "1. CONvolutional Layer\n",
    "2. Max pooling or Average Polling Layer\n",
    "3. Batch Normalization Layer\n",
    "4. Dense LAyer\n",
    "5. Drop out Layer\n",
    "\n",
    "#### Advantages: \n",
    "1. In CNN only a few neurons will focus on certain parts of images (input features) instead of each neuron focusing on each input feture (fully connected Network), due to which we can have filters in CNN for any input. So, the model will get trained on the individual Filters so when a same image is given for prediction with a vertical flip, CNN's can still classify an Image.\n",
    "        For example: \n",
    "        let's Take a cat when a CNN Model is trained the model will get trained on features like Ears, eyes, whiskers. so, when the model finds similar features in the new image irrespective of the position the model classifies the image as cat.\n",
    "    1. Layer1 in the CNN might be responsible for some lines, lines with orientation, some shapes and so on...\n",
    "    2. Layer2 take input from layer 1 and starts building more complex features say outline of cat ears and so on...\n",
    "    3. Layern will get the input from previous layers and can identify the cat face or whole cat itself.\n",
    "2. Since only few neurons is responsible for certain part of an image the computation time will be faster compared to Neural Networks\n",
    "\n",
    "#### Batch Normalization:\n",
    "Even our input data is Normalized and feed to a CNN neural networks each weights associated with the neuron would get updated during each epoch via Adam Optimizer in the backward propogation technique. So, it can be possible that some weights of the neurons in a layer would get large compared to the others and therby this weights imbalance will affect the Output. for this reason we normalize the output comming out from the Conv2D layers.  \n",
    "\n",
    "Source: https://www.youtube.com/watch?v=dXB-KQYkzNU&t=251s"
   ]
  },
  {
   "cell_type": "markdown",
   "metadata": {},
   "source": [
    "<h3><font color ='coral'>1) Preprocessing and Feature Extraction :</font></h3>\n",
    "    \n",
    "    1. Setting the random Seed at the begining such that it would help us in reproducing similar results.\n",
    "    2.Before Proceeding further we need to do some preprocessing on the Target Lables of the Train and Test Data In order for the model to start learning as the CNN model Treats the labels as one hot vectors.\n",
    "    3.Here we dont need to reshape the Data into 2d as the convolutional models work with 3 Dimensions data.\n",
    "    4. Preffered saving method for Deep learning models."
   ]
  },
  {
   "cell_type": "markdown",
   "metadata": {},
   "source": [
    "<h4><font color ='Brown'>1) Setting the Random Seed for getting Reproducable results:</font></h4>\n",
    "Usally when a Gpu is used for training the models the results will not come same every time we ran the same code due to the randomness form the complex GPU libraries. There is Some evidence that when NVDIA GPU's are used (CUDNN) reproducible results cannot be attained.\n",
    "\n",
    "Source: https://machinelearningmastery.com/reproducible-results-neural-networks-keras/\n",
    "\n",
    "Source: https://www.youtube.com/watch?v=HcW0DeWRggs\n"
   ]
  },
  {
   "cell_type": "code",
   "execution_count": 2,
   "metadata": {},
   "outputs": [],
   "source": [
    "# Inidcating That it is necessary for any hash based algorithms to produce reproducable values \n",
    "os.environ['PYTHONHASHSEED'] = '1'\n",
    "np.random.seed(2020) # Seed for numpy random numbers\n",
    "random.seed(2020) # Seed for python \n",
    "tf.random.set_seed(2020) # Seed for tensorflow\n",
    "# We need to force tensorflow to use single thread for getting reproducable results\n",
    "# Because multiple threads will effect the reproducability (getting the same results everytime)\n",
    "# Cur_Session = tf.compat.v1.Session(graph = tf.get_default_graph(), config = session_conf)\n",
    "# BD.set_session(Cur_Session)\n",
    "# the last two lines will not work for a GPU"
   ]
  },
  {
   "cell_type": "markdown",
   "metadata": {},
   "source": [
    "<h4><font color ='brown'>2) Creating the One Hot Vectors for the Labels:</font></h4>\n",
    "currently our target variable ranges in between 0-3 representing hair colors, but we need to provide the labels as one hot vector meaning in our case 1000, 0100, 0010, 0001 represents black, blond, brown, gray such that at any point of time one class has the value 1 and the others are set to 0."
   ]
  },
  {
   "cell_type": "code",
   "execution_count": 3,
   "metadata": {},
   "outputs": [
    {
     "name": "stdout",
     "output_type": "stream",
     "text": [
      "Train Labels Shape: (98479, 4)\n",
      "Validation Labels Shape: (12270, 4)\n"
     ]
    }
   ],
   "source": [
    "num_classes = len(hair_colours) # no of classes\n",
    "labels_train_rs = keras.utils.to_categorical(labels_train, num_classes) # Generating a One hot vector for the Train labels Data\n",
    "labels_val_rs = keras.utils.to_categorical(labels_val, num_classes) # Generating One Hot vector for the Validation Data\n",
    "print(\"Train Labels Shape:\", labels_train_rs.shape)\n",
    "print(\"Validation Labels Shape:\", labels_val_rs.shape)"
   ]
  },
  {
   "cell_type": "markdown",
   "metadata": {},
   "source": [
    "<h4><font color ='brown'>3) No Need to reshape the data to 2d :</font></h4>\n",
    "The Input shape acceptable by the Convolutional Models is (height, width, depth)"
   ]
  },
  {
   "cell_type": "code",
   "execution_count": 6,
   "metadata": {},
   "outputs": [
    {
     "name": "stdout",
     "output_type": "stream",
     "text": [
      "Input dimensions of images_train_rs are:  (48, 48, 3)\n"
     ]
    }
   ],
   "source": [
    "print(\"Input dimensions of images_train_rs are: \",images_train_rs.shape[1:]) # Excludes the first column that represnts no of rows"
   ]
  },
  {
   "cell_type": "markdown",
   "metadata": {},
   "source": [
    "Now the data is in the correct format (input features in 3D, Labels as One hot vectors) for a neural network to start Learning."
   ]
  },
  {
   "cell_type": "markdown",
   "metadata": {},
   "source": [
    "<h4><font color ='brown'>4) Preffered saving method for saving Models:</font></h4>\n",
    ".h5 is the preffered mode of saving a model in keras which stores the weights of the model along with the structure of model, loss and metrics, model optimizer state.\n",
    "\n",
    "Source: https://machinelearningmastery.com/save-load-keras-deep-learning-models/"
   ]
  },
  {
   "cell_type": "markdown",
   "metadata": {},
   "source": [
    "<h3><font color ='coral'>2) Model Fitting :</font></h3>\n",
    "The Selected Model From Deep LEarning Section Would be Basic CNN with Data Augmentation, I also treat VGG19 as my Best selected model as the accuracy scores of both model is same\n",
    "\n",
    "    1. At first I fitted a CNN model which is Built from scrath.\n",
    "    2. Then I used the Data Augmentation to improve the Seleceted Models Performance Further More.\n",
    "    3. Using Transfer Learning of VGG19 to classify our Data.\n",
    "    4. Using Transfer Learning of VGG19 with Data Augmentation. "
   ]
  },
  {
   "cell_type": "markdown",
   "metadata": {},
   "source": [
    "<h3><font color ='brown'>Model 1: Building CNN From Scratch</font></h3>\n",
    "Basic CNN Model with 5 CONV Layers, 3 Dense Layers with selu activation, 4 Dropout layers function (these Drop out layers will help the model to not overfit) and 3 BatchNormalization layers (which makes sure that the output from each neuron would be in the same range and also help in not overfitting).\n",
    "\n",
    "Here we need to define the input size to the first layer only and the rest of the layers will get the input from the previous layers."
   ]
  },
  {
   "cell_type": "code",
   "execution_count": 5,
   "metadata": {},
   "outputs": [
    {
     "name": "stdout",
     "output_type": "stream",
     "text": [
      "Model: \"sequential\"\n",
      "_________________________________________________________________\n",
      "Layer (type)                 Output Shape              Param #   \n",
      "=================================================================\n",
      "conv2d (Conv2D)              (None, 48, 48, 32)        2432      \n",
      "_________________________________________________________________\n",
      "conv2d_1 (Conv2D)            (None, 48, 48, 32)        25632     \n",
      "_________________________________________________________________\n",
      "max_pooling2d (MaxPooling2D) (None, 24, 24, 32)        0         \n",
      "_________________________________________________________________\n",
      "batch_normalization (BatchNo (None, 24, 24, 32)        128       \n",
      "_________________________________________________________________\n",
      "dropout (Dropout)            (None, 24, 24, 32)        0         \n",
      "_________________________________________________________________\n",
      "conv2d_2 (Conv2D)            (None, 24, 24, 64)        18496     \n",
      "_________________________________________________________________\n",
      "conv2d_3 (Conv2D)            (None, 24, 24, 64)        36928     \n",
      "_________________________________________________________________\n",
      "max_pooling2d_1 (MaxPooling2 (None, 12, 12, 64)        0         \n",
      "_________________________________________________________________\n",
      "batch_normalization_1 (Batch (None, 12, 12, 64)        256       \n",
      "_________________________________________________________________\n",
      "dropout_1 (Dropout)          (None, 12, 12, 64)        0         \n",
      "_________________________________________________________________\n",
      "conv2d_4 (Conv2D)            (None, 12, 12, 128)       73856     \n",
      "_________________________________________________________________\n",
      "batch_normalization_2 (Batch (None, 12, 12, 128)       512       \n",
      "_________________________________________________________________\n",
      "flatten (Flatten)            (None, 18432)             0         \n",
      "_________________________________________________________________\n",
      "dense (Dense)                (None, 256)               4718848   \n",
      "_________________________________________________________________\n",
      "dropout_2 (Dropout)          (None, 256)               0         \n",
      "_________________________________________________________________\n",
      "dense_1 (Dense)              (None, 128)               32896     \n",
      "_________________________________________________________________\n",
      "dropout_3 (Dropout)          (None, 128)               0         \n",
      "_________________________________________________________________\n",
      "dense_2 (Dense)              (None, 4)                 516       \n",
      "=================================================================\n",
      "Total params: 4,910,500\n",
      "Trainable params: 4,910,052\n",
      "Non-trainable params: 448\n",
      "_________________________________________________________________\n"
     ]
    }
   ],
   "source": [
    "CNN_S = keras.models.Sequential([\n",
    "   \n",
    "    keras.layers.Conv2D(32, 5, activation=\"selu\", padding=\"same\", input_shape=[48,48,3]),\n",
    "    keras.layers.Conv2D(32, 5, activation=\"selu\", padding=\"same\"),\n",
    "    keras.layers.MaxPooling2D(2),\n",
    "    keras.layers.BatchNormalization(),\n",
    "    keras.layers.Dropout(0.4),\n",
    "    keras.layers.Conv2D(64, 3, activation=\"selu\", padding=\"same\"),\n",
    "    keras.layers.Conv2D(64, 3, activation=\"selu\", padding=\"same\"),\n",
    "    keras.layers.MaxPooling2D(2),    \n",
    "    keras.layers.BatchNormalization(),\n",
    "    keras.layers.Dropout(0.4),\n",
    "    keras.layers.Conv2D(128, 3, activation=\"selu\", padding=\"same\"),\n",
    "    keras.layers.BatchNormalization(),\n",
    "    keras.layers.Flatten(),\n",
    "    keras.layers.Dense(256, activation = \"selu\"),\n",
    "    keras.layers.Dropout(0.4),\n",
    "    keras.layers.Dense(128, activation = \"selu\"),\n",
    "    keras.layers.Dropout(0.4),\n",
    "    keras.layers.Dense(num_classes, activation=\"softmax\")    \n",
    "])\n",
    "\n",
    "\n",
    "CNN_S.summary()\n",
    "\n",
    "opt = keras.optimizers.Adam(learning_rate=0.0005)\n",
    "\n",
    "CNN_S.compile(loss=keras.losses.categorical_crossentropy,\n",
    "              optimizer=opt,\n",
    "              metrics=['accuracy'])"
   ]
  },
  {
   "cell_type": "code",
   "execution_count": 6,
   "metadata": {},
   "outputs": [
    {
     "name": "stdout",
     "output_type": "stream",
     "text": [
      "Epoch 1/15\n",
      "329/329 [==============================] - 41s 124ms/step - accuracy: 0.7425 - loss: 0.9093 - val_accuracy: 0.4141 - val_loss: 2.8664\n",
      "Epoch 2/15\n",
      "329/329 [==============================] - 40s 120ms/step - accuracy: 0.8281 - loss: 0.5072 - val_accuracy: 0.8606 - val_loss: 0.3958\n",
      "Epoch 3/15\n",
      "329/329 [==============================] - 40s 120ms/step - accuracy: 0.8621 - loss: 0.3867 - val_accuracy: 0.8767 - val_loss: 0.3274\n",
      "Epoch 4/15\n",
      "329/329 [==============================] - 40s 121ms/step - accuracy: 0.8794 - loss: 0.3305 - val_accuracy: 0.8954 - val_loss: 0.2789\n",
      "Epoch 5/15\n",
      "329/329 [==============================] - 40s 121ms/step - accuracy: 0.8920 - loss: 0.2974 - val_accuracy: 0.8724 - val_loss: 0.3485\n",
      "Epoch 6/15\n",
      "329/329 [==============================] - 40s 121ms/step - accuracy: 0.8984 - loss: 0.2782 - val_accuracy: 0.8697 - val_loss: 0.3539\n",
      "Epoch 7/15\n",
      "329/329 [==============================] - 40s 121ms/step - accuracy: 0.9031 - loss: 0.2643 - val_accuracy: 0.9054 - val_loss: 0.2596\n",
      "Epoch 8/15\n",
      "329/329 [==============================] - 40s 122ms/step - accuracy: 0.9087 - loss: 0.2512 - val_accuracy: 0.8919 - val_loss: 0.2832\n",
      "Epoch 9/15\n",
      "329/329 [==============================] - 40s 122ms/step - accuracy: 0.9104 - loss: 0.2441 - val_accuracy: 0.8860 - val_loss: 0.3096\n",
      "Epoch 10/15\n",
      "329/329 [==============================] - 40s 122ms/step - accuracy: 0.9144 - loss: 0.2326 - val_accuracy: 0.8962 - val_loss: 0.2677\n",
      "Epoch 11/15\n",
      "329/329 [==============================] - 40s 121ms/step - accuracy: 0.9175 - loss: 0.2253 - val_accuracy: 0.9011 - val_loss: 0.2685\n",
      "Epoch 12/15\n",
      "329/329 [==============================] - 40s 121ms/step - accuracy: 0.9195 - loss: 0.2165 - val_accuracy: 0.9029 - val_loss: 0.2568\n",
      "Epoch 13/15\n",
      "329/329 [==============================] - 40s 121ms/step - accuracy: 0.9228 - loss: 0.2103 - val_accuracy: 0.9092 - val_loss: 0.2509\n",
      "Epoch 14/15\n",
      "329/329 [==============================] - 40s 121ms/step - accuracy: 0.9244 - loss: 0.2034 - val_accuracy: 0.9085 - val_loss: 0.2517\n",
      "Epoch 15/15\n",
      "329/329 [==============================] - 40s 121ms/step - accuracy: 0.9271 - loss: 0.1963 - val_accuracy: 0.9104 - val_loss: 0.2443\n"
     ]
    }
   ],
   "source": [
    "CNN_S_Output = CNN_S.fit(images_train_rs, labels_train_rs,\n",
    "                       batch_size=300,\n",
    "                       epochs=15,\n",
    "                       validation_data=(images_val_rs, labels_val_rs))"
   ]
  },
  {
   "cell_type": "code",
   "execution_count": 7,
   "metadata": {},
   "outputs": [
    {
     "data": {
      "image/png": "[encoded data removed]",
      "text/plain": [
       "<Figure size 1440x504 with 1 Axes>"
      ]
     },
     "metadata": {
      "needs_background": "light"
     },
     "output_type": "display_data"
    }
   ],
   "source": [
    "# Plotting the accuray and loss for training and validation data\n",
    "pd.DataFrame(CNN_S_Output.history).plot(figsize=(20, 7))\n",
    "plt.grid(True)\n",
    "plt.gca().set_ylim(0, 3)\n",
    "plt.title(\"Basic Connected Neural Network with 5 Conv layers, 3 Dense Layers\")\n",
    "plt.show()"
   ]
  },
  {
   "cell_type": "markdown",
   "metadata": {},
   "source": [
    "<h4><font color ='purple'>Results Interpretation for Basic CNN:</font></h4>\n",
    "* From the Model Summary we can see that Total Trainable Parameters are 4,910,500 which is huge given that our total observations were at 120,000 approx, so this model may overfit but perrform's better than the Convolutional Neural networks.\n",
    "\n",
    "* From the Plot we can see that Validation loss is decreasing ,the validation accuracy seems to increase from 41% to 91.04% by epoch 15. On the other hand training loss tend to decrease and accuracy scores tend to increase with increase in epochs. upon looking the Trainig accuracy score and Validation accuracy, scores seems close to each other with a differnce of 1% which is a good sign.\n",
    "Since this model seems to perform well on the data so we further look at the model performance with augmented Data.\n",
    "\n",
    "THE OUTPUT MAY VARY IF THE CELL IS RAN AGAIN."
   ]
  },
  {
   "cell_type": "code",
   "execution_count": 67,
   "metadata": {},
   "outputs": [],
   "source": [
    "CNN_S_probabilities = CNN_S.predict([images_test_public_rs]) # Predicting the Probabilities"
   ]
  },
  {
   "cell_type": "code",
   "execution_count": 68,
   "metadata": {},
   "outputs": [
    {
     "name": "stdout",
     "output_type": "stream",
     "text": [
      "the first five Predicted classes are: [0 2 0 ... 0 0 2]\n",
      "Length of Predicted labels: 11921\n"
     ]
    }
   ],
   "source": [
    "#### Converting the one hot encoding probability values back to a single column representing wich class does an image belongs to \n",
    "Pred_Labels = np.argmax(CNN_S_probabilities, axis = 1)\n",
    "print(\"the first five Predicted classes are:\", Pred_Labels)\n",
    "print(\"Length of Predicted labels:\", len(Pred_Labels))"
   ]
  },
  {
   "cell_type": "code",
   "execution_count": 69,
   "metadata": {},
   "outputs": [
    {
     "data": {
      "text/html": [
       "<div>\n",
       "<style scoped>\n",
       "    .dataframe tbody tr th:only-of-type {\n",
       "        vertical-align: middle;\n",
       "    }\n",
       "\n",
       "    .dataframe tbody tr th {\n",
       "        vertical-align: top;\n",
       "    }\n",
       "\n",
       "    .dataframe thead th {\n",
       "        text-align: right;\n",
       "    }\n",
       "</style>\n",
       "<table border=\"1\" class=\"dataframe\">\n",
       "  <thead>\n",
       "    <tr style=\"text-align: right;\">\n",
       "      <th></th>\n",
       "      <th>ID</th>\n",
       "    </tr>\n",
       "  </thead>\n",
       "  <tbody>\n",
       "    <tr>\n",
       "      <th>11916</th>\n",
       "      <td>202595.jpg</td>\n",
       "    </tr>\n",
       "    <tr>\n",
       "      <th>11917</th>\n",
       "      <td>202596.jpg</td>\n",
       "    </tr>\n",
       "    <tr>\n",
       "      <th>11918</th>\n",
       "      <td>202597.jpg</td>\n",
       "    </tr>\n",
       "    <tr>\n",
       "      <th>11919</th>\n",
       "      <td>202598.jpg</td>\n",
       "    </tr>\n",
       "    <tr>\n",
       "      <th>11920</th>\n",
       "      <td>202599.jpg</td>\n",
       "    </tr>\n",
       "  </tbody>\n",
       "</table>\n",
       "</div>"
      ],
      "text/plain": [
       "               ID\n",
       "11916  202595.jpg\n",
       "11917  202596.jpg\n",
       "11918  202597.jpg\n",
       "11919  202598.jpg\n",
       "11920  202599.jpg"
      ]
     },
     "execution_count": 69,
     "metadata": {},
     "output_type": "execute_result"
    }
   ],
   "source": [
    "# creating a data frame for predicted values\n",
    "df1 = pd.DataFrame(Pred_Labels, columns=['Prediction'])\n",
    "# creating a data frame for files_val which contains image names\n",
    "df2 = pd.DataFrame(files_test_public, columns=['ID'])\n",
    "df2.tail()"
   ]
  },
  {
   "cell_type": "code",
   "execution_count": 70,
   "metadata": {},
   "outputs": [],
   "source": [
    "# Joining the two data frames through the index\n",
    "CNN_S_45693242 = df2.merge(df1, left_index=True, right_index=True)"
   ]
  },
  {
   "cell_type": "code",
   "execution_count": 71,
   "metadata": {},
   "outputs": [],
   "source": [
    "CNN_S_45693242.to_csv (r'C:\\\\Users\\\\suhas\\\\Documents\\\\study\\\\ML Practice\\\\CNN_S_45693242.csv', index = False, header=True)"
   ]
  },
  {
   "cell_type": "code",
   "execution_count": 73,
   "metadata": {},
   "outputs": [],
   "source": [
    "CNN_S.save(\"CNN_S.h5\")  ## Best MOdel So For In CNN with 92.7 on the test data "
   ]
  },
  {
   "cell_type": "markdown",
   "metadata": {},
   "source": [
    "<h4><font color ='purple'>Kaggle Result:</font></h4>\n",
    "Upon looking at the Kaggle scores the accuracy for the Basic Model on the Public data is 0.92743. which is good and is the best of all the models"
   ]
  },
  {
   "cell_type": "markdown",
   "metadata": {},
   "source": [
    "<h3><font color ='brown'>Model 2: CNN with Data Augmentation (Selected Model in Deep Learning)</font></h3>"
   ]
  },
  {
   "cell_type": "code",
   "execution_count": 8,
   "metadata": {},
   "outputs": [],
   "source": [
    "CNN_S_OA_DA = tf.keras.models.load_model('CNN_S.h5') # Loading the Model"
   ]
  },
  {
   "cell_type": "code",
   "execution_count": 13,
   "metadata": {},
   "outputs": [],
   "source": [
    "datagen = ImageDataGenerator(rotation_range=30,\n",
    "                             width_shift_range=0.1,\n",
    "                             height_shift_range=0.1,\n",
    "                             zoom_range = 0.1,\n",
    "                             shear_range = 0.2,\n",
    "                             horizontal_flip = True, \n",
    "                             fill_mode='nearest')\n",
    "# Techniques for Data Augmemtation"
   ]
  },
  {
   "cell_type": "code",
   "execution_count": 14,
   "metadata": {},
   "outputs": [],
   "source": [
    "x_Train_After_Augmentation = images_train_rs\n",
    "datagen.fit(x_Train_After_Augmentation)"
   ]
  },
  {
   "cell_type": "code",
   "execution_count": 15,
   "metadata": {},
   "outputs": [
    {
     "name": "stdout",
     "output_type": "stream",
     "text": [
      "Epoch 1/9\n",
      "329/328 [==============================] - 64s 196ms/step - accuracy: 0.9019 - loss: 0.2703 - val_accuracy: 0.8950 - val_loss: 0.2839\n",
      "Epoch 2/9\n",
      "329/328 [==============================] - 64s 196ms/step - accuracy: 0.9033 - loss: 0.2666 - val_accuracy: 0.8650 - val_loss: 0.3293\n",
      "Epoch 3/9\n",
      "329/328 [==============================] - 65s 197ms/step - accuracy: 0.9038 - loss: 0.2626 - val_accuracy: 0.8703 - val_loss: 0.3265\n",
      "Epoch 4/9\n",
      "329/328 [==============================] - 76s 233ms/step - accuracy: 0.9047 - loss: 0.2616 - val_accuracy: 0.9007 - val_loss: 0.2638\n",
      "Epoch 5/9\n",
      "329/328 [==============================] - 77s 234ms/step - accuracy: 0.9066 - loss: 0.2560 - val_accuracy: 0.9157 - val_loss: 0.2319\n",
      "Epoch 6/9\n",
      "329/328 [==============================] - 73s 221ms/step - accuracy: 0.9080 - loss: 0.2533 - val_accuracy: 0.9077 - val_loss: 0.2426\n",
      "Epoch 7/9\n",
      "329/328 [==============================] - 66s 201ms/step - accuracy: 0.9084 - loss: 0.2519 - val_accuracy: 0.9008 - val_loss: 0.2753\n",
      "Epoch 8/9\n",
      "329/328 [==============================] - 65s 198ms/step - accuracy: 0.9091 - loss: 0.2492 - val_accuracy: 0.8788 - val_loss: 0.3124\n",
      "Epoch 9/9\n",
      "329/328 [==============================] - 64s 196ms/step - accuracy: 0.9098 - loss: 0.2476 - val_accuracy: 0.9042 - val_loss: 0.2557\n"
     ]
    }
   ],
   "source": [
    "batch_size = 300\n",
    "CNN_S_OA_DA_Output = CNN_S_OA_DA.fit(datagen.flow(x_Train_After_Augmentation, labels_train_rs, \n",
    "                         batch_size),\n",
    "                         steps_per_epoch = len(x_Train_After_Augmentation)/batch_size,\n",
    "                         epochs = 9, \n",
    "                         validation_data=(images_val_rs, labels_val_rs),\n",
    "                         verbose=1)"
   ]
  },
  {
   "cell_type": "code",
   "execution_count": 16,
   "metadata": {},
   "outputs": [
    {
     "data": {
      "image/png": "[encoded data removed]",
      "text/plain": [
       "<Figure size 1440x504 with 1 Axes>"
      ]
     },
     "metadata": {
      "needs_background": "light"
     },
     "output_type": "display_data"
    }
   ],
   "source": [
    "# Plotting the accuray and loss for training and validation data\n",
    "pd.DataFrame(CNN_S_OA_DA_Output.history).plot(figsize=(20, 7))\n",
    "plt.grid(True)\n",
    "plt.gca().set_ylim(0, 1)\n",
    "plt.title(\"CNN with dATA AUGMENTATION\")\n",
    "plt.show()"
   ]
  },
  {
   "cell_type": "markdown",
   "metadata": {},
   "source": [
    "<h4><font color ='purple'>Results Interpretation for Basic CNN with Data Augmentation:</font></h4>\n",
    "\n",
    "* From the Plot we can see that Validation seems to fluctuate and is decreasing on slow steady rate and the validation accuracy seems to increase and reach 90.42% by epoch 9. On the other hand training loss tend to decrease and accuracy scores tend to increase with increase in epochs. upon looking the Trainig accuracy score and Validation accuracy scores seems close to each other with a differnce of 0.4% which is similar to Basic CNN Model. \n",
    "* I will be using this model as my Selecetd CNN model from deep learning model because, this model has a better chance of classifying the images that include some filters in it, which is not possible with the Basic CNN.\n",
    "\n",
    "THE OUTPUT MAY VARY IF THE CELL IS RAN AGAIN."
   ]
  },
  {
   "cell_type": "code",
   "execution_count": 26,
   "metadata": {},
   "outputs": [],
   "source": [
    "CNN_S_DA_probabilities = CNN_S_OA_DA.predict([images_test_public_rs])"
   ]
  },
  {
   "cell_type": "code",
   "execution_count": 27,
   "metadata": {},
   "outputs": [
    {
     "name": "stdout",
     "output_type": "stream",
     "text": [
      "the first five Predicted classes are: [0 1 0 ... 0 0 2]\n",
      "Length of Predicted labels: 11921\n"
     ]
    }
   ],
   "source": [
    "#### Converting the one hot encoding probability values back to a single column representing wich class does an image belongs to \n",
    "Pred_Labels = np.argmax(CNN_S_DA_probabilities, axis = 1)\n",
    "print(\"the first five Predicted classes are:\", Pred_Labels)\n",
    "print(\"Length of Predicted labels:\", len(Pred_Labels))"
   ]
  },
  {
   "cell_type": "code",
   "execution_count": 28,
   "metadata": {},
   "outputs": [
    {
     "data": {
      "text/html": [
       "<div>\n",
       "<style scoped>\n",
       "    .dataframe tbody tr th:only-of-type {\n",
       "        vertical-align: middle;\n",
       "    }\n",
       "\n",
       "    .dataframe tbody tr th {\n",
       "        vertical-align: top;\n",
       "    }\n",
       "\n",
       "    .dataframe thead th {\n",
       "        text-align: right;\n",
       "    }\n",
       "</style>\n",
       "<table border=\"1\" class=\"dataframe\">\n",
       "  <thead>\n",
       "    <tr style=\"text-align: right;\">\n",
       "      <th></th>\n",
       "      <th>ID</th>\n",
       "    </tr>\n",
       "  </thead>\n",
       "  <tbody>\n",
       "    <tr>\n",
       "      <th>11916</th>\n",
       "      <td>202595.jpg</td>\n",
       "    </tr>\n",
       "    <tr>\n",
       "      <th>11917</th>\n",
       "      <td>202596.jpg</td>\n",
       "    </tr>\n",
       "    <tr>\n",
       "      <th>11918</th>\n",
       "      <td>202597.jpg</td>\n",
       "    </tr>\n",
       "    <tr>\n",
       "      <th>11919</th>\n",
       "      <td>202598.jpg</td>\n",
       "    </tr>\n",
       "    <tr>\n",
       "      <th>11920</th>\n",
       "      <td>202599.jpg</td>\n",
       "    </tr>\n",
       "  </tbody>\n",
       "</table>\n",
       "</div>"
      ],
      "text/plain": [
       "               ID\n",
       "11916  202595.jpg\n",
       "11917  202596.jpg\n",
       "11918  202597.jpg\n",
       "11919  202598.jpg\n",
       "11920  202599.jpg"
      ]
     },
     "execution_count": 28,
     "metadata": {},
     "output_type": "execute_result"
    }
   ],
   "source": [
    "# creating a data frame for predicted values\n",
    "df1 = pd.DataFrame(Pred_Labels, columns=['Prediction'])\n",
    "# creating a data frame for files_val which contains image names\n",
    "df2 = pd.DataFrame(files_test_public, columns=['ID'])\n",
    "df2.tail()"
   ]
  },
  {
   "cell_type": "code",
   "execution_count": 29,
   "metadata": {},
   "outputs": [],
   "source": [
    "# Joining the two data frames through the index\n",
    "CNN_S_DA_45693242 = df2.merge(df1, left_index=True, right_index=True)"
   ]
  },
  {
   "cell_type": "code",
   "execution_count": 30,
   "metadata": {},
   "outputs": [],
   "source": [
    "CNN_S_DA_45693242.to_csv (r'C:\\\\Users\\\\suhas\\\\Documents\\\\study\\\\ML Practice\\\\CNN_Final2_45693242.csv', index = False, header=True)"
   ]
  },
  {
   "cell_type": "code",
   "execution_count": 31,
   "metadata": {},
   "outputs": [],
   "source": [
    "CNN_S_OA_DA.save(\"CNN_S_OA_DA.h5\")  # Best Model So for with Data Augmentation"
   ]
  },
  {
   "cell_type": "markdown",
   "metadata": {},
   "source": [
    "<h4><font color ='purple'>Kaggle Result:</font></h4>\n",
    "Upon looking at the Kaggle scores the accuracy for the Basic Model with Data Augmentation on the Public data is 0.92618. which is good and is the better than the BAsic CNN due to the added advantage of classifying the images with more intense filiters."
   ]
  },
  {
   "cell_type": "markdown",
   "metadata": {},
   "source": [
    "<h3><font color ='brown'>Model 1: TRANSFER LEARNING with VGG19</font></h3>\n",
    "There are several CNN model's that performed well on the Imagenet dataset which is mixture of 1000 classes with a million of pictures. So,we can make use of the information from lower layers of the Already trained models and modify the uppr layers such that the situtaion suits our case, in doing so we can expect better accuracy scores compared to the basic CNN that we build.\n",
    "\n",
    "In this section I will be focusing on VGG19 Model, I had even tried other Transfer learning models like Resnet, Mobilenetv2 but not included in this final version because of their poor performance on the validation data as well as training data."
   ]
  },
  {
   "cell_type": "code",
   "execution_count": 4,
   "metadata": {},
   "outputs": [],
   "source": [
    "input_shape = (48,48,3)"
   ]
  },
  {
   "cell_type": "markdown",
   "metadata": {},
   "source": [
    "<h4><font color ='Purple'>TRANSFER LEARNING with VGG19 by freezing all the layers</font></h4>\n",
    "As a first step I am looking at how the model performs when all the layers were frozen (such that weights are fixed). VGG19 with input shape (48,48,3), imagenet weigths are used. "
   ]
  },
  {
   "cell_type": "code",
   "execution_count": 35,
   "metadata": {},
   "outputs": [
    {
     "name": "stdout",
     "output_type": "stream",
     "text": [
      "Model: \"vgg19\"\n",
      "_________________________________________________________________\n",
      "Layer (type)                 Output Shape              Param #   \n",
      "=================================================================\n",
      "input_2 (InputLayer)         (None, 48, 48, 3)         0         \n",
      "_________________________________________________________________\n",
      "block1_conv1 (Conv2D)        (None, 48, 48, 64)        1792      \n",
      "_________________________________________________________________\n",
      "block1_conv2 (Conv2D)        (None, 48, 48, 64)        36928     \n",
      "_________________________________________________________________\n",
      "block1_pool (MaxPooling2D)   (None, 24, 24, 64)        0         \n",
      "_________________________________________________________________\n",
      "block2_conv1 (Conv2D)        (None, 24, 24, 128)       73856     \n",
      "_________________________________________________________________\n",
      "block2_conv2 (Conv2D)        (None, 24, 24, 128)       147584    \n",
      "_________________________________________________________________\n",
      "block2_pool (MaxPooling2D)   (None, 12, 12, 128)       0         \n",
      "_________________________________________________________________\n",
      "block3_conv1 (Conv2D)        (None, 12, 12, 256)       295168    \n",
      "_________________________________________________________________\n",
      "block3_conv2 (Conv2D)        (None, 12, 12, 256)       590080    \n",
      "_________________________________________________________________\n",
      "block3_conv3 (Conv2D)        (None, 12, 12, 256)       590080    \n",
      "_________________________________________________________________\n",
      "block3_conv4 (Conv2D)        (None, 12, 12, 256)       590080    \n",
      "_________________________________________________________________\n",
      "block3_pool (MaxPooling2D)   (None, 6, 6, 256)         0         \n",
      "_________________________________________________________________\n",
      "block4_conv1 (Conv2D)        (None, 6, 6, 512)         1180160   \n",
      "_________________________________________________________________\n",
      "block4_conv2 (Conv2D)        (None, 6, 6, 512)         2359808   \n",
      "_________________________________________________________________\n",
      "block4_conv3 (Conv2D)        (None, 6, 6, 512)         2359808   \n",
      "_________________________________________________________________\n",
      "block4_conv4 (Conv2D)        (None, 6, 6, 512)         2359808   \n",
      "_________________________________________________________________\n",
      "block4_pool (MaxPooling2D)   (None, 3, 3, 512)         0         \n",
      "_________________________________________________________________\n",
      "block5_conv1 (Conv2D)        (None, 3, 3, 512)         2359808   \n",
      "_________________________________________________________________\n",
      "block5_conv2 (Conv2D)        (None, 3, 3, 512)         2359808   \n",
      "_________________________________________________________________\n",
      "block5_conv3 (Conv2D)        (None, 3, 3, 512)         2359808   \n",
      "_________________________________________________________________\n",
      "block5_conv4 (Conv2D)        (None, 3, 3, 512)         2359808   \n",
      "_________________________________________________________________\n",
      "block5_pool (MaxPooling2D)   (None, 1, 1, 512)         0         \n",
      "=================================================================\n",
      "Total params: 20,024,384\n",
      "Trainable params: 20,024,384\n",
      "Non-trainable params: 0\n",
      "_________________________________________________________________\n"
     ]
    }
   ],
   "source": [
    "vgg = VGG19(input_shape=input_shape, weights='imagenet', include_top=False)\n",
    "vgg.summary()"
   ]
  },
  {
   "cell_type": "code",
   "execution_count": 36,
   "metadata": {},
   "outputs": [
    {
     "name": "stdout",
     "output_type": "stream",
     "text": [
      "The Layer input_2 is Successfully Frozen\n",
      "The Layer block1_conv1 is Successfully Frozen\n",
      "The Layer block1_conv2 is Successfully Frozen\n",
      "The Layer block1_pool is Successfully Frozen\n",
      "The Layer block2_conv1 is Successfully Frozen\n",
      "The Layer block2_conv2 is Successfully Frozen\n",
      "The Layer block2_pool is Successfully Frozen\n",
      "The Layer block3_conv1 is Successfully Frozen\n",
      "The Layer block3_conv2 is Successfully Frozen\n",
      "The Layer block3_conv3 is Successfully Frozen\n",
      "The Layer block3_conv4 is Successfully Frozen\n",
      "The Layer block3_pool is Successfully Frozen\n",
      "The Layer block4_conv1 is Successfully Frozen\n",
      "The Layer block4_conv2 is Successfully Frozen\n",
      "The Layer block4_conv3 is Successfully Frozen\n",
      "The Layer block4_conv4 is Successfully Frozen\n",
      "The Layer block4_pool is Successfully Frozen\n",
      "The Layer block5_conv1 is Successfully Frozen\n",
      "The Layer block5_conv2 is Successfully Frozen\n",
      "The Layer block5_conv3 is Successfully Frozen\n",
      "The Layer block5_conv4 is Successfully Frozen\n",
      "The Layer block5_pool is Successfully Frozen\n"
     ]
    }
   ],
   "source": [
    "#Freezing all layers in VGG19 so that the weights wont be changed\n",
    "for layer in vgg.layers:\n",
    "    layer.trainable = False\n",
    "    print(\"The Layer \"+layer.name+\" is Successfully Frozen\")"
   ]
  },
  {
   "cell_type": "code",
   "execution_count": 37,
   "metadata": {},
   "outputs": [
    {
     "name": "stdout",
     "output_type": "stream",
     "text": [
      "Model: \"model_1\"\n",
      "_________________________________________________________________\n",
      "Layer (type)                 Output Shape              Param #   \n",
      "=================================================================\n",
      "input_2 (InputLayer)         (None, 48, 48, 3)         0         \n",
      "_________________________________________________________________\n",
      "block1_conv1 (Conv2D)        (None, 48, 48, 64)        1792      \n",
      "_________________________________________________________________\n",
      "block1_conv2 (Conv2D)        (None, 48, 48, 64)        36928     \n",
      "_________________________________________________________________\n",
      "block1_pool (MaxPooling2D)   (None, 24, 24, 64)        0         \n",
      "_________________________________________________________________\n",
      "block2_conv1 (Conv2D)        (None, 24, 24, 128)       73856     \n",
      "_________________________________________________________________\n",
      "block2_conv2 (Conv2D)        (None, 24, 24, 128)       147584    \n",
      "_________________________________________________________________\n",
      "block2_pool (MaxPooling2D)   (None, 12, 12, 128)       0         \n",
      "_________________________________________________________________\n",
      "block3_conv1 (Conv2D)        (None, 12, 12, 256)       295168    \n",
      "_________________________________________________________________\n",
      "block3_conv2 (Conv2D)        (None, 12, 12, 256)       590080    \n",
      "_________________________________________________________________\n",
      "block3_conv3 (Conv2D)        (None, 12, 12, 256)       590080    \n",
      "_________________________________________________________________\n",
      "block3_conv4 (Conv2D)        (None, 12, 12, 256)       590080    \n",
      "_________________________________________________________________\n",
      "block3_pool (MaxPooling2D)   (None, 6, 6, 256)         0         \n",
      "_________________________________________________________________\n",
      "block4_conv1 (Conv2D)        (None, 6, 6, 512)         1180160   \n",
      "_________________________________________________________________\n",
      "block4_conv2 (Conv2D)        (None, 6, 6, 512)         2359808   \n",
      "_________________________________________________________________\n",
      "block4_conv3 (Conv2D)        (None, 6, 6, 512)         2359808   \n",
      "_________________________________________________________________\n",
      "block4_conv4 (Conv2D)        (None, 6, 6, 512)         2359808   \n",
      "_________________________________________________________________\n",
      "block4_pool (MaxPooling2D)   (None, 3, 3, 512)         0         \n",
      "_________________________________________________________________\n",
      "block5_conv1 (Conv2D)        (None, 3, 3, 512)         2359808   \n",
      "_________________________________________________________________\n",
      "block5_conv2 (Conv2D)        (None, 3, 3, 512)         2359808   \n",
      "_________________________________________________________________\n",
      "block5_conv3 (Conv2D)        (None, 3, 3, 512)         2359808   \n",
      "_________________________________________________________________\n",
      "block5_conv4 (Conv2D)        (None, 3, 3, 512)         2359808   \n",
      "_________________________________________________________________\n",
      "block5_pool (MaxPooling2D)   (None, 1, 1, 512)         0         \n",
      "_________________________________________________________________\n",
      "flatten_1 (Flatten)          (None, 512)               0         \n",
      "_________________________________________________________________\n",
      "DenseFullyConnected (Dense)  (None, 1000)              513000    \n",
      "_________________________________________________________________\n",
      "dropout_1 (Dropout)          (None, 1000)              0         \n",
      "_________________________________________________________________\n",
      "Predictions (Dense)          (None, 4)                 4004      \n",
      "=================================================================\n",
      "Total params: 20,541,388\n",
      "Trainable params: 517,004\n",
      "Non-trainable params: 20,024,384\n",
      "_________________________________________________________________\n"
     ]
    }
   ],
   "source": [
    "# We take the output coming from the last layer and feed i to the last newly added layers of our own\n",
    "vgg_last  = vgg.layers[-1].output\n",
    "new_layer = Flatten()(vgg_last) # Flattening the output layer of vgg\n",
    "new_layer = Dense(1000, activation = \"selu\", name = \"DenseFullyConnected\")(new_layer) # new dense layer adding to the vgg\n",
    "new_layer = Dropout(0.2) (new_layer) # new Drop out layer\n",
    "new_layer = Dense(num_classes, activation=\"softmax\", name=\"Predictions\") (new_layer) # new output layer adding to the dense layer\n",
    "model     = Model(vgg.input, new_layer) # building the model\n",
    "# Compiling the model\n",
    "model.summary()\n",
    "opt = keras.optimizers.Adam(learning_rate=0.0005)\n",
    "model.compile(optimizer=\"adam\", loss='categorical_crossentropy', metrics=['accuracy'])"
   ]
  },
  {
   "cell_type": "code",
   "execution_count": 38,
   "metadata": {},
   "outputs": [
    {
     "name": "stdout",
     "output_type": "stream",
     "text": [
      "Train on 98479 samples, validate on 12270 samples\n",
      "Epoch 1/15\n",
      "98479/98479 [==============================] - 73s 741us/step - loss: 0.7727 - accuracy: 0.6739 - val_loss: 0.7044 - val_accuracy: 0.7022\n",
      "Epoch 2/15\n",
      "98479/98479 [==============================] - 63s 640us/step - loss: 0.6856 - accuracy: 0.7112 - val_loss: 0.6697 - val_accuracy: 0.7145\n",
      "Epoch 3/15\n",
      "98479/98479 [==============================] - 64s 645us/step - loss: 0.6673 - accuracy: 0.7210 - val_loss: 0.6732 - val_accuracy: 0.7152\n",
      "Epoch 4/15\n",
      "98479/98479 [==============================] - 63s 642us/step - loss: 0.6599 - accuracy: 0.7245 - val_loss: 0.6528 - val_accuracy: 0.7219\n",
      "Epoch 5/15\n",
      "98479/98479 [==============================] - 64s 646us/step - loss: 0.6527 - accuracy: 0.7268 - val_loss: 0.6788 - val_accuracy: 0.7104\n",
      "Epoch 6/15\n",
      "98479/98479 [==============================] - 63s 643us/step - loss: 0.6464 - accuracy: 0.7294 - val_loss: 0.6574 - val_accuracy: 0.7206\n",
      "Epoch 7/15\n",
      "98479/98479 [==============================] - 64s 646us/step - loss: 0.6445 - accuracy: 0.7306 - val_loss: 0.6688 - val_accuracy: 0.7133\n",
      "Epoch 8/15\n",
      "98479/98479 [==============================] - 67s 684us/step - loss: 0.6421 - accuracy: 0.7315 - val_loss: 0.6426 - val_accuracy: 0.7272\n",
      "Epoch 9/15\n",
      "98479/98479 [==============================] - 67s 682us/step - loss: 0.6346 - accuracy: 0.7344 - val_loss: 0.6502 - val_accuracy: 0.7242\n",
      "Epoch 10/15\n",
      "98479/98479 [==============================] - 67s 675us/step - loss: 0.6316 - accuracy: 0.7355 - val_loss: 0.6358 - val_accuracy: 0.7271\n",
      "Epoch 11/15\n",
      "98479/98479 [==============================] - 67s 678us/step - loss: 0.6287 - accuracy: 0.7357 - val_loss: 0.6314 - val_accuracy: 0.7329\n",
      "Epoch 12/15\n",
      "98479/98479 [==============================] - 64s 646us/step - loss: 0.6247 - accuracy: 0.7401 - val_loss: 0.6357 - val_accuracy: 0.7297\n",
      "Epoch 13/15\n",
      "98479/98479 [==============================] - 64s 650us/step - loss: 0.6231 - accuracy: 0.7392 - val_loss: 0.6287 - val_accuracy: 0.7333\n",
      "Epoch 14/15\n",
      "98479/98479 [==============================] - 64s 649us/step - loss: 0.6211 - accuracy: 0.7398 - val_loss: 0.6277 - val_accuracy: 0.7325\n",
      "Epoch 15/15\n",
      "98479/98479 [==============================] - 64s 649us/step - loss: 0.6162 - accuracy: 0.7429 - val_loss: 0.6228 - val_accuracy: 0.7381\n"
     ]
    }
   ],
   "source": [
    "vgg1_Output = model.fit(images_train_rs, labels_train_rs,\n",
    "                       batch_size=300,\n",
    "                       epochs=15,\n",
    "                       validation_data=(images_val_rs, labels_val_rs))"
   ]
  },
  {
   "cell_type": "markdown",
   "metadata": {},
   "source": [
    "<h4><font color ='purple'>Results Interpretation of Transfer Learning using VGG19 :</font></h4>\n",
    "* From the Model Summary we can see that Total Trainable Parameters are 517,004 (Total Parameters are: 20,541,388) which is because we frezed all the layer in  between such that weights will be fixed, our Observations data sits around 120,000 approx which is 3 times less than the parameters.\n",
    "\n",
    "* From the scores we can see that Validation loss is decreasing but the validation accuracy is not increasing and is staying constant around 71% and 74%, the same goes for the training scores as well. The Training accuracy is 74.29 , the Validation accuracy is 73.81 we can see that now the model is not performing good upon freezing all the layers.\n",
    "\n",
    "* So, it's better if we train some last layers.\n",
    "\n",
    "THE OUTPUT MAY VARY IF THE CELL IS RAN AGAIN."
   ]
  },
  {
   "cell_type": "markdown",
   "metadata": {},
   "source": [
    "<h4><font color ='Purple'>TRANSFER LEARNING with VGG19 by un-freezing some layers</font></h4>\n",
    "The VGG model is not performing well on the data with freezing all the layers because the final layers may contain different information which is not usefull or irrelevant for our data classification. So, we now train 20% of the layers from the bottom so that we make use of features from lower layers which are usefull and train the rest of the unfrozen layers along with the Dense layers."
   ]
  },
  {
   "cell_type": "code",
   "execution_count": 13,
   "metadata": {},
   "outputs": [
    {
     "name": "stdout",
     "output_type": "stream",
     "text": [
      "The Layer input_4 is Successfully Frozen\n",
      "The Layer block1_conv1 is Successfully Frozen\n",
      "The Layer block1_conv2 is Successfully Frozen\n",
      "The Layer block1_pool is Successfully Frozen\n",
      "The Layer block2_conv1 is Successfully Frozen\n",
      "The Layer block2_conv2 is Successfully Frozen\n",
      "The Layer block2_pool is Successfully Frozen\n",
      "The Layer block3_conv1 is Successfully Frozen\n",
      "The Layer block3_conv2 is Successfully Frozen\n",
      "The Layer block3_conv3 is Successfully Frozen\n",
      "The Layer block3_conv4 is Successfully Frozen\n",
      "The Layer block3_pool is Successfully Frozen\n"
     ]
    }
   ],
   "source": [
    "vgg1 = VGG19(input_shape=input_shape, weights='imagenet', include_top=False)\n",
    "#Freezing all layers in VGG19 so that the weights wont be changed\n",
    "for layer in vgg1.layers:\n",
    "    if layer.name == \"block4_conv1\":\n",
    "        break\n",
    "    layer.trainable = False\n",
    "    print(\"The Layer \"+layer.name+\" is Successfully Frozen\")"
   ]
  },
  {
   "cell_type": "code",
   "execution_count": 14,
   "metadata": {},
   "outputs": [
    {
     "name": "stdout",
     "output_type": "stream",
     "text": [
      "Model: \"model_4\"\n",
      "_________________________________________________________________\n",
      "Layer (type)                 Output Shape              Param #   \n",
      "=================================================================\n",
      "input_4 (InputLayer)         (None, 48, 48, 3)         0         \n",
      "_________________________________________________________________\n",
      "block1_conv1 (Conv2D)        (None, 48, 48, 64)        1792      \n",
      "_________________________________________________________________\n",
      "block1_conv2 (Conv2D)        (None, 48, 48, 64)        36928     \n",
      "_________________________________________________________________\n",
      "block1_pool (MaxPooling2D)   (None, 24, 24, 64)        0         \n",
      "_________________________________________________________________\n",
      "block2_conv1 (Conv2D)        (None, 24, 24, 128)       73856     \n",
      "_________________________________________________________________\n",
      "block2_conv2 (Conv2D)        (None, 24, 24, 128)       147584    \n",
      "_________________________________________________________________\n",
      "block2_pool (MaxPooling2D)   (None, 12, 12, 128)       0         \n",
      "_________________________________________________________________\n",
      "block3_conv1 (Conv2D)        (None, 12, 12, 256)       295168    \n",
      "_________________________________________________________________\n",
      "block3_conv2 (Conv2D)        (None, 12, 12, 256)       590080    \n",
      "_________________________________________________________________\n",
      "block3_conv3 (Conv2D)        (None, 12, 12, 256)       590080    \n",
      "_________________________________________________________________\n",
      "block3_conv4 (Conv2D)        (None, 12, 12, 256)       590080    \n",
      "_________________________________________________________________\n",
      "block3_pool (MaxPooling2D)   (None, 6, 6, 256)         0         \n",
      "_________________________________________________________________\n",
      "block4_conv1 (Conv2D)        (None, 6, 6, 512)         1180160   \n",
      "_________________________________________________________________\n",
      "block4_conv2 (Conv2D)        (None, 6, 6, 512)         2359808   \n",
      "_________________________________________________________________\n",
      "block4_conv3 (Conv2D)        (None, 6, 6, 512)         2359808   \n",
      "_________________________________________________________________\n",
      "block4_conv4 (Conv2D)        (None, 6, 6, 512)         2359808   \n",
      "_________________________________________________________________\n",
      "block4_pool (MaxPooling2D)   (None, 3, 3, 512)         0         \n",
      "_________________________________________________________________\n",
      "block5_conv1 (Conv2D)        (None, 3, 3, 512)         2359808   \n",
      "_________________________________________________________________\n",
      "block5_conv2 (Conv2D)        (None, 3, 3, 512)         2359808   \n",
      "_________________________________________________________________\n",
      "block5_conv3 (Conv2D)        (None, 3, 3, 512)         2359808   \n",
      "_________________________________________________________________\n",
      "block5_conv4 (Conv2D)        (None, 3, 3, 512)         2359808   \n",
      "_________________________________________________________________\n",
      "block5_pool (MaxPooling2D)   (None, 1, 1, 512)         0         \n",
      "_________________________________________________________________\n",
      "flatten_4 (Flatten)          (None, 512)               0         \n",
      "_________________________________________________________________\n",
      "DenseFullyConnected (Dense)  (None, 1000)              513000    \n",
      "_________________________________________________________________\n",
      "dropout_4 (Dropout)          (None, 1000)              0         \n",
      "_________________________________________________________________\n",
      "Predictions (Dense)          (None, 4)                 4004      \n",
      "=================================================================\n",
      "Total params: 20,541,388\n",
      "Trainable params: 18,215,820\n",
      "Non-trainable params: 2,325,568\n",
      "_________________________________________________________________\n"
     ]
    }
   ],
   "source": [
    "# We take the output coming from the last layer and feed i to the last newly added layers of our own\n",
    "vgg_last1  = vgg1.layers[-1].output\n",
    "new_layer = Flatten()(vgg_last1) # Flattening the output layer of vgg\n",
    "new_layer = Dense(1000, activation = \"selu\", name = \"DenseFullyConnected\")(new_layer) # new dense layer adding to the vgg\n",
    "new_layer = Dropout(0.2) (new_layer) # new Drop out layer\n",
    "new_layer = Dense(num_classes, activation=\"softmax\", name=\"Predictions\") (new_layer) # new output layer adding to the dense layer\n",
    "model     = Model(vgg1.input, new_layer) # building the model\n",
    "# Compiling the model\n",
    "model.summary()\n",
    "opt = keras.optimizers.Adam(learning_rate=0.0005)\n",
    "model.compile(optimizer=\"adam\", loss='categorical_crossentropy', metrics=['accuracy'])"
   ]
  },
  {
   "cell_type": "code",
   "execution_count": 15,
   "metadata": {},
   "outputs": [
    {
     "name": "stdout",
     "output_type": "stream",
     "text": [
      "Train on 98479 samples, validate on 12270 samples\n",
      "Epoch 1/12\n",
      "98479/98479 [==============================] - 109s 1ms/step - loss: 0.8070 - accuracy: 0.6572 - val_loss: 0.5414 - val_accuracy: 0.7947\n",
      "Epoch 2/12\n",
      "98479/98479 [==============================] - 109s 1ms/step - loss: 0.4192 - accuracy: 0.8390 - val_loss: 0.4522 - val_accuracy: 0.8187\n",
      "Epoch 3/12\n",
      "98479/98479 [==============================] - 110s 1ms/step - loss: 0.3547 - accuracy: 0.8634 - val_loss: 0.3344 - val_accuracy: 0.8747\n",
      "Epoch 4/12\n",
      "98479/98479 [==============================] - 110s 1ms/step - loss: 0.3246 - accuracy: 0.8765 - val_loss: 0.3209 - val_accuracy: 0.8793\n",
      "Epoch 5/12\n",
      "98479/98479 [==============================] - 110s 1ms/step - loss: 0.3075 - accuracy: 0.8838 - val_loss: 0.3040 - val_accuracy: 0.8868\n",
      "Epoch 6/12\n",
      "98479/98479 [==============================] - 110s 1ms/step - loss: 0.2965 - accuracy: 0.8872 - val_loss: 0.3070 - val_accuracy: 0.8819\n",
      "Epoch 7/12\n",
      "98479/98479 [==============================] - 109s 1ms/step - loss: 0.2834 - accuracy: 0.8938 - val_loss: 0.3371 - val_accuracy: 0.8680\n",
      "Epoch 8/12\n",
      "98479/98479 [==============================] - 109s 1ms/step - loss: 0.2727 - accuracy: 0.8971 - val_loss: 0.2976 - val_accuracy: 0.8855\n",
      "Epoch 9/12\n",
      "98479/98479 [==============================] - 109s 1ms/step - loss: 0.2612 - accuracy: 0.9020 - val_loss: 0.3397 - val_accuracy: 0.8719\n",
      "Epoch 10/12\n",
      "98479/98479 [==============================] - 109s 1ms/step - loss: 0.2522 - accuracy: 0.9047 - val_loss: 0.3166 - val_accuracy: 0.8794\n",
      "Epoch 11/12\n",
      "98479/98479 [==============================] - 109s 1ms/step - loss: 0.2478 - accuracy: 0.9058 - val_loss: 0.3148 - val_accuracy: 0.8786\n",
      "Epoch 12/12\n",
      "98479/98479 [==============================] - 109s 1ms/step - loss: 0.2313 - accuracy: 0.9116 - val_loss: 0.3329 - val_accuracy: 0.8738\n"
     ]
    }
   ],
   "source": [
    "#https://towardsdatascience.com/cnn-transfer-learning-fine-tuning-9f3e7c5806b2\n",
    "vgg1_Output = model.fit(images_train_rs, labels_train_rs,\n",
    "                       batch_size=300,\n",
    "                       epochs=12,\n",
    "                       validation_data=(images_val_rs, labels_val_rs))"
   ]
  },
  {
   "cell_type": "code",
   "execution_count": 16,
   "metadata": {},
   "outputs": [
    {
     "data": {
      "image/png": "[encoded data removed]",
      "text/plain": [
       "<Figure size 1440x504 with 1 Axes>"
      ]
     },
     "metadata": {
      "needs_background": "light"
     },
     "output_type": "display_data"
    }
   ],
   "source": [
    "# Plotting the accuray and loss for training and validation data\n",
    "pd.DataFrame(vgg1_Output.history).plot(figsize=(20, 7))\n",
    "plt.grid(True)\n",
    "plt.gca().set_ylim(0, 1)\n",
    "plt.title(\"VGG19 with Some layers Training From the Bottom\")\n",
    "plt.show()"
   ]
  },
  {
   "cell_type": "markdown",
   "metadata": {},
   "source": [
    "<h4><font color ='Purple'>Result Interpretation for TRANSFER LEARNING with VGG19 by unfreezing some layers</font></h4>\n",
    "* From the Model Summary we can see that Total Trainable Parameters are 18,215,820 which is because we had unfrozen 40% of the layer's, our Observations data sits around 120,000 approx which is very less compared to current parameters.\n",
    "\n",
    "* From the plot we can see that Validation loss is decreasing with a spike in between but the validation accuracy is increasing and reaching upto 87.30, on the other hand the training loss is decreasing with the increase in training accuracy. The Training accuracy is 91.16, the Validation accuracy is 87.38 we can say that this model is performing good upon compared to the one with freezing all the layers.\n",
    "\n",
    "So we further try to increase the Performance with some data augmentation.\n",
    "THE OUTPUT MAY VARY IF THE CELL IS RAN AGAIN."
   ]
  },
  {
   "cell_type": "code",
   "execution_count": 58,
   "metadata": {},
   "outputs": [],
   "source": [
    "Vgg1_probabilities = model.predict([images_test_public_rs])"
   ]
  },
  {
   "cell_type": "code",
   "execution_count": 59,
   "metadata": {},
   "outputs": [
    {
     "name": "stdout",
     "output_type": "stream",
     "text": [
      "the first five Predicted classes are: [0 2 0 ... 0 0 2]\n",
      "Length of Predicted labels: 11921\n"
     ]
    }
   ],
   "source": [
    "#### Converting the one hot encoding probability values back to a single column representing wich class does an image belongs to \n",
    "Pred_Labels = np.argmax(Vgg1_probabilities, axis = 1)\n",
    "print(\"the first five Predicted classes are:\", Pred_Labels)\n",
    "print(\"Length of Predicted labels:\", len(Pred_Labels))"
   ]
  },
  {
   "cell_type": "code",
   "execution_count": 60,
   "metadata": {},
   "outputs": [],
   "source": [
    "# creating a data frame for predicted values\n",
    "df1 = pd.DataFrame(Pred_Labels, columns=['Prediction'])\n",
    "# creating a data frame for files_val which contains image names\n",
    "df2 = pd.DataFrame(files_test_public, columns=['ID'])"
   ]
  },
  {
   "cell_type": "code",
   "execution_count": 61,
   "metadata": {},
   "outputs": [],
   "source": [
    "# Joining the two data frames through the index\n",
    "VGG19_45693242 = df2.merge(df1, left_index=True, right_index=True)"
   ]
  },
  {
   "cell_type": "code",
   "execution_count": 62,
   "metadata": {},
   "outputs": [],
   "source": [
    "VGG19_45693242.to_csv (r'C:\\\\Users\\\\suhas\\\\Documents\\\\study\\\\ML Practice\\\\VGG19_45693242.csv', index = False, header=True)"
   ]
  },
  {
   "cell_type": "code",
   "execution_count": 63,
   "metadata": {},
   "outputs": [],
   "source": [
    "model.save(\"VGG19Final.h5\")  #Saving the Model so far it is the second best model which is closer to the base model"
   ]
  },
  {
   "cell_type": "markdown",
   "metadata": {},
   "source": [
    "<h4><font color ='purple'>Kaggle Result:</font></h4>\n",
    "Upon looking at the Kaggle scores the accuracy for the Basic Model with Data Augmentation on the Public data is 91.5% which is good and is not better than the BAsic CNN but has an added advantage of classifying the images with more intense filiters."
   ]
  },
  {
   "cell_type": "markdown",
   "metadata": {},
   "source": [
    "<h4><font color ='Purple'>TRANSFER LEARNING with VGG19 by un-freezing some layers along with Data Augmentation</font></h4>\n",
    "Now we increase the performance of Transfer learning (some layers trainable) by using Some Augmented Data."
   ]
  },
  {
   "cell_type": "code",
   "execution_count": 17,
   "metadata": {},
   "outputs": [
    {
     "name": "stdout",
     "output_type": "stream",
     "text": [
      "Epoch 1/15\n",
      "329/328 [==============================] - 104s 315ms/step - loss: 0.3773 - accuracy: 0.8546 - val_accuracy: 0.8570 - val_loss: 0.3639\n",
      "Epoch 2/15\n",
      "329/328 [==============================] - 101s 308ms/step - loss: 0.3507 - accuracy: 0.8671 - val_accuracy: 0.8816 - val_loss: 0.3105\n",
      "Epoch 3/15\n",
      "329/328 [==============================] - 102s 309ms/step - loss: 0.3434 - accuracy: 0.8691 - val_accuracy: 0.8607 - val_loss: 0.3671\n",
      "Epoch 4/15\n",
      "329/328 [==============================] - 102s 309ms/step - loss: 0.3326 - accuracy: 0.8739 - val_accuracy: 0.8880 - val_loss: 0.2890\n",
      "Epoch 5/15\n",
      "329/328 [==============================] - 102s 309ms/step - loss: 0.3270 - accuracy: 0.8762 - val_accuracy: 0.8835 - val_loss: 0.3029\n",
      "Epoch 6/15\n",
      "329/328 [==============================] - 105s 318ms/step - loss: 0.3244 - accuracy: 0.8774 - val_accuracy: 0.8550 - val_loss: 0.3640\n",
      "Epoch 7/15\n",
      "329/328 [==============================] - 109s 332ms/step - loss: 0.3281 - accuracy: 0.8748 - val_accuracy: 0.8716 - val_loss: 0.3370\n",
      "Epoch 8/15\n",
      "329/328 [==============================] - 110s 333ms/step - loss: 0.3193 - accuracy: 0.8789 - val_accuracy: 0.8722 - val_loss: 0.3262\n",
      "Epoch 9/15\n",
      "329/328 [==============================] - 110s 335ms/step - loss: 0.3118 - accuracy: 0.8830 - val_accuracy: 0.8893 - val_loss: 0.2835\n",
      "Epoch 10/15\n",
      "329/328 [==============================] - 102s 309ms/step - loss: 0.3109 - accuracy: 0.8815 - val_accuracy: 0.8733 - val_loss: 0.3409\n",
      "Epoch 11/15\n",
      "329/328 [==============================] - 102s 310ms/step - loss: 0.3101 - accuracy: 0.8831 - val_accuracy: 0.8685 - val_loss: 0.3669\n",
      "Epoch 12/15\n",
      "329/328 [==============================] - 102s 311ms/step - loss: 0.3055 - accuracy: 0.8843 - val_accuracy: 0.8861 - val_loss: 0.2923\n",
      "Epoch 13/15\n",
      "329/328 [==============================] - 105s 319ms/step - loss: 0.3022 - accuracy: 0.8860 - val_accuracy: 0.8954 - val_loss: 0.2764\n",
      "Epoch 14/15\n",
      "329/328 [==============================] - 106s 323ms/step - loss: 0.3014 - accuracy: 0.8860 - val_accuracy: 0.8927 - val_loss: 0.2873\n",
      "Epoch 15/15\n",
      "329/328 [==============================] - 111s 337ms/step - loss: 0.3008 - accuracy: 0.8867 - val_accuracy: 0.8959 - val_loss: 0.2783\n"
     ]
    }
   ],
   "source": [
    "datagen = ImageDataGenerator(rotation_range=30,\n",
    "                             width_shift_range=0.1,\n",
    "                             height_shift_range=0.1,\n",
    "                             zoom_range = 0.1,\n",
    "                             shear_range = 0.2,\n",
    "                             horizontal_flip = True, \n",
    "                             fill_mode='nearest')\n",
    "\n",
    "x_Train_After_Augmentation = images_train_rs\n",
    "datagen.fit(x_Train_After_Augmentation)\n",
    "vgg_DA = tf.keras.models.load_model('VGG19Final.h5')\n",
    "batch_size = 300\n",
    "VGGF_DA_Output = vgg_DA.fit(datagen.flow(x_Train_After_Augmentation, labels_train_rs, \n",
    "                         batch_size),\n",
    "                         steps_per_epoch = len(x_Train_After_Augmentation)/batch_size,\n",
    "                         epochs = 15, \n",
    "                         validation_data=(images_val_rs, labels_val_rs),\n",
    "                         verbose=1)"
   ]
  },
  {
   "cell_type": "code",
   "execution_count": 18,
   "metadata": {},
   "outputs": [
    {
     "data": {
      "image/png": "[encoded data removed]",
      "text/plain": [
       "<Figure size 1440x504 with 1 Axes>"
      ]
     },
     "metadata": {
      "needs_background": "light"
     },
     "output_type": "display_data"
    }
   ],
   "source": [
    "# Plotting the accuray and loss for training and validation data\n",
    "pd.DataFrame(VGGF_DA_Output.history).plot(figsize=(20, 7))\n",
    "plt.grid(True)\n",
    "plt.gca().set_ylim(0, 1)\n",
    "plt.title(\"VGG19 with Data Augmentation by Training some layers\")\n",
    "plt.show()"
   ]
  },
  {
   "cell_type": "markdown",
   "metadata": {},
   "source": [
    "<h4><font color ='Purple'>TRANSFER LEARNING with VGG19 by un-freezing some layers</font></h4>\n",
    "\n",
    "* From the plot we can see that Validation loss is decreasing and increasing between the given range of epochs but the validation accuracy is increasing slightly and reaching closely to the training accuracy, on the other hand the training loss is decreasing with the increase in training accuracy. The Training accuracy is 88.67 , the Validation accuracy is 89.59 we can say that this model is performing good upon compared to the one with freezing all the layers and the one with some unfrozen layers.\n",
    "\n",
    "* I will be Using this Model as the 2nd Best from Deep Learning Section since the Performance of this model and the Basic CNN wtih Data Augmentation has same performance on both test/public and Private Data.\n",
    "\n",
    "THE OUTPUT MAY VARY IF THE CELL IS RAN AGAIN."
   ]
  },
  {
   "cell_type": "code",
   "execution_count": 66,
   "metadata": {},
   "outputs": [
    {
     "name": "stdout",
     "output_type": "stream",
     "text": [
      "the first five Predicted classes are: [0 2 0 ... 0 0 1]\n",
      "Length of Predicted labels: 11921\n"
     ]
    }
   ],
   "source": [
    "Vgg2_probabilities = vgg_DA.predict([images_test_public_rs])\n",
    "#### Converting the one hot encoding probability values back to a single column representing wich class does an image belongs to \n",
    "Pred_Labels = np.argmax(Vgg2_probabilities, axis = 1)\n",
    "print(\"the first five Predicted classes are:\", Pred_Labels)\n",
    "print(\"Length of Predicted labels:\", len(Pred_Labels))\n",
    "# creating a data frame for predicted values\n",
    "df1 = pd.DataFrame(Pred_Labels, columns=['Prediction'])\n",
    "# creating a data frame for files_val which contains image names\n",
    "df2 = pd.DataFrame(files_test_public, columns=['ID'])"
   ]
  },
  {
   "cell_type": "code",
   "execution_count": 67,
   "metadata": {},
   "outputs": [],
   "source": [
    "# Joining the two data frames through the index\n",
    "VGG19FDA_45693242 = df2.merge(df1, left_index=True, right_index=True)"
   ]
  },
  {
   "cell_type": "code",
   "execution_count": 68,
   "metadata": {},
   "outputs": [],
   "source": [
    "VGG19FDA_45693242.to_csv (r'C:\\\\Users\\\\suhas\\\\Documents\\\\study\\\\ML Practice\\\\VGG19FDA_45693242.csv', index = False, header=True)"
   ]
  },
  {
   "cell_type": "markdown",
   "metadata": {},
   "source": [
    "<h4><font color ='purple'>Kaggle Result:</font></h4>\n",
    "Upon looking at the Kaggle scores the accuracy for the Basic Model with Data Augmentation on the Public data is 91.83% which is good and is not better than the BAsic CNN but has an added advantage of classifying the images with more intense filiters due to Data Augmentation."
   ]
  },
  {
   "cell_type": "markdown",
   "metadata": {},
   "source": [
    "Interpreting the Results For Both Selected Deep Learning and Additional Deep learning model and about the selected Hyper parameters choosen."
   ]
  },
  {
   "cell_type": "markdown",
   "metadata": {},
   "source": [
    " <h2><center><font color ='Red'>Section-6: Result's Interpretation for both Candidate Models and Hyper parameter choosing</font></center></h2>"
   ]
  },
  {
   "cell_type": "markdown",
   "metadata": {},
   "source": [
    " <h4><center><font color ='Red'>Below is the code for predicting on the Private Data</font></center></h4>"
   ]
  },
  {
   "cell_type": "markdown",
   "metadata": {},
   "source": [
    " <h4><font color ='purple'>Loading the Private Data:</font></h4>"
   ]
  },
  {
   "cell_type": "code",
   "execution_count": null,
   "metadata": {},
   "outputs": [],
   "source": [
    "images_test_private = np.load(join(dataset_directory, 'test_private_images.npy'))\n",
    "files_test_private = np.load(join(dataset_directory, 'test_private_files.npy'))\n",
    "images_test_private_rs = images_test_private.reshape([-1, image_size, image_size, 3]) / 255.0 # normalizing the values\n",
    "print(\"Test Data Shape:\", images_test_private_rs.shape)"
   ]
  },
  {
   "cell_type": "markdown",
   "metadata": {},
   "source": [
    " <h4><font color ='purple'>1) Fitting the VGG19 with Data Augmentation for predicting on the Private Data:</font></h4>"
   ]
  },
  {
   "cell_type": "code",
   "execution_count": null,
   "metadata": {},
   "outputs": [],
   "source": [
    "datagen = ImageDataGenerator(rotation_range=30,\n",
    "                             width_shift_range=0.1,\n",
    "                             height_shift_range=0.1,\n",
    "                             zoom_range = 0.1,\n",
    "                             shear_range = 0.2,\n",
    "                             horizontal_flip = True, \n",
    "                             fill_mode='nearest')\n",
    "\n",
    "x_Train_After_Augmentation = images_train_rs\n",
    "datagen.fit(x_Train_After_Augmentation)\n",
    "vgg_DA = tf.keras.models.load_model('VGG19Final.h5')\n",
    "batch_size = 300\n",
    "VGGF_DA_Output = vgg_DA.fit(datagen.flow(x_Train_After_Augmentation, labels_train_rs, \n",
    "                         batch_size),\n",
    "                         steps_per_epoch = len(x_Train_After_Augmentation)/batch_size,\n",
    "                         epochs = 15, \n",
    "                         validation_data=(images_val_rs, labels_val_rs),\n",
    "                         verbose=1)"
   ]
  },
  {
   "cell_type": "code",
   "execution_count": null,
   "metadata": {},
   "outputs": [],
   "source": [
    "# Plotting the accuray and loss for training and validation data\n",
    "pd.DataFrame(VGGF_DA_Output.history).plot(figsize=(20, 7))\n",
    "plt.grid(True)\n",
    "plt.gca().set_ylim(0, 1)\n",
    "plt.title(\"Fully Connected Neural Network with 4 Hidden layers\")\n",
    "plt.show()"
   ]
  },
  {
   "cell_type": "code",
   "execution_count": null,
   "metadata": {},
   "outputs": [],
   "source": [
    "Vgg1_probabilities = vgg_DA.predict([images_test_private_rs])"
   ]
  },
  {
   "cell_type": "code",
   "execution_count": null,
   "metadata": {},
   "outputs": [],
   "source": [
    "#### Converting the one hot encoding probability values back to a single column representing wich class does an image belongs to \n",
    "Pred_Labels = np.argmax(Vgg1_probabilities, axis = 1)\n",
    "print(\"the first five Predicted classes are:\", Pred_Labels)\n",
    "print(\"Length of Predicted labels:\", len(Pred_Labels))"
   ]
  },
  {
   "cell_type": "code",
   "execution_count": null,
   "metadata": {},
   "outputs": [],
   "source": [
    "# creating a data frame for predicted values\n",
    "df1 = pd.DataFrame(Pred_Labels, columns=['Prediction'])\n",
    "# creating a data frame for files_val which contains image names\n",
    "df2 = pd.DataFrame(files_test_private, columns=['ID'])"
   ]
  },
  {
   "cell_type": "code",
   "execution_count": null,
   "metadata": {},
   "outputs": [],
   "source": [
    "VGG19_45693242 = df2.merge(df1, left_index=True, right_index=True)\n",
    "VGG19_45693242.to_csv (r'C:\\\\Users\\\\suhas\\\\Documents\\\\study\\\\ML Practice\\\\VGG19_TF_DA_45693242.csv', index = False, header=True)\n",
    "vgg_DA.save(\"VGG19PTFDAFinal.h5\")"
   ]
  },
  {
   "cell_type": "markdown",
   "metadata": {},
   "source": [
    " <h4><font color ='purple'>2) Fitting the Selected Candidate Model which is Basic CNN with Data Augmentation:</font></h4>"
   ]
  },
  {
   "cell_type": "code",
   "execution_count": null,
   "metadata": {},
   "outputs": [],
   "source": [
    "CNN_S_OA_DA = tf.keras.models.load_model('CNN_S.h5') # Loading the Model"
   ]
  },
  {
   "cell_type": "code",
   "execution_count": null,
   "metadata": {},
   "outputs": [],
   "source": [
    "datagen = ImageDataGenerator(rotation_range=30,\n",
    "                             width_shift_range=1,\n",
    "                             height_shift_range=1,\n",
    "                             zoom_range = (0.5, 1.5),\n",
    "                             shear_range = 0.2,                                             \n",
    "                             horizontal_flip = True, \n",
    "                             fill_mode='nearest',\n",
    "                            )\n",
    "# Techniques for Data Augmemtation\n",
    "x_Train_After_Augmentation = images_train_rs\n",
    "datagen.fit(x_Train_After_Augmentation)"
   ]
  },
  {
   "cell_type": "code",
   "execution_count": null,
   "metadata": {},
   "outputs": [],
   "source": [
    "batch_size = 300\n",
    "CNN_S_OA_DA_Output = CNN_S_OA_DA.fit(datagen.flow(x_Train_After_Augmentation, labels_train_rs, \n",
    "                         batch_size),\n",
    "                         steps_per_epoch = len(x_Train_After_Augmentation)/batch_size,\n",
    "                         epochs = 15, \n",
    "                         validation_data=(images_val_rs, labels_val_rs),\n",
    "                         verbose=1)"
   ]
  },
  {
   "cell_type": "code",
   "execution_count": null,
   "metadata": {},
   "outputs": [],
   "source": [
    "# Plotting the accuray and loss for training and validation data\n",
    "pd.DataFrame(CNN_S_OA_DA_Output.history).plot(figsize=(20, 7))\n",
    "plt.grid(True)\n",
    "plt.gca().set_ylim(0, 1)\n",
    "plt.title(\"Fully Connected Neural Network with 4 Hidden layers AND dATA AUGMENTATION\")\n",
    "plt.show()"
   ]
  },
  {
   "cell_type": "code",
   "execution_count": null,
   "metadata": {},
   "outputs": [],
   "source": [
    "CNN_S_DA_probabilities = CNN_S_OA_DA.predict([images_test_private_rs])"
   ]
  },
  {
   "cell_type": "code",
   "execution_count": null,
   "metadata": {},
   "outputs": [],
   "source": [
    "#### Converting the one hot encoding probability values back to a single column representing wich class does an image belongs to \n",
    "Pred_Labels = np.argmax(CNN_S_DA_probabilities, axis = 1)\n",
    "print(\"the first five Predicted classes are:\", Pred_Labels)\n",
    "print(\"Length of Predicted labels:\", len(Pred_Labels))"
   ]
  },
  {
   "cell_type": "code",
   "execution_count": null,
   "metadata": {},
   "outputs": [],
   "source": [
    "# creating a data frame for predicted values\n",
    "df1 = pd.DataFrame(Pred_Labels, columns=['Prediction'])\n",
    "# creating a data frame for files_val which contains image names\n",
    "df2 = pd.DataFrame(files_test_private, columns=['ID'])\n",
    "# Joining the two data frames through the index\n",
    "CNN_S_DA_45693242 = df2.merge(df1, left_index=True, right_index=True)"
   ]
  },
  {
   "cell_type": "code",
   "execution_count": null,
   "metadata": {},
   "outputs": [],
   "source": [
    "CNN_S_DA_45693242.to_csv (r'C:\\\\Users\\\\suhas\\\\Documents\\\\study\\\\ML Practice\\\\CNN_S_DA_Private_45693242.csv', index = False, header=True)"
   ]
  },
  {
   "cell_type": "markdown",
   "metadata": {},
   "source": [
    " <h3><center><font color ='purple'>Result Interpretation For Basic CNN with Data Augmentation:</font></center></h3> \n",
    " \n",
    " 1. The Selected Deep Learning Model (Basic CNN with Data Augmentation) Performance on the Private data upon submitting in the Kaggle has come up to 60.96 where as on the pubilc data the accuracy has come up to 92% approx.\n",
    " 2. The reason for this Poor performance is that the private images contain a large no of pictures which contains hat and Bald headed people so model has some difficulty in classifying whether an image belongs one of the given hair color. The second reason is that ost of the images were augmented som ehave a rotation of about 40 degrees while some images have flipping in it thereby this inturn will affect the model's performance.\n",
    " 3. In Kaggle for Private Data The model with highest accuracy is 66.134, the model with lowest accuracy is 0.377738. My model performance sits some what closer to the model with accuracy lying between 60 and 64 because the random weights that are initalized at the begining will affect on the accuracy that is achieved by a model each time we run.\n",
    " \n",
    " <h3><center><font color ='purple'>Result Interpretation For Transfer Learning with Data Augmentation using VGG19:</font></center></h3> \n",
    " \n",
    "    1. Transfer Learning with VGG19 (Including Data Augmentation) Performance on the Private data upon submitting in the Kaggle has come up to 60.00 approx where as on the pubilc data the accuracy has come up to 91.83% approx.\n",
    "    2. The reason for this Poor performance is that the private images contain a large no of pictures which contains hat and Bald headed people so model has some difficulty in classifying whether an image belongs one of the given hair color. The second reason is that ost of the images were augmented som ehave a rotation of about 40 degrees while some images have flipping in it thereby this inturn will affect the model's performance.\n",
    "    3. In Kaggle for Private Data The model with highest accuracy is 66.134, the model with lowest accuracy is 0.377738. My model performance sits some what closer to the model with accuracy lying between 60 and 64 because the random weights that are initalized at the begining will affect on the accuracy that is achieved by a model each time we run.\n",
    " \n",
    " \n",
    " <h4><center><font color ='purple'>Hyper Parameter Tuning For Basic CNN with Data Augmentation:</font></center></h4>\n",
    " \n",
    " 1. Based on my Intial workings I found that the optimal accuracy score can be achived with having 4 conv layers along with some normalization and drop out layers. The more layers will eventually result in overfitting.\n",
    " 2. THe best values for the Techniques that are used in Data Augmention were based on my analysis on the private data, where I had a look at different images and decided on which values would best suite the current situation.\n",
    " 3. While Building the CNN I used 5 Conv layer where the no of filters are increasing depending on the level the layer is used with more number of filters on the deeper layers since they have to identify complex features as well.\n",
    " 4. I had used Selu as the Activation Function through out the Note book because the vanishing grdient problem does not occurs and gives better scores when compared to other activation functions.\n",
    " 5. Dropout layer values is used as 0.4 since it will help the model not to overfit the data by dropping the neurons.\n",
    " 6. Upper layers have Bigger kernel sizes compared to Deeper layers having smaller kernel size. \n"
   ]
  },
  {
   "cell_type": "markdown",
   "metadata": {},
   "source": [
    " <h2><center><font color ='Red'>Section-7: Best Models Comparison from Conventional and Convolutional sides: </font></center></h2>"
   ]
  },
  {
   "cell_type": "markdown",
   "metadata": {},
   "source": [
    "1. My Best Model From Conventional Model is SVM with (c=25, gamma=\"auto\", random_state = 26) which performed well on the public data with an accuracy of 0.87685.\n",
    "2. My Best Model from Basic CNN with Data Augmentation has performed very well on the Public data with an accuraacy of 92.743. which is approxly 5% more than SVM.\n",
    "3. My Best Model from Basic CNN with Data Augmentation has performed very well on the Private data as well with an accuracy of 60.9%. \n",
    "4. My best Model from Basic CNN with Data Augmentation has attained 34th place.\n",
    "\n",
    "Regarding on the other aspects of Results Interpretaion for both selected modles has explained in the above Section (Section 6)."
   ]
  }
 ],
 "metadata": {
  "kernelspec": {
   "display_name": "RunonGpu",
   "language": "python",
   "name": "runongpu"
  },
  "language_info": {
   "codemirror_mode": {
    "name": "ipython",
    "version": 3
   },
   "file_extension": ".py",
   "mimetype": "text/x-python",
   "name": "python",
   "nbconvert_exporter": "python",
   "pygments_lexer": "ipython3",
   "version": "3.5.6"
  }
 },
 "nbformat": 4,
 "nbformat_minor": 4
}
